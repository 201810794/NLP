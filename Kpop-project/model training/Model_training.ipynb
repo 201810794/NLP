{
 "cells": [
  {
   "cell_type": "code",
   "execution_count": 1,
   "metadata": {},
   "outputs": [],
   "source": [
    "import pandas as pd\n",
    "\n",
    "data=pd.read_csv('data_1126.tsv', sep='\\t', encoding = 'utf-8')"
   ]
  },
  {
   "cell_type": "code",
   "execution_count": 2,
   "metadata": {},
   "outputs": [
    {
     "data": {
      "text/html": [
       "<div>\n",
       "<style scoped>\n",
       "    .dataframe tbody tr th:only-of-type {\n",
       "        vertical-align: middle;\n",
       "    }\n",
       "\n",
       "    .dataframe tbody tr th {\n",
       "        vertical-align: top;\n",
       "    }\n",
       "\n",
       "    .dataframe thead th {\n",
       "        text-align: right;\n",
       "    }\n",
       "</style>\n",
       "<table border=\"1\" class=\"dataframe\">\n",
       "  <thead>\n",
       "    <tr style=\"text-align: right;\">\n",
       "      <th></th>\n",
       "      <th>년도</th>\n",
       "      <th>가수</th>\n",
       "      <th>제목</th>\n",
       "      <th>장르</th>\n",
       "      <th>가사</th>\n",
       "    </tr>\n",
       "  </thead>\n",
       "  <tbody>\n",
       "    <tr>\n",
       "      <th>0</th>\n",
       "      <td>19920000</td>\n",
       "      <td>잼</td>\n",
       "      <td>난 멈추지 않는다</td>\n",
       "      <td>댄스</td>\n",
       "      <td>['이제', '시작', '내겐', '시간', '때론', '상처', '좌절', '남아...</td>\n",
       "    </tr>\n",
       "    <tr>\n",
       "      <th>1</th>\n",
       "      <td>19920000</td>\n",
       "      <td>잼</td>\n",
       "      <td>우리 모두 사랑하자</td>\n",
       "      <td>댄스</td>\n",
       "      <td>['모두', '사랑', '우리', '젊다', '모두', '가볍다', '스텝', '그...</td>\n",
       "    </tr>\n",
       "    <tr>\n",
       "      <th>2</th>\n",
       "      <td>19920000</td>\n",
       "      <td>잼</td>\n",
       "      <td>이유</td>\n",
       "      <td>발라드</td>\n",
       "      <td>['어둠', '이제', '우리', '시간', '가슴속', '긴머리', '향기', '...</td>\n",
       "    </tr>\n",
       "    <tr>\n",
       "      <th>3</th>\n",
       "      <td>19920000</td>\n",
       "      <td>잼</td>\n",
       "      <td>18번가의 비밀</td>\n",
       "      <td>댄스</td>\n",
       "      <td>['끝없다', '어둠', '야릇하다', '느낌', '거리', '싸늘하다', '해지'...</td>\n",
       "    </tr>\n",
       "    <tr>\n",
       "      <th>4</th>\n",
       "      <td>19920000</td>\n",
       "      <td>잼</td>\n",
       "      <td>요즘 친구들</td>\n",
       "      <td>댄스</td>\n",
       "      <td>['요즘', '친구', '정말', '진정하다', '친구', '말로', '자기', '...</td>\n",
       "    </tr>\n",
       "  </tbody>\n",
       "</table>\n",
       "</div>"
      ],
      "text/plain": [
       "         년도 가수          제목   장르  \\\n",
       "0  19920000  잼   난 멈추지 않는다   댄스   \n",
       "1  19920000  잼  우리 모두 사랑하자   댄스   \n",
       "2  19920000  잼          이유  발라드   \n",
       "3  19920000  잼    18번가의 비밀   댄스   \n",
       "4  19920000  잼      요즘 친구들   댄스   \n",
       "\n",
       "                                                  가사  \n",
       "0  ['이제', '시작', '내겐', '시간', '때론', '상처', '좌절', '남아...  \n",
       "1  ['모두', '사랑', '우리', '젊다', '모두', '가볍다', '스텝', '그...  \n",
       "2  ['어둠', '이제', '우리', '시간', '가슴속', '긴머리', '향기', '...  \n",
       "3  ['끝없다', '어둠', '야릇하다', '느낌', '거리', '싸늘하다', '해지'...  \n",
       "4  ['요즘', '친구', '정말', '진정하다', '친구', '말로', '자기', '...  "
      ]
     },
     "execution_count": 2,
     "metadata": {},
     "output_type": "execute_result"
    }
   ],
   "source": [
    "data.head()"
   ]
  },
  {
   "cell_type": "code",
   "execution_count": 3,
   "metadata": {},
   "outputs": [
    {
     "data": {
      "text/plain": [
       "0       ['이제', '시작', '내겐', '시간', '때론', '상처', '좌절', '남아...\n",
       "1       ['모두', '사랑', '우리', '젊다', '모두', '가볍다', '스텝', '그...\n",
       "2       ['어둠', '이제', '우리', '시간', '가슴속', '긴머리', '향기', '...\n",
       "3       ['끝없다', '어둠', '야릇하다', '느낌', '거리', '싸늘하다', '해지'...\n",
       "4       ['요즘', '친구', '정말', '진정하다', '친구', '말로', '자기', '...\n",
       "                              ...                        \n",
       "5758    ['기억', '검다', '그림자', '주윌', '이별', '슬픔', '하얗다', '...\n",
       "5759    ['기적', '같다', '기적', '기적', '기적', '같다', '맴도', '수많...\n",
       "5760    ['누군가', '요람', '온기', '언제', '문득', '시간', '낯설다', '...\n",
       "5761    ['영원하다', '창문', '우릴', '매번', '아프다', '어차피', '상처',...\n",
       "5762    ['Trouble', '그렇다', '부리', 'yeah', 'lady', '말리',...\n",
       "Name: 가사, Length: 5763, dtype: object"
      ]
     },
     "execution_count": 3,
     "metadata": {},
     "output_type": "execute_result"
    }
   ],
   "source": [
    "lyrics=data['가사']\n",
    "lyrics"
   ]
  },
  {
   "cell_type": "code",
   "execution_count": 4,
   "metadata": {},
   "outputs": [
    {
     "name": "stderr",
     "output_type": "stream",
     "text": [
      "C:\\Users\\308_1\\anaconda3\\envs\\eunhoo\\lib\\site-packages\\ipykernel_launcher.py:2: SettingWithCopyWarning: \n",
      "A value is trying to be set on a copy of a slice from a DataFrame\n",
      "\n",
      "See the caveats in the documentation: https://pandas.pydata.org/pandas-docs/stable/user_guide/indexing.html#returning-a-view-versus-a-copy\n",
      "  \n",
      "C:\\Users\\308_1\\anaconda3\\envs\\eunhoo\\lib\\site-packages\\ipykernel_launcher.py:3: SettingWithCopyWarning: \n",
      "A value is trying to be set on a copy of a slice from a DataFrame\n",
      "\n",
      "See the caveats in the documentation: https://pandas.pydata.org/pandas-docs/stable/user_guide/indexing.html#returning-a-view-versus-a-copy\n",
      "  This is separate from the ipykernel package so we can avoid doing imports until\n",
      "C:\\Users\\308_1\\anaconda3\\envs\\eunhoo\\lib\\site-packages\\ipykernel_launcher.py:4: SettingWithCopyWarning: \n",
      "A value is trying to be set on a copy of a slice from a DataFrame\n",
      "\n",
      "See the caveats in the documentation: https://pandas.pydata.org/pandas-docs/stable/user_guide/indexing.html#returning-a-view-versus-a-copy\n",
      "  after removing the cwd from sys.path.\n",
      "C:\\Users\\308_1\\anaconda3\\envs\\eunhoo\\lib\\site-packages\\ipykernel_launcher.py:5: SettingWithCopyWarning: \n",
      "A value is trying to be set on a copy of a slice from a DataFrame\n",
      "\n",
      "See the caveats in the documentation: https://pandas.pydata.org/pandas-docs/stable/user_guide/indexing.html#returning-a-view-versus-a-copy\n",
      "  \"\"\"\n",
      "C:\\Users\\308_1\\anaconda3\\envs\\eunhoo\\lib\\site-packages\\ipykernel_launcher.py:6: SettingWithCopyWarning: \n",
      "A value is trying to be set on a copy of a slice from a DataFrame\n",
      "\n",
      "See the caveats in the documentation: https://pandas.pydata.org/pandas-docs/stable/user_guide/indexing.html#returning-a-view-versus-a-copy\n",
      "  \n"
     ]
    }
   ],
   "source": [
    "for i in range(len(lyrics)):\n",
    "    lyrics[i]=lyrics[i].replace(\"'\",\"\")\n",
    "    lyrics[i]=lyrics[i].replace(\"[\",\"\")\n",
    "    lyrics[i]=lyrics[i].replace(\"]\",\"\")\n",
    "    lyrics[i]=lyrics[i].replace(\" \",\"\")\n",
    "    lyrics[i]=lyrics[i].replace(\",\",\" \")"
   ]
  },
  {
   "cell_type": "code",
   "execution_count": 5,
   "metadata": {},
   "outputs": [
    {
     "data": {
      "text/plain": [
       "0       이제 시작 내겐 시간 때론 상처 좌절 남아 후회 지금 신문 얘기 우리 이제 시작 내...\n",
       "1       모두 사랑 우리 젊다 모두 가볍다 스텝 그대 아무렇다 거리 사람 시선 나름 연출 자...\n",
       "2       어둠 이제 우리 시간 가슴속 긴머리 향기 잠시 취해 어둠 얼마나 시간 애처롭다 이유...\n",
       "3       끝없다 어둠 야릇하다 느낌 거리 싸늘하다 해지 바람 어깨 멀리 그림자 모습 아무렇다...\n",
       "4       요즘 친구 정말 진정하다 친구 말로 자기 그게 다인 생각 좋다 얘기 친구 자유롭다 ...\n",
       "                              ...                        \n",
       "5758    기억 검다 그림자 주윌 이별 슬픔 하얗다 안개 문득 숨쉬기 힘들다 대체 낯설다 사진...\n",
       "5759    기적 같다 기적 기적 기적 같다 맴도 수많다 phantom Phantom phant...\n",
       "5760    누군가 요람 온기 언제 문득 시간 낯설다 Dawn eye Keep alive 사이 ...\n",
       "5761    영원하다 창문 우릴 매번 아프다 어차피 상처 성인 미워하다 끝장 보기 아픔 아마 잠...\n",
       "5762    Trouble 그렇다 부리 yeah lady 말리 불편하다 사랑 원하다 평화 편하다...\n",
       "Name: 가사, Length: 5763, dtype: object"
      ]
     },
     "execution_count": 5,
     "metadata": {},
     "output_type": "execute_result"
    }
   ],
   "source": [
    "lyrics"
   ]
  },
  {
   "cell_type": "code",
   "execution_count": 6,
   "metadata": {},
   "outputs": [
    {
     "name": "stderr",
     "output_type": "stream",
     "text": [
      "[nltk_data] Downloading package punkt to\n",
      "[nltk_data]     C:\\Users\\308_1\\AppData\\Roaming\\nltk_data...\n",
      "[nltk_data]   Package punkt is already up-to-date!\n",
      "[nltk_data] Downloading package stopwords to\n",
      "[nltk_data]     C:\\Users\\308_1\\AppData\\Roaming\\nltk_data...\n",
      "[nltk_data]   Package stopwords is already up-to-date!\n"
     ]
    },
    {
     "data": {
      "text/plain": [
       "True"
      ]
     },
     "execution_count": 6,
     "metadata": {},
     "output_type": "execute_result"
    }
   ],
   "source": [
    "import nltk                  \n",
    "from nltk import word_tokenize\n",
    "from nltk.corpus import stopwords\n",
    "nltk.download('punkt')\n",
    "nltk.download('stopwords')"
   ]
  },
  {
   "cell_type": "code",
   "execution_count": 7,
   "metadata": {},
   "outputs": [],
   "source": [
    "token_lyrics=[]\n",
    "for i in range(0,len(lyrics)):\n",
    "  token=nltk.word_tokenize(lyrics[i].lower())\n",
    "  token_lyrics.append(token)"
   ]
  },
  {
   "cell_type": "code",
   "execution_count": 8,
   "metadata": {},
   "outputs": [],
   "source": [
    "data['가사']=token_lyrics"
   ]
  },
  {
   "cell_type": "code",
   "execution_count": 10,
   "metadata": {},
   "outputs": [],
   "source": [
    "stopwords_eng=set(stopwords.words('english')) #nltk 불용어 목록\n",
    "\n",
    "stopwords_eng.update([\"oh\",\"la\",\"hey\",\"yeah\",\"woo\",\"ah\",\"na\",\"ye\"\n",
    "                      ,\"im\",\"so\",\"ooh\",\"uh\",\"yo\",\"na\",\"wow\",\"hoo\",\"eh\",\"nt\",\"baby\",\"babi\",\n",
    "                      \"ya\",\"du\",\"ha\",\"du\",\n",
    "                      \"da\",\"no\",\"bo\",\"yeh\",\"wuh\",\"tu\",\"huh\",\"mr\",\"supa\",\"dupa\",\"who\",\"wow\",\"tic\",\"tok\",\"really\",\"more\",\"zam\"])\n",
    "\n",
    "data['가사']=data['가사'].apply(lambda list: [x for x in list if x not in stopwords_eng])"
   ]
  },
  {
   "cell_type": "code",
   "execution_count": 11,
   "metadata": {},
   "outputs": [
    {
     "data": {
      "text/html": [
       "<div>\n",
       "<style scoped>\n",
       "    .dataframe tbody tr th:only-of-type {\n",
       "        vertical-align: middle;\n",
       "    }\n",
       "\n",
       "    .dataframe tbody tr th {\n",
       "        vertical-align: top;\n",
       "    }\n",
       "\n",
       "    .dataframe thead th {\n",
       "        text-align: right;\n",
       "    }\n",
       "</style>\n",
       "<table border=\"1\" class=\"dataframe\">\n",
       "  <thead>\n",
       "    <tr style=\"text-align: right;\">\n",
       "      <th></th>\n",
       "      <th>word</th>\n",
       "    </tr>\n",
       "  </thead>\n",
       "  <tbody>\n",
       "    <tr>\n",
       "      <th>0</th>\n",
       "      <td>아</td>\n",
       "    </tr>\n",
       "    <tr>\n",
       "      <th>1</th>\n",
       "      <td>워</td>\n",
       "    </tr>\n",
       "    <tr>\n",
       "      <th>2</th>\n",
       "      <td>휴</td>\n",
       "    </tr>\n",
       "    <tr>\n",
       "      <th>3</th>\n",
       "      <td>아이구</td>\n",
       "    </tr>\n",
       "    <tr>\n",
       "      <th>4</th>\n",
       "      <td>아이쿠</td>\n",
       "    </tr>\n",
       "    <tr>\n",
       "      <th>...</th>\n",
       "      <td>...</td>\n",
       "    </tr>\n",
       "    <tr>\n",
       "      <th>671</th>\n",
       "      <td>일곱</td>\n",
       "    </tr>\n",
       "    <tr>\n",
       "      <th>672</th>\n",
       "      <td>여덟</td>\n",
       "    </tr>\n",
       "    <tr>\n",
       "      <th>673</th>\n",
       "      <td>아홉</td>\n",
       "    </tr>\n",
       "    <tr>\n",
       "      <th>674</th>\n",
       "      <td>령</td>\n",
       "    </tr>\n",
       "    <tr>\n",
       "      <th>675</th>\n",
       "      <td>영</td>\n",
       "    </tr>\n",
       "  </tbody>\n",
       "</table>\n",
       "<p>676 rows × 1 columns</p>\n",
       "</div>"
      ],
      "text/plain": [
       "    word\n",
       "0      아\n",
       "1      워\n",
       "2      휴\n",
       "3    아이구\n",
       "4    아이쿠\n",
       "..   ...\n",
       "671   일곱\n",
       "672   여덟\n",
       "673   아홉\n",
       "674    령\n",
       "675    영\n",
       "\n",
       "[676 rows x 1 columns]"
      ]
     },
     "execution_count": 11,
     "metadata": {},
     "output_type": "execute_result"
    }
   ],
   "source": [
    "word_kor=pd.read_csv('../한국어불용어.txt', encoding = 'utf-8',names=['word'])\n",
    "word_kor"
   ]
  },
  {
   "cell_type": "code",
   "execution_count": 12,
   "metadata": {},
   "outputs": [],
   "source": [
    "stopword_kor=word_kor['word']\n",
    "stopwords_kor=set(stopword_kor)\n",
    "stopwords_kor.update([u\"나\",u\"너\",u\"우리\",u\"넌\",u\"내\",u\"난\",u\"날\",u\"네\",u\"널\",u\"말\",u\"그\",u\"그녀\",u\"그대\",u\"왜\",u\"와\",u\"워\",u\"이\",u\"수\",u\"것\",u\"걸\",u\"더\",u\"세\",u\"듯\",u\"건\",u\"나빌레라\",u\"난나\",u\"라라라라\",u\"나빌레\",u\"나나\",u\"어어어어\",u\"이나\",u\"있다\",u\"없다\",u\"뚜뚜루\",u\"겨우\",u\"다만\",u\"슈비\",u\"비답\",u\"아하\",u\"그렇다\",u\"아니다\",u\"이렇다\",u\"어떻다\"])\n",
    "\n",
    "data['가사']=data['가사'].apply(lambda list: [x for x in list if x not in stopwords_kor])"
   ]
  },
  {
   "cell_type": "code",
   "execution_count": 13,
   "metadata": {},
   "outputs": [
    {
     "data": {
      "text/html": [
       "<div>\n",
       "<style scoped>\n",
       "    .dataframe tbody tr th:only-of-type {\n",
       "        vertical-align: middle;\n",
       "    }\n",
       "\n",
       "    .dataframe tbody tr th {\n",
       "        vertical-align: top;\n",
       "    }\n",
       "\n",
       "    .dataframe thead th {\n",
       "        text-align: right;\n",
       "    }\n",
       "</style>\n",
       "<table border=\"1\" class=\"dataframe\">\n",
       "  <thead>\n",
       "    <tr style=\"text-align: right;\">\n",
       "      <th></th>\n",
       "      <th>년도</th>\n",
       "      <th>가수</th>\n",
       "      <th>제목</th>\n",
       "      <th>장르</th>\n",
       "      <th>가사</th>\n",
       "    </tr>\n",
       "  </thead>\n",
       "  <tbody>\n",
       "    <tr>\n",
       "      <th>0</th>\n",
       "      <td>19920000</td>\n",
       "      <td>잼</td>\n",
       "      <td>난 멈추지 않는다</td>\n",
       "      <td>댄스</td>\n",
       "      <td>[이제, 시작, 내겐, 때론, 상처, 좌절, 남아, 후회, 지금, 신문, 얘기, 이...</td>\n",
       "    </tr>\n",
       "    <tr>\n",
       "      <th>1</th>\n",
       "      <td>19920000</td>\n",
       "      <td>잼</td>\n",
       "      <td>우리 모두 사랑하자</td>\n",
       "      <td>댄스</td>\n",
       "      <td>[사랑, 젊다, 가볍다, 스텝, 아무렇다, 거리, 사람, 시선, 나름, 연출, 자신...</td>\n",
       "    </tr>\n",
       "    <tr>\n",
       "      <th>2</th>\n",
       "      <td>19920000</td>\n",
       "      <td>잼</td>\n",
       "      <td>이유</td>\n",
       "      <td>발라드</td>\n",
       "      <td>[어둠, 이제, 가슴속, 긴머리, 향기, 취해, 어둠, 애처롭다, 이유, 사랑, 이...</td>\n",
       "    </tr>\n",
       "    <tr>\n",
       "      <th>3</th>\n",
       "      <td>19920000</td>\n",
       "      <td>잼</td>\n",
       "      <td>18번가의 비밀</td>\n",
       "      <td>댄스</td>\n",
       "      <td>[끝없다, 어둠, 야릇하다, 느낌, 거리, 싸늘하다, 해지, 바람, 어깨, 멀리, ...</td>\n",
       "    </tr>\n",
       "    <tr>\n",
       "      <th>4</th>\n",
       "      <td>19920000</td>\n",
       "      <td>잼</td>\n",
       "      <td>요즘 친구들</td>\n",
       "      <td>댄스</td>\n",
       "      <td>[요즘, 친구, 정말, 진정하다, 친구, 말로, 그게, 다인, 생각, 좋다, 얘기,...</td>\n",
       "    </tr>\n",
       "    <tr>\n",
       "      <th>...</th>\n",
       "      <td>...</td>\n",
       "      <td>...</td>\n",
       "      <td>...</td>\n",
       "      <td>...</td>\n",
       "      <td>...</td>\n",
       "    </tr>\n",
       "    <tr>\n",
       "      <th>5758</th>\n",
       "      <td>20200924</td>\n",
       "      <td>업텐션 (UP10TION)</td>\n",
       "      <td>니가 보여 (Waiting For You)</td>\n",
       "      <td>R&amp;B/Soul</td>\n",
       "      <td>[기억, 검다, 그림자, 주윌, 이별, 슬픔, 하얗다, 안개, 문득, 숨쉬기, 힘들...</td>\n",
       "    </tr>\n",
       "    <tr>\n",
       "      <th>5759</th>\n",
       "      <td>20200924</td>\n",
       "      <td>업텐션 (UP10TION)</td>\n",
       "      <td>빈집 (텅) (Empty House)</td>\n",
       "      <td>R&amp;B/Soul</td>\n",
       "      <td>[기적, 기적, 기적, 기적, 맴도, 수많다, phantom, phantom, ph...</td>\n",
       "    </tr>\n",
       "    <tr>\n",
       "      <th>5760</th>\n",
       "      <td>20200926</td>\n",
       "      <td>엔플라잉 (N.Flying)</td>\n",
       "      <td>From You</td>\n",
       "      <td>록/메탈, 국내드라마</td>\n",
       "      <td>[누군가, 요람, 온기, 문득, 낯설다, dawn, eye, keep, alive,...</td>\n",
       "    </tr>\n",
       "    <tr>\n",
       "      <th>5761</th>\n",
       "      <td>20201002</td>\n",
       "      <td>BLACKPINK</td>\n",
       "      <td>Lovesick Girls</td>\n",
       "      <td>댄스</td>\n",
       "      <td>[영원하다, 창문, 우릴, 아프다, 어차피, 상처, 성인, 미워하다, 끝장, 보기,...</td>\n",
       "    </tr>\n",
       "    <tr>\n",
       "      <th>5762</th>\n",
       "      <td>20201010</td>\n",
       "      <td>환불원정대</td>\n",
       "      <td>DON'T TOUCH ME</td>\n",
       "      <td>댄스</td>\n",
       "      <td>[trouble, 부리, lady, 말리, 불편하다, 사랑, 원하다, 평화, 편하다...</td>\n",
       "    </tr>\n",
       "  </tbody>\n",
       "</table>\n",
       "<p>5763 rows × 5 columns</p>\n",
       "</div>"
      ],
      "text/plain": [
       "            년도               가수                       제목           장르  \\\n",
       "0     19920000                잼                난 멈추지 않는다           댄스   \n",
       "1     19920000                잼               우리 모두 사랑하자           댄스   \n",
       "2     19920000                잼                       이유          발라드   \n",
       "3     19920000                잼                 18번가의 비밀           댄스   \n",
       "4     19920000                잼                   요즘 친구들           댄스   \n",
       "...        ...              ...                      ...          ...   \n",
       "5758  20200924   업텐션 (UP10TION)  니가 보여 (Waiting For You)     R&B/Soul   \n",
       "5759  20200924   업텐션 (UP10TION)     빈집 (텅) (Empty House)     R&B/Soul   \n",
       "5760  20200926  엔플라잉 (N.Flying)                 From You  록/메탈, 국내드라마   \n",
       "5761  20201002        BLACKPINK           Lovesick Girls           댄스   \n",
       "5762  20201010            환불원정대           DON'T TOUCH ME           댄스   \n",
       "\n",
       "                                                     가사  \n",
       "0     [이제, 시작, 내겐, 때론, 상처, 좌절, 남아, 후회, 지금, 신문, 얘기, 이...  \n",
       "1     [사랑, 젊다, 가볍다, 스텝, 아무렇다, 거리, 사람, 시선, 나름, 연출, 자신...  \n",
       "2     [어둠, 이제, 가슴속, 긴머리, 향기, 취해, 어둠, 애처롭다, 이유, 사랑, 이...  \n",
       "3     [끝없다, 어둠, 야릇하다, 느낌, 거리, 싸늘하다, 해지, 바람, 어깨, 멀리, ...  \n",
       "4     [요즘, 친구, 정말, 진정하다, 친구, 말로, 그게, 다인, 생각, 좋다, 얘기,...  \n",
       "...                                                 ...  \n",
       "5758  [기억, 검다, 그림자, 주윌, 이별, 슬픔, 하얗다, 안개, 문득, 숨쉬기, 힘들...  \n",
       "5759  [기적, 기적, 기적, 기적, 맴도, 수많다, phantom, phantom, ph...  \n",
       "5760  [누군가, 요람, 온기, 문득, 낯설다, dawn, eye, keep, alive,...  \n",
       "5761  [영원하다, 창문, 우릴, 아프다, 어차피, 상처, 성인, 미워하다, 끝장, 보기,...  \n",
       "5762  [trouble, 부리, lady, 말리, 불편하다, 사랑, 원하다, 평화, 편하다...  \n",
       "\n",
       "[5763 rows x 5 columns]"
      ]
     },
     "execution_count": 13,
     "metadata": {},
     "output_type": "execute_result"
    }
   ],
   "source": [
    "data"
   ]
  },
  {
   "cell_type": "code",
   "execution_count": 14,
   "metadata": {},
   "outputs": [
    {
     "name": "stderr",
     "output_type": "stream",
     "text": [
      "[nltk_data] Downloading package averaged_perceptron_tagger to\n",
      "[nltk_data]     C:\\Users\\308_1\\AppData\\Roaming\\nltk_data...\n",
      "[nltk_data]   Package averaged_perceptron_tagger is already up-to-\n",
      "[nltk_data]       date!\n"
     ]
    },
    {
     "data": {
      "text/plain": [
       "True"
      ]
     },
     "execution_count": 14,
     "metadata": {},
     "output_type": "execute_result"
    }
   ],
   "source": [
    "lyrics_n=data['가사']\n",
    "nltk.download('averaged_perceptron_tagger')"
   ]
  },
  {
   "cell_type": "code",
   "execution_count": 15,
   "metadata": {},
   "outputs": [],
   "source": [
    "lyrics_j=[]\n",
    "for i,document in enumerate(lyrics_n):\n",
    "  stem_words_eng=[]\n",
    "  for word in nltk.pos_tag(document):\n",
    "    if word[1] in ['NN','NNP','JJ']:\n",
    "      stem_words_eng.append(word[0])\n",
    "  lyrics_j.append(stem_words_eng)"
   ]
  },
  {
   "cell_type": "code",
   "execution_count": 16,
   "metadata": {},
   "outputs": [],
   "source": [
    "lyrics_k=[]\n",
    "for i in lyrics_j:\n",
    "  lyric=' '.join(i)\n",
    "  lyrics_k.append(lyric)"
   ]
  },
  {
   "cell_type": "code",
   "execution_count": 17,
   "metadata": {},
   "outputs": [],
   "source": [
    "from konlpy.tag import Okt\n",
    "okt=Okt()\n",
    "\n",
    "lyrics_o=[]\n",
    "for i,document in enumerate(lyrics_k):\n",
    "  stem_words_kor=[]\n",
    "  for word in okt.pos(document,stem=True, norm=True):\n",
    "    if word[1] in ['Noun','Adjective','Alpha']:\n",
    "      stem_words_kor.append(word[0])\n",
    "  lyrics_o.append(stem_words_kor)"
   ]
  },
  {
   "cell_type": "code",
   "execution_count": 18,
   "metadata": {},
   "outputs": [],
   "source": [
    "train=[]\n",
    "for i,line in enumerate(lyrics_o):\n",
    "  ary=[]\n",
    "  for word in line:\n",
    "    if len(word)>1:\n",
    "      ary.append(word)\n",
    "  train.append(ary)"
   ]
  },
  {
   "cell_type": "code",
   "execution_count": 19,
   "metadata": {},
   "outputs": [],
   "source": [
    "train=[]\n",
    "for i,line in enumerate(lyrics_o):\n",
    "  ary=[]\n",
    "  for word in line:\n",
    "    if len(word)>1:\n",
    "      ary.append(word)\n",
    "  train.append(ary)"
   ]
  },
  {
   "cell_type": "code",
   "execution_count": 20,
   "metadata": {},
   "outputs": [],
   "source": [
    "from collections import Counter\n",
    "list=[]\n",
    "freq=Counter(list)\n",
    "for words in train:\n",
    "  freq.update(Counter(words))"
   ]
  },
  {
   "cell_type": "code",
   "execution_count": 21,
   "metadata": {},
   "outputs": [
    {
     "name": "stdout",
     "output_type": "stream",
     "text": [
      "[('사랑', 13342), ('이제', 3641), ('좋다', 3593), ('마음', 3410), ('사람', 3200), ('지금', 3139), ('girl', 2955), ('생각', 2868), ('세상', 2810), ('오늘', 2800), ('아프다', 2581), ('눈물', 2475), ('모든', 2335), ('가슴', 2280), ('love', 2195), ('순간', 2112), ('기억', 2032), ('모습', 1919), ('원하다', 1881), ('하루', 1811), ('매일', 1749), ('정말', 1718), ('미치다', 1715), ('행복하다', 1603), ('자꾸', 1578), ('하늘', 1525), ('영원하다', 1515), ('우린', 1473), ('예쁘다', 1418), ('보고', 1406), ('good', 1405), ('그냥', 1388), ('싫다', 1329), ('boy', 1296), ('위해', 1292), ('많다', 1286), ('아름답다', 1271), ('괜찮다', 1264), ('해도', 1264), ('night', 1197), ('time', 1145), ('추억', 1116), ('day', 1106), ('느낌', 1095), ('아무', 1084), ('이별', 1082), ('처음', 1080), ('바보', 1072), ('항상', 1061), ('여자', 1050)]\n"
     ]
    }
   ],
   "source": [
    "print(freq.most_common(n=50))"
   ]
  },
  {
   "cell_type": "code",
   "execution_count": 22,
   "metadata": {},
   "outputs": [
    {
     "name": "stdout",
     "output_type": "stream",
     "text": [
      "[(1, 1), (6, 3), (9, 1), (11, 5), (12, 1), (13, 1), (14, 1), (15, 1), (16, 1), (17, 1), (18, 1), (19, 1), (20, 8), (21, 1), (22, 1), (23, 5), (24, 1), (25, 1), (26, 1), (27, 1), (28, 1), (29, 1), (30, 1), (31, 5), (32, 1), (33, 2), (34, 2), (35, 1), (36, 1), (37, 1)]\n"
     ]
    }
   ],
   "source": [
    "from gensim import corpora\n",
    "dictionary = corpora.Dictionary(train) #정수 인코딩과 빈도수 생성\n",
    "\n",
    "#문서를 back of word 형식(token_id,token_count)으로 변환\n",
    "corpus = [dictionary.doc2bow(text) for text in train] \n",
    "\n",
    "print(corpus[1])    #(m,n) -> 두번째 노래 가사에서 정수 m로 할당된 단어가 n번 등장"
   ]
  },
  {
   "cell_type": "code",
   "execution_count": 24,
   "metadata": {},
   "outputs": [
    {
     "name": "stdout",
     "output_type": "stream",
     "text": [
      "좌절\n"
     ]
    }
   ],
   "source": [
    "print(dictionary[8])"
   ]
  },
  {
   "cell_type": "code",
   "execution_count": 25,
   "metadata": {},
   "outputs": [],
   "source": [
    "import matplotlib.pyplot as plt\n",
    "from gensim.models import CoherenceModel\n",
    "import gensim"
   ]
  },
  {
   "cell_type": "code",
   "execution_count": 26,
   "metadata": {},
   "outputs": [],
   "source": [
    "coherence_values=[]\n",
    "for num_topics in range(2,16):\n",
    "  model=gensim.models.ldamodel.LdaModel(corpus,num_topics=num_topics,id2word=dictionary)\n",
    "  coherencemodel=CoherenceModel(model,texts=train,dictionary=dictionary)\n",
    "  coherence_values.append(coherencemodel.get_coherence())"
   ]
  },
  {
   "cell_type": "code",
   "execution_count": 27,
   "metadata": {},
   "outputs": [
    {
     "data": {
      "text/plain": [
       "<function matplotlib.pyplot.show(close=None, block=None)>"
      ]
     },
     "execution_count": 27,
     "metadata": {},
     "output_type": "execute_result"
    },
    {
     "data": {
      "image/png": "[encoded data removed]",
      "text/plain": [
       "<Figure size 432x288 with 1 Axes>"
      ]
     },
     "metadata": {
      "needs_background": "light"
     },
     "output_type": "display_data"
    }
   ],
   "source": [
    "x=range(2,16)\n",
    "plt.plot(x,coherence_values)\n",
    "plt.xlabel(\"Number of Topics\")\n",
    "plt.ylabel(\"Coherence score\")\n",
    "plt.legend((\"coherence_value\"),loc='best')\n",
    "plt.show"
   ]
  },
  {
   "cell_type": "code",
   "execution_count": 30,
   "metadata": {},
   "outputs": [
    {
     "name": "stderr",
     "output_type": "stream",
     "text": [
      "C:\\Users\\308_1\\anaconda3\\envs\\eunhoo\\lib\\site-packages\\ipykernel\\ipkernel.py:287: DeprecationWarning: `should_run_async` will not call `transform_cell` automatically in the future. Please pass the result to `transformed_cell` argument and any exception that happen during thetransform in `preprocessing_exc_tuple` in IPython 7.17 and above.\n",
      "  and should_run_async(code)\n"
     ]
    }
   ],
   "source": [
    "import gensim\n",
    "N_TOPICS = 10   #토픽의 개수 (하이퍼 파라미터)\n",
    "\n",
    "ldamodel = gensim.models.ldamodel.LdaModel(corpus,num_topics=N_TOPICS,id2word=dictionary,passes=15) #passes = 말뭉치 통과 횟수"
   ]
  },
  {
   "cell_type": "code",
   "execution_count": 31,
   "metadata": {},
   "outputs": [
    {
     "name": "stderr",
     "output_type": "stream",
     "text": [
      "C:\\Users\\308_1\\anaconda3\\envs\\eunhoo\\lib\\site-packages\\ipykernel\\ipkernel.py:287: DeprecationWarning: `should_run_async` will not call `transform_cell` automatically in the future. Please pass the result to `transformed_cell` argument and any exception that happen during thetransform in `preprocessing_exc_tuple` in IPython 7.17 and above.\n",
      "  and should_run_async(code)\n"
     ]
    },
    {
     "data": {
      "text/html": [
       "\n",
       "<link rel=\"stylesheet\" type=\"text/css\" href=\"https://cdn.rawgit.com/bmabey/pyLDAvis/files/ldavis.v1.0.0.css\">\n",
       "\n",
       "\n",
       "<div id=\"ldavis_el761228564464900561286978472\"></div>\n",
       "<script type=\"text/javascript\">\n",
       "\n",
       "var ldavis_el761228564464900561286978472_data = {\"mdsDat\": {\"x\": [-0.26070168698685225, -0.21246741379179326, -0.07990811412529086, 0.07049539470169029, 0.10315656939996469, -0.12711764670394934, 0.028324233863743033, -0.007135999871726831, 0.2681884747222204, 0.21716618879199306], \"y\": [0.025962720820660482, -0.0005106890389937602, 0.0905206407905336, -0.16342539275871604, 0.270471507910095, -0.04729131637459243, 0.002634292316787391, -0.11612630694544944, 0.08062679123825248, -0.14286224795857733], \"topics\": [1, 2, 3, 4, 5, 6, 7, 8, 9, 10], \"cluster\": [1, 1, 1, 1, 1, 1, 1, 1, 1, 1], \"Freq\": [44.10280074731398, 14.858338278111633, 10.639924260139617, 5.160883596811787, 5.091750323930999, 4.757442487773681, 4.513114289470667, 4.394821252008, 3.439318128990491, 3.041606635449141]}, \"tinfo\": {\"Term\": [\"\\uc0ac\\ub791\", \"love\", \"girl\", \"\\uc88b\\ub2e4\", \"good\", \"boy\", \"night\", \"bye\", \"knock\", \"\\ub208\\ubb3c\", \"\\uc138\\uc0c1\", \"star\", \"way\", \"\\uc544\\ud504\\ub2e4\", \"\\uc608\\uc058\\ub2e4\", \"hot\", \"\\uc790\\uafb8\", \"heart\", \"bad\", \"day\", \"tonight\", \"\\uc774\\uc81c\", \"\\ub9ce\\ub2e4\", \"crazy\", \"\\uae30\\uc5b5\", \"\\uc6b0\\ub9b0\", \"rock\", \"\\uc624\\ub298\", \"sweet\", \"talk\", \"\\ub208\\ubb3c\", \"\\uc774\\ubcc4\", \"\\uc18c\\uc911\\ud558\\ub2e4\", \"\\uc544\\ud514\", \"\\uc2ac\\ud504\\ub2e4\", \"\\uc2ac\\ud514\", \"\\ud798\\ub4e4\\ub2e4\", \"\\uadf8\\ub9ac\\uc6c0\", \"lucky\", \"\\uadf8\\ub550\", \"\\uacc4\\uc808\", \"\\uac04\\uc9c1\", \"peep\", \"ay\", \"\\uace0\\ub9d9\\ub2e4\", \"\\ucd08\\ub77c\\ud558\\ub2e4\", \"\\uc678\\ub85c\\uc6c0\", \"\\uc798\\ubabb\", \"\\uc598\\uae38\", \"\\uc218\\ub9cc\", \"\\ubd80\\ub514\", \"\\uae30\\ub2e4\\ub9bc\", \"\\ud76c\\ubbf8\\ud558\\ub2e4\", \"\\uc2dc\\ub9ac\", \"\\uc544\\ub4dd\\ud558\\ub2e4\", \"\\uc608\\uc804\", \"\\uc138\\uc6d4\", \"\\uc0ac\\ub791\", \"\\ucc98\\uc74c\\ucc98\\ub7fc\", \"\\ud798\\uacb9\\ub2e4\", \"\\ud589\\ubcf5\\ud558\\ub2e4\", \"\\uae30\\uc5b5\", \"\\ucd94\\uc5b5\", \"\\uc544\\ud504\\ub2e4\", \"\\ubbf8\\ub828\", \"\\uadf8\\ub0a0\", \"\\ub0a8\\uc544\", \"\\uc57d\\uc18d\", \"\\uc0c1\\ucc98\", \"\\uae30\\ub3c4\", \"\\ubbf8\\uc548\\ud558\\ub2e4\", \"\\uc601\\uc6d0\\ud558\\ub2e4\", \"\\ubcc0\\ud558\\ub2e4\", \"\\uc0ac\\ub78c\", \"\\uac00\\uc2b4\", \"\\uc11c\\ub85c\", \"\\ubaa8\\uc2b5\", \"\\ub9c8\\uc74c\", \"\\ub9c8\\uc9c0\\ub9c9\", \"\\uc790\\ub9ac\", \"\\uc774\\uc81c\", \"\\uad1c\\ucc2e\\ub2e4\", \"\\ubc14\\ubcf4\", \"\\ud558\\ub298\", \"\\uc0dd\\uac01\", \"\\ubc14\\ub78c\", \"\\uc138\\uc0c1\", \"\\uba40\\ub9ac\", \"\\uc81c\\ubc1c\", \"\\ud56d\\uc0c1\", \"\\ubaa8\\ub4e0\", \"\\uc704\\ud574\", \"\\ud558\\ub8e8\", \"\\uc9c0\\uae08\", \"\\uc544\\ub984\\ub2f5\\ub2e4\", \"\\uc815\\ub9d0\", \"\\uc2eb\\ub2e4\", \"\\uc624\\ub298\", \"\\uc21c\\uac04\", \"\\uc6b0\\ub9b0\", \"\\uc88b\\ub2e4\", \"\\ubcf4\\uace0\", \"\\ub9e4\\uc77c\", \"hello\", \"hip\", \"ba\", \"\\uadc0\\uc5fd\\ub2e4\", \"dat\", \"cream\", \"\\ub8e8\\ub8e8\", \"fake\", \"\\ub784\\ub77c\\ub77c\", \"sunny\", \"bum\", \"\\ucc0c\\ub9bf\", \"dan\", \"\\ub370\\uc774\\ud2b8\", \"bite\", \"\\uc5ec\\ub984\\ubc24\", \"simple\", \"\\ub77c\\ub530\", \"great\", \"bailar\", \"\\uc9d5\\uae00\", \"drive\", \"hol\", \"short\", \"signal\", \"\\uc8fc\\uc70c\", \"\\ub1a8\\ub2e4\", \"\\ub530\\ub530\", \"\\uad7f\\ubc24\", \"\\ub69c\\ub69c\\ub69c\", \"type\", \"shoot\", \"\\uc0b4\\uc9dd\", \"today\", \"day\", \"mad\", \"\\ubc18\\uc751\", \"\\uad81\\uae08\\ud558\\ub2e4\", \"\\uc608\\uc058\\ub2e4\", \"touch\", \"\\uae30\\ubd84\", \"\\ubc18\\ud558\\ub2e4\", \"\\uc5b4\\uca5c\", \"everyday\", \"\\ub290\\ub08c\", \"\\uc88b\\ub2e4\", \"\\uc124\\ub808\\ub2e4\", \"\\uc790\\uafb8\", \"\\ube68\\uac1b\\ub2e4\", \"dance\", \"\\ub2ec\\ucf64\\ud558\\ub2e4\", \"\\uc88b\\uc544\\ud558\\ub2e4\", \"\\uc704\\ud5d8\\ud558\\ub2e4\", \"\\uc624\\ub298\", \"\\ub9e4\\uc77c\", \"\\ub208\\ube5b\", \"\\uc644\\ubcbd\\ud558\\ub2e4\", \"\\uc5ec\\uc790\", \"\\ub0a8\\uc790\", \"\\ubab0\\ub798\", \"\\uc785\\uc220\", \"\\uc9c0\\uae08\", \"\\uc885\\uc77c\", \"\\uc0ac\\uc774\", \"\\ubcf4\\uace0\", \"\\uc21c\\uac04\", \"\\uadf8\\ub0e5\", \"\\uc0dd\\uac01\", \"\\ud558\\ub8e8\", \"\\ub9c8\\uc74c\", \"\\uc790\\uafb8\\ub9cc\", \"good\", \"\\uc6d0\\ud558\\ub2e4\", \"\\ubbf8\\uce58\\ub2e4\", \"dumb\", \"umpah\", \"paradise\", \"special\", \"\\uc77c\\ub8e8\", \"zimzimzalabim\", \"\\uae5c\\ube61\", \"hush\", \"likey\", \"\\ub09c\\ub09c\", \"issue\", \"attack\", \"open\", \"\\ubc45\\uae00\", \"zimzalabim\", \"shop\", \"loud\", \"door\", \"\\uace0\\uace0\", \"gi\", \"zimzim\", \"\\ucc30\\ub098\", \"vroom\", \"holic\", \"\\uba74\\ubc1c\", \"\\uc5f4\\ub300\\uc57c\", \"feelin\", \"\\ud1a1\\ud1a1\", \"cho\", \"ive\", \"wan\", \"girl\", \"someone\", \"hot\", \"crazy\", \"ride\", \"stop\", \"eye\", \"heart\", \"shake\", \"fly\", \"ready\", \"smile\", \"\\ub728\\uac81\\ub2e4\", \"alive\", \"\\ub192\\uc774\", \"control\", \"\\ubbf8\\ub85c\", \"\\ub300\\ub85c\", \"lady\", \"beautiful\", \"time\", \"way\", \"\\ubbf8\\uce58\\ub2e4\", \"\\uc6d0\\ud558\\ub2e4\", \"show\", \"feel\", \"\\uc21c\\uac04\", \"\\uc2dc\\uc791\", \"\\ub204\\uac00\", \"\\ubaa8\\ub4e0\", \"\\uc0c8\\ub86d\\ub2e4\", \"\\uc9c0\\uae08\", \"\\uc2ec\\uc7a5\", \"\\uc138\\uc0c1\", \"\\uc774\\uc81c\", \"\\uc704\\ub85c\", \"body\", \"home\", \"peek\", \"toc\", \"whoo\", \"bae\", \"lalalala\", \"funk\", \"pam\", \"leggo\", \"pow\", \"\\ub300\\ud55c\\ubbfc\\uad6d\", \"alight\", \"meow\", \"different\", \"trick\", \"mess\", \"uhhuh\", \"ayy\", \"bass\", \"shy\", \"\\ub3c4\\ub8cc\", \"\\ub808\\ud14c\", \"greedy\", \"brr\", \"\\ub728\\ub728\\ub8e8\", \"\\uc6b1\\ud574\", \"rocket\", \"\\uc624\\ub808\", \"\\ucc54\\ud53c\\uc5b8\", \"blah\", \"talk\", \"dirty\", \"city\", \"tonight\", \"fine\", \"jump\", \"magic\", \"night\", \"bad\", \"mine\", \"\\uc2b9\\ub9ac\", \"\\uc18c\\ub140\", \"\\ubc84\\uc2a4\", \"roll\", \"god\", \"\\ubc09\\ub2e4\", \"little\", \"\\uc9c4\\uc9dc\", \"\\uac70\\uae30\", \"\\ub098\\uc058\\ub2e4\", \"\\ubbf8\\uce58\\ub2e4\", \"\\ub2ec\\ub77c\", \"dance\", \"\\uc18c\\ub9ac\", \"love\", \"bomb\", \"dot\", \"fallin\", \"pain\", \"walker\", \"hate\", \"movin\", \"\\ub9cc\\uc138\", \"shootout\", \"bam\", \"tear\", \"yah\", \"sick\", \"replay\", \"woman\", \"jumpin\", \"\\ub4dc\\ub8e8\", \"baram\", \"bi\", \"illa\", \"thinkin\", \"clock\", \"slip\", \"dollar\", \"ehoh\", \"\\uc774\\ub178\", \"\\ubaa8\\uc774\", \"run\", \"killer\", \"clap\", \"line\", \"diamond\", \"live\", \"sorry\", \"break\", \"birthday\", \"blue\", \"slow\", \"true\", \"ta\", \"life\", \"dream\", \"hand\", \"nothing\", \"matter\", \"real\", \"last\", \"beautiful\", \"time\", \"happy\", \"day\", \"\\ub098\\uc774\", \"\\ubbf8\\uce58\\ub2e4\", \"rookie\", \"yolo\", \"\\ud0d5\\uc9c4\", \"gravity\", \"jingle\", \"rip\", \"\\ubc15\\uc218\", \"dangerous\", \"\\uc9d5\\uae00\\uc9d5\\uae00\", \"\\uc6b0\\uc5f0\\uc774\", \"\\ub85c\\uafb8\\uac70\", \"\\ub098\\uc640\\ub77c\", \"\\uc794\\ub729\", \"dress\", \"\\uc633\\ub2e4\", \"\\ub808\\uc624\", \"\\uc5b4\\uc5b4\", \"\\uc0c8\\ub07c\", \"\\ub864\\ub7ec\\ucf54\\uc2a4\\ud130\", \"\\ub099\\uc6d0\", \"\\ud658\\ud638\", \"irony\", \"\\uc624\\uc608\", \"nope\", \"roob\", \"crescent\", \"beep\", \"\\ub0a0\\ub85c\", \"\\uac00\\uc871\", \"zoo\", \"boom\", \"lie\", \"\\uc624\\uc624\\uc624\", \"taste\", \"\\uac00\\uc9dc\", \"roo\", \"fan\", \"\\ub180\\uc774\", \"happy\", \"\\uc9d1\\uc911\", \"moon\", \"\\uc9c0\\uad6c\", \"\\uac70\\uc6b8\", \"\\uc81c\\uc77c\", \"\\uc88b\\ub2e4\", \"\\uace0\\ubbfc\", \"right\", \"money\", \"\\ub9ce\\ub2e4\", \"\\uac08\\ub798\", \"friend\", \"\\ubc14\\uc058\\ub2e4\", \"\\uc18c\\uc6d0\", \"\\uc138\\uc0c1\", \"\\ub178\\ub798\", \"\\ub2e4\\ub974\\ub2e4\", \"\\ub290\\ub08c\", \"\\uc774\\uc720\", \"\\uce5c\\uad6c\", \"\\ubaa8\\ub4e0\", \"\\uc6b0\\ub9b0\", \"\\uba38\\ub9ac\", \"\\uadf8\\ub0e5\", \"bounce\", \"luv\", \"te\", \"sugar\", \"\\ube59\\ube59\", \"disco\", \"flower\", \"wonderful\", \"push\", \"club\", \"aha\", \"\\uc560\\ub9e4\\ud558\\ub2e4\", \"\\uc720\\ud589\\uac00\", \"chocolate\", \"lo\", \"ballin\", \"mystery\", \"radio\", \"\\ubc88\\uca4d\", \"lem\", \"chi\", \"talker\", \"nonstop\", \"muzik\", \"\\ud55c\\uacc4\", \"\\ud718\\ud30c\\ub78c\", \"yayaya\", \"twilight\", \"\\uc0c1\\ud0dc\", \"poison\", \"stupid\", \"\\ud070\\uc77c\", \"hit\", \"sweet\", \"air\", \"everybody\", \"anpanman\", \"high\", \"party\", \"\\ub77c\\uc774\", \"cool\", \"hand\", \"body\", \"work\", \"honey\", \"\\uc74c\\uc545\", \"call\", \"\\uc6b0\\ub9b0\", \"\\ub9ac\\ub4ec\", \"style\", \"\\ubbf8\\uce58\\ub2e4\", \"\\uc6d0\\ud558\\ub2e4\", \"\\uc774\\uc81c\", \"\\uc9c0\\uae08\", \"\\uc2e0\\ub098\\ub2e4\", \"\\uc624\\ub298\", \"\\ub2ec\\ucf64\\ud558\\ub2e4\", \"bye\", \"knock\", \"\\ubc14\\ub77c\\ubc14\", \"\\ubca0\\ubca0\", \"candy\", \"change\", \"chill\", \"step\", \"\\ud558\\uc774\", \"\\ud48d\\uc120\", \"snap\", \"\\uce60\\ud558\\ub2e4\", \"york\", \"whatta\", \"remedy\", \"\\uad74\\uc9c0\", \"\\ub450\\ub8e8\", \"hotshot\", \"ch\", \"hotter\", \"\\uc090\\uc090\", \"heal\", \"\\ube60\\ube60\", \"\\uc131\\uacf5\\ud558\\ub2e4\", \"\\uce74\\ub4dc\", \"senorita\", \"wuss\", \"kno\", \"\\ubc84\\ud2f0\\uace0\", \"gen\", \"young\", \"rollin\", \"boy\", \"number\", \"\\uc624\\ube60\", \"\\uc7a0\\ub3c4\", \"bell\", \"man\", \"good\", \"wrong\", \"sexy\", \"goodbye\", \"gosh\", \"new\", \"play\", \"song\", \"fight\", \"bad\", \"\\uc5c4\\ub9c8\", \"head\", \"\\uc774\\uc81c\", \"time\", \"rush\", \"something\", \"\\uc808\\ub300\", \"liar\", \"ni\", \"mo\", \"butterfly\", \"ga\", \"ra\", \"gee\", \"luck\", \"wild\", \"bow\", \"kimi\", \"swan\", \"xiang\", \"nai\", \"breathe\", \"rwa\", \"muah\", \"hurry\", \"train\", \"crush\", \"shi\", \"py\", \"hallo\", \"dum\", \"boku\", \"li\", \"sa\", \"cos\", \"bu\", \"dawn\", \"wa\", \"middle\", \"rock\", \"wish\", \"\\uc5d0\\uc774\", \"rain\", \"chu\", \"stay\", \"doo\", \"black\", \"way\", \"fire\", \"show\", \"power\", \"move\", \"\\ub178\\ub825\", \"kiss\", \"ta\", \"ho\", \"nobody\", \"pop\", \"dynamite\", \"somebody\", \"round\", \"dynnnnnanana\", \"ice\", \"gim\", \"lolli\", \"ghost\", \"christmas\", \"lollipop\", \"\\uc608\\uc774\\uc608\", \"twit\", \"bubble\", \"color\", \"hoohoo\", \"\\ub044\\ub355\", \"tik\", \"ohohohoh\", \"di\", \"dong\", \"woah\", \"rainbow\", \"diva\", \"\\uac04\\uc9c8\", \"rewind\", \"whole\", \"\\ub85c\\ub9e8\\uc2a4\", \"monster\", \"imma\", \"star\", \"burn\", \"light\", \"double\", \"watch\", \"soul\", \"\\uc57c\\uc57c\", \"bring\", \"perfect\", \"world\", \"gon\", \"life\", \"fire\", \"\\ub9ac\\ub4ec\", \"\\uc624\\ub298\\ubc24\", \"night\"], \"Freq\": [12081.0, 2071.0, 2601.0, 3595.0, 1381.0, 1234.0, 1221.0, 750.0, 618.0, 2273.0, 2663.0, 536.0, 769.0, 2511.0, 1344.0, 773.0, 1570.0, 948.0, 647.0, 1184.0, 524.0, 3392.0, 1233.0, 716.0, 2069.0, 1621.0, 400.0, 2772.0, 448.0, 441.0, 2272.506953137719, 1026.441831281383, 576.2910649143091, 434.4624617171489, 950.0924285452146, 400.24993079803556, 939.065028312079, 253.29886093720592, 244.33041455353546, 249.60329117916584, 236.74618232850545, 226.45742776117797, 214.51040443728118, 194.09956638158286, 365.27658582111985, 159.3158986346179, 145.59784204468113, 131.83752158725537, 137.6129676887552, 124.10398567176414, 119.76412554039142, 119.08969732406659, 112.38735681330752, 111.19664350261681, 109.33035274210157, 234.21924341316185, 95.26441135725518, 11975.469838873387, 91.81745195265053, 90.96972576887073, 1486.0162264220091, 2039.8575841661495, 1096.701886063133, 2453.339510226748, 308.09680599897223, 331.66571623085025, 312.9894689247014, 705.3329739787906, 612.5877254148811, 427.6047383929302, 710.9357772833353, 1363.687344665784, 941.2316019715163, 2798.273846825152, 1897.3304618111706, 890.5285369766863, 1596.6285974652776, 2939.8219511243847, 821.9752765304929, 575.0144490846407, 2714.094447743017, 1185.3939277000954, 885.9420857058776, 1277.2507221042356, 2147.886736074089, 934.2483007213301, 2042.1703145495487, 755.7216000957022, 772.9796932632195, 850.7134175630282, 1657.7602583373987, 985.6440850039802, 1341.7066106874934, 1991.6956355466596, 1056.1699027176612, 1192.5232997502435, 979.9859896054498, 1351.9113745448426, 1173.3240115752305, 1036.0696154788823, 1090.2103278648192, 983.7529836884713, 984.1426490283701, 551.1087739864139, 174.307021553095, 162.07319165507826, 149.27806004504404, 138.40791251163373, 120.2162007373469, 111.98063959446883, 123.76958939781242, 111.96578927068002, 83.33608017483704, 80.06870498730397, 77.15238219077843, 67.03829851061573, 65.35003670062532, 62.144878001207445, 54.27832424608153, 53.52833585424748, 53.087761774513105, 52.18103082040816, 45.79078162228701, 45.785788092358025, 44.95568249316336, 43.66300957154709, 43.52773918797084, 40.711529429521526, 40.05058870292108, 40.28132597063966, 39.936251341547134, 38.16408737324994, 37.254769191681795, 47.95656239648638, 213.99624875865518, 262.6833247802526, 145.89923505909596, 957.0719306610142, 69.55214279486512, 79.10697283398123, 283.10309894985306, 997.1829736425756, 175.8927495485436, 621.9970406502773, 167.0090426948831, 206.66539944691075, 247.43858449705547, 698.2592718537151, 1788.7640539211159, 448.4695308300965, 873.3909061230828, 216.38010205075327, 380.98763317378945, 460.38609065262534, 446.02956184079653, 220.67911157361496, 1044.007868272656, 694.1206921445718, 430.1230702870105, 230.669413607538, 391.7660155485048, 388.5808092578032, 262.20993814298487, 306.63660679917155, 615.7446201151961, 238.27864135732347, 292.6995055533779, 383.0031086971264, 442.81115219456706, 374.7563736264072, 456.0438328183787, 396.68876761849594, 463.3774900860832, 262.3839156205106, 281.0318116833098, 271.13871703200437, 264.08052892838225, 259.1384257955919, 173.653320741956, 173.15079848749613, 140.25317972116093, 137.71341292731444, 94.75880894426362, 89.94682979672876, 89.23423574428617, 110.26578295902836, 82.54773789258911, 77.12949099711163, 61.70484381732699, 53.61262795510582, 53.16215723851197, 51.3660423292896, 49.58885336752708, 49.05507116917948, 155.8122778267119, 48.72962986343354, 48.31954002926226, 47.421236412957654, 45.188938530062245, 44.35351238378241, 43.31092173867787, 42.160952771730976, 42.15495938229031, 41.9846025345701, 39.95367269041346, 37.89764212705589, 37.73579729157632, 419.5182727112127, 2477.0203751249555, 152.86183041062992, 742.8980390542192, 656.4757782955311, 112.79768294338854, 238.9220728271067, 372.11501387540136, 760.6727582357308, 108.3388499523993, 145.47711434938557, 364.708521573405, 174.71095575329167, 530.1012777666027, 81.08885932099074, 192.57914382537993, 104.06561769589182, 144.77658481109592, 280.62441340813115, 254.91437405425253, 290.20158543439817, 453.00268913112944, 363.66890041567575, 559.9800628072502, 564.1298410877476, 196.64415956572032, 175.8057585891569, 503.2212085633519, 327.2391671076029, 268.03378693697147, 413.853257787204, 231.51093713821987, 407.94201898156524, 249.09614809226375, 337.2801803171796, 249.49829856402852, 201.66793105191604, 185.58705307395314, 204.91501831861646, 193.51503447232955, 136.42040931011405, 111.42199511075135, 112.0985206279676, 93.10595456880148, 88.78730781845098, 78.76133921359072, 78.59139842485595, 74.92059091711528, 66.14224399779665, 64.14133361120328, 54.23877229389359, 53.63703922450763, 52.58270551649714, 51.80197733300555, 50.27720581456828, 48.426016063105216, 47.00790057617427, 46.79700668667822, 43.480936687262684, 43.48701982646243, 41.07626170682686, 41.026402588633886, 39.8339690523197, 39.76929422237329, 39.13780907217402, 38.80944775377574, 35.62925799096415, 77.69240597150083, 421.4856530967668, 58.05394626879125, 156.7479981911752, 467.4128513160854, 284.39196596193483, 245.19469043354246, 174.54694173681992, 834.2254211170354, 468.2511380621372, 239.62297733669715, 69.73653466370249, 112.98380339487832, 73.23179081795887, 81.03082270954685, 139.95646271611088, 109.45186239207604, 111.0277775262811, 119.34693792899859, 94.90716705845902, 88.13627115722046, 94.9026222999164, 83.72699066018149, 84.11414979222494, 85.31889288749002, 2061.913899259451, 155.00154444245715, 153.0091647080263, 146.4861231990237, 142.07247875314818, 121.75494329479393, 114.63832354911189, 108.59706091307157, 93.2965293415868, 90.40527081876776, 89.25096966862375, 80.31969844053889, 70.71996721028935, 67.61116121219825, 65.50247343518522, 64.85635346559296, 139.5609809438889, 57.89839060754266, 57.7891803861441, 51.997164858628565, 49.08919099172228, 46.82033351403698, 46.748179772067466, 49.44639839087114, 43.99336210537666, 45.214008787423076, 43.385379904534226, 39.81660186145696, 66.33925744831278, 45.00038470597089, 208.1090297521135, 123.73948616167051, 108.17272925530764, 87.19253208477035, 328.16238077908173, 265.3431416735347, 76.2128326391134, 115.51733240622009, 72.13655542136331, 162.40314840471996, 260.88279346507, 306.17290418849626, 194.26832804444828, 211.14663929648697, 142.20836408448776, 89.73217317662639, 146.68741165414204, 78.9337136932686, 138.45045713110812, 149.1624233888892, 102.88971827544134, 128.9109259397865, 100.3251876890364, 103.51492174473213, 166.38229973127625, 112.91074911691953, 105.33236600880747, 78.22213723711579, 74.27660942677079, 64.62104514335974, 55.31280464982173, 54.06889470097883, 49.42525742722594, 49.192300926518115, 47.81573641551196, 44.5938210749885, 41.16747849188595, 70.26600561859541, 47.43778399227751, 38.15462245916245, 136.1714281380203, 34.41541735380307, 33.2840024036309, 32.950832017644345, 32.6692817001547, 32.542700496142466, 31.49178940285047, 30.57792163186597, 30.54092303987916, 30.16770695546986, 29.743387536202597, 29.48312757151403, 28.95559582154742, 28.479440835001085, 202.74553642691882, 229.50679620298118, 114.82527737270188, 53.63974162085577, 48.310456738001065, 44.28487460586986, 54.20648951479336, 35.11397635230493, 158.91415931198264, 61.62954666198229, 97.94702346568802, 62.647840971858095, 119.04756123193124, 120.56542342829918, 623.6579616576507, 190.50255473340403, 169.5227426289954, 93.50207606908806, 225.01074083714084, 74.2870506903452, 66.29816325693626, 95.15697695338109, 74.91233546852972, 210.9401070205405, 135.2337998884091, 89.66714316062485, 124.5349851458332, 100.069561341654, 100.71558498113255, 100.46930463099001, 94.94135767727686, 86.12395389376663, 80.33182860503548, 216.93256146358792, 216.04968159355357, 157.57224199227173, 158.94874675926582, 109.71754159012588, 83.74487060897025, 65.79213581442241, 66.90698157720958, 63.92807314688649, 62.955230271272455, 59.32947890619175, 63.92444613815838, 55.382695503118576, 54.00220762108489, 50.898587243379744, 49.151683552322986, 48.563439889488926, 48.105794919112, 46.33690056422738, 43.662291571631094, 43.532923863954416, 42.139277633892576, 42.133914057349195, 41.33948484016427, 41.05302588900553, 39.943007345107404, 36.91518485525836, 35.99760220535091, 33.361569198311926, 36.54549154925735, 109.57853703016798, 77.01109369922008, 89.64338038144412, 408.66095574445404, 136.61863887819246, 383.2539926119019, 66.49824187361017, 355.09299998654336, 301.80880380602287, 96.53485523431814, 152.02850203352304, 212.90368896115572, 193.15160612752982, 85.33368507959794, 113.74704717044517, 142.28814151776078, 102.4865523420558, 219.77249610857262, 90.56983711270634, 82.20250822830762, 120.07026427767056, 116.385663047336, 125.01542030142942, 119.05163316459806, 75.04775210914102, 98.14548451380506, 86.26442387934642, 749.9911806323604, 617.2658759191783, 96.36859628413781, 88.34444505692234, 86.74161153566371, 214.46632944856015, 75.35882809631134, 225.1060266740525, 66.72836026827359, 59.41438184254658, 56.546642387456, 56.070613752125865, 53.568325340254994, 52.0606444599134, 48.76360074288279, 41.45721706137366, 34.717883355001085, 33.893479007518344, 31.954631568881155, 29.542810089051066, 28.899810531165098, 26.504749718535148, 25.62373584298411, 24.9588147023655, 24.546742033140813, 24.113815925874782, 23.739779054284732, 23.4921171852696, 22.149844611001576, 21.747376681716478, 203.8318209660171, 52.70940429307849, 1070.276699540102, 119.31620584245537, 173.40739550109782, 41.73726362184102, 42.50899495044843, 408.2893050092491, 999.360111828689, 112.64394477287065, 74.16484354506878, 198.39280251107857, 49.29018109169931, 186.00619424352212, 118.9570866068446, 110.17820446212049, 59.47347443242231, 145.61621427154498, 70.57658377057845, 67.79442860616422, 161.79236872221213, 114.27696033851268, 57.584605034371165, 60.67583717669441, 62.07844173117135, 204.49821086557736, 177.25235660269087, 125.67721145537844, 98.24337554231496, 93.63901783892649, 92.83632667766605, 78.3351110021543, 74.79778737367431, 74.19089758832537, 72.6364607454614, 69.2238037813267, 68.78640169326073, 65.53338238628066, 65.49159007316476, 65.44673553668922, 59.763657724389674, 59.689219563991294, 54.76653804676852, 51.57695433835641, 51.25439232698389, 48.55081763935265, 47.82272880582605, 47.00349359757455, 45.31565571804742, 43.95516750545177, 43.18202646457631, 42.31146718669015, 42.26983904090971, 40.669797182322334, 40.43934309721106, 96.32565983852761, 59.4232215755734, 371.05232497286073, 95.73034887586013, 118.48897380368685, 120.80129417628872, 83.79645570024532, 161.90734762568252, 55.10930269146546, 87.39680618413148, 330.2788142387654, 172.21433580606063, 112.30458255451589, 66.52819623499654, 80.20622998549787, 74.49620862805817, 71.71416865477882, 83.21097467558346, 67.04323272097191, 344.86820360839533, 310.4531335564934, 179.44753450463605, 183.6669480720352, 151.9735661099868, 131.19814208439783, 123.04801098121675, 114.88337337355273, 113.1694251282077, 102.07008847883432, 93.85487365884933, 71.99207808644734, 68.50185932956167, 67.44623261302438, 56.673304166236086, 54.85205045390709, 53.016758380009456, 52.60077488258618, 51.88773396554508, 47.82264756164622, 46.80135823899221, 46.62173950640158, 82.85420257305465, 46.43943043351877, 45.327976192988984, 42.98592830317567, 39.04040204406743, 35.60965225194416, 34.80252349792284, 34.02323739558167, 146.1242448391449, 456.73734105168893, 60.35385561000369, 276.42291253528543, 94.09481171706564, 138.84829655513076, 115.02532141619322, 72.49613763621117, 135.2987540170447, 80.38310131125232, 165.05288654892755, 113.23035481737986, 134.84425243173786, 102.34927943153383, 71.96562504886083, 67.62193435237022, 72.1792345125438], \"Total\": [12081.0, 2071.0, 2601.0, 3595.0, 1381.0, 1234.0, 1221.0, 750.0, 618.0, 2273.0, 2663.0, 536.0, 769.0, 2511.0, 1344.0, 773.0, 1570.0, 948.0, 647.0, 1184.0, 524.0, 3392.0, 1233.0, 716.0, 2069.0, 1621.0, 400.0, 2772.0, 448.0, 441.0, 2273.40457380843, 1027.7583070179803, 577.1229656980443, 435.2755267366607, 952.1173352245255, 401.1098365452889, 942.0305947520685, 254.11133729230087, 245.14387815742134, 250.4389872746294, 237.55942922072904, 227.2827324210517, 215.32297757087454, 194.91369448058856, 366.90186581987246, 160.12966064973108, 146.41053889942114, 132.66314772186684, 138.52285561904864, 124.93042468385667, 120.58214099234297, 119.93969105678785, 113.20134688159514, 112.00919993449355, 110.16829120876199, 236.07500379077882, 96.07777425182563, 12081.098681372876, 92.62997343230465, 91.78227144008918, 1500.2143812469913, 2069.726596583568, 1107.9789048038665, 2511.310322291442, 311.2153038448162, 335.629647982334, 317.5998548242014, 723.8105702951767, 627.9441886855417, 436.2116867681377, 735.7575921327168, 1432.006871881153, 982.3016226262265, 3041.49768242088, 2059.665002680449, 937.4151111649542, 1747.0037402243254, 3466.3059170622496, 909.7458823664335, 617.3022038583465, 3392.341581881738, 1376.8262464181746, 999.9231063286884, 1529.7803322384948, 2798.3943015900636, 1075.7558180049682, 2663.83368350617, 847.0615279763954, 879.7237108638111, 994.4069902479991, 2387.174481463648, 1212.1714892156467, 1841.5174411367657, 3210.066105143424, 1347.46714069759, 1638.654326822084, 1306.652210295426, 2772.794316872373, 2212.2511613829897, 1621.5368834271787, 3595.5689125006024, 1460.7348572586961, 1819.586568924627, 551.9347416586174, 175.13264918114857, 162.89987689577217, 150.11904549957322, 139.23359220132673, 121.0420309411194, 112.80633001868691, 124.74172348617797, 112.84603095055317, 84.16334794671666, 80.89490975451042, 77.97799457322748, 67.86462427161071, 66.17878619424141, 62.988353041282664, 55.104067181639934, 54.35408273873795, 53.913365951826655, 53.00709003478386, 46.61640567643559, 46.61141144882545, 45.78141330821081, 44.48891096799319, 44.353403632015336, 41.53714222372986, 40.87656867182368, 41.11515148358883, 40.764004554454196, 38.9904512663023, 38.08050242880202, 49.13609586050101, 224.96743361893692, 278.68273124956073, 154.5999255576024, 1184.7888506951792, 73.0993071171101, 84.24998411896382, 334.2715207862442, 1344.7570431777242, 206.29909732972212, 930.3140380076806, 205.84305237248742, 264.37716199692335, 329.1353362855609, 1129.2443828933926, 3595.5689125006024, 690.6461301183309, 1570.7855041848902, 287.8829167076874, 586.1553535822811, 758.2868735193586, 816.1827315615142, 318.8431329180192, 2772.794316872373, 1819.586568924627, 957.0172931260192, 362.55722488104243, 909.8209840426676, 898.0391053982879, 463.3545577439907, 636.0712716661478, 3210.066105143424, 409.2056312016667, 681.0118271392904, 1460.7348572586961, 2212.2511613829897, 1401.7971851738093, 2798.3943015900636, 1841.5174411367657, 3466.3059170622496, 622.1568396360115, 1381.6341135771322, 1777.6029096665811, 1636.0948480775598, 259.96082488565077, 174.47589029882326, 174.07742900995143, 141.07848604575815, 138.53619569840257, 95.5811945120544, 90.76993563882873, 90.06993721283301, 111.34537425388544, 83.37020202635517, 77.95189437811086, 62.52727820707761, 54.43518980579306, 53.984592385641115, 52.18842427962786, 50.41259209879461, 49.87753974550895, 158.44252672333863, 49.552329918652184, 49.1421409539618, 48.24361813451947, 46.01159229481391, 45.17589971682689, 44.13334775278332, 42.983356489014085, 42.97736343051433, 42.80724684595068, 40.77620214689249, 38.72266149397769, 38.55854595055909, 429.19097041688497, 2601.3751489366596, 156.6915497636427, 773.9029062415339, 716.8665613065285, 118.47214012455967, 268.1335425381258, 438.5816411260545, 948.14377573367, 120.18540084245433, 170.8821615452021, 495.8648300031739, 215.2385283616639, 803.506668463313, 89.84767705397802, 252.77094571727304, 123.51401715613662, 187.4544275593987, 445.03518944342153, 394.2070964212451, 519.4787066116756, 1061.0130246698798, 769.0463088106047, 1636.0948480775598, 1777.6029096665811, 339.9845967959854, 281.12374389464253, 2212.2511613829897, 1006.8031740193817, 719.2200737781535, 2387.174481463648, 587.4221376151909, 3210.066105143424, 883.1008204002376, 2663.83368350617, 3392.341581881738, 713.4363125595514, 477.0320388625246, 205.74284419941156, 194.3427712189252, 137.2482867745111, 112.24979566930615, 112.93428200467977, 93.9337879048283, 89.61521255253389, 79.58908149507934, 79.43826447224752, 75.74857248274925, 66.97001634804315, 64.96920395296948, 55.066549769760776, 54.464966620243345, 53.41050841288668, 52.629829189083225, 51.11956121837428, 49.253945577911296, 47.83578174100562, 47.62501107387195, 44.30868135695319, 44.314917722933, 41.904005340779655, 41.85427801073582, 40.66173917682547, 40.59704296348746, 39.96565973542821, 39.63723881973776, 36.45701700287228, 79.59793120671517, 441.00150477298916, 59.65707533463558, 165.11956830749583, 524.3866700849004, 317.9575858741557, 276.6611460223301, 195.72135883809648, 1221.270913264407, 647.5524795612325, 304.7429439663068, 75.40819092036412, 136.4399527133712, 81.84616448589203, 97.35801590871681, 263.96230470932187, 216.67092336109613, 288.7045956626372, 452.5676293688457, 334.20943484092084, 515.6806172038877, 1636.0948480775598, 514.2803697256472, 586.1553535822811, 866.0786050123379, 2071.9249686245553, 155.83200974228666, 153.83587133798494, 147.3133264143326, 142.90547005785805, 122.59115243435173, 115.46520916503349, 109.42380986417996, 94.1232714066448, 91.23198375757154, 90.07810756416241, 81.2070508502181, 71.54692683113237, 68.43827124770542, 66.32918955189432, 65.68314965270068, 141.49422042374474, 58.72509086285275, 58.615876828826906, 52.826095699478074, 49.91594736795461, 47.64705671817351, 47.575009083949574, 50.33435098707288, 44.82029100524529, 46.06804884021438, 44.212127005774505, 40.64366501995237, 67.93081743539308, 46.111494736727415, 214.52831197831773, 131.38077709668204, 116.12148876772963, 93.67832571696036, 401.37666182774166, 326.22082256904673, 82.50420321378768, 138.306226245993, 81.70629983195931, 237.4013233461236, 445.860839353018, 639.1287352592026, 355.41157406578037, 433.8163182187128, 244.04382781705166, 113.97371995274725, 269.83437090008084, 93.23213405007695, 519.4787066116756, 1061.0130246698798, 266.4426966488595, 1184.7888506951792, 242.04043403474907, 1636.0948480775598, 167.20922442800872, 113.73755085732252, 106.20396587392722, 79.04892939577623, 75.10342995032822, 65.44809484073066, 56.13995537665613, 54.8958868068254, 50.25203144975715, 50.019148303913695, 48.64249791297122, 45.4205939846782, 41.99469422231003, 71.7729156263686, 48.45755618019879, 38.981383641567426, 139.17124698029357, 35.24232624672704, 34.1111659199185, 33.777715946440054, 33.496250752597824, 33.369546767224335, 32.318628684324956, 31.404781941483638, 31.3676846883075, 30.99447220217049, 30.570263982940403, 30.31001844546208, 29.78248348860799, 29.31578894826852, 215.16483981774684, 258.2383051301085, 127.20181456190672, 57.24868241722652, 51.97143093280911, 47.51292622823439, 60.04693830377449, 37.01841951696322, 266.4426966488595, 78.9621513051276, 154.85647174904318, 88.01084251464812, 234.8691459920194, 244.07571429455277, 3595.5689125006024, 529.6294537591247, 485.2142090363077, 175.47203673263633, 1233.1234727244635, 126.60646085374043, 100.50309511900501, 244.89052486361732, 153.56608556996153, 2663.83368350617, 986.1889891296612, 309.732651373718, 1129.2443828933926, 648.0256390356274, 960.1197344458087, 2387.174481463648, 1621.5368834271787, 771.8646289743295, 1401.7971851738093, 217.7554033537849, 216.87222330775748, 158.39564021856788, 160.0402207141043, 110.54009545863694, 84.56838624668102, 66.61469450812154, 67.74683360927051, 64.76276358215486, 63.78266856302063, 60.15194326154189, 64.85885058106055, 56.205144573300544, 54.82986954976594, 51.72105395424372, 49.97417196293847, 49.385997003258446, 48.92843400738132, 47.159687546351975, 44.48487703610394, 44.35538692668104, 42.96171776711037, 42.956378992248716, 42.1619726093578, 41.87569651748211, 40.7656209356685, 37.737649898444076, 36.82012773609158, 34.184429886414065, 37.47825913030577, 112.71576213914139, 79.09664944587927, 92.43505091639952, 448.10730945945636, 152.4887824566439, 473.76757758818565, 71.7889921230809, 488.7308614232005, 483.0349389416135, 123.20897666010416, 225.7696091472252, 433.8163182187128, 477.0320388625246, 125.87902934587551, 204.52791716986633, 300.62678959027227, 173.22255814629364, 1621.5368834271787, 237.8555820665974, 191.4137649591699, 1636.0948480775598, 1777.6029096665811, 3392.341581881738, 3210.066105143424, 158.4916835025205, 2772.794316872373, 758.2868735193586, 750.8150634438141, 618.0895159847665, 97.19223339312141, 89.16812093391538, 87.56723822310018, 216.75256300148584, 76.18348078454255, 227.81682617087247, 67.55202261183187, 60.24058473479542, 57.370274268658264, 56.894530382234834, 54.3920911423152, 52.88425115261363, 49.587265450179764, 42.281156659018116, 35.54154397758477, 34.71806917058473, 32.778254636086224, 30.366745621976065, 29.723499418557534, 27.32840235585605, 26.451150462797983, 25.79163814258643, 25.370591078790476, 24.937491582000995, 24.563372202754078, 24.31634812155609, 22.973583364571425, 22.57115800940966, 213.5823414504903, 55.343110110456706, 1234.3875711772237, 129.05795896319944, 193.07101215794586, 44.25588322707692, 45.36584974435687, 508.65435301722096, 1381.6341135771322, 131.16349862635272, 85.30661926805554, 277.73888972645966, 55.47480355284423, 304.0609431085765, 187.40358117073725, 208.10715848979908, 86.86227162611827, 647.5524795612325, 139.18562522809245, 135.11085057411546, 3392.341581881738, 1061.0130246698798, 82.48482022638474, 262.8632014018094, 661.8685173673957, 205.3271350667991, 178.08001782993128, 126.5117305495693, 99.07117840228855, 94.46668457222421, 93.6641161317875, 79.16277715942661, 75.62555516838492, 75.01868308887218, 73.46425026573438, 70.05146187530387, 69.61406147745979, 66.3610372798257, 66.31924869303698, 66.27451895047805, 60.59131712211281, 60.516915175708846, 55.594390809369244, 52.40462662818979, 52.08222250040532, 49.37849631746598, 48.65040691917796, 47.83117284424718, 46.14336689933211, 44.78282406794059, 44.00970330747161, 43.139124585549496, 43.099416900133434, 41.497478623707984, 41.26728235009153, 99.57380784500401, 61.09714260169812, 400.5251274885878, 101.58213653735649, 127.67794272064282, 137.97040824385155, 93.58202136656145, 212.9944607164409, 58.11327516800163, 112.95399824583721, 769.0463088106047, 314.9386093512445, 339.9845967959854, 95.10586600528447, 238.57872117633073, 207.84162878511938, 172.05141626529021, 445.860839353018, 132.88193476984966, 345.69880586339787, 311.2835775381169, 180.2794355814786, 184.5842452093704, 152.80405790038057, 132.03004733864913, 123.87854685103022, 115.71390753680618, 113.99979503356397, 102.9004706850294, 94.68541568375049, 72.82245163350967, 69.33232292686891, 68.27660252985328, 57.50379348442605, 55.682626776421245, 53.847142314862126, 53.43131403368219, 52.718173413510776, 48.65305924376051, 47.63180578933639, 47.45254469549698, 84.3323525484393, 47.2699629177524, 46.158347958832955, 43.816327579610466, 39.87079644728404, 36.44024574341726, 35.63302840372407, 34.85380610616961, 155.64424651523348, 536.1300253701611, 63.64635953454508, 323.42579639735663, 103.50010554342626, 159.78088247457123, 137.11384301653507, 80.51413470044231, 173.34655702243674, 96.73941452042313, 343.02745740162254, 384.53297298190313, 639.1287352592026, 314.9386093512445, 237.8555820665974, 205.65928152670278, 1221.270913264407], \"Category\": [\"Default\", \"Default\", \"Default\", \"Default\", \"Default\", \"Default\", \"Default\", \"Default\", \"Default\", \"Default\", \"Default\", \"Default\", \"Default\", \"Default\", \"Default\", \"Default\", \"Default\", \"Default\", \"Default\", \"Default\", \"Default\", \"Default\", \"Default\", \"Default\", \"Default\", \"Default\", \"Default\", \"Default\", \"Default\", \"Default\", \"Topic1\", \"Topic1\", \"Topic1\", \"Topic1\", \"Topic1\", \"Topic1\", \"Topic1\", \"Topic1\", \"Topic1\", \"Topic1\", \"Topic1\", \"Topic1\", \"Topic1\", \"Topic1\", \"Topic1\", \"Topic1\", \"Topic1\", \"Topic1\", \"Topic1\", \"Topic1\", \"Topic1\", \"Topic1\", \"Topic1\", \"Topic1\", \"Topic1\", \"Topic1\", \"Topic1\", \"Topic1\", \"Topic1\", \"Topic1\", \"Topic1\", \"Topic1\", \"Topic1\", \"Topic1\", \"Topic1\", \"Topic1\", \"Topic1\", \"Topic1\", \"Topic1\", \"Topic1\", \"Topic1\", \"Topic1\", \"Topic1\", \"Topic1\", \"Topic1\", \"Topic1\", \"Topic1\", \"Topic1\", \"Topic1\", \"Topic1\", \"Topic1\", \"Topic1\", \"Topic1\", \"Topic1\", \"Topic1\", \"Topic1\", \"Topic1\", \"Topic1\", \"Topic1\", \"Topic1\", \"Topic1\", \"Topic1\", \"Topic1\", \"Topic1\", \"Topic1\", \"Topic1\", \"Topic1\", \"Topic1\", \"Topic1\", \"Topic1\", \"Topic1\", \"Topic1\", \"Topic1\", \"Topic2\", \"Topic2\", \"Topic2\", \"Topic2\", \"Topic2\", \"Topic2\", \"Topic2\", \"Topic2\", \"Topic2\", \"Topic2\", \"Topic2\", \"Topic2\", \"Topic2\", \"Topic2\", \"Topic2\", \"Topic2\", \"Topic2\", \"Topic2\", \"Topic2\", \"Topic2\", \"Topic2\", \"Topic2\", \"Topic2\", \"Topic2\", \"Topic2\", \"Topic2\", \"Topic2\", \"Topic2\", \"Topic2\", \"Topic2\", \"Topic2\", \"Topic2\", \"Topic2\", \"Topic2\", \"Topic2\", \"Topic2\", \"Topic2\", \"Topic2\", \"Topic2\", \"Topic2\", \"Topic2\", \"Topic2\", \"Topic2\", \"Topic2\", \"Topic2\", \"Topic2\", \"Topic2\", \"Topic2\", \"Topic2\", \"Topic2\", \"Topic2\", \"Topic2\", \"Topic2\", \"Topic2\", \"Topic2\", \"Topic2\", \"Topic2\", \"Topic2\", \"Topic2\", \"Topic2\", \"Topic2\", \"Topic2\", \"Topic2\", \"Topic2\", \"Topic2\", \"Topic2\", \"Topic2\", \"Topic2\", \"Topic2\", \"Topic2\", \"Topic2\", \"Topic2\", \"Topic2\", \"Topic2\", \"Topic3\", \"Topic3\", \"Topic3\", \"Topic3\", \"Topic3\", \"Topic3\", \"Topic3\", \"Topic3\", \"Topic3\", \"Topic3\", \"Topic3\", \"Topic3\", \"Topic3\", \"Topic3\", \"Topic3\", \"Topic3\", \"Topic3\", \"Topic3\", \"Topic3\", \"Topic3\", \"Topic3\", \"Topic3\", \"Topic3\", \"Topic3\", \"Topic3\", \"Topic3\", \"Topic3\", \"Topic3\", \"Topic3\", \"Topic3\", \"Topic3\", \"Topic3\", \"Topic3\", \"Topic3\", \"Topic3\", \"Topic3\", \"Topic3\", \"Topic3\", \"Topic3\", \"Topic3\", \"Topic3\", \"Topic3\", \"Topic3\", \"Topic3\", \"Topic3\", \"Topic3\", \"Topic3\", \"Topic3\", \"Topic3\", \"Topic3\", \"Topic3\", \"Topic3\", \"Topic3\", \"Topic3\", \"Topic3\", \"Topic3\", \"Topic3\", \"Topic3\", \"Topic3\", \"Topic3\", \"Topic3\", \"Topic3\", \"Topic3\", \"Topic3\", \"Topic3\", \"Topic3\", \"Topic3\", \"Topic3\", \"Topic4\", \"Topic4\", \"Topic4\", \"Topic4\", \"Topic4\", \"Topic4\", \"Topic4\", \"Topic4\", \"Topic4\", \"Topic4\", \"Topic4\", \"Topic4\", \"Topic4\", \"Topic4\", \"Topic4\", \"Topic4\", \"Topic4\", \"Topic4\", \"Topic4\", \"Topic4\", \"Topic4\", \"Topic4\", \"Topic4\", \"Topic4\", \"Topic4\", \"Topic4\", \"Topic4\", \"Topic4\", \"Topic4\", \"Topic4\", \"Topic4\", \"Topic4\", \"Topic4\", \"Topic4\", \"Topic4\", \"Topic4\", \"Topic4\", \"Topic4\", \"Topic4\", \"Topic4\", \"Topic4\", \"Topic4\", \"Topic4\", \"Topic4\", \"Topic4\", \"Topic4\", \"Topic4\", \"Topic4\", \"Topic4\", \"Topic4\", \"Topic4\", \"Topic4\", \"Topic4\", \"Topic4\", \"Topic5\", \"Topic5\", \"Topic5\", \"Topic5\", \"Topic5\", \"Topic5\", \"Topic5\", \"Topic5\", \"Topic5\", \"Topic5\", \"Topic5\", \"Topic5\", \"Topic5\", \"Topic5\", \"Topic5\", \"Topic5\", \"Topic5\", \"Topic5\", \"Topic5\", \"Topic5\", \"Topic5\", \"Topic5\", \"Topic5\", \"Topic5\", \"Topic5\", \"Topic5\", \"Topic5\", \"Topic5\", \"Topic5\", \"Topic5\", \"Topic5\", \"Topic5\", \"Topic5\", \"Topic5\", \"Topic5\", \"Topic5\", \"Topic5\", \"Topic5\", \"Topic5\", \"Topic5\", \"Topic5\", \"Topic5\", \"Topic5\", \"Topic5\", \"Topic5\", \"Topic5\", \"Topic5\", \"Topic5\", \"Topic5\", \"Topic5\", \"Topic5\", \"Topic5\", \"Topic5\", \"Topic5\", \"Topic6\", \"Topic6\", \"Topic6\", \"Topic6\", \"Topic6\", \"Topic6\", \"Topic6\", \"Topic6\", \"Topic6\", \"Topic6\", \"Topic6\", \"Topic6\", \"Topic6\", \"Topic6\", \"Topic6\", \"Topic6\", \"Topic6\", \"Topic6\", \"Topic6\", \"Topic6\", \"Topic6\", \"Topic6\", \"Topic6\", \"Topic6\", \"Topic6\", \"Topic6\", \"Topic6\", \"Topic6\", \"Topic6\", \"Topic6\", \"Topic6\", \"Topic6\", \"Topic6\", \"Topic6\", \"Topic6\", \"Topic6\", \"Topic6\", \"Topic6\", \"Topic6\", \"Topic6\", \"Topic6\", \"Topic6\", \"Topic6\", \"Topic6\", \"Topic6\", \"Topic6\", \"Topic6\", \"Topic6\", \"Topic6\", \"Topic6\", \"Topic6\", \"Topic6\", \"Topic6\", \"Topic6\", \"Topic6\", \"Topic6\", \"Topic6\", \"Topic6\", \"Topic6\", \"Topic6\", \"Topic6\", \"Topic6\", \"Topic6\", \"Topic7\", \"Topic7\", \"Topic7\", \"Topic7\", \"Topic7\", \"Topic7\", \"Topic7\", \"Topic7\", \"Topic7\", \"Topic7\", \"Topic7\", \"Topic7\", \"Topic7\", \"Topic7\", \"Topic7\", \"Topic7\", \"Topic7\", \"Topic7\", \"Topic7\", \"Topic7\", \"Topic7\", \"Topic7\", \"Topic7\", \"Topic7\", \"Topic7\", \"Topic7\", \"Topic7\", \"Topic7\", \"Topic7\", \"Topic7\", \"Topic7\", \"Topic7\", \"Topic7\", \"Topic7\", \"Topic7\", \"Topic7\", \"Topic7\", \"Topic7\", \"Topic7\", \"Topic7\", \"Topic7\", \"Topic7\", \"Topic7\", \"Topic7\", \"Topic7\", \"Topic7\", \"Topic7\", \"Topic7\", \"Topic7\", \"Topic7\", \"Topic7\", \"Topic7\", \"Topic7\", \"Topic7\", \"Topic7\", \"Topic7\", \"Topic7\", \"Topic8\", \"Topic8\", \"Topic8\", \"Topic8\", \"Topic8\", \"Topic8\", \"Topic8\", \"Topic8\", \"Topic8\", \"Topic8\", \"Topic8\", \"Topic8\", \"Topic8\", \"Topic8\", \"Topic8\", \"Topic8\", \"Topic8\", \"Topic8\", \"Topic8\", \"Topic8\", \"Topic8\", \"Topic8\", \"Topic8\", \"Topic8\", \"Topic8\", \"Topic8\", \"Topic8\", \"Topic8\", \"Topic8\", \"Topic8\", \"Topic8\", \"Topic8\", \"Topic8\", \"Topic8\", \"Topic8\", \"Topic8\", \"Topic8\", \"Topic8\", \"Topic8\", \"Topic8\", \"Topic8\", \"Topic8\", \"Topic8\", \"Topic8\", \"Topic8\", \"Topic8\", \"Topic8\", \"Topic8\", \"Topic8\", \"Topic8\", \"Topic8\", \"Topic8\", \"Topic8\", \"Topic8\", \"Topic8\", \"Topic9\", \"Topic9\", \"Topic9\", \"Topic9\", \"Topic9\", \"Topic9\", \"Topic9\", \"Topic9\", \"Topic9\", \"Topic9\", \"Topic9\", \"Topic9\", \"Topic9\", \"Topic9\", \"Topic9\", \"Topic9\", \"Topic9\", \"Topic9\", \"Topic9\", \"Topic9\", \"Topic9\", \"Topic9\", \"Topic9\", \"Topic9\", \"Topic9\", \"Topic9\", \"Topic9\", \"Topic9\", \"Topic9\", \"Topic9\", \"Topic9\", \"Topic9\", \"Topic9\", \"Topic9\", \"Topic9\", \"Topic9\", \"Topic9\", \"Topic9\", \"Topic9\", \"Topic9\", \"Topic9\", \"Topic9\", \"Topic9\", \"Topic9\", \"Topic9\", \"Topic9\", \"Topic9\", \"Topic9\", \"Topic9\", \"Topic10\", \"Topic10\", \"Topic10\", \"Topic10\", \"Topic10\", \"Topic10\", \"Topic10\", \"Topic10\", \"Topic10\", \"Topic10\", \"Topic10\", \"Topic10\", \"Topic10\", \"Topic10\", \"Topic10\", \"Topic10\", \"Topic10\", \"Topic10\", \"Topic10\", \"Topic10\", \"Topic10\", \"Topic10\", \"Topic10\", \"Topic10\", \"Topic10\", \"Topic10\", \"Topic10\", \"Topic10\", \"Topic10\", \"Topic10\", \"Topic10\", \"Topic10\", \"Topic10\", \"Topic10\", \"Topic10\", \"Topic10\", \"Topic10\", \"Topic10\", \"Topic10\", \"Topic10\", \"Topic10\", \"Topic10\", \"Topic10\", \"Topic10\", \"Topic10\", \"Topic10\", \"Topic10\"], \"logprob\": [30.0, 29.0, 28.0, 27.0, 26.0, 25.0, 24.0, 23.0, 22.0, 21.0, 20.0, 19.0, 18.0, 17.0, 16.0, 15.0, 14.0, 13.0, 12.0, 11.0, 10.0, 9.0, 8.0, 7.0, 6.0, 5.0, 4.0, 3.0, 2.0, 1.0, -4.396900177001953, -5.191699981689453, -5.768899917602539, -6.051400184631348, -5.269000053405762, -6.133399963378906, -5.280600070953369, -6.59089994430542, -6.626999855041504, -6.605599880218506, -6.6585001945495605, -6.703000068664551, -6.757199764251709, -6.857100009918213, -6.224899768829346, -7.054599761962891, -7.144700050354004, -7.243899822235107, -7.201099872589111, -7.3043999671936035, -7.340000152587891, -7.345600128173828, -7.403600215911865, -7.4141998291015625, -7.431099891662598, -6.669300079345703, -7.568900108337402, -2.7348999977111816, -7.6057000160217285, -7.614999771118164, -4.821700096130371, -4.504899978637695, -5.125500202178955, -4.320300102233887, -6.395100116729736, -6.321400165557861, -6.379300117492676, -5.566800117492676, -5.707799911499023, -6.067299842834473, -5.558899879455566, -4.907599925994873, -5.278299808502197, -4.188799858093262, -4.577300071716309, -5.333700180053711, -4.749899864196777, -4.139400005340576, -5.41379976272583, -5.771100044250488, -4.219299793243408, -5.047699928283691, -5.338900089263916, -4.9730000495910645, -4.4532999992370605, -5.285799980163574, -4.503699779510498, -5.497799873352051, -5.475299835205078, -5.37939977645874, -4.712299823760986, -5.2322001457214355, -4.923799991607666, -4.528800010681152, -5.163099765777588, -5.0416998863220215, -5.23799991607666, -4.916200160980225, -5.0578999519348145, -5.182300090789795, -5.131400108337402, -5.234099864959717, -5.233699798583984, -4.725599765777588, -5.876699924468994, -5.94950008392334, -6.031700134277344, -6.1072998046875, -6.248300075531006, -6.319200038909912, -6.219099998474121, -6.319399833679199, -6.614699840545654, -6.654699802398682, -6.691800117492676, -6.832300186157227, -6.857800006866455, -6.908100128173828, -7.043399810791016, -7.057300090789795, -7.0655999183654785, -7.082799911499023, -7.213500022888184, -7.213600158691406, -7.231900215148926, -7.261099815368652, -7.264200210571289, -7.330999851226807, -7.347400188446045, -7.341700077056885, -7.350299835205078, -7.395699977874756, -7.4197998046875, -7.167300224304199, -5.671599864959717, -5.466599941253662, -6.054599761962891, -4.173699855804443, -6.795499801635742, -6.666800022125244, -5.39169979095459, -4.132599830627441, -5.867700099945068, -4.604599952697754, -5.91949987411499, -5.706500053405762, -5.526400089263916, -4.488999843597412, -3.54830002784729, -4.931700229644775, -4.265200138092041, -5.6605000495910645, -5.094799995422363, -4.9054999351501465, -4.93720006942749, -5.6407999992370605, -4.086699962615967, -4.494900226593018, -4.973499774932861, -5.59660005569458, -5.06689977645874, -5.075099945068359, -5.468400001525879, -5.3119001388549805, -4.614699840545654, -5.5640997886657715, -5.358399868011475, -5.0894999504089355, -4.944399833679199, -5.111299991607666, -4.914999961853027, -5.0543999671936035, -4.89900016784668, -5.467700004577637, -5.399099826812744, -5.434899806976318, -5.461299896240234, -5.146200180053711, -5.546500205993652, -5.5493998527526855, -5.760200023651123, -5.77839994430542, -6.152299880981445, -6.204400062561035, -6.212299823760986, -6.000699996948242, -6.290200233459473, -6.358099937438965, -6.581200122833252, -6.721799850463867, -6.730299949645996, -6.764599800109863, -6.799799919128418, -6.810699939727783, -5.65500020980835, -6.817299842834473, -6.825799942016602, -6.8445000648498535, -6.8927998542785645, -6.911399841308594, -6.935200214385986, -6.962100028991699, -6.962299823760986, -6.966300010681152, -7.015900135040283, -7.068699836730957, -7.072999954223633, -4.6645002365112305, -2.8887999057769775, -5.674099922180176, -4.0929999351501465, -4.216700077056885, -5.978000164031982, -5.227499961853027, -4.78439998626709, -4.069399833679199, -6.0183000564575195, -5.723599910736084, -4.804500102996826, -5.540500164031982, -4.430500030517578, -6.30810022354126, -5.4430999755859375, -6.058599948883057, -5.728400230407715, -5.0665998458862305, -5.162700176239014, -5.0329999923706055, -4.587699890136719, -4.807400226593018, -4.375699996948242, -4.368299961090088, -5.4222002029418945, -5.534200191497803, -4.482600212097168, -4.912899971008301, -5.112500190734863, -4.678100109100342, -5.258999824523926, -4.692500114440918, -5.185800075531006, -4.882699966430664, -5.184199810028076, -5.396999835968018, -5.480100154876709, -4.65749979019165, -4.714700222015381, -5.0644001960754395, -5.2667999267578125, -5.260700225830078, -5.446400165557861, -5.493899822235107, -5.613699913024902, -5.615799903869629, -5.663700103759766, -5.788300037384033, -5.818999767303467, -5.986700057983398, -5.997900009155273, -6.0177001953125, -6.032700061798096, -6.0625, -6.100100040435791, -6.129799842834473, -6.134300231933594, -6.207799911499023, -6.207600116729736, -6.264699935913086, -6.265900135040283, -6.295400142669678, -6.296999931335449, -6.313000202178955, -6.321400165557861, -6.406899929046631, -5.627299785614014, -3.936300039291382, -5.918700218200684, -4.92549991607666, -3.832900047302246, -4.329699993133545, -4.478000164031982, -4.81790018081665, -3.2535998821258545, -3.8310999870300293, -4.500999927520752, -5.735400199890137, -5.252900123596191, -5.686500072479248, -5.585299968719482, -5.03879976272583, -5.284599781036377, -5.270299911499023, -5.1981000900268555, -5.427199840545654, -5.501200199127197, -5.427199840545654, -5.552499771118164, -5.547900199890137, -5.533699989318848, -2.335200071334839, -4.9232001304626465, -4.936100006103516, -4.979700088500977, -5.010300159454346, -5.164599895477295, -5.224800109863281, -5.2789998054504395, -5.430799961090088, -5.462299823760986, -5.475200176239014, -5.580599784851074, -5.707900047302246, -5.752799987792969, -5.7845001220703125, -5.794400215148926, -5.02810001373291, -5.907899856567383, -5.909800052642822, -6.015399932861328, -6.072999954223633, -6.120299816131592, -6.121799945831299, -6.065700054168701, -6.182600021362305, -6.155200004577637, -6.196499824523926, -6.282299995422363, -5.7718000411987305, -6.159900188446045, -4.628600120544434, -5.148399829864502, -5.282899856567383, -5.498499870300293, -4.173099994659424, -4.3856000900268555, -5.6331000328063965, -5.217199802398682, -5.6880998611450195, -4.876500129699707, -4.402500152587891, -4.242499828338623, -4.697400093078613, -4.614099979400635, -5.009300231933594, -5.469799995422363, -4.978300094604492, -5.5980000495910645, -5.036099910736084, -4.961599826812744, -5.333000183105469, -5.107500076293945, -5.3582000732421875, -5.326900005340576, -4.78439998626709, -5.172100067138672, -5.241600036621094, -5.539100170135498, -5.59089994430542, -5.730199813842773, -5.885700225830078, -5.908400058746338, -5.998199939727783, -6.002999782562256, -6.031300067901611, -6.101099967956543, -6.181099891662598, -5.646399974822998, -6.039299964904785, -6.2571001052856445, -4.984799861907959, -6.360199928283691, -6.393599987030029, -6.40369987487793, -6.412300109863281, -6.416100025177002, -6.448999881744385, -6.478400230407715, -6.479599952697754, -6.4918999671936035, -6.506100177764893, -6.514900207519531, -6.532899856567383, -6.549499988555908, -4.5868000984191895, -4.462800025939941, -5.155300140380859, -5.916399955749512, -6.021100044250488, -6.108099937438965, -5.905900001525879, -6.340099811553955, -4.8302998542785645, -5.777599811553955, -5.314300060272217, -5.761199951171875, -5.119200229644775, -5.106500148773193, -3.463099956512451, -4.64900016784668, -4.765699863433838, -5.3607001304626465, -4.482600212097168, -5.590799808502197, -5.704500198364258, -5.343200206756592, -5.582399845123291, -4.547100067138672, -4.991700172424316, -5.402599811553955, -5.074100017547607, -5.292799949645996, -5.286399841308594, -5.28879976272583, -5.345399856567383, -5.44290018081665, -5.512499809265137, -4.466400146484375, -4.4704999923706055, -4.786099910736084, -4.777400016784668, -5.148099899291992, -5.4182000160217285, -5.6595001220703125, -5.6427001953125, -5.688199996948242, -5.70359992980957, -5.762899875640869, -5.688300132751465, -5.831699848175049, -5.85699987411499, -5.916100025177002, -5.951099872589111, -5.963099956512451, -5.972599983215332, -6.010000228881836, -6.069499969482422, -6.072500228881836, -6.105000019073486, -6.105100154876709, -6.124199867248535, -6.131100177764893, -6.1585001945495605, -6.237400054931641, -6.262499809265137, -6.338600158691406, -6.247399806976318, -5.1493000984191895, -5.501999855041504, -5.350100040435791, -3.8331000804901123, -4.928800106048584, -3.8973000049591064, -5.648799896240234, -3.973599910736084, -4.136199951171875, -5.276100158691406, -4.821899890899658, -4.485099792480469, -4.582499980926514, -5.399400234222412, -5.111999988555908, -4.8881001472473145, -5.21619987487793, -4.453400135040283, -5.339900016784668, -5.436800003051758, -5.0578999519348145, -5.089099884033203, -5.017499923706055, -5.066400051116943, -5.527900218963623, -5.259500026702881, -5.388599872589111, -3.199399948120117, -3.3940999507904053, -5.251200199127197, -5.338200092315674, -5.356500148773193, -4.451300144195557, -5.497200012207031, -4.4028000831604, -5.618800163269043, -5.734899997711182, -5.78439998626709, -5.792799949645996, -5.838500022888184, -5.867000102996826, -5.932400226593018, -6.094799995422363, -6.272200107574463, -6.296199798583984, -6.355100154876709, -6.433599948883057, -6.455599784851074, -6.542099952697754, -6.575900077819824, -6.602200031280518, -6.618800163269043, -6.636600017547607, -6.652299880981445, -6.662799835205078, -6.72160005569458, -6.7399001121521, -4.502099990844727, -5.854599952697754, -2.8436999320983887, -5.037600040435791, -4.66379976272583, -6.0879998207092285, -6.069699764251709, -3.8073999881744385, -2.9123001098632812, -5.095200061798096, -5.5131001472473145, -4.529200077056885, -5.9217000007629395, -4.593599796295166, -5.0406999588012695, -5.117300033569336, -5.73390007019043, -4.838399887084961, -5.562699794769287, -5.60290002822876, -4.733099937438965, -5.0808000564575195, -5.766200065612793, -5.713900089263916, -5.690999984741211, -4.253699779510498, -4.396699905395508, -4.740499973297119, -4.986800193786621, -5.034800052642822, -5.043399810791016, -5.2133002281188965, -5.259500026702881, -5.267600059509277, -5.28879976272583, -5.336900234222412, -5.343299865722656, -5.39169979095459, -5.392300128936768, -5.39300012588501, -5.48390007019043, -5.485099792480469, -5.571199893951416, -5.631199836730957, -5.637499809265137, -5.691699981689453, -5.7067999839782715, -5.723999977111816, -5.7606000900268555, -5.791100025177002, -5.808800220489502, -5.82919979095459, -5.8302001953125, -5.868800163269043, -5.874499797821045, -5.006499767303467, -5.48960018157959, -3.657900094985962, -5.012700080871582, -4.7993998527526855, -4.780099868774414, -5.145899772644043, -4.487199783325195, -5.564899921417236, -5.103799819946289, -3.7743000984191895, -4.42549991607666, -4.853099822998047, -5.3765997886657715, -5.189700126647949, -5.263500213623047, -5.301599979400635, -5.152900218963623, -5.368899822235107, -3.6082000732421875, -3.7132999897003174, -4.261499881744385, -4.23829984664917, -4.427700042724609, -4.574699878692627, -4.638800144195557, -4.707499980926514, -4.722499847412109, -4.825699806213379, -4.909599781036377, -5.174799919128418, -5.2245001792907715, -5.239999771118164, -5.414100170135498, -5.446700096130371, -5.480800151824951, -5.48859977722168, -5.502299785614014, -5.583899974822998, -5.605500221252441, -5.609300136566162, -5.034299850463867, -5.6132001876831055, -5.637499809265137, -5.690499782562256, -5.786799907684326, -5.878799915313721, -5.901700019836426, -5.924300193786621, -4.466899871826172, -3.3273000717163086, -5.351200103759766, -3.829400062561035, -4.907100200653076, -4.51800012588501, -4.706200122833252, -5.167799949645996, -4.543900012969971, -5.064599990844727, -4.345099925994873, -4.7220001220703125, -4.547299861907959, -4.822999954223633, -5.17519998550415, -5.237400054931641, -5.1722002029418945], \"loglift\": [30.0, 29.0, 28.0, 27.0, 26.0, 25.0, 24.0, 23.0, 22.0, 21.0, 20.0, 19.0, 18.0, 17.0, 16.0, 15.0, 14.0, 13.0, 12.0, 11.0, 10.0, 9.0, 8.0, 7.0, 6.0, 5.0, 4.0, 3.0, 2.0, 1.0, 0.8183, 0.8174, 0.8172, 0.8168, 0.8165, 0.8165, 0.8155, 0.8154, 0.8153, 0.8153, 0.8152, 0.815, 0.8149, 0.8145, 0.8142, 0.8136, 0.8131, 0.8124, 0.8121, 0.812, 0.8118, 0.8115, 0.8114, 0.8114, 0.811, 0.8108, 0.8101, 0.8099, 0.8098, 0.8098, 0.8091, 0.8041, 0.8084, 0.7953, 0.8086, 0.8068, 0.804, 0.7928, 0.7939, 0.7987, 0.7843, 0.7698, 0.7759, 0.7353, 0.7366, 0.7673, 0.7286, 0.6539, 0.7172, 0.7477, 0.5956, 0.6689, 0.6976, 0.6382, 0.5541, 0.6776, 0.5529, 0.7045, 0.6893, 0.6626, 0.454, 0.6118, 0.502, 0.3413, 0.5751, 0.5008, 0.531, 0.1003, 0.1845, 0.3707, -0.3747, 0.4233, 0.2041, 1.9051, 1.9019, 1.9015, 1.901, 1.9007, 1.8998, 1.8993, 1.8988, 1.8988, 1.8967, 1.8963, 1.896, 1.8944, 1.894, 1.8931, 1.8915, 1.8913, 1.8912, 1.8909, 1.8887, 1.8887, 1.8884, 1.8879, 1.8878, 1.8865, 1.8862, 1.8861, 1.8861, 1.8852, 1.8847, 1.8823, 1.8566, 1.8475, 1.8487, 1.6932, 1.8569, 1.8436, 1.7405, 1.6076, 1.7472, 1.504, 1.6975, 1.6603, 1.6213, 1.4259, 1.2084, 1.4748, 1.3197, 1.6211, 1.4758, 1.4076, 1.3024, 1.5386, 0.9298, 0.9429, 1.1069, 1.4544, 1.064, 1.0689, 1.3373, 1.177, 0.2554, 1.3658, 1.0622, 0.568, 0.298, 0.5874, 0.0924, 0.3714, -0.1057, 1.0432, 0.3141, 0.0262, 0.0828, 2.2374, 2.2358, 2.2352, 2.2347, 2.2346, 2.2319, 2.2314, 2.2312, 2.2308, 2.2306, 2.23, 2.2273, 2.2253, 2.2252, 2.2247, 2.2241, 2.2239, 2.2238, 2.2238, 2.2237, 2.2234, 2.2225, 2.2222, 2.2217, 2.2212, 2.2212, 2.2212, 2.2202, 2.219, 2.219, 2.2178, 2.1916, 2.2158, 2.1997, 2.1526, 2.1915, 2.1252, 2.0762, 2.0203, 2.1368, 2.0796, 1.9334, 2.0319, 1.8246, 2.138, 1.9686, 2.0692, 1.9822, 1.7794, 1.8046, 1.6583, 1.3895, 1.4916, 1.1684, 1.0928, 1.6931, 1.7711, 0.7598, 1.1167, 1.2535, 0.4882, 1.3094, 0.1776, 0.975, 0.1739, -0.3693, 0.9771, 1.2965, 2.96, 2.9598, 2.958, 2.9567, 2.9566, 2.9552, 2.9548, 2.9536, 2.9533, 2.9531, 2.9516, 2.9512, 2.9489, 2.9487, 2.9484, 2.9482, 2.9474, 2.9471, 2.9466, 2.9465, 2.9452, 2.9452, 2.9441, 2.9441, 2.9435, 2.9435, 2.9431, 2.943, 2.9411, 2.9398, 2.9188, 2.9368, 2.912, 2.849, 2.8525, 2.8433, 2.8496, 2.5829, 2.6399, 2.7237, 2.8859, 2.7754, 2.8529, 2.7805, 2.3296, 2.2812, 2.0084, 1.6312, 1.7052, 1.1975, 0.1168, 1.1489, 1.0227, 0.6465, 2.9727, 2.9722, 2.9722, 2.9719, 2.9717, 2.9707, 2.9704, 2.97, 2.9687, 2.9684, 2.9683, 2.9666, 2.9659, 2.9654, 2.965, 2.9649, 2.9638, 2.9634, 2.9633, 2.9617, 2.9608, 2.96, 2.96, 2.9598, 2.9589, 2.9588, 2.9587, 2.957, 2.9538, 2.9532, 2.9472, 2.9176, 2.9066, 2.9058, 2.7762, 2.771, 2.8982, 2.7975, 2.853, 2.5979, 2.4416, 2.2416, 2.3735, 2.2575, 2.4375, 2.7384, 2.368, 2.8111, 1.6552, 1.0156, 2.026, 0.7594, 2.0969, 0.2172, 3.0405, 3.0382, 3.0372, 3.0349, 3.0344, 3.0327, 3.0306, 3.0303, 3.0289, 3.0288, 3.0283, 3.0271, 3.0256, 3.0242, 3.0242, 3.024, 3.0237, 3.0217, 3.0209, 3.0207, 3.0205, 3.0204, 3.0195, 3.0188, 3.0187, 3.0184, 3.018, 3.0178, 3.0173, 3.0165, 2.986, 2.9275, 2.9431, 2.9803, 2.9724, 2.9751, 2.9431, 2.9926, 2.5287, 2.7976, 2.5874, 2.7055, 2.366, 2.3402, 1.2936, 2.0229, 1.9939, 2.416, 1.3443, 2.5123, 2.6294, 2.1002, 2.3276, 0.5095, 1.0586, 1.8059, 0.8407, 1.1774, 0.7907, -0.1226, 0.2076, 0.8524, 0.1861, 3.0944, 3.0944, 3.093, 3.0913, 3.0907, 3.0884, 3.0858, 3.0857, 3.0852, 3.0851, 3.0844, 3.0837, 3.0834, 3.083, 3.0822, 3.0816, 3.0814, 3.0812, 3.0806, 3.0795, 3.0795, 3.0789, 3.0789, 3.0785, 3.0783, 3.0778, 3.0761, 3.0756, 3.0738, 3.073, 3.07, 3.0715, 3.0675, 3.006, 2.9883, 2.8862, 3.0216, 2.7788, 2.6279, 2.8542, 2.7027, 2.3864, 2.1941, 2.7094, 2.5115, 2.3502, 2.5733, 1.0996, 2.1326, 2.2529, 0.4862, 0.3721, -0.2027, -0.1963, 2.3506, -0.243, 0.9245, 3.1236, 3.1234, 3.1162, 3.1155, 3.1153, 3.1141, 3.1139, 3.1128, 3.1125, 3.1109, 3.1103, 3.1102, 3.1095, 3.109, 3.108, 3.1051, 3.1013, 3.1007, 3.0993, 3.0972, 3.0966, 3.0941, 3.093, 3.0919, 3.0917, 3.0912, 3.0906, 3.0903, 3.0882, 3.0876, 3.078, 3.076, 2.9821, 3.0463, 3.0173, 3.0661, 3.0597, 2.905, 2.8008, 2.9725, 2.9848, 2.7883, 3.0065, 2.6333, 2.6702, 2.4888, 2.7459, 1.6325, 2.4456, 2.4351, 0.0818, 0.8964, 2.7654, 1.6587, 0.7581, 3.3659, 3.3652, 3.3633, 3.3615, 3.3611, 3.361, 3.3594, 3.3589, 3.3588, 3.3586, 3.358, 3.3579, 3.3573, 3.3573, 3.3573, 3.3561, 3.3561, 3.3549, 3.354, 3.3539, 3.353, 3.3527, 3.3524, 3.3518, 3.3512, 3.3509, 3.3505, 3.3505, 3.3498, 3.3496, 3.3367, 3.3421, 3.2935, 3.3106, 3.2952, 3.237, 3.2594, 3.0957, 3.3168, 3.1134, 2.5247, 2.7663, 2.2622, 3.0125, 2.2798, 2.3439, 2.4948, 1.6913, 2.6858, 3.4904, 3.4901, 3.4882, 3.4878, 3.4873, 3.4865, 3.4861, 3.4856, 3.4855, 3.4847, 3.484, 3.4813, 3.4807, 3.4805, 3.4782, 3.4778, 3.4772, 3.4771, 3.4769, 3.4756, 3.4752, 3.4751, 3.4751, 3.4751, 3.4746, 3.4737, 3.4717, 3.4697, 3.4692, 3.4687, 3.4297, 3.3325, 3.4397, 3.3357, 3.3975, 3.3524, 3.3171, 3.3879, 3.245, 3.3076, 2.7612, 2.2702, 1.9368, 2.3688, 2.2973, 2.3805, 0.6643]}, \"token.table\": {\"Topic\": [7, 5, 7, 9, 10, 4, 3, 8, 7, 8, 3, 1, 4, 2, 2, 3, 4, 7, 8, 9, 4, 2, 7, 5, 5, 4, 1, 2, 3, 5, 6, 9, 10, 6, 8, 10, 5, 3, 5, 2, 2, 3, 9, 4, 8, 2, 3, 5, 3, 5, 7, 9, 10, 9, 5, 3, 4, 6, 7, 9, 2, 3, 4, 6, 7, 8, 10, 3, 4, 5, 6, 10, 9, 4, 8, 9, 10, 4, 9, 10, 2, 2, 10, 9, 8, 2, 4, 5, 7, 9, 10, 8, 8, 8, 9, 7, 8, 3, 7, 10, 3, 9, 2, 4, 2, 5, 9, 5, 7, 10, 2, 3, 4, 9, 3, 5, 7, 8, 9, 9, 3, 4, 5, 7, 9, 2, 6, 9, 2, 2, 3, 4, 10, 6, 2, 9, 1, 2, 3, 4, 5, 6, 9, 10, 2, 5, 4, 4, 9, 7, 10, 5, 10, 8, 9, 3, 4, 5, 3, 9, 10, 1, 2, 3, 5, 9, 4, 6, 2, 9, 3, 10, 10, 5, 3, 4, 5, 7, 8, 9, 10, 1, 2, 3, 5, 9, 3, 4, 5, 9, 2, 5, 3, 6, 9, 2, 3, 4, 5, 8, 3, 3, 8, 2, 4, 8, 3, 5, 9, 10, 7, 2, 3, 7, 10, 4, 6, 4, 9, 9, 8, 10, 3, 10, 1, 2, 3, 4, 5, 7, 9, 10, 3, 4, 6, 7, 9, 1, 2, 3, 4, 5, 6, 8, 9, 10, 2, 3, 4, 5, 8, 9, 1, 8, 3, 8, 6, 2, 4, 9, 5, 7, 8, 5, 6, 9, 5, 2, 6, 8, 9, 8, 1, 2, 3, 5, 8, 9, 2, 2, 3, 5, 7, 8, 9, 2, 2, 7, 1, 3, 6, 7, 9, 2, 3, 4, 2, 4, 7, 10, 10, 3, 9, 8, 8, 9, 3, 10, 5, 3, 7, 10, 6, 3, 3, 6, 3, 4, 7, 8, 4, 5, 5, 9, 1, 2, 8, 9, 10, 8, 8, 1, 2, 3, 5, 6, 7, 8, 4, 2, 3, 5, 8, 10, 4, 7, 9, 9, 5, 6, 1, 2, 3, 4, 5, 8, 9, 10, 2, 3, 4, 8, 9, 10, 3, 5, 10, 2, 4, 7, 5, 9, 10, 7, 10, 10, 3, 1, 2, 3, 5, 7, 9, 9, 1, 7, 2, 9, 3, 4, 2, 4, 5, 6, 7, 8, 9, 10, 5, 10, 4, 4, 9, 10, 1, 2, 3, 4, 6, 8, 9, 4, 6, 10, 10, 2, 3, 6, 3, 7, 9, 5, 9, 7, 7, 9, 2, 3, 4, 5, 7, 8, 9, 9, 2, 3, 4, 8, 9, 10, 10, 7, 6, 1, 2, 3, 5, 8, 10, 3, 8, 10, 3, 5, 4, 3, 2, 3, 4, 5, 6, 7, 4, 1, 2, 10, 2, 3, 4, 7, 8, 7, 10, 4, 9, 10, 7, 9, 9, 7, 2, 9, 10, 2, 3, 4, 7, 9, 3, 5, 6, 7, 8, 5, 10, 3, 9, 1, 2, 3, 4, 5, 6, 7, 8, 9, 10, 6, 4, 7, 9, 4, 4, 9, 5, 8, 6, 9, 6, 6, 10, 5, 7, 2, 8, 9, 9, 8, 6, 7, 8, 3, 5, 9, 2, 5, 5, 3, 2, 2, 3, 4, 7, 9, 4, 5, 2, 2, 5, 5, 8, 9, 10, 1, 3, 4, 5, 9, 8, 10, 3, 10, 2, 3, 4, 5, 8, 10, 1, 2, 4, 5, 8, 10, 1, 5, 8, 2, 4, 9, 10, 3, 2, 3, 10, 1, 2, 9, 4, 8, 3, 4, 5, 9, 5, 7, 2, 3, 4, 7, 8, 9, 7, 2, 9, 7, 10, 2, 3, 4, 5, 7, 8, 9, 3, 4, 8, 7, 3, 6, 7, 5, 5, 10, 1, 2, 3, 4, 5, 7, 8, 9, 10, 4, 2, 6, 9, 2, 4, 7, 10, 2, 5, 7, 8, 9, 4, 1, 2, 3, 4, 5, 9, 7, 10, 2, 4, 3, 3, 8, 9, 5, 1, 3, 5, 7, 4, 10, 1, 2, 3, 4, 5, 8, 9, 8, 10, 4, 9, 5, 9, 4, 10, 5, 7, 3, 7, 8, 9, 3, 4, 5, 6, 7, 9, 10, 3, 6, 8, 9, 8, 9, 5, 7, 6, 8, 2, 8, 10, 3, 3, 3, 6, 1, 2, 3, 5, 6, 7, 8, 9, 6, 2, 6, 1, 10, 2, 3, 5, 6, 1, 2, 3, 4, 6, 7, 8, 1, 2, 4, 6, 1, 3, 1, 2, 1, 2, 3, 5, 6, 7, 8, 1, 2, 3, 4, 5, 6, 8, 8, 2, 1, 2, 4, 7, 2, 1, 2, 1, 2, 3, 4, 6, 7, 8, 10, 1, 1, 1, 1, 2, 5, 6, 1, 2, 3, 4, 6, 7, 8, 1, 3, 5, 8, 3, 10, 1, 2, 4, 5, 6, 10, 6, 1, 4, 5, 7, 8, 6, 3, 6, 1, 4, 1, 2, 3, 4, 5, 6, 7, 8, 10, 1, 2, 3, 4, 6, 7, 1, 3, 4, 8, 9, 6, 10, 3, 7, 8, 2, 1, 2, 3, 4, 5, 6, 7, 8, 10, 1, 1, 2, 3, 5, 6, 7, 8, 1, 2, 3, 6, 7, 8, 10, 1, 2, 3, 4, 6, 1, 2, 3, 4, 6, 7, 8, 1, 2, 3, 6, 7, 10, 1, 2, 3, 4, 5, 6, 8, 10, 4, 2, 4, 8, 5, 2, 2, 1, 2, 3, 4, 7, 8, 9, 4, 2, 5, 7, 2, 6, 4, 6, 10, 6, 2, 2, 3, 4, 5, 7, 10, 1, 2, 3, 4, 5, 6, 10, 1, 2, 3, 4, 5, 8, 5, 1, 2, 3, 4, 5, 6, 7, 8, 1, 2, 3, 4, 5, 6, 7, 8, 10, 1, 2, 3, 4, 5, 6, 7, 8, 1, 2, 3, 5, 6, 7, 8, 3, 1, 2, 3, 4, 5, 6, 7, 8, 1, 2, 3, 5, 6, 7, 8, 5, 1, 2, 5, 6, 7, 8, 1, 8, 1, 2, 3, 4, 7, 1, 5, 6, 7, 8, 1, 2, 3, 4, 5, 6, 7, 8, 10, 1, 2, 4, 5, 8, 1, 2, 3, 5, 6, 8, 1, 2, 3, 5, 8, 1, 2, 3, 4, 5, 6, 8, 6, 1, 2, 1, 2, 3, 5, 7, 3, 2, 4, 8, 7, 8, 1, 2, 3, 4, 6, 8, 1, 2, 3, 4, 5, 6, 7, 1, 7, 8, 1, 2, 3, 4, 7, 8, 8, 1, 2, 3, 4, 5, 6, 7, 8, 10, 1, 2, 3, 5, 6, 7, 8, 1, 2, 3, 4, 5, 6, 7, 8, 2, 3, 7, 1, 5, 8, 7, 6, 1, 2, 3, 4, 5, 6, 7, 8, 1, 2, 3, 4, 5, 6, 7, 8, 10, 1, 2, 6, 8, 1, 2, 3, 7, 8, 10, 8, 1, 2, 3, 4, 5, 6, 7, 8, 1, 1, 3, 4, 1, 2, 3, 4, 5, 6, 7, 8, 9, 10, 1, 3, 6, 8, 1, 1, 1, 2, 3, 4, 5, 7, 9, 10, 1, 2, 1, 4, 10, 1, 1, 2, 3, 4, 5, 6, 7, 8, 2, 3, 4, 6, 7, 1, 2, 3, 4, 5, 6, 7, 8, 10, 1, 2, 3, 5, 7, 8, 9, 1, 1, 2, 3, 5, 6, 7, 8, 1, 5, 8, 1, 7, 6, 10, 1, 2, 3, 5, 6, 1, 4, 6, 1, 2, 1, 6, 8, 4, 9, 2, 1, 2, 3, 4, 6, 7, 8, 3, 1, 2, 3, 4, 5, 6, 1, 2, 3, 5, 6, 10, 1, 8, 1, 2, 3, 4, 5, 6, 7, 8, 1, 3, 4, 7, 8, 9, 10, 4, 2, 6, 8, 6, 6, 8, 6, 1, 2, 3, 4, 8, 1, 1, 2, 3, 4, 5, 6, 7, 9, 10, 6, 4, 1, 2, 3, 4, 5, 6, 7, 8, 9, 10, 1, 2, 3, 4, 5, 6, 7, 10, 1, 2, 3, 4, 5, 6, 7, 8, 1, 2, 3, 4, 5, 6, 7, 1, 2, 3, 4, 5, 6, 7, 8, 5, 1, 1, 2, 3, 6, 7, 8, 1, 2, 3, 4, 5, 6, 7, 8, 9, 10, 3, 1, 2, 3, 5, 6, 1, 2, 3, 4, 6, 8, 1, 2, 6, 10, 1, 2, 4, 5, 7, 9, 6, 1, 8, 9, 1, 2, 3, 4, 5, 6, 7, 8, 1, 2, 3, 4, 5, 6, 7, 8, 1, 2, 4, 5, 6, 8, 1, 2, 3, 4, 6, 1, 2, 3, 6, 7, 1, 2, 3, 4, 5, 6, 7, 8, 10, 1, 2, 5, 6, 2, 2, 3, 6, 8, 1, 2, 3, 4, 5, 6, 7, 8, 9, 10, 1, 2, 3, 4, 6, 7, 6, 7, 2, 6, 2, 3, 4, 1, 1, 1, 2, 5, 1, 2, 4, 6, 7, 8, 10, 8, 8, 4, 7, 6, 3, 8, 1, 2, 3, 4, 6, 7, 8, 1, 2, 3, 5, 6, 8, 8, 7, 1, 2, 3, 6, 7, 8, 1, 2, 3, 7, 8, 6, 7, 1, 1, 1, 7], \"Freq\": [0.9808494422776466, 0.01311571885996694, 0.8984267419077353, 0.03278929714991735, 0.05246287543986776, 0.9850821020729902, 0.9015258118619742, 0.08903958635673818, 0.9193610057492411, 0.06964856104160917, 0.9915672291806567, 0.9953123125441575, 0.9745412156691535, 0.9944758896512369, 0.041695462301827045, 0.0030885527630983, 0.7227213465650021, 0.0030885527630983, 0.22546435170617588, 0.0030885527630983, 0.9917272064062792, 0.9867770655525425, 0.9805064911598549, 0.9880314141436145, 0.989493003224614, 0.9825281053097294, 0.001925006717835553, 0.13667547696632426, 0.5582519481723104, 0.26565092706130633, 0.011550040307013319, 0.015400053742684425, 0.009625033589177765, 0.9813457946173236, 0.9478495441463396, 0.044086025309132075, 0.9843619770013358, 0.07272356760361164, 0.9211651896457473, 0.9843089556471671, 0.17706323202894747, 0.04426580800723687, 0.7702250593259214, 0.9799249656053829, 0.012563140584684397, 0.03615166240677368, 0.1229156521830305, 0.8387185678371493, 0.38991091760527047, 0.0146740667915962, 0.4045849843968667, 0.06079256242232711, 0.12997030586842348, 0.9825195466290166, 0.9946608547007599, 0.046475994909160795, 0.009295198981832158, 0.9434626966559642, 0.9965309547219013, 0.9936805961531616, 0.05589816489661781, 0.014582129973030733, 0.017012484968535854, 0.008911301650185447, 0.021063076627711057, 0.8668266150634936, 0.014582129973030733, 0.08583143092919404, 0.015327041237356079, 0.8123331855798722, 0.009196224742413647, 0.0766352061867804, 0.9807690954131194, 0.0230751626609017, 0.0461503253218034, 0.14421976663063563, 0.7787867398054324, 0.9795892307468141, 0.9880118349305259, 0.9912389521821288, 0.9889373786654045, 0.04713545318128843, 0.9427090636257686, 0.9891877898339018, 0.9989144284877882, 0.17318760513087306, 0.02886460085514551, 0.08659380256543653, 0.5888378574449684, 0.02886460085514551, 0.08659380256543653, 0.9935222551880077, 0.9762569836397137, 0.9873008975609346, 0.009227111192158268, 0.9919877392284168, 0.9844653883971304, 0.9813375045491106, 0.9848646448262527, 0.992761127161972, 0.0961723188767951, 0.8976083095167543, 0.04844973907091319, 0.9508261292666714, 0.013984168207612654, 0.9695689957278107, 0.009322778805075104, 0.9879136316519682, 0.9877291342514571, 0.9877407583668394, 0.08905871781414633, 0.8420096956973835, 0.040481235370066516, 0.02428874122203991, 0.17717176439773102, 0.022146470549716378, 0.6732527047113779, 0.0177171764397731, 0.1063030586386386, 0.9744911421265648, 0.9150935967837642, 0.002789919502389525, 0.016739517014337152, 0.059983269301374785, 0.002789919502389525, 0.9913911644325738, 0.9679145301883589, 0.9792208848154108, 0.9872595732918188, 0.6499983283809032, 0.14330671806823064, 0.14330671806823064, 0.06141716488638456, 0.9836802562279764, 0.9911401251535406, 0.969290869717552, 0.0008440322504834902, 0.8077388637127001, 0.04473370927562498, 0.005908225753384432, 0.10888016031237023, 0.009284354755318393, 0.021944838512570744, 0.9867356322342531, 0.06028169354598658, 0.9300604147095072, 0.9914630146845527, 0.9722233226261845, 0.016762471079761802, 0.993278974899402, 0.9749049086447797, 0.9816982222371271, 0.9904632154418491, 0.03441554436947724, 0.9464274701606241, 0.9845841468584782, 0.012622873677672798, 0.9945664731462502, 0.028985477688631623, 0.048309129481052704, 0.9082116342437908, 0.06471370568180514, 0.05627278754939578, 0.3207548890315559, 0.545846039229139, 0.011254557509879155, 0.013932832340346094, 0.9752982638242266, 0.9829316473270461, 0.9752214245261618, 0.9963039627756475, 0.9929030420061398, 0.9921983869625743, 0.9768158437984019, 0.016885917015946293, 0.0021107396269932866, 0.10553698134966434, 0.8084132771384288, 0.027439615150912727, 0.0316610944048993, 0.00633221888097986, 0.03645916641897328, 0.7504511754572, 0.1701427766218753, 0.012153055472991094, 0.02734437481422996, 0.8481887181709049, 0.08208277917782951, 0.06384216158275628, 0.004560154398768306, 0.9940539262610063, 0.9910848091866533, 0.06661455376399372, 0.8992964758139154, 0.01665363844099843, 0.14584324835744103, 0.6260588222173079, 0.10315741956989732, 0.060471590782353604, 0.06402874318131557, 0.9811422853505226, 0.3108369087584566, 0.6792362080277385, 0.03459580927990089, 0.893200894135623, 0.0660465449889017, 0.04127788595618446, 0.08573099390899849, 0.5461381834202867, 0.32387264365621654, 0.9907723886950108, 0.040963901303111415, 0.8485379555644508, 0.06437184490488937, 0.040963901303111415, 0.32834809675189536, 0.6566961935037907, 0.9931349540439549, 0.9950597972784002, 0.9853115668607118, 0.9746952279022835, 0.9912491101446399, 0.9767584209440162, 0.9938304085308061, 0.009994713761537925, 0.011916774100295218, 0.952188691820363, 0.0034597086097631277, 0.0019220603387572932, 0.0034597086097631277, 0.014992070642306888, 0.0015376482710058345, 0.12880627041592613, 0.5303787605361664, 0.20836308449635108, 0.06440313520796306, 0.06440313520796306, 0.0026005572220384387, 0.0468100299966919, 0.43169249885838085, 0.14303064721211411, 0.013002786110192193, 0.015603343332230632, 0.0026005572220384387, 0.04941058721873034, 0.29386296609034357, 0.20338235516816708, 0.013751831844110942, 0.04197927615570708, 0.0028951224934970405, 0.7230568427508858, 0.014475612467485202, 0.2844398207172419, 0.7128998038229607, 0.09013100867021721, 0.8832838849681287, 0.9867306312205125, 0.9810008428283274, 0.9784267557855644, 0.9826227793545074, 0.4863809661803046, 0.49099121230523635, 0.020746107562193087, 0.3865746792667469, 0.5967512039166287, 0.015012608903562985, 0.995971001409017, 0.051809310431068074, 0.06661197055423038, 0.5032904441875184, 0.3774678331406388, 0.9879831117977639, 0.10125046691965632, 0.0052734618187321, 0.8026208888110257, 0.07171908073475657, 0.00105469236374642, 0.01898446254743556, 0.9983064272131005, 0.004092231855741488, 0.22507275206578187, 0.022507275206578185, 0.7263711543941141, 0.012276695567224464, 0.008184463711482976, 0.993532621207728, 0.021636813959337222, 0.973656628170175, 0.015050954845472277, 0.14298407103198665, 0.21823884525934803, 0.12040763876377822, 0.5042069873233214, 0.9890104981813349, 0.9743199233574605, 0.9963894530460968, 0.26891194493669496, 0.03422515662830663, 0.5573811222324223, 0.13690062651322651, 0.9842676458128715, 0.9600687554054886, 0.0387645527081624, 0.9793171340532636, 0.9879227880872866, 0.9893084392019442, 0.988121039650502, 0.9929079984116482, 0.9816502056706904, 0.038549449365047735, 0.019274724682523867, 0.9380366012161615, 0.9889256282141864, 0.9877886947366072, 0.9855143409381859, 0.9853078620902134, 0.0831341889914083, 0.8855598392563058, 0.025301709693037307, 0.0036145299561481867, 0.007067426478659095, 0.9894397070122732, 0.9758954954057882, 0.9849901508525898, 0.0639343763554892, 0.44754063448842435, 0.029061080161585998, 0.41847955432683837, 0.0406855122262204, 0.9458657149101609, 0.9982372844764553, 0.022830639229240828, 0.11922667153047987, 0.6468681114951568, 0.0329775899977923, 0.012683688460689348, 0.1420573107597207, 0.022830639229240828, 0.9900590838966868, 0.06435549353377745, 0.053629577944814544, 0.8473473315280698, 0.010725915588962909, 0.010725915588962909, 0.994482955095266, 0.9891001826146353, 0.9770572571140194, 0.9935364847594678, 0.1084269817597073, 0.8906502073118814, 0.11421799079397424, 0.003129260021752719, 0.14081670097887236, 0.012517040087010876, 0.478776783328166, 0.014081670097887236, 0.025034080174021752, 0.21122505146830853, 0.003091899320150126, 0.08966508028435365, 0.01545949660075063, 0.01545949660075063, 0.024735194561201008, 0.8533642123614348, 0.9879171069036261, 0.9438214839355792, 0.05328024506087947, 0.6061559207200652, 0.3844760411424414, 0.006927496236800746, 0.9287100226669481, 0.04269931138698612, 0.02134965569349306, 0.9860587923269774, 0.9912298523583344, 0.9887060705172521, 0.9824061140548144, 0.0009652859202366278, 0.0009652859202366278, 0.0004826429601183139, 0.9952097837639633, 0.0004826429601183139, 0.0019305718404732555, 0.9917282568439718, 0.9953338497945815, 0.9959781695670648, 0.9576014159457791, 0.041040060683390535, 0.10218608801170385, 0.8941282701024088, 0.007863886303681306, 0.003931943151840653, 0.06094511885353012, 0.007863886303681306, 0.07274094830905209, 0.8021164029754932, 0.021625687335123593, 0.021625687335123593, 0.7896557209619324, 0.20180090646804938, 0.9806316216610603, 0.98803284755456, 0.965675275268277, 0.01636737754691995, 0.009844362468099303, 0.013125816624132404, 0.14438398286545645, 0.7875489974479443, 0.009844362468099303, 0.03609599571636411, 0.9959550743053919, 0.1310750158730117, 0.5356978909592652, 0.3305369965493339, 0.9755032175375971, 0.3293372206145147, 0.03228796280534458, 0.6328440709847538, 0.565850966651058, 0.09640423876277285, 0.33531909134877513, 0.9961268953739958, 0.9914583356701511, 0.9724402693364518, 0.9921840799683972, 0.9801076049708703, 0.013155257492481197, 0.22692819174530066, 0.003288814373120299, 0.006577628746240598, 0.07893154495488718, 0.6117194734003757, 0.059198658716165385, 0.9939352104571176, 0.1834154875606242, 0.06468671213075586, 0.6828951635069669, 0.004094095704478219, 0.004912914845373863, 0.05895497814448635, 0.9979785702133029, 0.9777360425928524, 0.9871108182748135, 0.03687862168244174, 0.04917149557658899, 0.22946697935741528, 0.581862697656303, 0.07375724336488348, 0.02868337241967691, 0.06973610982462793, 0.9220663410145248, 0.9865772213728932, 0.9920053588984318, 0.9936638530527107, 0.9925984634573807, 0.9938106334860344, 0.010351218093986305, 0.18839216931055075, 0.1449170533158083, 0.01656194895037809, 0.012421461712783567, 0.6252135728767728, 0.9982362543418758, 0.9985000320239013, 0.16539277273196815, 0.8269638636598406, 0.05336077324418538, 0.21344309297674152, 0.06403292789302246, 0.02668038662209269, 0.6349932016058061, 0.9872390249332835, 0.9958765009440316, 0.9901176687795703, 0.704478102289476, 0.2838941606241172, 0.9882221891104561, 0.9866310076242842, 0.992909599116346, 0.9810246531241679, 0.11596689611674768, 0.8769996518829043, 0.9731338287706703, 0.04436692959220194, 0.7360876955069867, 0.13713414601226054, 0.04840028682785666, 0.032266857885237775, 0.19641678642794472, 0.5447786340548655, 0.011117931307242155, 0.24459448875932738, 0.9881569301140474, 0.9950370334068869, 0.9781595421993794, 0.9538107430252686, 0.04220401517810923, 0.004121890832447455, 0.06388930790293557, 0.2370087228657287, 0.004121890832447455, 0.10716916164363384, 0.3503607207580337, 0.08037687123272538, 0.0741940349840542, 0.014426617913566094, 0.06388930790293557, 0.9931534318635079, 0.04494100061303363, 0.024967222562796463, 0.9262839570797488, 0.9758377631741636, 0.8319808003888027, 0.16434188649655362, 0.03613819310133266, 0.9576621171853154, 0.9260637786997247, 0.04209380812271476, 0.9882782330936731, 0.9927681954620312, 0.9947379807092246, 0.9715767083587736, 0.014720859217557176, 0.29096262723408384, 0.7031596824823692, 0.9902408934118216, 0.973594165470593, 0.9624063399112025, 0.023444839534848765, 0.09377935813939506, 0.8674590627894043, 0.8986116387095332, 0.0915252594981932, 0.9923347945827969, 0.9512487943587684, 0.04445087824106394, 0.986496141957789, 0.9918156936269802, 0.9920320966808455, 0.04706095555735168, 0.5794380152998926, 0.00882392916700344, 0.03235440694567928, 0.32942668890146176, 0.9868764109492282, 0.993596108731047, 0.9870683875930445, 0.9934856275573648, 0.9734902514703015, 0.8812050006924593, 0.03671687502885247, 0.03671687502885247, 0.03671687502885247, 0.06504411689934941, 0.8130514612418677, 0.018584033399814116, 0.09292016699907059, 0.013938025049860588, 0.993545886377947, 0.9968348045700882, 0.9764406582919684, 0.01914589526062683, 0.22825560854478352, 0.4146643555230234, 0.007608520284826117, 0.07228094270584812, 0.23205986868719658, 0.041846861566543644, 0.25467648678984744, 0.009610433463767828, 0.019220866927535656, 0.004805216731883914, 0.5285738405072306, 0.18740345254347263, 0.052319932863990344, 0.8171875228280396, 0.129554119472738, 0.08751851553422564, 0.03646604813926068, 0.02187962888355641, 0.8387191072029957, 0.9923554180655982, 0.10631749259080463, 0.039169602533454334, 0.8524051598946968, 0.21127310000755564, 0.028169746667674085, 0.7605831600272003, 0.008778982806563697, 0.9876355657384159, 0.8913468928118781, 0.08577815286474141, 0.00745896981432534, 0.01491793962865068, 0.017743747298901377, 0.9759061014395757, 0.17240139447149563, 0.010448569361908827, 0.34480278894299127, 0.4283913438382619, 0.0052242846809544136, 0.04179427744763531, 0.9935002544393978, 0.9861774991715733, 0.9911790597412764, 0.9127278028411748, 0.08703272447629784, 0.01569996595834161, 0.11887117082744363, 0.029157079636920134, 0.5853844450181658, 0.0358856364762094, 0.02467137507739396, 0.18615673922033624, 0.0022675659587936374, 0.9546452686521213, 0.03854862129949183, 0.9776145411055556, 0.05240295275507126, 0.9432531495912827, 0.9975022025983674, 0.9851361324222396, 0.9864197966728403, 0.9863771187996676, 0.036757324456157675, 0.16776419879989915, 0.42695046099075457, 0.0622047029258053, 0.14043182933249984, 0.01790741447864092, 0.10744448687184552, 0.012252441485385892, 0.0273323694673993, 0.9909049008636303, 0.9443730291163811, 0.03234154209302675, 0.01940492525581605, 0.10107045625591336, 0.8905642088964442, 0.0019069897406776106, 0.003813979481355221, 0.8531302476748315, 0.06301530238507279, 0.0727099642904686, 0.009694661905395812, 0.9922787995216413, 0.9923140890232074, 0.18534016314580268, 0.025273658610791273, 0.03791048791618691, 0.012636829305395636, 0.6823887824913644, 0.050547317221582545, 0.977726102908446, 0.9813024889559334, 0.9768785891389006, 0.978099162205409, 0.9972724581143664, 0.9739706408904371, 0.030128404898101133, 0.9641089567392362, 0.9951778540081162, 0.01164982570612649, 0.9785853593146251, 0.0023299651412252978, 0.0046599302824505955, 0.12517142032422404, 0.8699413712533571, 0.04030966619935297, 0.009102182690176477, 0.4733134998891768, 0.01040249450305883, 0.03510841894782356, 0.0013003118128823538, 0.42910289825117676, 0.983279499409723, 0.9879186944424823, 0.9888659425894358, 0.9864209414651364, 0.049221252578806184, 0.9450480495130787, 0.011857845414968286, 0.9842011694423677, 0.9895993164713808, 0.9889761104765742, 0.07944134977815234, 0.6752514731142949, 0.135050294622859, 0.10327375471159805, 0.3614870976780691, 0.008745655588985542, 0.07871090030086987, 0.032067403826280316, 0.03498262235594217, 0.002915218529661847, 0.4810110573942048, 0.09911294023220042, 0.0381203616277694, 0.8615201727875883, 0.007624072325553879, 0.9770645415416165, 0.9945594991485244, 0.992355690798247, 0.9804532105091555, 0.9935153267169632, 0.9927913942251401, 0.03745628007292189, 0.9551351418595083, 0.0046820350091152365, 0.9772282015402451, 0.9742221213373374, 0.9939193633745486, 0.9551167137070607, 0.921023563313084, 0.01747857052149237, 0.053892259107934805, 0.0014565475434576976, 0.0024275792390961626, 0.0009710316956384649, 0.0019420633912769299, 0.00048551584781923246, 0.9737267213156587, 0.0577240215663588, 0.9235843450617408, 0.9943562258012836, 0.9813693290902286, 0.339635115854592, 0.06318792853108689, 0.007898491066385861, 0.5844883389125537, 0.14063038053480256, 0.4368518203847058, 0.08976407268178888, 0.28425289682566474, 0.014960678780298145, 0.008976407268178888, 0.02393708604847703, 0.35338826498232445, 0.13198838812592842, 0.0042576899395460775, 0.5066651028059832, 0.9976450978074659, 0.9888536034620589, 0.9948164182386411, 0.0027255244335305235, 0.16426578881235632, 0.3247553525945435, 0.10762241335981965, 0.015104900120676442, 0.36062949038115005, 0.016993012635760998, 0.01132867509050733, 0.8606750511059676, 0.04139955942028705, 0.05883095286040791, 0.01234723702008561, 0.006536772540045323, 0.004357848360030216, 0.015252469260105756, 0.9696991104252382, 0.9745975941766464, 0.11068846042573965, 0.846617143256333, 0.02991580011506477, 0.00897474003451943, 0.9925456127445441, 0.9891855561504952, 0.008938423700155077, 0.5036391907952524, 0.26751373448756327, 0.09987179420869029, 0.013554029214036539, 0.057069596690680166, 0.016407509048570548, 0.02068772880037156, 0.02140109875900506, 0.998247128853991, 0.9956265733589741, 0.9921653036746365, 0.981174995954424, 0.004584929887637495, 0.0022924649438187477, 0.011462324719093739, 0.22250551055136397, 0.6685914375021662, 0.04192132807489466, 0.001074905848074222, 0.04944566901141422, 0.01504868187303911, 0.001074905848074222, 0.985637428328632, 0.010629423246681325, 0.00048315560212187843, 0.0033820892148531487, 0.9915177240855135, 0.9919276918136376, 0.7194375503419698, 0.015513478174489915, 0.17064825991938906, 0.03296614112079107, 0.058175543154337185, 0.0038783695436224786, 0.9907400157554065, 0.20244551368208671, 0.28094479449758974, 0.41315410955527904, 0.09502544519771418, 0.00413154109555279, 0.9769754725963933, 0.9955595402511063, 0.9567793583557448, 0.9855168232783119, 0.012594464195249993, 0.41646293324178557, 0.43316599206164325, 0.006681223527943083, 0.06347162351545929, 0.0011135372546571807, 0.008908298037257446, 0.0033406117639715417, 0.06347162351545929, 0.004454149018628723, 0.6672149124081207, 0.08517637179678136, 0.016224070818434546, 0.02433610622765182, 0.13689059753054147, 0.06996630540449898, 0.47632421175044215, 0.05773626809096269, 0.009622711348493782, 0.1010384691591847, 0.3560403198942699, 0.9454752649275503, 0.02701357899793001, 0.7635371203455975, 0.19385139324836415, 0.039561508826196766, 0.9728773592374104, 0.27529821151943257, 0.19326490606667235, 0.3726258620566057, 0.018075135099760723, 0.009732765053717313, 0.04588303525323876, 0.05005422027626047, 0.01529434508441292, 0.020855925115108528, 0.9998220405584245, 0.3730340115734884, 0.4493126750044818, 0.15464715325735653, 0.008359305581478732, 0.002089826395369683, 0.009404218779163573, 0.0031347395930545244, 0.18685060842133022, 0.6181124392326469, 0.07792821583448843, 0.11069348840126197, 0.0008855479072100959, 0.0008855479072100959, 0.0035421916288403835, 0.4520027171145042, 0.16142954182660862, 0.06457181673064345, 0.029057317528789553, 0.29057317528789556, 0.4608381224553296, 0.1205568084060356, 0.044722686989335785, 0.16333503074366112, 0.14000145492313812, 0.05444501024788704, 0.01361125256197176, 0.19385803069192545, 0.6066305722332361, 0.05275048454202053, 0.0013187621135505132, 0.11341354176534414, 0.030331528611661805, 0.14605586601205975, 0.08313949296071094, 0.6314107438367506, 0.042693253141986694, 0.004494026646524915, 0.040446239818724236, 0.049434293111774066, 0.0022470133232624576, 0.9855156620687985, 0.9821878541141332, 0.9704644481199886, 0.9847630711280773, 0.9876527928318385, 0.9812578630876756, 0.9716258357981961, 0.1667689955284027, 0.12569901901767666, 0.6596087136571152, 0.002489089485498548, 0.0286245290832333, 0.014934536912991288, 0.001244544742749274, 0.9837257532456305, 0.9830586360969786, 0.21102358533279633, 0.7872802991262017, 0.9925027850476736, 0.9748242994504449, 0.9703278762435222, 0.9867914284722641, 0.9822347851955825, 0.9674251556652405, 0.9928520853523616, 0.06726770867004561, 0.2312327485532818, 0.004204231791877851, 0.012612695375633552, 0.3825850930608844, 0.30270468901520525, 0.8481651851697203, 0.13357159208625186, 0.0115396623832615, 0.0002884915595815375, 0.0008654746787446126, 0.0049043565128861375, 0.000576983119163075, 0.9035490194930164, 0.001099208052911212, 0.057158818751383025, 0.013190496634934545, 0.0076944563703784845, 0.01648812079366818, 0.9880659544673932, 0.6763312988904185, 0.06325400637104633, 0.018651822391462382, 0.006487590397030394, 0.004054743998143996, 0.18246347991647982, 0.025139412788492778, 0.02351751518923518, 0.540782184703387, 0.3814053213253563, 0.03956942814902832, 0.00164872617287618, 0.01154108321013326, 0.01154108321013326, 0.006045329300545994, 0.00329745234575236, 0.003847027736711087, 0.2837285085741161, 0.3342555032516984, 0.21635918233733967, 0.015546767593102253, 0.007773383796551126, 0.11141850108389947, 0.010364511728734834, 0.02072902345746967, 0.892497150479802, 0.030694346445072556, 0.024791587513327835, 0.029513794658723613, 0.016527725008885222, 0.0035416553590468334, 0.0011805517863489445, 0.9771223894703194, 0.6945449580138904, 0.06116017121232086, 0.1734267868623345, 0.0004189052822761703, 0.010472632056904258, 0.04189052822761703, 0.0067024845164187245, 0.011310442621456598, 0.9141365660699364, 0.06182013095526182, 0.01659984997872771, 0.0022896344798245117, 0.0011448172399122559, 0.0011448172399122559, 0.0022896344798245117, 0.984163214128539, 0.33235887599725944, 0.5654417240992337, 0.01726539615570179, 0.010790872597313619, 0.008632698077850895, 0.0647452355838817, 0.989668554839387, 0.006426419187268747, 0.09068870883091416, 0.05334629931230245, 0.7735213400283855, 0.021338519724920978, 0.06401555917476294, 0.9663508845882884, 0.02174629276148047, 0.0040774298927775884, 0.005436573190370117, 0.0013591432975925293, 0.27504517878578855, 0.16135983822099595, 0.3422784447112035, 0.05806509329922203, 0.0635659968749378, 0.013446653185082995, 0.07334538100954362, 0.012224230168257268, 0.0006112115084128634, 0.2123035213328464, 0.0830752909563312, 0.5030670396800057, 0.1984576395067912, 0.9877332441955615, 0.8682267707667526, 0.06414094987463162, 0.05670431800510911, 0.00557747390214188, 0.0037183159347612535, 0.0009295789836903134, 0.886068133031781, 0.0970074592596871, 0.002000153799168806, 0.004000307598337612, 0.011000845895428433, 0.48184796069882946, 0.09391951776333117, 0.008166914588115753, 0.008166914588115753, 0.016333829176231506, 0.38792844293549833, 0.0040834572940578765, 0.9796944018033519, 0.04747775375662819, 0.9376856366934068, 0.029148421240579838, 0.8112977245294721, 0.06315491268792298, 0.004858070206763306, 0.08744526372173951, 0.9817616037811745, 0.09774434819580305, 0.8919171772867027, 0.9576216148294553, 0.9754093462724461, 0.9868997919695863, 0.9579542355678852, 0.02952250035225151, 0.002036034507051828, 0.001018017253525914, 0.002036034507051828, 0.007126120774681399, 0.6736335448629153, 0.26219679642530136, 0.031490999048469616, 0.002053760807508888, 0.012322564845053327, 0.016430086460071103, 0.001369173871672592, 0.9951722453461832, 0.9951140311902568, 0.9829440135909211, 0.12852447245964693, 0.750305028413074, 0.05557815025282029, 0.02431544073560888, 0.02431544073560888, 0.013894537563205073, 0.9756590094467199, 0.9199415196571618, 0.041098173680180566, 0.00657570778882889, 0.001972712336648667, 0.0023014977260901117, 0.018411981808720893, 0.005260566231063112, 0.0016439269472072226, 0.002630283115531556, 0.9912177953205148, 0.005463079289449183, 0.00033109571451207174, 0.0002483217858840538, 8.277392862801794e-05, 0.0004966435717681076, 0.0019865742870724306, 0.47135745255470346, 0.43024216074307825, 0.013215629510879536, 0.011747226231892921, 0.007342016394933076, 0.010278822952906306, 0.022026049184799227, 0.03524167869567876, 0.9437255003952261, 0.05023633842408047, 0.007176619774868639, 0.9762014061841643, 0.0031849964312697042, 0.020702476803253076, 0.9653517730045633, 0.9647490282556925, 0.3711130140328618, 0.1004388432474259, 0.3949459598881832, 0.0425588318845025, 0.0102141196522806, 0.0255352991307015, 0.0408564786091224, 0.0136188262030408, 0.7675830381656703, 0.16295058910779592, 0.023584953686654673, 0.00750430344575376, 0.0003573477831311314, 0.010720433493933942, 0.012507172409589599, 0.013579215758982993, 0.0007146955662622628, 0.9504860646984101, 0.03413642432137949, 0.007467342820301763, 0.008534106080344873, 0.31275061218831696, 0.6486679363905833, 0.024614631514821243, 0.010135436506102864, 0.0014479195008718377, 0.0014479195008718377, 0.9693064031757138, 0.7665643739861022, 0.012763559606036961, 0.12650939962454283, 0.0011261964358267908, 0.006006380991076217, 0.07920914931981761, 0.0033785893074803723, 0.0041293869313649, 0.9887822729011111, 0.13925539859951877, 0.029316926020951317, 0.8282031600918748, 0.463006472714203, 0.18704999645810694, 0.14086481214746324, 0.09814351666011784, 0.0011546296077660921, 0.019628703332023566, 0.05426759156500633, 0.028865740194152306, 0.0023092592155321843, 0.0046185184310643685, 0.4623416670190103, 0.0390711267903389, 0.48838908487923627, 0.006511854465056484, 0.9980542002921579, 0.9925524572079927, 0.5302291260937563, 0.20024851053668716, 0.2273702049660353, 0.0013560847214674073, 0.01808112961956543, 0.00858853656929358, 0.0027121694429348146, 0.01175273425271753, 0.9977761824659708, 0.0010502907183852323, 0.9972330856933159, 0.928281120998175, 0.06630579435701249, 0.9909900263988694, 0.5363511100627545, 0.08243915210223819, 0.3247903944268902, 0.009932427964125084, 0.01787837033542515, 0.0119189135569501, 0.007945942371300068, 0.007945942371300068, 0.0378568759407782, 0.40380667670163406, 0.0189284379703891, 0.06309479323463033, 0.4732109492597274, 0.7500082977538668, 0.09949089664081907, 0.046684189962230484, 0.0015306291790895242, 0.0007653145895447621, 0.03443915652951429, 0.04209230242496191, 0.006122516716358097, 0.01913286473861905, 0.37141852031271394, 0.25818116655883777, 0.28196101084715175, 0.02264747075077524, 0.06114817102709315, 0.0033971206126162863, 0.001132373537538762, 0.9893953950275207, 0.7836925800307857, 0.155105823131093, 0.031911724376253586, 0.018553328125728828, 0.0037106656251457656, 0.0007421331250291531, 0.005937065000233225, 0.9767809172073021, 0.017122535442280467, 0.005574778981207594, 0.997069610721688, 0.9867581590890643, 0.0869412560421089, 0.894252919290263, 0.9740117496660686, 0.002763153899761897, 0.011052615599047588, 0.0013815769498809484, 0.009671038649166639, 0.9962254920553577, 0.014370784507544126, 0.9772133465130005, 0.21560107374427195, 0.7829723204397244, 0.09340044978564462, 0.39515574909311185, 0.5101101488292898, 0.06265765119276605, 0.9242003550932991, 0.9799639620429361, 0.3868892959974776, 0.43085398872446373, 0.020883229045318395, 0.07034350836317775, 0.027477932954366308, 0.0010991173181746524, 0.06264968713595519, 0.9772586461220562, 0.9525093955786567, 0.0006983206712453494, 0.021647940808605833, 0.010474810068680243, 0.0006983206712453494, 0.01396641342490699, 0.2022670201877145, 0.7413978644380564, 0.029745150027605072, 0.020077976268633425, 0.005949030005521014, 0.9952068110105089, 0.9912104045008603, 0.004235941899576326, 0.4875947674059771, 0.3765154860738462, 0.053736405579504876, 0.005770352276993812, 0.001442588069248453, 0.022720762090663135, 0.0353434076965871, 0.01658976279635721, 0.1555971593523491, 0.09238581336545729, 0.05834893475713091, 0.2966070850154155, 0.03403687860832637, 0.029174467378565456, 0.3306439636237419, 0.9839232287941198, 0.051794414336105966, 0.04661497290249537, 0.8960433680146331, 0.9591991140092986, 0.9040751532992611, 0.09433827686600986, 0.9699209721848417, 0.06068007610996679, 0.6371407991546513, 0.2813348983280278, 0.005516370555451526, 0.013790926388628817, 0.9971959743983787, 0.6389000525294098, 0.05426950253145566, 0.04316892246820337, 0.014184074525266821, 0.03083494462014526, 0.058586394778276, 0.13567375632863915, 0.020967762341698778, 0.0037001933544174317, 0.9796248369180258, 0.985293437159341, 0.38478784900745666, 0.15245249573248648, 0.31728120883070987, 0.0016876660044186694, 0.010125996026512016, 0.02475243473147382, 0.06525641883752188, 0.02137710272263648, 0.005625553348062232, 0.01631410470938047, 0.5382400548443447, 0.032238336618281065, 0.28313669551707715, 0.004205000428471443, 0.03364000342777154, 0.03784500385624299, 0.07008334047452405, 0.002803333618980962, 0.813416260629926, 0.006599726252575464, 0.07094705721518624, 0.009899589378863196, 0.02722387079187379, 0.06104746783632305, 0.006599726252575464, 0.004949794689431598, 0.006272677042457236, 0.6931308131915246, 0.050181416339657885, 0.006272677042457236, 0.050181416339657885, 0.1913166497949457, 0.9785581091828909, 0.126402573941566, 0.05322213639644885, 0.12307619041678797, 0.0997915057433416, 0.006652767049556106, 0.1064442727928977, 0.47234646051848356, 0.00997915057433416, 0.9725838341680284, 0.9982891823826927, 0.7808333027579191, 0.03549242285263268, 0.010802041737757773, 0.1543148819679682, 0.004629446459039046, 0.013888339377117137, 0.8000373590016072, 0.009433012339002001, 0.07340062726285931, 0.01061213888137725, 0.010906920516971064, 0.008843449067814375, 0.03684770444922657, 0.04775462496619763, 0.0014739081779690626, 0.0005895632711876251, 0.9961295624172481, 0.4590680526022261, 0.48265031557836785, 0.03930377162690292, 0.0062886034603044675, 0.012577206920608935, 0.42653818628640544, 0.5557728904895999, 0.001909872475909278, 0.0012732483172728521, 0.011459234855455669, 0.001909872475909278, 0.5255909429386151, 0.4211156790517344, 0.024109676281587847, 0.02732429978579956, 0.9314724561261186, 0.004859856292831924, 0.027539185659380898, 0.004859856292831924, 0.02591923356177026, 0.006479808390442565, 0.976313812001003, 0.9950012664914514, 0.9490263652517794, 0.045191731678656165, 0.4290882441872587, 0.12238080203932379, 0.23720723358239304, 0.046837097076778245, 0.0135978668932582, 0.04381534887827642, 0.0135978668932582, 0.09367419415355649, 0.7280364018649611, 0.15866677660091358, 0.0012205136661608735, 0.025630786989378346, 0.0006102568330804368, 0.044548748814871884, 0.007323081996965242, 0.0347846394855849, 0.878684967171093, 0.040921938962689974, 0.026144572115051928, 0.028418013168534702, 0.020460969481344987, 0.004546882106965552, 0.18846610828509872, 0.2171457334589181, 0.07374760758982124, 0.024582535863273747, 0.4957478065760206, 0.38855770272047124, 0.5816146745124036, 0.007331277409820212, 0.004887518273213475, 0.014662554819640424, 0.3031509133952157, 0.49755686611379896, 0.00417180156048462, 0.001668720624193848, 0.00027812010403230797, 0.17354694491616018, 0.014462245409680014, 0.005006161872581544, 0.00027812010403230797, 0.396969927776009, 0.5464462586052469, 0.0012252158264691635, 0.05513471219111236, 0.9785557178524161, 0.13634683701616396, 0.13634683701616396, 0.7158208943348607, 0.011362236418013663, 0.6205479684073355, 0.1918963597082925, 0.12710018630029762, 0.0037382407735381657, 0.0021806404512305965, 0.006230401289230276, 0.03707088767092014, 0.009034081869383901, 0.001557600322307569, 0.0006230401289230276, 0.22979990889989016, 0.37121523745366874, 0.04640190468170859, 0.262944126529682, 0.08617496583745882, 0.00220961450865279, 0.7851863073033305, 0.21529301974446158, 0.9868827947959328, 0.9750849584855301, 0.987458069695431, 0.9780144036674009, 0.9874642238876463, 0.9931990325705421, 0.9929453378896361, 0.9900910524954354, 0.008122898334055531, 0.0018050885186790071, 0.6374204987602435, 0.11561058065749516, 0.0656168160488486, 0.10519521303069379, 0.059367595472767785, 0.015623051440202049, 0.0010415367626801365, 0.9842773922866556, 0.985392887471972, 0.012642760559462578, 0.9734925630786185, 0.9886636448646708, 0.980964334439576, 0.9794061637970979, 0.8347603725113875, 0.030069676691874568, 0.08497952108573248, 0.0006536886237364037, 0.008497952108573247, 0.02549385632571974, 0.015034838345937284, 0.7287468312934281, 0.21558307900409163, 0.026065460433744074, 0.0065163651084360185, 0.020092125751011058, 0.0032581825542180093, 0.9918281852935195, 0.9790881921900325, 0.8557864218027729, 0.05229247230757249, 0.050281223372665856, 0.03720810529577273, 0.003016873402359951, 0.001005624467453317, 0.9905250999959245, 0.004665999798096549, 0.003332856998640392, 0.0006665713997280784, 0.0006665713997280784, 0.9851848866231891, 0.9812189556274216, 0.9893875213088081, 0.9914768786192026, 0.9967829126050135, 0.0021230732962833087], \"Term\": [\"aha\", \"air\", \"air\", \"air\", \"air\", \"alight\", \"alive\", \"alive\", \"anpanman\", \"anpanman\", \"attack\", \"ay\", \"ayy\", \"ba\", \"bad\", \"bad\", \"bad\", \"bad\", \"bad\", \"bad\", \"bae\", \"bailar\", \"ballin\", \"bam\", \"baram\", \"bass\", \"beautiful\", \"beautiful\", \"beautiful\", \"beautiful\", \"beautiful\", \"beautiful\", \"beautiful\", \"beep\", \"bell\", \"bell\", \"bi\", \"birthday\", \"birthday\", \"bite\", \"black\", \"black\", \"black\", \"blah\", \"blah\", \"blue\", \"blue\", \"blue\", \"body\", \"body\", \"body\", \"body\", \"body\", \"boku\", \"bomb\", \"boom\", \"boom\", \"boom\", \"bounce\", \"bow\", \"boy\", \"boy\", \"boy\", \"boy\", \"boy\", \"boy\", \"boy\", \"break\", \"break\", \"break\", \"break\", \"break\", \"breathe\", \"bring\", \"bring\", \"bring\", \"bring\", \"brr\", \"bu\", \"bubble\", \"bum\", \"burn\", \"burn\", \"butterfly\", \"bye\", \"call\", \"call\", \"call\", \"call\", \"call\", \"call\", \"candy\", \"ch\", \"change\", \"change\", \"chi\", \"chill\", \"cho\", \"chocolate\", \"christmas\", \"chu\", \"chu\", \"city\", \"city\", \"clap\", \"clap\", \"clap\", \"clock\", \"club\", \"color\", \"control\", \"control\", \"control\", \"control\", \"cool\", \"cool\", \"cool\", \"cool\", \"cool\", \"cos\", \"crazy\", \"crazy\", \"crazy\", \"crazy\", \"crazy\", \"cream\", \"crescent\", \"crush\", \"dan\", \"dance\", \"dance\", \"dance\", \"dance\", \"dangerous\", \"dat\", \"dawn\", \"day\", \"day\", \"day\", \"day\", \"day\", \"day\", \"day\", \"di\", \"diamond\", \"diamond\", \"different\", \"dirty\", \"dirty\", \"disco\", \"diva\", \"dollar\", \"dong\", \"doo\", \"doo\", \"door\", \"door\", \"dot\", \"double\", \"double\", \"double\", \"dream\", \"dream\", \"dream\", \"dream\", \"dream\", \"dress\", \"dress\", \"drive\", \"dum\", \"dumb\", \"dynamite\", \"dynnnnnanana\", \"ehoh\", \"everybody\", \"everybody\", \"everybody\", \"everybody\", \"everybody\", \"everybody\", \"everybody\", \"everyday\", \"everyday\", \"everyday\", \"everyday\", \"everyday\", \"eye\", \"eye\", \"eye\", \"eye\", \"fake\", \"fallin\", \"fan\", \"fan\", \"fan\", \"feel\", \"feel\", \"feel\", \"feel\", \"feel\", \"feelin\", \"fight\", \"fight\", \"fine\", \"fine\", \"fine\", \"fire\", \"fire\", \"fire\", \"fire\", \"flower\", \"fly\", \"fly\", \"fly\", \"fly\", \"friend\", \"friend\", \"funk\", \"ga\", \"gee\", \"gen\", \"ghost\", \"gi\", \"gim\", \"girl\", \"girl\", \"girl\", \"girl\", \"girl\", \"girl\", \"girl\", \"girl\", \"god\", \"god\", \"god\", \"god\", \"god\", \"gon\", \"gon\", \"gon\", \"gon\", \"gon\", \"gon\", \"gon\", \"gon\", \"gon\", \"good\", \"good\", \"good\", \"good\", \"good\", \"good\", \"goodbye\", \"goodbye\", \"gosh\", \"gosh\", \"gravity\", \"great\", \"greedy\", \"hallo\", \"hand\", \"hand\", \"hand\", \"happy\", \"happy\", \"happy\", \"hate\", \"head\", \"head\", \"head\", \"head\", \"heal\", \"heart\", \"heart\", \"heart\", \"heart\", \"heart\", \"heart\", \"hello\", \"high\", \"high\", \"high\", \"high\", \"high\", \"high\", \"hip\", \"hit\", \"hit\", \"ho\", \"ho\", \"ho\", \"ho\", \"ho\", \"hol\", \"holic\", \"home\", \"honey\", \"honey\", \"honey\", \"honey\", \"hoohoo\", \"hot\", \"hot\", \"hotshot\", \"hotter\", \"hurry\", \"hush\", \"ice\", \"illa\", \"imma\", \"imma\", \"imma\", \"irony\", \"issue\", \"ive\", \"jingle\", \"jump\", \"jump\", \"jump\", \"jump\", \"jumpin\", \"jumpin\", \"killer\", \"kimi\", \"kiss\", \"kiss\", \"kiss\", \"kiss\", \"kiss\", \"kno\", \"knock\", \"lady\", \"lady\", \"lady\", \"lady\", \"lady\", \"lady\", \"lady\", \"lalalala\", \"last\", \"last\", \"last\", \"last\", \"last\", \"leggo\", \"lem\", \"li\", \"liar\", \"lie\", \"lie\", \"life\", \"life\", \"life\", \"life\", \"life\", \"life\", \"life\", \"life\", \"light\", \"light\", \"light\", \"light\", \"light\", \"light\", \"likey\", \"line\", \"line\", \"little\", \"little\", \"little\", \"live\", \"live\", \"live\", \"lo\", \"lolli\", \"lollipop\", \"loud\", \"love\", \"love\", \"love\", \"love\", \"love\", \"love\", \"luck\", \"lucky\", \"luv\", \"mad\", \"mad\", \"magic\", \"magic\", \"man\", \"man\", \"man\", \"man\", \"man\", \"man\", \"man\", \"man\", \"matter\", \"matter\", \"meow\", \"mess\", \"middle\", \"middle\", \"mine\", \"mine\", \"mine\", \"mine\", \"mine\", \"mine\", \"mo\", \"money\", \"money\", \"money\", \"monster\", \"moon\", \"moon\", \"moon\", \"move\", \"move\", \"move\", \"movin\", \"muah\", \"muzik\", \"mystery\", \"nai\", \"new\", \"new\", \"new\", \"new\", \"new\", \"new\", \"new\", \"ni\", \"night\", \"night\", \"night\", \"night\", \"night\", \"night\", \"nobody\", \"nonstop\", \"nope\", \"nothing\", \"nothing\", \"nothing\", \"nothing\", \"nothing\", \"nothing\", \"number\", \"number\", \"ohohohoh\", \"open\", \"pain\", \"pam\", \"paradise\", \"party\", \"party\", \"party\", \"party\", \"party\", \"party\", \"peek\", \"peep\", \"perfect\", \"perfect\", \"play\", \"play\", \"play\", \"play\", \"play\", \"poison\", \"pop\", \"pow\", \"power\", \"power\", \"push\", \"py\", \"ra\", \"radio\", \"rain\", \"rain\", \"rainbow\", \"ready\", \"ready\", \"ready\", \"ready\", \"ready\", \"real\", \"real\", \"real\", \"real\", \"remedy\", \"replay\", \"rewind\", \"ride\", \"ride\", \"right\", \"right\", \"right\", \"right\", \"right\", \"right\", \"right\", \"right\", \"right\", \"right\", \"rip\", \"rock\", \"rock\", \"rock\", \"rocket\", \"roll\", \"roll\", \"rollin\", \"rollin\", \"roo\", \"roo\", \"roob\", \"rookie\", \"round\", \"run\", \"run\", \"rush\", \"rush\", \"rwa\", \"sa\", \"senorita\", \"sexy\", \"sexy\", \"sexy\", \"shake\", \"shake\", \"shi\", \"shoot\", \"shoot\", \"shootout\", \"shop\", \"short\", \"show\", \"show\", \"show\", \"show\", \"show\", \"shy\", \"sick\", \"signal\", \"simple\", \"slip\", \"slow\", \"slow\", \"slow\", \"slow\", \"smile\", \"smile\", \"smile\", \"smile\", \"smile\", \"snap\", \"somebody\", \"someone\", \"someone\", \"something\", \"something\", \"something\", \"something\", \"something\", \"something\", \"song\", \"song\", \"song\", \"song\", \"song\", \"song\", \"sorry\", \"sorry\", \"sorry\", \"soul\", \"soul\", \"soul\", \"soul\", \"special\", \"star\", \"star\", \"star\", \"stay\", \"stay\", \"stay\", \"step\", \"step\", \"stop\", \"stop\", \"stop\", \"stop\", \"stupid\", \"stupid\", \"style\", \"style\", \"style\", \"style\", \"style\", \"style\", \"sugar\", \"sunny\", \"swan\", \"sweet\", \"sweet\", \"ta\", \"ta\", \"ta\", \"ta\", \"ta\", \"ta\", \"ta\", \"talk\", \"talk\", \"talk\", \"talker\", \"taste\", \"taste\", \"te\", \"tear\", \"thinkin\", \"tik\", \"time\", \"time\", \"time\", \"time\", \"time\", \"time\", \"time\", \"time\", \"time\", \"toc\", \"today\", \"today\", \"today\", \"tonight\", \"tonight\", \"tonight\", \"tonight\", \"touch\", \"touch\", \"touch\", \"touch\", \"train\", \"trick\", \"true\", \"true\", \"true\", \"true\", \"true\", \"true\", \"twilight\", \"twit\", \"type\", \"uhhuh\", \"umpah\", \"vroom\", \"wa\", \"wa\", \"walker\", \"wan\", \"wan\", \"wan\", \"wan\", \"watch\", \"watch\", \"way\", \"way\", \"way\", \"way\", \"way\", \"way\", \"way\", \"whatta\", \"whole\", \"whoo\", \"wild\", \"wish\", \"wish\", \"woah\", \"woah\", \"woman\", \"wonderful\", \"work\", \"work\", \"work\", \"work\", \"world\", \"world\", \"world\", \"world\", \"world\", \"world\", \"world\", \"wrong\", \"wrong\", \"wrong\", \"wrong\", \"wuss\", \"xiang\", \"yah\", \"yayaya\", \"yolo\", \"york\", \"young\", \"young\", \"young\", \"zimzalabim\", \"zimzim\", \"zimzimzalabim\", \"zoo\", \"\\uac00\\uc2b4\", \"\\uac00\\uc2b4\", \"\\uac00\\uc2b4\", \"\\uac00\\uc2b4\", \"\\uac00\\uc2b4\", \"\\uac00\\uc2b4\", \"\\uac00\\uc2b4\", \"\\uac00\\uc2b4\", \"\\uac00\\uc871\", \"\\uac00\\uc9dc\", \"\\uac00\\uc9dc\", \"\\uac04\\uc9c1\", \"\\uac04\\uc9c8\", \"\\uac08\\ub798\", \"\\uac08\\ub798\", \"\\uac08\\ub798\", \"\\uac08\\ub798\", \"\\uac70\\uae30\", \"\\uac70\\uae30\", \"\\uac70\\uae30\", \"\\uac70\\uae30\", \"\\uac70\\uae30\", \"\\uac70\\uae30\", \"\\uac70\\uae30\", \"\\uac70\\uc6b8\", \"\\uac70\\uc6b8\", \"\\uac70\\uc6b8\", \"\\uac70\\uc6b8\", \"\\uacc4\\uc808\", \"\\uace0\\uace0\", \"\\uace0\\ub9d9\\ub2e4\", \"\\uace0\\ub9d9\\ub2e4\", \"\\uace0\\ubbfc\", \"\\uace0\\ubbfc\", \"\\uace0\\ubbfc\", \"\\uace0\\ubbfc\", \"\\uace0\\ubbfc\", \"\\uace0\\ubbfc\", \"\\uace0\\ubbfc\", \"\\uad1c\\ucc2e\\ub2e4\", \"\\uad1c\\ucc2e\\ub2e4\", \"\\uad1c\\ucc2e\\ub2e4\", \"\\uad1c\\ucc2e\\ub2e4\", \"\\uad1c\\ucc2e\\ub2e4\", \"\\uad1c\\ucc2e\\ub2e4\", \"\\uad1c\\ucc2e\\ub2e4\", \"\\uad74\\uc9c0\", \"\\uad7f\\ubc24\", \"\\uad81\\uae08\\ud558\\ub2e4\", \"\\uad81\\uae08\\ud558\\ub2e4\", \"\\uad81\\uae08\\ud558\\ub2e4\", \"\\uad81\\uae08\\ud558\\ub2e4\", \"\\uadc0\\uc5fd\\ub2e4\", \"\\uadf8\\ub0a0\", \"\\uadf8\\ub0a0\", \"\\uadf8\\ub0e5\", \"\\uadf8\\ub0e5\", \"\\uadf8\\ub0e5\", \"\\uadf8\\ub0e5\", \"\\uadf8\\ub0e5\", \"\\uadf8\\ub0e5\", \"\\uadf8\\ub0e5\", \"\\uadf8\\ub0e5\", \"\\uadf8\\ub550\", \"\\uadf8\\ub9ac\\uc6c0\", \"\\uae30\\ub2e4\\ub9bc\", \"\\uae30\\ub3c4\", \"\\uae30\\ub3c4\", \"\\uae30\\ub3c4\", \"\\uae30\\ub3c4\", \"\\uae30\\ubd84\", \"\\uae30\\ubd84\", \"\\uae30\\ubd84\", \"\\uae30\\ubd84\", \"\\uae30\\ubd84\", \"\\uae30\\ubd84\", \"\\uae30\\ubd84\", \"\\uae30\\uc5b5\", \"\\uae30\\uc5b5\", \"\\uae30\\uc5b5\", \"\\uae30\\uc5b5\", \"\\uae5c\\ube61\", \"\\ub044\\ub355\", \"\\ub098\\uc058\\ub2e4\", \"\\ub098\\uc058\\ub2e4\", \"\\ub098\\uc058\\ub2e4\", \"\\ub098\\uc058\\ub2e4\", \"\\ub098\\uc058\\ub2e4\", \"\\ub098\\uc058\\ub2e4\", \"\\ub098\\uc640\\ub77c\", \"\\ub098\\uc774\", \"\\ub098\\uc774\", \"\\ub098\\uc774\", \"\\ub098\\uc774\", \"\\ub098\\uc774\", \"\\ub099\\uc6d0\", \"\\ub09c\\ub09c\", \"\\ub0a0\\ub85c\", \"\\ub0a8\\uc544\", \"\\ub0a8\\uc544\", \"\\ub0a8\\uc790\", \"\\ub0a8\\uc790\", \"\\ub0a8\\uc790\", \"\\ub0a8\\uc790\", \"\\ub0a8\\uc790\", \"\\ub0a8\\uc790\", \"\\ub0a8\\uc790\", \"\\ub0a8\\uc790\", \"\\ub0a8\\uc790\", \"\\ub178\\ub798\", \"\\ub178\\ub798\", \"\\ub178\\ub798\", \"\\ub178\\ub798\", \"\\ub178\\ub798\", \"\\ub178\\ub798\", \"\\ub178\\ub825\", \"\\ub178\\ub825\", \"\\ub178\\ub825\", \"\\ub178\\ub825\", \"\\ub178\\ub825\", \"\\ub180\\uc774\", \"\\ub180\\uc774\", \"\\ub192\\uc774\", \"\\ub192\\uc774\", \"\\ub192\\uc774\", \"\\ub1a8\\ub2e4\", \"\\ub204\\uac00\", \"\\ub204\\uac00\", \"\\ub204\\uac00\", \"\\ub204\\uac00\", \"\\ub204\\uac00\", \"\\ub204\\uac00\", \"\\ub204\\uac00\", \"\\ub204\\uac00\", \"\\ub204\\uac00\", \"\\ub208\\ubb3c\", \"\\ub208\\ube5b\", \"\\ub208\\ube5b\", \"\\ub208\\ube5b\", \"\\ub208\\ube5b\", \"\\ub208\\ube5b\", \"\\ub208\\ube5b\", \"\\ub208\\ube5b\", \"\\ub290\\ub08c\", \"\\ub290\\ub08c\", \"\\ub290\\ub08c\", \"\\ub290\\ub08c\", \"\\ub290\\ub08c\", \"\\ub290\\ub08c\", \"\\ub290\\ub08c\", \"\\ub2e4\\ub974\\ub2e4\", \"\\ub2e4\\ub974\\ub2e4\", \"\\ub2e4\\ub974\\ub2e4\", \"\\ub2e4\\ub974\\ub2e4\", \"\\ub2e4\\ub974\\ub2e4\", \"\\ub2ec\\ub77c\", \"\\ub2ec\\ub77c\", \"\\ub2ec\\ub77c\", \"\\ub2ec\\ub77c\", \"\\ub2ec\\ub77c\", \"\\ub2ec\\ub77c\", \"\\ub2ec\\ub77c\", \"\\ub2ec\\ucf64\\ud558\\ub2e4\", \"\\ub2ec\\ucf64\\ud558\\ub2e4\", \"\\ub2ec\\ucf64\\ud558\\ub2e4\", \"\\ub2ec\\ucf64\\ud558\\ub2e4\", \"\\ub2ec\\ucf64\\ud558\\ub2e4\", \"\\ub2ec\\ucf64\\ud558\\ub2e4\", \"\\ub300\\ub85c\", \"\\ub300\\ub85c\", \"\\ub300\\ub85c\", \"\\ub300\\ub85c\", \"\\ub300\\ub85c\", \"\\ub300\\ub85c\", \"\\ub300\\ub85c\", \"\\ub300\\ub85c\", \"\\ub300\\ud55c\\ubbfc\\uad6d\", \"\\ub370\\uc774\\ud2b8\", \"\\ub3c4\\ub8cc\", \"\\ub450\\ub8e8\", \"\\ub4dc\\ub8e8\", \"\\ub530\\ub530\", \"\\ub69c\\ub69c\\ub69c\", \"\\ub728\\uac81\\ub2e4\", \"\\ub728\\uac81\\ub2e4\", \"\\ub728\\uac81\\ub2e4\", \"\\ub728\\uac81\\ub2e4\", \"\\ub728\\uac81\\ub2e4\", \"\\ub728\\uac81\\ub2e4\", \"\\ub728\\uac81\\ub2e4\", \"\\ub728\\ub728\\ub8e8\", \"\\ub77c\\ub530\", \"\\ub77c\\uc774\", \"\\ub77c\\uc774\", \"\\ub784\\ub77c\\ub77c\", \"\\ub808\\uc624\", \"\\ub808\\ud14c\", \"\\ub85c\\uafb8\\uac70\", \"\\ub85c\\ub9e8\\uc2a4\", \"\\ub864\\ub7ec\\ucf54\\uc2a4\\ud130\", \"\\ub8e8\\ub8e8\", \"\\ub9ac\\ub4ec\", \"\\ub9ac\\ub4ec\", \"\\ub9ac\\ub4ec\", \"\\ub9ac\\ub4ec\", \"\\ub9ac\\ub4ec\", \"\\ub9ac\\ub4ec\", \"\\ub9c8\\uc74c\", \"\\ub9c8\\uc74c\", \"\\ub9c8\\uc74c\", \"\\ub9c8\\uc74c\", \"\\ub9c8\\uc74c\", \"\\ub9c8\\uc74c\", \"\\ub9c8\\uc74c\", \"\\ub9c8\\uc9c0\\ub9c9\", \"\\ub9c8\\uc9c0\\ub9c9\", \"\\ub9c8\\uc9c0\\ub9c9\", \"\\ub9c8\\uc9c0\\ub9c9\", \"\\ub9c8\\uc9c0\\ub9c9\", \"\\ub9c8\\uc9c0\\ub9c9\", \"\\ub9cc\\uc138\", \"\\ub9ce\\ub2e4\", \"\\ub9ce\\ub2e4\", \"\\ub9ce\\ub2e4\", \"\\ub9ce\\ub2e4\", \"\\ub9ce\\ub2e4\", \"\\ub9ce\\ub2e4\", \"\\ub9ce\\ub2e4\", \"\\ub9ce\\ub2e4\", \"\\ub9e4\\uc77c\", \"\\ub9e4\\uc77c\", \"\\ub9e4\\uc77c\", \"\\ub9e4\\uc77c\", \"\\ub9e4\\uc77c\", \"\\ub9e4\\uc77c\", \"\\ub9e4\\uc77c\", \"\\ub9e4\\uc77c\", \"\\ub9e4\\uc77c\", \"\\uba38\\ub9ac\", \"\\uba38\\ub9ac\", \"\\uba38\\ub9ac\", \"\\uba38\\ub9ac\", \"\\uba38\\ub9ac\", \"\\uba38\\ub9ac\", \"\\uba38\\ub9ac\", \"\\uba38\\ub9ac\", \"\\uba40\\ub9ac\", \"\\uba40\\ub9ac\", \"\\uba40\\ub9ac\", \"\\uba40\\ub9ac\", \"\\uba40\\ub9ac\", \"\\uba40\\ub9ac\", \"\\uba40\\ub9ac\", \"\\uba74\\ubc1c\", \"\\ubaa8\\ub4e0\", \"\\ubaa8\\ub4e0\", \"\\ubaa8\\ub4e0\", \"\\ubaa8\\ub4e0\", \"\\ubaa8\\ub4e0\", \"\\ubaa8\\ub4e0\", \"\\ubaa8\\ub4e0\", \"\\ubaa8\\ub4e0\", \"\\ubaa8\\uc2b5\", \"\\ubaa8\\uc2b5\", \"\\ubaa8\\uc2b5\", \"\\ubaa8\\uc2b5\", \"\\ubaa8\\uc2b5\", \"\\ubaa8\\uc2b5\", \"\\ubaa8\\uc2b5\", \"\\ubaa8\\uc774\", \"\\ubab0\\ub798\", \"\\ubab0\\ub798\", \"\\ubab0\\ub798\", \"\\ubab0\\ub798\", \"\\ubab0\\ub798\", \"\\ubab0\\ub798\", \"\\ubbf8\\ub828\", \"\\ubbf8\\ub828\", \"\\ubbf8\\ub85c\", \"\\ubbf8\\ub85c\", \"\\ubbf8\\ub85c\", \"\\ubbf8\\ub85c\", \"\\ubbf8\\ub85c\", \"\\ubbf8\\uc548\\ud558\\ub2e4\", \"\\ubbf8\\uc548\\ud558\\ub2e4\", \"\\ubbf8\\uc548\\ud558\\ub2e4\", \"\\ubbf8\\uc548\\ud558\\ub2e4\", \"\\ubbf8\\uc548\\ud558\\ub2e4\", \"\\ubbf8\\uce58\\ub2e4\", \"\\ubbf8\\uce58\\ub2e4\", \"\\ubbf8\\uce58\\ub2e4\", \"\\ubbf8\\uce58\\ub2e4\", \"\\ubbf8\\uce58\\ub2e4\", \"\\ubbf8\\uce58\\ub2e4\", \"\\ubbf8\\uce58\\ub2e4\", \"\\ubbf8\\uce58\\ub2e4\", \"\\ubbf8\\uce58\\ub2e4\", \"\\ubc09\\ub2e4\", \"\\ubc09\\ub2e4\", \"\\ubc09\\ub2e4\", \"\\ubc09\\ub2e4\", \"\\ubc14\\ub77c\\ubc14\", \"\\ubc14\\ub78c\", \"\\ubc14\\ub78c\", \"\\ubc14\\ub78c\", \"\\ubc14\\ub78c\", \"\\ubc14\\ub78c\", \"\\ubc14\\ub78c\", \"\\ubc14\\ubcf4\", \"\\ubc14\\ubcf4\", \"\\ubc14\\ubcf4\", \"\\ubc14\\ubcf4\", \"\\ubc14\\ubcf4\", \"\\ubc14\\uc058\\ub2e4\", \"\\ubc14\\uc058\\ub2e4\", \"\\ubc14\\uc058\\ub2e4\", \"\\ubc14\\uc058\\ub2e4\", \"\\ubc14\\uc058\\ub2e4\", \"\\ubc14\\uc058\\ub2e4\", \"\\ubc14\\uc058\\ub2e4\", \"\\ubc15\\uc218\", \"\\ubc18\\uc751\", \"\\ubc18\\uc751\", \"\\ubc18\\ud558\\ub2e4\", \"\\ubc18\\ud558\\ub2e4\", \"\\ubc18\\ud558\\ub2e4\", \"\\ubc18\\ud558\\ub2e4\", \"\\ubc18\\ud558\\ub2e4\", \"\\ubc45\\uae00\", \"\\ubc84\\uc2a4\", \"\\ubc84\\uc2a4\", \"\\ubc84\\ud2f0\\uace0\", \"\\ubc88\\uca4d\", \"\\ubca0\\ubca0\", \"\\ubcc0\\ud558\\ub2e4\", \"\\ubcc0\\ud558\\ub2e4\", \"\\ubcc0\\ud558\\ub2e4\", \"\\ubcc0\\ud558\\ub2e4\", \"\\ubcc0\\ud558\\ub2e4\", \"\\ubcc0\\ud558\\ub2e4\", \"\\ubcf4\\uace0\", \"\\ubcf4\\uace0\", \"\\ubcf4\\uace0\", \"\\ubcf4\\uace0\", \"\\ubcf4\\uace0\", \"\\ubcf4\\uace0\", \"\\ubcf4\\uace0\", \"\\ubd80\\ub514\", \"\\ube59\\ube59\", \"\\ube60\\ube60\", \"\\ube68\\uac1b\\ub2e4\", \"\\ube68\\uac1b\\ub2e4\", \"\\ube68\\uac1b\\ub2e4\", \"\\ube68\\uac1b\\ub2e4\", \"\\ube68\\uac1b\\ub2e4\", \"\\ube68\\uac1b\\ub2e4\", \"\\uc090\\uc090\", \"\\uc0ac\\ub78c\", \"\\uc0ac\\ub78c\", \"\\uc0ac\\ub78c\", \"\\uc0ac\\ub78c\", \"\\uc0ac\\ub78c\", \"\\uc0ac\\ub78c\", \"\\uc0ac\\ub78c\", \"\\uc0ac\\ub78c\", \"\\uc0ac\\ub78c\", \"\\uc0ac\\ub791\", \"\\uc0ac\\ub791\", \"\\uc0ac\\ub791\", \"\\uc0ac\\ub791\", \"\\uc0ac\\ub791\", \"\\uc0ac\\ub791\", \"\\uc0ac\\ub791\", \"\\uc0ac\\uc774\", \"\\uc0ac\\uc774\", \"\\uc0ac\\uc774\", \"\\uc0ac\\uc774\", \"\\uc0ac\\uc774\", \"\\uc0ac\\uc774\", \"\\uc0ac\\uc774\", \"\\uc0ac\\uc774\", \"\\uc0b4\\uc9dd\", \"\\uc0b4\\uc9dd\", \"\\uc0b4\\uc9dd\", \"\\uc0c1\\ucc98\", \"\\uc0c1\\ucc98\", \"\\uc0c1\\ucc98\", \"\\uc0c1\\ud0dc\", \"\\uc0c8\\ub07c\", \"\\uc0c8\\ub86d\\ub2e4\", \"\\uc0c8\\ub86d\\ub2e4\", \"\\uc0c8\\ub86d\\ub2e4\", \"\\uc0c8\\ub86d\\ub2e4\", \"\\uc0c8\\ub86d\\ub2e4\", \"\\uc0c8\\ub86d\\ub2e4\", \"\\uc0c8\\ub86d\\ub2e4\", \"\\uc0c8\\ub86d\\ub2e4\", \"\\uc0dd\\uac01\", \"\\uc0dd\\uac01\", \"\\uc0dd\\uac01\", \"\\uc0dd\\uac01\", \"\\uc0dd\\uac01\", \"\\uc0dd\\uac01\", \"\\uc0dd\\uac01\", \"\\uc0dd\\uac01\", \"\\uc0dd\\uac01\", \"\\uc11c\\ub85c\", \"\\uc11c\\ub85c\", \"\\uc11c\\ub85c\", \"\\uc11c\\ub85c\", \"\\uc124\\ub808\\ub2e4\", \"\\uc124\\ub808\\ub2e4\", \"\\uc124\\ub808\\ub2e4\", \"\\uc124\\ub808\\ub2e4\", \"\\uc124\\ub808\\ub2e4\", \"\\uc124\\ub808\\ub2e4\", \"\\uc131\\uacf5\\ud558\\ub2e4\", \"\\uc138\\uc0c1\", \"\\uc138\\uc0c1\", \"\\uc138\\uc0c1\", \"\\uc138\\uc0c1\", \"\\uc138\\uc0c1\", \"\\uc138\\uc0c1\", \"\\uc138\\uc0c1\", \"\\uc138\\uc0c1\", \"\\uc138\\uc6d4\", \"\\uc18c\\ub140\", \"\\uc18c\\ub140\", \"\\uc18c\\ub140\", \"\\uc18c\\ub9ac\", \"\\uc18c\\ub9ac\", \"\\uc18c\\ub9ac\", \"\\uc18c\\ub9ac\", \"\\uc18c\\ub9ac\", \"\\uc18c\\ub9ac\", \"\\uc18c\\ub9ac\", \"\\uc18c\\ub9ac\", \"\\uc18c\\ub9ac\", \"\\uc18c\\ub9ac\", \"\\uc18c\\uc6d0\", \"\\uc18c\\uc6d0\", \"\\uc18c\\uc6d0\", \"\\uc18c\\uc6d0\", \"\\uc18c\\uc911\\ud558\\ub2e4\", \"\\uc218\\ub9cc\", \"\\uc21c\\uac04\", \"\\uc21c\\uac04\", \"\\uc21c\\uac04\", \"\\uc21c\\uac04\", \"\\uc21c\\uac04\", \"\\uc21c\\uac04\", \"\\uc21c\\uac04\", \"\\uc21c\\uac04\", \"\\uc2ac\\ud504\\ub2e4\", \"\\uc2ac\\ud504\\ub2e4\", \"\\uc2ac\\ud514\", \"\\uc2b9\\ub9ac\", \"\\uc2b9\\ub9ac\", \"\\uc2dc\\ub9ac\", \"\\uc2dc\\uc791\", \"\\uc2dc\\uc791\", \"\\uc2dc\\uc791\", \"\\uc2dc\\uc791\", \"\\uc2dc\\uc791\", \"\\uc2dc\\uc791\", \"\\uc2dc\\uc791\", \"\\uc2dc\\uc791\", \"\\uc2e0\\ub098\\ub2e4\", \"\\uc2e0\\ub098\\ub2e4\", \"\\uc2e0\\ub098\\ub2e4\", \"\\uc2e0\\ub098\\ub2e4\", \"\\uc2e0\\ub098\\ub2e4\", \"\\uc2eb\\ub2e4\", \"\\uc2eb\\ub2e4\", \"\\uc2eb\\ub2e4\", \"\\uc2eb\\ub2e4\", \"\\uc2eb\\ub2e4\", \"\\uc2eb\\ub2e4\", \"\\uc2eb\\ub2e4\", \"\\uc2eb\\ub2e4\", \"\\uc2eb\\ub2e4\", \"\\uc2ec\\uc7a5\", \"\\uc2ec\\uc7a5\", \"\\uc2ec\\uc7a5\", \"\\uc2ec\\uc7a5\", \"\\uc2ec\\uc7a5\", \"\\uc2ec\\uc7a5\", \"\\uc2ec\\uc7a5\", \"\\uc544\\ub4dd\\ud558\\ub2e4\", \"\\uc544\\ub984\\ub2f5\\ub2e4\", \"\\uc544\\ub984\\ub2f5\\ub2e4\", \"\\uc544\\ub984\\ub2f5\\ub2e4\", \"\\uc544\\ub984\\ub2f5\\ub2e4\", \"\\uc544\\ub984\\ub2f5\\ub2e4\", \"\\uc544\\ub984\\ub2f5\\ub2e4\", \"\\uc544\\ub984\\ub2f5\\ub2e4\", \"\\uc544\\ud504\\ub2e4\", \"\\uc544\\ud504\\ub2e4\", \"\\uc544\\ud504\\ub2e4\", \"\\uc544\\ud514\", \"\\uc560\\ub9e4\\ud558\\ub2e4\", \"\\uc57c\\uc57c\", \"\\uc57c\\uc57c\", \"\\uc57d\\uc18d\", \"\\uc57d\\uc18d\", \"\\uc57d\\uc18d\", \"\\uc57d\\uc18d\", \"\\uc57d\\uc18d\", \"\\uc598\\uae38\", \"\\uc5b4\\uc5b4\", \"\\uc5b4\\uc5b4\", \"\\uc5b4\\uca5c\", \"\\uc5b4\\uca5c\", \"\\uc5c4\\ub9c8\", \"\\uc5c4\\ub9c8\", \"\\uc5c4\\ub9c8\", \"\\uc5d0\\uc774\", \"\\uc5d0\\uc774\", \"\\uc5ec\\ub984\\ubc24\", \"\\uc5ec\\uc790\", \"\\uc5ec\\uc790\", \"\\uc5ec\\uc790\", \"\\uc5ec\\uc790\", \"\\uc5ec\\uc790\", \"\\uc5ec\\uc790\", \"\\uc5ec\\uc790\", \"\\uc5f4\\ub300\\uc57c\", \"\\uc601\\uc6d0\\ud558\\ub2e4\", \"\\uc601\\uc6d0\\ud558\\ub2e4\", \"\\uc601\\uc6d0\\ud558\\ub2e4\", \"\\uc601\\uc6d0\\ud558\\ub2e4\", \"\\uc601\\uc6d0\\ud558\\ub2e4\", \"\\uc601\\uc6d0\\ud558\\ub2e4\", \"\\uc608\\uc058\\ub2e4\", \"\\uc608\\uc058\\ub2e4\", \"\\uc608\\uc058\\ub2e4\", \"\\uc608\\uc058\\ub2e4\", \"\\uc608\\uc058\\ub2e4\", \"\\uc608\\uc774\\uc608\", \"\\uc608\\uc804\", \"\\uc608\\uc804\", \"\\uc624\\ub298\", \"\\uc624\\ub298\", \"\\uc624\\ub298\", \"\\uc624\\ub298\", \"\\uc624\\ub298\", \"\\uc624\\ub298\", \"\\uc624\\ub298\", \"\\uc624\\ub298\", \"\\uc624\\ub298\\ubc24\", \"\\uc624\\ub298\\ubc24\", \"\\uc624\\ub298\\ubc24\", \"\\uc624\\ub298\\ubc24\", \"\\uc624\\ub298\\ubc24\", \"\\uc624\\ub298\\ubc24\", \"\\uc624\\ub298\\ubc24\", \"\\uc624\\ub808\", \"\\uc624\\ube60\", \"\\uc624\\ube60\", \"\\uc624\\ube60\", \"\\uc624\\uc608\", \"\\uc624\\uc624\\uc624\", \"\\uc624\\uc624\\uc624\", \"\\uc633\\ub2e4\", \"\\uc644\\ubcbd\\ud558\\ub2e4\", \"\\uc644\\ubcbd\\ud558\\ub2e4\", \"\\uc644\\ubcbd\\ud558\\ub2e4\", \"\\uc644\\ubcbd\\ud558\\ub2e4\", \"\\uc644\\ubcbd\\ud558\\ub2e4\", \"\\uc678\\ub85c\\uc6c0\", \"\\uc6b0\\ub9b0\", \"\\uc6b0\\ub9b0\", \"\\uc6b0\\ub9b0\", \"\\uc6b0\\ub9b0\", \"\\uc6b0\\ub9b0\", \"\\uc6b0\\ub9b0\", \"\\uc6b0\\ub9b0\", \"\\uc6b0\\ub9b0\", \"\\uc6b0\\ub9b0\", \"\\uc6b0\\uc5f0\\uc774\", \"\\uc6b1\\ud574\", \"\\uc6d0\\ud558\\ub2e4\", \"\\uc6d0\\ud558\\ub2e4\", \"\\uc6d0\\ud558\\ub2e4\", \"\\uc6d0\\ud558\\ub2e4\", \"\\uc6d0\\ud558\\ub2e4\", \"\\uc6d0\\ud558\\ub2e4\", \"\\uc6d0\\ud558\\ub2e4\", \"\\uc6d0\\ud558\\ub2e4\", \"\\uc6d0\\ud558\\ub2e4\", \"\\uc6d0\\ud558\\ub2e4\", \"\\uc704\\ub85c\", \"\\uc704\\ub85c\", \"\\uc704\\ub85c\", \"\\uc704\\ub85c\", \"\\uc704\\ub85c\", \"\\uc704\\ub85c\", \"\\uc704\\ub85c\", \"\\uc704\\ub85c\", \"\\uc704\\ud574\", \"\\uc704\\ud574\", \"\\uc704\\ud574\", \"\\uc704\\ud574\", \"\\uc704\\ud574\", \"\\uc704\\ud574\", \"\\uc704\\ud574\", \"\\uc704\\ud574\", \"\\uc704\\ud5d8\\ud558\\ub2e4\", \"\\uc704\\ud5d8\\ud558\\ub2e4\", \"\\uc704\\ud5d8\\ud558\\ub2e4\", \"\\uc704\\ud5d8\\ud558\\ub2e4\", \"\\uc704\\ud5d8\\ud558\\ub2e4\", \"\\uc704\\ud5d8\\ud558\\ub2e4\", \"\\uc720\\ud589\\uac00\", \"\\uc74c\\uc545\", \"\\uc74c\\uc545\", \"\\uc74c\\uc545\", \"\\uc74c\\uc545\", \"\\uc74c\\uc545\", \"\\uc74c\\uc545\", \"\\uc74c\\uc545\", \"\\uc74c\\uc545\", \"\\uc774\\ub178\", \"\\uc774\\ubcc4\", \"\\uc774\\uc720\", \"\\uc774\\uc720\", \"\\uc774\\uc720\", \"\\uc774\\uc720\", \"\\uc774\\uc720\", \"\\uc774\\uc720\", \"\\uc774\\uc81c\", \"\\uc774\\uc81c\", \"\\uc774\\uc81c\", \"\\uc774\\uc81c\", \"\\uc774\\uc81c\", \"\\uc774\\uc81c\", \"\\uc774\\uc81c\", \"\\uc774\\uc81c\", \"\\uc774\\uc81c\", \"\\uc774\\uc81c\", \"\\uc77c\\ub8e8\", \"\\uc785\\uc220\", \"\\uc785\\uc220\", \"\\uc785\\uc220\", \"\\uc785\\uc220\", \"\\uc785\\uc220\", \"\\uc790\\uafb8\", \"\\uc790\\uafb8\", \"\\uc790\\uafb8\", \"\\uc790\\uafb8\", \"\\uc790\\uafb8\", \"\\uc790\\uafb8\", \"\\uc790\\uafb8\\ub9cc\", \"\\uc790\\uafb8\\ub9cc\", \"\\uc790\\uafb8\\ub9cc\", \"\\uc790\\uafb8\\ub9cc\", \"\\uc790\\ub9ac\", \"\\uc790\\ub9ac\", \"\\uc790\\ub9ac\", \"\\uc790\\ub9ac\", \"\\uc790\\ub9ac\", \"\\uc790\\ub9ac\", \"\\uc794\\ub729\", \"\\uc798\\ubabb\", \"\\uc7a0\\ub3c4\", \"\\uc7a0\\ub3c4\", \"\\uc808\\ub300\", \"\\uc808\\ub300\", \"\\uc808\\ub300\", \"\\uc808\\ub300\", \"\\uc808\\ub300\", \"\\uc808\\ub300\", \"\\uc808\\ub300\", \"\\uc808\\ub300\", \"\\uc815\\ub9d0\", \"\\uc815\\ub9d0\", \"\\uc815\\ub9d0\", \"\\uc815\\ub9d0\", \"\\uc815\\ub9d0\", \"\\uc815\\ub9d0\", \"\\uc815\\ub9d0\", \"\\uc815\\ub9d0\", \"\\uc81c\\ubc1c\", \"\\uc81c\\ubc1c\", \"\\uc81c\\ubc1c\", \"\\uc81c\\ubc1c\", \"\\uc81c\\ubc1c\", \"\\uc81c\\ubc1c\", \"\\uc81c\\uc77c\", \"\\uc81c\\uc77c\", \"\\uc81c\\uc77c\", \"\\uc81c\\uc77c\", \"\\uc81c\\uc77c\", \"\\uc885\\uc77c\", \"\\uc885\\uc77c\", \"\\uc885\\uc77c\", \"\\uc885\\uc77c\", \"\\uc885\\uc77c\", \"\\uc88b\\ub2e4\", \"\\uc88b\\ub2e4\", \"\\uc88b\\ub2e4\", \"\\uc88b\\ub2e4\", \"\\uc88b\\ub2e4\", \"\\uc88b\\ub2e4\", \"\\uc88b\\ub2e4\", \"\\uc88b\\ub2e4\", \"\\uc88b\\ub2e4\", \"\\uc88b\\uc544\\ud558\\ub2e4\", \"\\uc88b\\uc544\\ud558\\ub2e4\", \"\\uc88b\\uc544\\ud558\\ub2e4\", \"\\uc88b\\uc544\\ud558\\ub2e4\", \"\\uc8fc\\uc70c\", \"\\uc9c0\\uad6c\", \"\\uc9c0\\uad6c\", \"\\uc9c0\\uad6c\", \"\\uc9c0\\uad6c\", \"\\uc9c0\\uae08\", \"\\uc9c0\\uae08\", \"\\uc9c0\\uae08\", \"\\uc9c0\\uae08\", \"\\uc9c0\\uae08\", \"\\uc9c0\\uae08\", \"\\uc9c0\\uae08\", \"\\uc9c0\\uae08\", \"\\uc9c0\\uae08\", \"\\uc9c0\\uae08\", \"\\uc9c4\\uc9dc\", \"\\uc9c4\\uc9dc\", \"\\uc9c4\\uc9dc\", \"\\uc9c4\\uc9dc\", \"\\uc9c4\\uc9dc\", \"\\uc9c4\\uc9dc\", \"\\uc9d1\\uc911\", \"\\uc9d1\\uc911\", \"\\uc9d5\\uae00\", \"\\uc9d5\\uae00\\uc9d5\\uae00\", \"\\ucc0c\\ub9bf\", \"\\ucc30\\ub098\", \"\\ucc54\\ud53c\\uc5b8\", \"\\ucc98\\uc74c\\ucc98\\ub7fc\", \"\\ucd08\\ub77c\\ud558\\ub2e4\", \"\\ucd94\\uc5b5\", \"\\ucd94\\uc5b5\", \"\\ucd94\\uc5b5\", \"\\uce5c\\uad6c\", \"\\uce5c\\uad6c\", \"\\uce5c\\uad6c\", \"\\uce5c\\uad6c\", \"\\uce5c\\uad6c\", \"\\uce5c\\uad6c\", \"\\uce5c\\uad6c\", \"\\uce60\\ud558\\ub2e4\", \"\\uce74\\ub4dc\", \"\\ud070\\uc77c\", \"\\ud070\\uc77c\", \"\\ud0d5\\uc9c4\", \"\\ud1a1\\ud1a1\", \"\\ud48d\\uc120\", \"\\ud558\\ub298\", \"\\ud558\\ub298\", \"\\ud558\\ub298\", \"\\ud558\\ub298\", \"\\ud558\\ub298\", \"\\ud558\\ub298\", \"\\ud558\\ub298\", \"\\ud558\\ub8e8\", \"\\ud558\\ub8e8\", \"\\ud558\\ub8e8\", \"\\ud558\\ub8e8\", \"\\ud558\\ub8e8\", \"\\ud558\\ub8e8\", \"\\ud558\\uc774\", \"\\ud55c\\uacc4\", \"\\ud56d\\uc0c1\", \"\\ud56d\\uc0c1\", \"\\ud56d\\uc0c1\", \"\\ud56d\\uc0c1\", \"\\ud56d\\uc0c1\", \"\\ud56d\\uc0c1\", \"\\ud589\\ubcf5\\ud558\\ub2e4\", \"\\ud589\\ubcf5\\ud558\\ub2e4\", \"\\ud589\\ubcf5\\ud558\\ub2e4\", \"\\ud589\\ubcf5\\ud558\\ub2e4\", \"\\ud589\\ubcf5\\ud558\\ub2e4\", \"\\ud658\\ud638\", \"\\ud718\\ud30c\\ub78c\", \"\\ud76c\\ubbf8\\ud558\\ub2e4\", \"\\ud798\\uacb9\\ub2e4\", \"\\ud798\\ub4e4\\ub2e4\", \"\\ud798\\ub4e4\\ub2e4\"]}, \"R\": 30, \"lambda.step\": 0.01, \"plot.opts\": {\"xlab\": \"PC1\", \"ylab\": \"PC2\"}, \"topic.order\": [8, 2, 6, 9, 3, 10, 4, 1, 5, 7]};\n",
       "\n",
       "function LDAvis_load_lib(url, callback){\n",
       "  var s = document.createElement('script');\n",
       "  s.src = url;\n",
       "  s.async = true;\n",
       "  s.onreadystatechange = s.onload = callback;\n",
       "  s.onerror = function(){console.warn(\"failed to load library \" + url);};\n",
       "  document.getElementsByTagName(\"head\")[0].appendChild(s);\n",
       "}\n",
       "\n",
       "if(typeof(LDAvis) !== \"undefined\"){\n",
       "   // already loaded: just create the visualization\n",
       "   !function(LDAvis){\n",
       "       new LDAvis(\"#\" + \"ldavis_el761228564464900561286978472\", ldavis_el761228564464900561286978472_data);\n",
       "   }(LDAvis);\n",
       "}else if(typeof define === \"function\" && define.amd){\n",
       "   // require.js is available: use it to load d3/LDAvis\n",
       "   require.config({paths: {d3: \"https://cdnjs.cloudflare.com/ajax/libs/d3/3.5.5/d3.min\"}});\n",
       "   require([\"d3\"], function(d3){\n",
       "      window.d3 = d3;\n",
       "      LDAvis_load_lib(\"https://cdn.rawgit.com/bmabey/pyLDAvis/files/ldavis.v1.0.0.js\", function(){\n",
       "        new LDAvis(\"#\" + \"ldavis_el761228564464900561286978472\", ldavis_el761228564464900561286978472_data);\n",
       "      });\n",
       "    });\n",
       "}else{\n",
       "    // require.js not available: dynamically load d3 & LDAvis\n",
       "    LDAvis_load_lib(\"https://cdnjs.cloudflare.com/ajax/libs/d3/3.5.5/d3.min.js\", function(){\n",
       "         LDAvis_load_lib(\"https://cdn.rawgit.com/bmabey/pyLDAvis/files/ldavis.v1.0.0.js\", function(){\n",
       "                 new LDAvis(\"#\" + \"ldavis_el761228564464900561286978472\", ldavis_el761228564464900561286978472_data);\n",
       "            })\n",
       "         });\n",
       "}\n",
       "</script>"
      ],
      "text/plain": [
       "<IPython.core.display.HTML object>"
      ]
     },
     "execution_count": 31,
     "metadata": {},
     "output_type": "execute_result"
    }
   ],
   "source": [
    "import pyLDAvis.gensim\n",
    "pyLDAvis.enable_notebook()\n",
    "vis = pyLDAvis.gensim.prepare(ldamodel, corpus, dictionary)\n",
    "pyLDAvis.display(vis)"
   ]
  },
  {
   "cell_type": "code",
   "execution_count": 32,
   "metadata": {},
   "outputs": [
    {
     "name": "stderr",
     "output_type": "stream",
     "text": [
      "C:\\Users\\308_1\\anaconda3\\envs\\eunhoo\\lib\\site-packages\\ipykernel\\ipkernel.py:287: DeprecationWarning: `should_run_async` will not call `transform_cell` automatically in the future. Please pass the result to `transformed_cell` argument and any exception that happen during thetransform in `preprocessing_exc_tuple` in IPython 7.17 and above.\n",
      "  and should_run_async(code)\n",
      "C:\\Users\\308_1\\anaconda3\\envs\\eunhoo\\lib\\site-packages\\tensorboard\\compat\\tensorflow_stub\\dtypes.py:541: FutureWarning: Passing (type, 1) or '1type' as a synonym of type is deprecated; in a future version of numpy, it will be understood as (type, (1,)) / '(1,)type'.\n",
      "  _np_qint8 = np.dtype([(\"qint8\", np.int8, 1)])\n",
      "C:\\Users\\308_1\\anaconda3\\envs\\eunhoo\\lib\\site-packages\\tensorboard\\compat\\tensorflow_stub\\dtypes.py:542: FutureWarning: Passing (type, 1) or '1type' as a synonym of type is deprecated; in a future version of numpy, it will be understood as (type, (1,)) / '(1,)type'.\n",
      "  _np_quint8 = np.dtype([(\"quint8\", np.uint8, 1)])\n",
      "C:\\Users\\308_1\\anaconda3\\envs\\eunhoo\\lib\\site-packages\\tensorboard\\compat\\tensorflow_stub\\dtypes.py:543: FutureWarning: Passing (type, 1) or '1type' as a synonym of type is deprecated; in a future version of numpy, it will be understood as (type, (1,)) / '(1,)type'.\n",
      "  _np_qint16 = np.dtype([(\"qint16\", np.int16, 1)])\n",
      "C:\\Users\\308_1\\anaconda3\\envs\\eunhoo\\lib\\site-packages\\tensorboard\\compat\\tensorflow_stub\\dtypes.py:544: FutureWarning: Passing (type, 1) or '1type' as a synonym of type is deprecated; in a future version of numpy, it will be understood as (type, (1,)) / '(1,)type'.\n",
      "  _np_quint16 = np.dtype([(\"quint16\", np.uint16, 1)])\n",
      "C:\\Users\\308_1\\anaconda3\\envs\\eunhoo\\lib\\site-packages\\tensorboard\\compat\\tensorflow_stub\\dtypes.py:545: FutureWarning: Passing (type, 1) or '1type' as a synonym of type is deprecated; in a future version of numpy, it will be understood as (type, (1,)) / '(1,)type'.\n",
      "  _np_qint32 = np.dtype([(\"qint32\", np.int32, 1)])\n",
      "C:\\Users\\308_1\\anaconda3\\envs\\eunhoo\\lib\\site-packages\\tensorboard\\compat\\tensorflow_stub\\dtypes.py:550: FutureWarning: Passing (type, 1) or '1type' as a synonym of type is deprecated; in a future version of numpy, it will be understood as (type, (1,)) / '(1,)type'.\n",
      "  np_resource = np.dtype([(\"resource\", np.ubyte, 1)])\n"
     ]
    }
   ],
   "source": [
    "from keras.models import load_model\n",
    "\n",
    "ldamodel.save('model.h5')"
   ]
  },
  {
   "cell_type": "code",
   "execution_count": 70,
   "metadata": {},
   "outputs": [
    {
     "name": "stderr",
     "output_type": "stream",
     "text": [
      "C:\\Users\\308_1\\anaconda3\\envs\\eunhoo\\lib\\site-packages\\ipykernel\\ipkernel.py:287: DeprecationWarning: `should_run_async` will not call `transform_cell` automatically in the future. Please pass the result to `transformed_cell` argument and any exception that happen during thetransform in `preprocessing_exc_tuple` in IPython 7.17 and above.\n",
      "  and should_run_async(code)\n"
     ]
    }
   ],
   "source": [
    "def make_topictable_per_lyrics(ldamodel, corpus):\n",
    "    topic_table = pd.DataFrame()\n",
    "    \n",
    "    # 몇 번째 가사인지를 의미하는 가사 번호와 해당 가사의 토픽 비중을 한줄씩 꺼내오기\n",
    "    for i, topic_list in enumerate(ldamodel[corpus]):\n",
    "        doc = topic_list[0] if ldamodel.per_word_topics else topic_list\n",
    "        #doc = doc.append(topic_list)\n",
    "        doc = sorted(doc, key = lambda x : (x[1]), reverse = True)\n",
    "        # 각 가사들에 대해서 비중이 높은 토픽순으로 토픽 정렬\n",
    "        \n",
    "        # 모든 가사에 대해서 각각 아래를 수행\n",
    "        for j, (topic_num, prop_topic) in enumerate(doc): # 몇 번 토픽인지와 비중을 나눠서 저장한다\n",
    "            if j == 0: # 정렬을 한 상태이므로 가장 앞에 있는 것이 가장 비중이 높은 토픽\n",
    "                topic_table = topic_table.append(pd.Series([int(topic_num), round(prop_topic, 4), topic_list]),ignore_index = True)\n",
    "            else:\n",
    "                break\n",
    "    return(topic_table)"
   ]
  },
  {
   "cell_type": "code",
   "execution_count": 71,
   "metadata": {},
   "outputs": [
    {
     "name": "stderr",
     "output_type": "stream",
     "text": [
      "C:\\Users\\308_1\\anaconda3\\envs\\eunhoo\\lib\\site-packages\\ipykernel\\ipkernel.py:287: DeprecationWarning: `should_run_async` will not call `transform_cell` automatically in the future. Please pass the result to `transformed_cell` argument and any exception that happen during thetransform in `preprocessing_exc_tuple` in IPython 7.17 and above.\n",
      "  and should_run_async(code)\n"
     ]
    },
    {
     "data": {
      "text/plain": [
       "5763"
      ]
     },
     "execution_count": 71,
     "metadata": {},
     "output_type": "execute_result"
    }
   ],
   "source": [
    "topictable = make_topictable_per_lyrics(ldamodel, corpus)\n",
    "topictable = topictable.reset_index()\n",
    "topictable.columns= ['가사','가장 비중이 높은 토픽','가장 높은 토픽의 비중','각 토픽의 비중']\n",
    "topictable[:100]\n",
    "len(topictable)"
   ]
  },
  {
   "cell_type": "code",
   "execution_count": 72,
   "metadata": {},
   "outputs": [
    {
     "name": "stderr",
     "output_type": "stream",
     "text": [
      "C:\\Users\\308_1\\anaconda3\\envs\\eunhoo\\lib\\site-packages\\ipykernel\\ipkernel.py:287: DeprecationWarning: `should_run_async` will not call `transform_cell` automatically in the future. Please pass the result to `transformed_cell` argument and any exception that happen during thetransform in `preprocessing_exc_tuple` in IPython 7.17 and above.\n",
      "  and should_run_async(code)\n"
     ]
    },
    {
     "data": {
      "text/html": [
       "<div>\n",
       "<style scoped>\n",
       "    .dataframe tbody tr th:only-of-type {\n",
       "        vertical-align: middle;\n",
       "    }\n",
       "\n",
       "    .dataframe tbody tr th {\n",
       "        vertical-align: top;\n",
       "    }\n",
       "\n",
       "    .dataframe thead th {\n",
       "        text-align: right;\n",
       "    }\n",
       "</style>\n",
       "<table border=\"1\" class=\"dataframe\">\n",
       "  <thead>\n",
       "    <tr style=\"text-align: right;\">\n",
       "      <th></th>\n",
       "      <th>가사</th>\n",
       "      <th>가장 비중이 높은 토픽</th>\n",
       "      <th>가장 높은 토픽의 비중</th>\n",
       "      <th>각 토픽의 비중</th>\n",
       "    </tr>\n",
       "  </thead>\n",
       "  <tbody>\n",
       "    <tr>\n",
       "      <th>0</th>\n",
       "      <td>0</td>\n",
       "      <td>7.0</td>\n",
       "      <td>0.8859</td>\n",
       "      <td>[(4, 0.0854931), (7, 0.88591534)]</td>\n",
       "    </tr>\n",
       "    <tr>\n",
       "      <th>1</th>\n",
       "      <td>1</td>\n",
       "      <td>7.0</td>\n",
       "      <td>0.4903</td>\n",
       "      <td>[(1, 0.18271361), (4, 0.099388964), (7, 0.4903...</td>\n",
       "    </tr>\n",
       "    <tr>\n",
       "      <th>2</th>\n",
       "      <td>2</td>\n",
       "      <td>7.0</td>\n",
       "      <td>0.7111</td>\n",
       "      <td>[(0, 0.25249493), (7, 0.71111846)]</td>\n",
       "    </tr>\n",
       "    <tr>\n",
       "      <th>3</th>\n",
       "      <td>3</td>\n",
       "      <td>7.0</td>\n",
       "      <td>0.5944</td>\n",
       "      <td>[(0, 0.07086567), (1, 0.18347073), (3, 0.13621...</td>\n",
       "    </tr>\n",
       "    <tr>\n",
       "      <th>4</th>\n",
       "      <td>4</td>\n",
       "      <td>7.0</td>\n",
       "      <td>0.8123</td>\n",
       "      <td>[(6, 0.054537278), (7, 0.81229925), (9, 0.1218...</td>\n",
       "    </tr>\n",
       "    <tr>\n",
       "      <th>...</th>\n",
       "      <td>...</td>\n",
       "      <td>...</td>\n",
       "      <td>...</td>\n",
       "      <td>...</td>\n",
       "    </tr>\n",
       "    <tr>\n",
       "      <th>5758</th>\n",
       "      <td>5758</td>\n",
       "      <td>7.0</td>\n",
       "      <td>0.9497</td>\n",
       "      <td>[(1, 0.03697163), (7, 0.94968605)]</td>\n",
       "    </tr>\n",
       "    <tr>\n",
       "      <th>5759</th>\n",
       "      <td>5759</td>\n",
       "      <td>7.0</td>\n",
       "      <td>0.7720</td>\n",
       "      <td>[(1, 0.029019544), (6, 0.16738437), (7, 0.7720...</td>\n",
       "    </tr>\n",
       "    <tr>\n",
       "      <th>5760</th>\n",
       "      <td>5760</td>\n",
       "      <td>7.0</td>\n",
       "      <td>0.6159</td>\n",
       "      <td>[(1, 0.03638581), (2, 0.071164966), (4, 0.0679...</td>\n",
       "    </tr>\n",
       "    <tr>\n",
       "      <th>5761</th>\n",
       "      <td>5761</td>\n",
       "      <td>7.0</td>\n",
       "      <td>0.7184</td>\n",
       "      <td>[(2, 0.07511621), (3, 0.01809441), (4, 0.07469...</td>\n",
       "    </tr>\n",
       "    <tr>\n",
       "      <th>5762</th>\n",
       "      <td>5762</td>\n",
       "      <td>1.0</td>\n",
       "      <td>0.6818</td>\n",
       "      <td>[(1, 0.68181145), (4, 0.13512927), (7, 0.14826...</td>\n",
       "    </tr>\n",
       "  </tbody>\n",
       "</table>\n",
       "<p>5763 rows × 4 columns</p>\n",
       "</div>"
      ],
      "text/plain": [
       "        가사  가장 비중이 높은 토픽  가장 높은 토픽의 비중  \\\n",
       "0        0           7.0        0.8859   \n",
       "1        1           7.0        0.4903   \n",
       "2        2           7.0        0.7111   \n",
       "3        3           7.0        0.5944   \n",
       "4        4           7.0        0.8123   \n",
       "...    ...           ...           ...   \n",
       "5758  5758           7.0        0.9497   \n",
       "5759  5759           7.0        0.7720   \n",
       "5760  5760           7.0        0.6159   \n",
       "5761  5761           7.0        0.7184   \n",
       "5762  5762           1.0        0.6818   \n",
       "\n",
       "                                               각 토픽의 비중  \n",
       "0                     [(4, 0.0854931), (7, 0.88591534)]  \n",
       "1     [(1, 0.18271361), (4, 0.099388964), (7, 0.4903...  \n",
       "2                    [(0, 0.25249493), (7, 0.71111846)]  \n",
       "3     [(0, 0.07086567), (1, 0.18347073), (3, 0.13621...  \n",
       "4     [(6, 0.054537278), (7, 0.81229925), (9, 0.1218...  \n",
       "...                                                 ...  \n",
       "5758                 [(1, 0.03697163), (7, 0.94968605)]  \n",
       "5759  [(1, 0.029019544), (6, 0.16738437), (7, 0.7720...  \n",
       "5760  [(1, 0.03638581), (2, 0.071164966), (4, 0.0679...  \n",
       "5761  [(2, 0.07511621), (3, 0.01809441), (4, 0.07469...  \n",
       "5762  [(1, 0.68181145), (4, 0.13512927), (7, 0.14826...  \n",
       "\n",
       "[5763 rows x 4 columns]"
      ]
     },
     "execution_count": 72,
     "metadata": {},
     "output_type": "execute_result"
    }
   ],
   "source": [
    "topictable"
   ]
  },
  {
   "cell_type": "code",
   "execution_count": 101,
   "metadata": {},
   "outputs": [
    {
     "name": "stderr",
     "output_type": "stream",
     "text": [
      "C:\\Users\\308_1\\anaconda3\\envs\\eunhoo\\lib\\site-packages\\ipykernel\\ipkernel.py:287: DeprecationWarning: `should_run_async` will not call `transform_cell` automatically in the future. Please pass the result to `transformed_cell` argument and any exception that happen during thetransform in `preprocessing_exc_tuple` in IPython 7.17 and above.\n",
      "  and should_run_async(code)\n"
     ]
    }
   ],
   "source": [
    "_array=[]\n",
    "for i in range(len(topictable)):\n",
    "    theme=[]\n",
    "    for j in range(len(topictable['각 토픽의 비중'][i])):\n",
    "        if topictable['각 토픽의 비중'][i][j][0] == 1:\n",
    "            theme.append('이별')\n",
    "        elif topictable['각 토픽의 비중'][i][j][0] == 2:\n",
    "            theme.append('행복한')\n",
    "        elif topictable['각 토픽의 비중'][i][j][0] == 3:\n",
    "            theme.append('파워풀한')\n",
    "        elif topictable['각 토픽의 비중'][i][j][0] == 4:\n",
    "            theme.append('영어')\n",
    "        elif topictable['각 토픽의 비중'][i][j][0] == 5:\n",
    "            theme.append('아쉬운')\n",
    "        elif topictable['각 토픽의 비중'][i][j][0] == 6:\n",
    "            theme.append('활기찬')\n",
    "        elif topictable['각 토픽의 비중'][i][j][0] == 7:\n",
    "            theme.append('달달한')\n",
    "        elif topictable['각 토픽의 비중'][i][j][0] == 8:\n",
    "            theme.append('조용한')\n",
    "        elif topictable['각 토픽의 비중'][i][j][0] == 9:\n",
    "            theme.append('추임새많은')\n",
    "        elif topictable['각 토픽의 비중'][i][j][0] == 10:\n",
    "            theme.append('신나는')\n",
    "    _array.append(theme)"
   ]
  },
  {
   "cell_type": "code",
   "execution_count": 105,
   "metadata": {},
   "outputs": [
    {
     "name": "stderr",
     "output_type": "stream",
     "text": [
      "C:\\Users\\308_1\\anaconda3\\envs\\eunhoo\\lib\\site-packages\\ipykernel\\ipkernel.py:287: DeprecationWarning: `should_run_async` will not call `transform_cell` automatically in the future. Please pass the result to `transformed_cell` argument and any exception that happen during thetransform in `preprocessing_exc_tuple` in IPython 7.17 and above.\n",
      "  and should_run_async(code)\n"
     ]
    },
    {
     "data": {
      "text/plain": [
       "5763"
      ]
     },
     "execution_count": 105,
     "metadata": {},
     "output_type": "execute_result"
    }
   ],
   "source": [
    "len(_array)"
   ]
  },
  {
   "cell_type": "code",
   "execution_count": 107,
   "metadata": {},
   "outputs": [
    {
     "name": "stderr",
     "output_type": "stream",
     "text": [
      "C:\\Users\\308_1\\anaconda3\\envs\\eunhoo\\lib\\site-packages\\ipykernel\\ipkernel.py:287: DeprecationWarning: `should_run_async` will not call `transform_cell` automatically in the future. Please pass the result to `transformed_cell` argument and any exception that happen during thetransform in `preprocessing_exc_tuple` in IPython 7.17 and above.\n",
      "  and should_run_async(code)\n"
     ]
    }
   ],
   "source": [
    "data1=data.drop(['가사'],axis=1)"
   ]
  },
  {
   "cell_type": "code",
   "execution_count": 108,
   "metadata": {},
   "outputs": [
    {
     "name": "stderr",
     "output_type": "stream",
     "text": [
      "C:\\Users\\308_1\\anaconda3\\envs\\eunhoo\\lib\\site-packages\\ipykernel\\ipkernel.py:287: DeprecationWarning: `should_run_async` will not call `transform_cell` automatically in the future. Please pass the result to `transformed_cell` argument and any exception that happen during thetransform in `preprocessing_exc_tuple` in IPython 7.17 and above.\n",
      "  and should_run_async(code)\n"
     ]
    },
    {
     "data": {
      "text/html": [
       "<div>\n",
       "<style scoped>\n",
       "    .dataframe tbody tr th:only-of-type {\n",
       "        vertical-align: middle;\n",
       "    }\n",
       "\n",
       "    .dataframe tbody tr th {\n",
       "        vertical-align: top;\n",
       "    }\n",
       "\n",
       "    .dataframe thead th {\n",
       "        text-align: right;\n",
       "    }\n",
       "</style>\n",
       "<table border=\"1\" class=\"dataframe\">\n",
       "  <thead>\n",
       "    <tr style=\"text-align: right;\">\n",
       "      <th></th>\n",
       "      <th>년도</th>\n",
       "      <th>가수</th>\n",
       "      <th>제목</th>\n",
       "      <th>장르</th>\n",
       "    </tr>\n",
       "  </thead>\n",
       "  <tbody>\n",
       "    <tr>\n",
       "      <th>0</th>\n",
       "      <td>19920000</td>\n",
       "      <td>잼</td>\n",
       "      <td>난 멈추지 않는다</td>\n",
       "      <td>댄스</td>\n",
       "    </tr>\n",
       "    <tr>\n",
       "      <th>1</th>\n",
       "      <td>19920000</td>\n",
       "      <td>잼</td>\n",
       "      <td>우리 모두 사랑하자</td>\n",
       "      <td>댄스</td>\n",
       "    </tr>\n",
       "    <tr>\n",
       "      <th>2</th>\n",
       "      <td>19920000</td>\n",
       "      <td>잼</td>\n",
       "      <td>이유</td>\n",
       "      <td>발라드</td>\n",
       "    </tr>\n",
       "    <tr>\n",
       "      <th>3</th>\n",
       "      <td>19920000</td>\n",
       "      <td>잼</td>\n",
       "      <td>18번가의 비밀</td>\n",
       "      <td>댄스</td>\n",
       "    </tr>\n",
       "    <tr>\n",
       "      <th>4</th>\n",
       "      <td>19920000</td>\n",
       "      <td>잼</td>\n",
       "      <td>요즘 친구들</td>\n",
       "      <td>댄스</td>\n",
       "    </tr>\n",
       "    <tr>\n",
       "      <th>...</th>\n",
       "      <td>...</td>\n",
       "      <td>...</td>\n",
       "      <td>...</td>\n",
       "      <td>...</td>\n",
       "    </tr>\n",
       "    <tr>\n",
       "      <th>5758</th>\n",
       "      <td>20200924</td>\n",
       "      <td>업텐션 (UP10TION)</td>\n",
       "      <td>니가 보여 (Waiting For You)</td>\n",
       "      <td>R&amp;B/Soul</td>\n",
       "    </tr>\n",
       "    <tr>\n",
       "      <th>5759</th>\n",
       "      <td>20200924</td>\n",
       "      <td>업텐션 (UP10TION)</td>\n",
       "      <td>빈집 (텅) (Empty House)</td>\n",
       "      <td>R&amp;B/Soul</td>\n",
       "    </tr>\n",
       "    <tr>\n",
       "      <th>5760</th>\n",
       "      <td>20200926</td>\n",
       "      <td>엔플라잉 (N.Flying)</td>\n",
       "      <td>From You</td>\n",
       "      <td>록/메탈, 국내드라마</td>\n",
       "    </tr>\n",
       "    <tr>\n",
       "      <th>5761</th>\n",
       "      <td>20201002</td>\n",
       "      <td>BLACKPINK</td>\n",
       "      <td>Lovesick Girls</td>\n",
       "      <td>댄스</td>\n",
       "    </tr>\n",
       "    <tr>\n",
       "      <th>5762</th>\n",
       "      <td>20201010</td>\n",
       "      <td>환불원정대</td>\n",
       "      <td>DON'T TOUCH ME</td>\n",
       "      <td>댄스</td>\n",
       "    </tr>\n",
       "  </tbody>\n",
       "</table>\n",
       "<p>5763 rows × 4 columns</p>\n",
       "</div>"
      ],
      "text/plain": [
       "            년도               가수                       제목           장르\n",
       "0     19920000                잼                난 멈추지 않는다           댄스\n",
       "1     19920000                잼               우리 모두 사랑하자           댄스\n",
       "2     19920000                잼                       이유          발라드\n",
       "3     19920000                잼                 18번가의 비밀           댄스\n",
       "4     19920000                잼                   요즘 친구들           댄스\n",
       "...        ...              ...                      ...          ...\n",
       "5758  20200924   업텐션 (UP10TION)  니가 보여 (Waiting For You)     R&B/Soul\n",
       "5759  20200924   업텐션 (UP10TION)     빈집 (텅) (Empty House)     R&B/Soul\n",
       "5760  20200926  엔플라잉 (N.Flying)                 From You  록/메탈, 국내드라마\n",
       "5761  20201002        BLACKPINK           Lovesick Girls           댄스\n",
       "5762  20201010            환불원정대           DON'T TOUCH ME           댄스\n",
       "\n",
       "[5763 rows x 4 columns]"
      ]
     },
     "execution_count": 108,
     "metadata": {},
     "output_type": "execute_result"
    }
   ],
   "source": [
    "data1"
   ]
  },
  {
   "cell_type": "code",
   "execution_count": 109,
   "metadata": {},
   "outputs": [
    {
     "name": "stderr",
     "output_type": "stream",
     "text": [
      "C:\\Users\\308_1\\anaconda3\\envs\\eunhoo\\lib\\site-packages\\ipykernel\\ipkernel.py:287: DeprecationWarning: `should_run_async` will not call `transform_cell` automatically in the future. Please pass the result to `transformed_cell` argument and any exception that happen during thetransform in `preprocessing_exc_tuple` in IPython 7.17 and above.\n",
      "  and should_run_async(code)\n"
     ]
    },
    {
     "data": {
      "text/html": [
       "<div>\n",
       "<style scoped>\n",
       "    .dataframe tbody tr th:only-of-type {\n",
       "        vertical-align: middle;\n",
       "    }\n",
       "\n",
       "    .dataframe tbody tr th {\n",
       "        vertical-align: top;\n",
       "    }\n",
       "\n",
       "    .dataframe thead th {\n",
       "        text-align: right;\n",
       "    }\n",
       "</style>\n",
       "<table border=\"1\" class=\"dataframe\">\n",
       "  <thead>\n",
       "    <tr style=\"text-align: right;\">\n",
       "      <th></th>\n",
       "      <th>년도</th>\n",
       "      <th>가수</th>\n",
       "      <th>제목</th>\n",
       "      <th>장르</th>\n",
       "      <th>테마</th>\n",
       "    </tr>\n",
       "  </thead>\n",
       "  <tbody>\n",
       "    <tr>\n",
       "      <th>0</th>\n",
       "      <td>19920000</td>\n",
       "      <td>잼</td>\n",
       "      <td>난 멈추지 않는다</td>\n",
       "      <td>댄스</td>\n",
       "      <td>[영어, 달달한]</td>\n",
       "    </tr>\n",
       "    <tr>\n",
       "      <th>1</th>\n",
       "      <td>19920000</td>\n",
       "      <td>잼</td>\n",
       "      <td>우리 모두 사랑하자</td>\n",
       "      <td>댄스</td>\n",
       "      <td>[이별, 영어, 달달한, 추임새많은]</td>\n",
       "    </tr>\n",
       "    <tr>\n",
       "      <th>2</th>\n",
       "      <td>19920000</td>\n",
       "      <td>잼</td>\n",
       "      <td>이유</td>\n",
       "      <td>발라드</td>\n",
       "      <td>[달달한]</td>\n",
       "    </tr>\n",
       "    <tr>\n",
       "      <th>3</th>\n",
       "      <td>19920000</td>\n",
       "      <td>잼</td>\n",
       "      <td>18번가의 비밀</td>\n",
       "      <td>댄스</td>\n",
       "      <td>[이별, 파워풀한, 달달한]</td>\n",
       "    </tr>\n",
       "    <tr>\n",
       "      <th>4</th>\n",
       "      <td>19920000</td>\n",
       "      <td>잼</td>\n",
       "      <td>요즘 친구들</td>\n",
       "      <td>댄스</td>\n",
       "      <td>[활기찬, 달달한, 추임새많은]</td>\n",
       "    </tr>\n",
       "  </tbody>\n",
       "</table>\n",
       "</div>"
      ],
      "text/plain": [
       "         년도 가수          제목   장르                    테마\n",
       "0  19920000  잼   난 멈추지 않는다   댄스             [영어, 달달한]\n",
       "1  19920000  잼  우리 모두 사랑하자   댄스  [이별, 영어, 달달한, 추임새많은]\n",
       "2  19920000  잼          이유  발라드                 [달달한]\n",
       "3  19920000  잼    18번가의 비밀   댄스       [이별, 파워풀한, 달달한]\n",
       "4  19920000  잼      요즘 친구들   댄스     [활기찬, 달달한, 추임새많은]"
      ]
     },
     "execution_count": 109,
     "metadata": {},
     "output_type": "execute_result"
    }
   ],
   "source": [
    "data1['테마']=_array\n",
    "data1.head()"
   ]
  },
  {
   "cell_type": "code",
   "execution_count": 110,
   "metadata": {},
   "outputs": [
    {
     "name": "stderr",
     "output_type": "stream",
     "text": [
      "C:\\Users\\308_1\\anaconda3\\envs\\eunhoo\\lib\\site-packages\\ipykernel\\ipkernel.py:287: DeprecationWarning: `should_run_async` will not call `transform_cell` automatically in the future. Please pass the result to `transformed_cell` argument and any exception that happen during thetransform in `preprocessing_exc_tuple` in IPython 7.17 and above.\n",
      "  and should_run_async(code)\n"
     ]
    }
   ],
   "source": [
    "data1.to_csv('num=10.tsv',index=False,header=None,sep='\\t')"
   ]
  },
  {
   "cell_type": "code",
   "execution_count": 111,
   "metadata": {},
   "outputs": [
    {
     "name": "stderr",
     "output_type": "stream",
     "text": [
      "C:\\Users\\308_1\\anaconda3\\envs\\eunhoo\\lib\\site-packages\\ipykernel\\ipkernel.py:287: DeprecationWarning: `should_run_async` will not call `transform_cell` automatically in the future. Please pass the result to `transformed_cell` argument and any exception that happen during thetransform in `preprocessing_exc_tuple` in IPython 7.17 and above.\n",
      "  and should_run_async(code)\n",
      "C:\\Users\\308_1\\anaconda3\\envs\\eunhoo\\lib\\site-packages\\ipykernel_launcher.py:3: SettingWithCopyWarning: \n",
      "A value is trying to be set on a copy of a slice from a DataFrame\n",
      "\n",
      "See the caveats in the documentation: https://pandas.pydata.org/pandas-docs/stable/user_guide/indexing.html#returning-a-view-versus-a-copy\n",
      "  This is separate from the ipykernel package so we can avoid doing imports until\n",
      "C:\\Users\\308_1\\anaconda3\\envs\\eunhoo\\lib\\site-packages\\ipykernel_launcher.py:5: SettingWithCopyWarning: \n",
      "A value is trying to be set on a copy of a slice from a DataFrame\n",
      "\n",
      "See the caveats in the documentation: https://pandas.pydata.org/pandas-docs/stable/user_guide/indexing.html#returning-a-view-versus-a-copy\n",
      "  \"\"\"\n",
      "C:\\Users\\308_1\\anaconda3\\envs\\eunhoo\\lib\\site-packages\\ipykernel_launcher.py:7: SettingWithCopyWarning: \n",
      "A value is trying to be set on a copy of a slice from a DataFrame\n",
      "\n",
      "See the caveats in the documentation: https://pandas.pydata.org/pandas-docs/stable/user_guide/indexing.html#returning-a-view-versus-a-copy\n",
      "  import sys\n"
     ]
    }
   ],
   "source": [
    "for i in range(len(data1)):\n",
    "    if data1['년도'][i] < 20000000 :\n",
    "        data1['년도'][i]=1990\n",
    "    elif data1['년도'][i] < 20100000 :\n",
    "        data1['년도'][i]=2000\n",
    "    else:\n",
    "        data1['년도'][i]=2010"
   ]
  },
  {
   "cell_type": "code",
   "execution_count": 112,
   "metadata": {},
   "outputs": [
    {
     "name": "stderr",
     "output_type": "stream",
     "text": [
      "C:\\Users\\308_1\\anaconda3\\envs\\eunhoo\\lib\\site-packages\\ipykernel\\ipkernel.py:287: DeprecationWarning: `should_run_async` will not call `transform_cell` automatically in the future. Please pass the result to `transformed_cell` argument and any exception that happen during thetransform in `preprocessing_exc_tuple` in IPython 7.17 and above.\n",
      "  and should_run_async(code)\n"
     ]
    },
    {
     "data": {
      "text/html": [
       "<div>\n",
       "<style scoped>\n",
       "    .dataframe tbody tr th:only-of-type {\n",
       "        vertical-align: middle;\n",
       "    }\n",
       "\n",
       "    .dataframe tbody tr th {\n",
       "        vertical-align: top;\n",
       "    }\n",
       "\n",
       "    .dataframe thead th {\n",
       "        text-align: right;\n",
       "    }\n",
       "</style>\n",
       "<table border=\"1\" class=\"dataframe\">\n",
       "  <thead>\n",
       "    <tr style=\"text-align: right;\">\n",
       "      <th></th>\n",
       "      <th>년도</th>\n",
       "      <th>가수</th>\n",
       "      <th>제목</th>\n",
       "      <th>장르</th>\n",
       "      <th>테마</th>\n",
       "    </tr>\n",
       "  </thead>\n",
       "  <tbody>\n",
       "    <tr>\n",
       "      <th>0</th>\n",
       "      <td>1990</td>\n",
       "      <td>잼</td>\n",
       "      <td>난 멈추지 않는다</td>\n",
       "      <td>댄스</td>\n",
       "      <td>[영어, 달달한]</td>\n",
       "    </tr>\n",
       "    <tr>\n",
       "      <th>1</th>\n",
       "      <td>1990</td>\n",
       "      <td>잼</td>\n",
       "      <td>우리 모두 사랑하자</td>\n",
       "      <td>댄스</td>\n",
       "      <td>[이별, 영어, 달달한, 추임새많은]</td>\n",
       "    </tr>\n",
       "    <tr>\n",
       "      <th>2</th>\n",
       "      <td>1990</td>\n",
       "      <td>잼</td>\n",
       "      <td>이유</td>\n",
       "      <td>발라드</td>\n",
       "      <td>[달달한]</td>\n",
       "    </tr>\n",
       "    <tr>\n",
       "      <th>3</th>\n",
       "      <td>1990</td>\n",
       "      <td>잼</td>\n",
       "      <td>18번가의 비밀</td>\n",
       "      <td>댄스</td>\n",
       "      <td>[이별, 파워풀한, 달달한]</td>\n",
       "    </tr>\n",
       "    <tr>\n",
       "      <th>4</th>\n",
       "      <td>1990</td>\n",
       "      <td>잼</td>\n",
       "      <td>요즘 친구들</td>\n",
       "      <td>댄스</td>\n",
       "      <td>[활기찬, 달달한, 추임새많은]</td>\n",
       "    </tr>\n",
       "    <tr>\n",
       "      <th>...</th>\n",
       "      <td>...</td>\n",
       "      <td>...</td>\n",
       "      <td>...</td>\n",
       "      <td>...</td>\n",
       "      <td>...</td>\n",
       "    </tr>\n",
       "    <tr>\n",
       "      <th>5758</th>\n",
       "      <td>2010</td>\n",
       "      <td>업텐션 (UP10TION)</td>\n",
       "      <td>니가 보여 (Waiting For You)</td>\n",
       "      <td>R&amp;B/Soul</td>\n",
       "      <td>[이별, 달달한]</td>\n",
       "    </tr>\n",
       "    <tr>\n",
       "      <th>5759</th>\n",
       "      <td>2010</td>\n",
       "      <td>업텐션 (UP10TION)</td>\n",
       "      <td>빈집 (텅) (Empty House)</td>\n",
       "      <td>R&amp;B/Soul</td>\n",
       "      <td>[이별, 활기찬, 달달한, 조용한]</td>\n",
       "    </tr>\n",
       "    <tr>\n",
       "      <th>5760</th>\n",
       "      <td>2010</td>\n",
       "      <td>엔플라잉 (N.Flying)</td>\n",
       "      <td>From You</td>\n",
       "      <td>록/메탈, 국내드라마</td>\n",
       "      <td>[이별, 행복한, 영어, 아쉬운, 달달한]</td>\n",
       "    </tr>\n",
       "    <tr>\n",
       "      <th>5761</th>\n",
       "      <td>2010</td>\n",
       "      <td>BLACKPINK</td>\n",
       "      <td>Lovesick Girls</td>\n",
       "      <td>댄스</td>\n",
       "      <td>[행복한, 파워풀한, 영어, 아쉬운, 활기찬, 달달한, 조용한]</td>\n",
       "    </tr>\n",
       "    <tr>\n",
       "      <th>5762</th>\n",
       "      <td>2010</td>\n",
       "      <td>환불원정대</td>\n",
       "      <td>DON'T TOUCH ME</td>\n",
       "      <td>댄스</td>\n",
       "      <td>[이별, 영어, 달달한, 조용한]</td>\n",
       "    </tr>\n",
       "  </tbody>\n",
       "</table>\n",
       "<p>5763 rows × 5 columns</p>\n",
       "</div>"
      ],
      "text/plain": [
       "        년도               가수                       제목           장르  \\\n",
       "0     1990                잼                난 멈추지 않는다           댄스   \n",
       "1     1990                잼               우리 모두 사랑하자           댄스   \n",
       "2     1990                잼                       이유          발라드   \n",
       "3     1990                잼                 18번가의 비밀           댄스   \n",
       "4     1990                잼                   요즘 친구들           댄스   \n",
       "...    ...              ...                      ...          ...   \n",
       "5758  2010   업텐션 (UP10TION)  니가 보여 (Waiting For You)     R&B/Soul   \n",
       "5759  2010   업텐션 (UP10TION)     빈집 (텅) (Empty House)     R&B/Soul   \n",
       "5760  2010  엔플라잉 (N.Flying)                 From You  록/메탈, 국내드라마   \n",
       "5761  2010        BLACKPINK           Lovesick Girls           댄스   \n",
       "5762  2010            환불원정대           DON'T TOUCH ME           댄스   \n",
       "\n",
       "                                       테마  \n",
       "0                               [영어, 달달한]  \n",
       "1                    [이별, 영어, 달달한, 추임새많은]  \n",
       "2                                   [달달한]  \n",
       "3                         [이별, 파워풀한, 달달한]  \n",
       "4                       [활기찬, 달달한, 추임새많은]  \n",
       "...                                   ...  \n",
       "5758                            [이별, 달달한]  \n",
       "5759                  [이별, 활기찬, 달달한, 조용한]  \n",
       "5760              [이별, 행복한, 영어, 아쉬운, 달달한]  \n",
       "5761  [행복한, 파워풀한, 영어, 아쉬운, 활기찬, 달달한, 조용한]  \n",
       "5762                   [이별, 영어, 달달한, 조용한]  \n",
       "\n",
       "[5763 rows x 5 columns]"
      ]
     },
     "execution_count": 112,
     "metadata": {},
     "output_type": "execute_result"
    }
   ],
   "source": [
    "data1"
   ]
  },
  {
   "cell_type": "code",
   "execution_count": 113,
   "metadata": {},
   "outputs": [
    {
     "name": "stderr",
     "output_type": "stream",
     "text": [
      "C:\\Users\\308_1\\anaconda3\\envs\\eunhoo\\lib\\site-packages\\ipykernel\\ipkernel.py:287: DeprecationWarning: `should_run_async` will not call `transform_cell` automatically in the future. Please pass the result to `transformed_cell` argument and any exception that happen during thetransform in `preprocessing_exc_tuple` in IPython 7.17 and above.\n",
      "  and should_run_async(code)\n"
     ]
    }
   ],
   "source": [
    "data1.to_csv('num=10.tsv',index=False,header=None,sep='\\t')"
   ]
  },
  {
   "cell_type": "code",
   "execution_count": null,
   "metadata": {},
   "outputs": [],
   "source": []
  }
 ],
 "metadata": {
  "kernelspec": {
   "display_name": "eunhoo",
   "language": "python",
   "name": "eunhoo"
  },
  "language_info": {
   "codemirror_mode": {
    "name": "ipython",
    "version": 3
   },
   "file_extension": ".py",
   "mimetype": "text/x-python",
   "name": "python",
   "nbconvert_exporter": "python",
   "pygments_lexer": "ipython3",
   "version": "3.7.9"
  }
 },
 "nbformat": 4,
 "nbformat_minor": 4
}
