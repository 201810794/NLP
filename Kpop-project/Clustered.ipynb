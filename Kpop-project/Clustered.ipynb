{
 "cells": [
  {
   "cell_type": "code",
   "execution_count": 2,
   "metadata": {},
   "outputs": [
    {
     "data": {
      "text/html": [
       "<div>\n",
       "<style scoped>\n",
       "    .dataframe tbody tr th:only-of-type {\n",
       "        vertical-align: middle;\n",
       "    }\n",
       "\n",
       "    .dataframe tbody tr th {\n",
       "        vertical-align: top;\n",
       "    }\n",
       "\n",
       "    .dataframe thead th {\n",
       "        text-align: right;\n",
       "    }\n",
       "</style>\n",
       "<table border=\"1\" class=\"dataframe\">\n",
       "  <thead>\n",
       "    <tr style=\"text-align: right;\">\n",
       "      <th></th>\n",
       "      <th>년도</th>\n",
       "      <th>가수</th>\n",
       "      <th>제목</th>\n",
       "      <th>장르</th>\n",
       "      <th>가사</th>\n",
       "    </tr>\n",
       "  </thead>\n",
       "  <tbody>\n",
       "    <tr>\n",
       "      <th>0</th>\n",
       "      <td>19920000</td>\n",
       "      <td>잼</td>\n",
       "      <td>난 멈추지 않는다</td>\n",
       "      <td>댄스</td>\n",
       "      <td>['이제', '다시', '시작', '내겐', '시간', '때론', '상처', '좌절...</td>\n",
       "    </tr>\n",
       "    <tr>\n",
       "      <th>1</th>\n",
       "      <td>19920000</td>\n",
       "      <td>잼</td>\n",
       "      <td>우리 모두 사랑하자</td>\n",
       "      <td>댄스</td>\n",
       "      <td>['모두', '사랑', '위', '모두', '춤', '인', '스텝', '속', '...</td>\n",
       "    </tr>\n",
       "    <tr>\n",
       "      <th>2</th>\n",
       "      <td>19920000</td>\n",
       "      <td>잼</td>\n",
       "      <td>이유</td>\n",
       "      <td>발라드</td>\n",
       "      <td>['어둠', '이제', '시간', '가슴속', '긴머리', '향', '향기', '잠...</td>\n",
       "    </tr>\n",
       "    <tr>\n",
       "      <th>3</th>\n",
       "      <td>19920000</td>\n",
       "      <td>잼</td>\n",
       "      <td>18번가의 비밀</td>\n",
       "      <td>댄스</td>\n",
       "      <td>['어둠', '속', '느낌', '거리', '비', '해지', '바람', '어깨',...</td>\n",
       "    </tr>\n",
       "    <tr>\n",
       "      <th>4</th>\n",
       "      <td>19920000</td>\n",
       "      <td>잼</td>\n",
       "      <td>요즘 친구들</td>\n",
       "      <td>댄스</td>\n",
       "      <td>['요즘', '친구', '흥', '정말', '친구', '말로', '자기', '다만'...</td>\n",
       "    </tr>\n",
       "  </tbody>\n",
       "</table>\n",
       "</div>"
      ],
      "text/plain": [
       "         년도 가수          제목   장르  \\\n",
       "0  19920000  잼   난 멈추지 않는다   댄스   \n",
       "1  19920000  잼  우리 모두 사랑하자   댄스   \n",
       "2  19920000  잼          이유  발라드   \n",
       "3  19920000  잼    18번가의 비밀   댄스   \n",
       "4  19920000  잼      요즘 친구들   댄스   \n",
       "\n",
       "                                                  가사  \n",
       "0  ['이제', '다시', '시작', '내겐', '시간', '때론', '상처', '좌절...  \n",
       "1  ['모두', '사랑', '위', '모두', '춤', '인', '스텝', '속', '...  \n",
       "2  ['어둠', '이제', '시간', '가슴속', '긴머리', '향', '향기', '잠...  \n",
       "3  ['어둠', '속', '느낌', '거리', '비', '해지', '바람', '어깨',...  \n",
       "4  ['요즘', '친구', '흥', '정말', '친구', '말로', '자기', '다만'...  "
      ]
     },
     "execution_count": 2,
     "metadata": {},
     "output_type": "execute_result"
    }
   ],
   "source": [
    "import pandas as pd\n",
    "\n",
    "data=pd.read_csv('lyric_nouns.tsv', sep='\\t', encoding = 'utf-8')\n",
    "data.head()"
   ]
  },
  {
   "cell_type": "code",
   "execution_count": 7,
   "metadata": {},
   "outputs": [
    {
     "name": "stdout",
     "output_type": "stream",
     "text": [
      "5773\n"
     ]
    },
    {
     "data": {
      "text/plain": [
       "0    ['이제', '다시', '시작', '내겐', '시간', '때론', '상처', '좌절...\n",
       "1    ['모두', '사랑', '위', '모두', '춤', '인', '스텝', '속', '...\n",
       "2    ['어둠', '이제', '시간', '가슴속', '긴머리', '향', '향기', '잠...\n",
       "3    ['어둠', '속', '느낌', '거리', '비', '해지', '바람', '어깨',...\n",
       "4    ['요즘', '친구', '흥', '정말', '친구', '말로', '자기', '다만'...\n",
       "Name: 가사, dtype: object"
      ]
     },
     "execution_count": 7,
     "metadata": {},
     "output_type": "execute_result"
    }
   ],
   "source": [
    "lyric = data['가사']\n",
    "print(len(lyric))\n",
    "lyric.head()"
   ]
  },
  {
   "cell_type": "code",
   "execution_count": 8,
   "metadata": {},
   "outputs": [],
   "source": [
    "from sklearn.feature_extraction.text import TfidfVectorizer, CountVectorizer\n",
    "from sklearn.cluster import KMeans"
   ]
  },
  {
   "cell_type": "code",
   "execution_count": 9,
   "metadata": {},
   "outputs": [
    {
     "name": "stdout",
     "output_type": "stream",
     "text": [
      "  (0, 6849)\t0.3425151389188998\n",
      "  (0, 6613)\t0.18436352018582902\n",
      "  (0, 6009)\t0.44290019879366677\n",
      "  (0, 8885)\t0.3042868799725523\n",
      "  (0, 11415)\t0.0947004109715076\n",
      "  (0, 1432)\t0.11729757800911624\n",
      "  (0, 8697)\t0.18272779241114584\n",
      "  (0, 5086)\t0.09571718660144826\n",
      "  (0, 2477)\t0.12239621111522361\n",
      "  (0, 5877)\t0.17723540535109103\n",
      "  (0, 1472)\t0.28340004319860956\n",
      "  (0, 5946)\t0.42586361327845274\n",
      "  (0, 1806)\t0.31408219234462065\n",
      "  (0, 7861)\t0.296560311729245\n",
      "  (1, 1206)\t0.13052906018326857\n",
      "  (1, 9589)\t0.06308760850268687\n",
      "  (1, 1936)\t0.10317031558347337\n",
      "  (1, 9330)\t0.13190661032987788\n",
      "  (1, 7785)\t0.0949355890399528\n",
      "  (1, 8100)\t0.13874203316026842\n",
      "  (1, 3635)\t0.1367835475942323\n",
      "  (1, 2025)\t0.14093143375134082\n",
      "  (1, 7065)\t0.04558847338613197\n",
      "  (1, 878)\t0.090748610501516\n",
      "  (1, 8129)\t0.10924285941653497\n",
      "  :\t:\n",
      "  (5771, 4872)\t0.19886141766892115\n",
      "  (5771, 3315)\t0.05919046119371655\n",
      "  (5771, 5086)\t0.0862419558575344\n",
      "  (5772, 1213)\t0.46257148421046845\n",
      "  (5772, 6137)\t0.14721914632116365\n",
      "  (5772, 3067)\t0.11146634982362033\n",
      "  (5772, 4423)\t0.12200773750462893\n",
      "  (5772, 1728)\t0.21988498535939313\n",
      "  (5772, 1957)\t0.22634094811092953\n",
      "  (5772, 8436)\t0.33404138546693424\n",
      "  (5772, 4320)\t0.2235103915813707\n",
      "  (5772, 3575)\t0.08467645151382795\n",
      "  (5772, 5995)\t0.0818972772826948\n",
      "  (5772, 10566)\t0.23282520048095118\n",
      "  (5772, 357)\t0.17634801886740273\n",
      "  (5772, 8094)\t0.5058500472164934\n",
      "  (5772, 1672)\t0.12394203091536125\n",
      "  (5772, 3207)\t0.2623589399597726\n",
      "  (5772, 999)\t0.06844626884833496\n",
      "  (5772, 1709)\t0.0876451418288632\n",
      "  (5772, 2590)\t0.07194873252269379\n",
      "  (5772, 6634)\t0.0509204975268313\n",
      "  (5772, 4872)\t0.05671894474235177\n",
      "  (5772, 3315)\t0.08441105713402056\n",
      "  (5772, 2477)\t0.07863470574412833\n"
     ]
    }
   ],
   "source": [
    "#TF-IDF vectorizer\n",
    "tfv = TfidfVectorizer()\n",
    "#transform\n",
    "vec_text = tfv.fit_transform(lyric)\n",
    "print(vec_text)"
   ]
  },
  {
   "cell_type": "code",
   "execution_count": 11,
   "metadata": {},
   "outputs": [
    {
     "name": "stdout",
     "output_type": "stream",
     "text": [
      "11548\n"
     ]
    },
    {
     "data": {
      "text/plain": [
       "array([7.71521021, 6.32891585, 8.96797318, ..., 6.66538809, 8.96797318,\n",
       "       8.96797318])"
      ]
     },
     "execution_count": 11,
     "metadata": {},
     "output_type": "execute_result"
    }
   ],
   "source": [
    "print(len(tfv.idf_))\n",
    "tfv.idf_"
   ]
  },
  {
   "cell_type": "code",
   "execution_count": 26,
   "metadata": {},
   "outputs": [],
   "source": [
    "#setup kmeans clustering\n",
    "kmeans = KMeans(n_clusters = 8, init='random', random_state=2)\n",
    "#fit the data \n",
    "kmeans = kmeans.fit(vec_text)"
   ]
  },
  {
   "cell_type": "code",
   "execution_count": 27,
   "metadata": {},
   "outputs": [
    {
     "name": "stdout",
     "output_type": "stream",
     "text": [
      "[6 1 6 ... 5 0 0]\n",
      "5773\n"
     ]
    }
   ],
   "source": [
    "labels=kmeans.labels_\n",
    "print(labels)\n",
    "print(len(labels))"
   ]
  },
  {
   "cell_type": "code",
   "execution_count": 33,
   "metadata": {},
   "outputs": [],
   "source": [
    "clustered=pd.DataFrame(list(zip(data['가수'],data['제목'],labels)),columns=['singer','title','cluster'])"
   ]
  },
  {
   "cell_type": "code",
   "execution_count": 34,
   "metadata": {},
   "outputs": [
    {
     "data": {
      "text/html": [
       "<div>\n",
       "<style scoped>\n",
       "    .dataframe tbody tr th:only-of-type {\n",
       "        vertical-align: middle;\n",
       "    }\n",
       "\n",
       "    .dataframe tbody tr th {\n",
       "        vertical-align: top;\n",
       "    }\n",
       "\n",
       "    .dataframe thead th {\n",
       "        text-align: right;\n",
       "    }\n",
       "</style>\n",
       "<table border=\"1\" class=\"dataframe\">\n",
       "  <thead>\n",
       "    <tr style=\"text-align: right;\">\n",
       "      <th></th>\n",
       "      <th>singer</th>\n",
       "      <th>title</th>\n",
       "      <th>cluster</th>\n",
       "    </tr>\n",
       "  </thead>\n",
       "  <tbody>\n",
       "    <tr>\n",
       "      <th>0</th>\n",
       "      <td>잼</td>\n",
       "      <td>난 멈추지 않는다</td>\n",
       "      <td>6</td>\n",
       "    </tr>\n",
       "    <tr>\n",
       "      <th>1</th>\n",
       "      <td>잼</td>\n",
       "      <td>우리 모두 사랑하자</td>\n",
       "      <td>1</td>\n",
       "    </tr>\n",
       "    <tr>\n",
       "      <th>2</th>\n",
       "      <td>잼</td>\n",
       "      <td>이유</td>\n",
       "      <td>6</td>\n",
       "    </tr>\n",
       "    <tr>\n",
       "      <th>3</th>\n",
       "      <td>잼</td>\n",
       "      <td>18번가의 비밀</td>\n",
       "      <td>7</td>\n",
       "    </tr>\n",
       "    <tr>\n",
       "      <th>4</th>\n",
       "      <td>잼</td>\n",
       "      <td>요즘 친구들</td>\n",
       "      <td>3</td>\n",
       "    </tr>\n",
       "    <tr>\n",
       "      <th>...</th>\n",
       "      <td>...</td>\n",
       "      <td>...</td>\n",
       "      <td>...</td>\n",
       "    </tr>\n",
       "    <tr>\n",
       "      <th>5768</th>\n",
       "      <td>업텐션 (UP10TION)</td>\n",
       "      <td>니가 보여 (Waiting For You)</td>\n",
       "      <td>5</td>\n",
       "    </tr>\n",
       "    <tr>\n",
       "      <th>5769</th>\n",
       "      <td>업텐션 (UP10TION)</td>\n",
       "      <td>빈집 (텅) (Empty House)</td>\n",
       "      <td>0</td>\n",
       "    </tr>\n",
       "    <tr>\n",
       "      <th>5770</th>\n",
       "      <td>엔플라잉 (N.Flying)</td>\n",
       "      <td>From You</td>\n",
       "      <td>5</td>\n",
       "    </tr>\n",
       "    <tr>\n",
       "      <th>5771</th>\n",
       "      <td>BLACKPINK</td>\n",
       "      <td>Lovesick Girls</td>\n",
       "      <td>0</td>\n",
       "    </tr>\n",
       "    <tr>\n",
       "      <th>5772</th>\n",
       "      <td>환불원정대</td>\n",
       "      <td>DON'T TOUCH ME</td>\n",
       "      <td>0</td>\n",
       "    </tr>\n",
       "  </tbody>\n",
       "</table>\n",
       "<p>5773 rows × 3 columns</p>\n",
       "</div>"
      ],
      "text/plain": [
       "               singer                    title  cluster\n",
       "0                   잼                난 멈추지 않는다        6\n",
       "1                   잼               우리 모두 사랑하자        1\n",
       "2                   잼                       이유        6\n",
       "3                   잼                 18번가의 비밀        7\n",
       "4                   잼                   요즘 친구들        3\n",
       "...               ...                      ...      ...\n",
       "5768   업텐션 (UP10TION)  니가 보여 (Waiting For You)        5\n",
       "5769   업텐션 (UP10TION)     빈집 (텅) (Empty House)        0\n",
       "5770  엔플라잉 (N.Flying)                 From You        5\n",
       "5771        BLACKPINK           Lovesick Girls        0\n",
       "5772            환불원정대           DON'T TOUCH ME        0\n",
       "\n",
       "[5773 rows x 3 columns]"
      ]
     },
     "execution_count": 34,
     "metadata": {},
     "output_type": "execute_result"
    }
   ],
   "source": [
    "clustered"
   ]
  },
  {
   "cell_type": "code",
   "execution_count": 35,
   "metadata": {},
   "outputs": [],
   "source": [
    "clustered.to_csv('clustered.tsv', index=False, sep='\\t')"
   ]
  },
  {
   "cell_type": "code",
   "execution_count": 30,
   "metadata": {},
   "outputs": [
    {
     "name": "stdout",
     "output_type": "stream",
     "text": [
      "0 : 사랑, 사람, 모두, 지금, 우린, 남자, 정말, 어디, 노래, 다른\n",
      "1 : 사랑, 사람, 눈물, 가슴, 이별, 마음, 다시, 하나, 이제, 혼자\n",
      "2 : 나나, 사랑, 라라라라, 사람, 자꾸, 난나, 나빌레, 마음, 오늘, 동경\n",
      "3 : 오늘, 마음, 생각, 하루, 매일, 사랑, 보고, 자꾸, 지금, 시간\n",
      "4 : 순간, 느낌, 지금, 모든, 시간, 눈빛, 사랑, 마음, 기분, 점점\n",
      "5 : 다시, 기억, 눈물, 사랑, 추억, 시간, 모습, 그때, 가슴, 이별\n",
      "6 : 이제, 사랑, 모두, 시간, 이상, 다시, 조금, 지금, 모든, 마음\n",
      "7 : 세상, 하나, 사랑, 모두, 모든, 위해, 항상, 사람, 하늘, 모습\n"
     ]
    }
   ],
   "source": [
    "common_words = kmeans.cluster_centers_.argsort()[:,-1:-11:-1]\n",
    "for num, centroid in enumerate(common_words):\n",
    "    print(str(num) + ' : ' + ', '.join(words[word] for word in centroid))"
   ]
  },
  {
   "cell_type": "code",
   "execution_count": 42,
   "metadata": {},
   "outputs": [
    {
     "data": {
      "text/html": [
       "<div>\n",
       "<style scoped>\n",
       "    .dataframe tbody tr th:only-of-type {\n",
       "        vertical-align: middle;\n",
       "    }\n",
       "\n",
       "    .dataframe tbody tr th {\n",
       "        vertical-align: top;\n",
       "    }\n",
       "\n",
       "    .dataframe thead th {\n",
       "        text-align: right;\n",
       "    }\n",
       "</style>\n",
       "<table border=\"1\" class=\"dataframe\">\n",
       "  <thead>\n",
       "    <tr style=\"text-align: right;\">\n",
       "      <th></th>\n",
       "      <th>singer</th>\n",
       "      <th>title</th>\n",
       "    </tr>\n",
       "    <tr>\n",
       "      <th>cluster</th>\n",
       "      <th></th>\n",
       "      <th></th>\n",
       "    </tr>\n",
       "  </thead>\n",
       "  <tbody>\n",
       "    <tr>\n",
       "      <th>0</th>\n",
       "      <td>2204</td>\n",
       "      <td>2204</td>\n",
       "    </tr>\n",
       "    <tr>\n",
       "      <th>1</th>\n",
       "      <td>844</td>\n",
       "      <td>844</td>\n",
       "    </tr>\n",
       "    <tr>\n",
       "      <th>2</th>\n",
       "      <td>60</td>\n",
       "      <td>60</td>\n",
       "    </tr>\n",
       "    <tr>\n",
       "      <th>3</th>\n",
       "      <td>779</td>\n",
       "      <td>779</td>\n",
       "    </tr>\n",
       "    <tr>\n",
       "      <th>4</th>\n",
       "      <td>441</td>\n",
       "      <td>441</td>\n",
       "    </tr>\n",
       "    <tr>\n",
       "      <th>5</th>\n",
       "      <td>595</td>\n",
       "      <td>595</td>\n",
       "    </tr>\n",
       "    <tr>\n",
       "      <th>6</th>\n",
       "      <td>347</td>\n",
       "      <td>347</td>\n",
       "    </tr>\n",
       "    <tr>\n",
       "      <th>7</th>\n",
       "      <td>503</td>\n",
       "      <td>503</td>\n",
       "    </tr>\n",
       "  </tbody>\n",
       "</table>\n",
       "</div>"
      ],
      "text/plain": [
       "         singer  title\n",
       "cluster               \n",
       "0          2204   2204\n",
       "1           844    844\n",
       "2            60     60\n",
       "3           779    779\n",
       "4           441    441\n",
       "5           595    595\n",
       "6           347    347\n",
       "7           503    503"
      ]
     },
     "execution_count": 42,
     "metadata": {},
     "output_type": "execute_result"
    }
   ],
   "source": [
    "clustered.groupby('cluster').count()"
   ]
  },
  {
   "cell_type": "code",
   "execution_count": 51,
   "metadata": {},
   "outputs": [
    {
     "name": "stdout",
     "output_type": "stream",
     "text": [
      "5204.283489398575\n"
     ]
    }
   ],
   "source": [
    "print(kmeans.inertia_)"
   ]
  },
  {
   "cell_type": "code",
   "execution_count": 31,
   "metadata": {
    "scrolled": true
   },
   "outputs": [
    {
     "data": {
      "text/plain": [
       "array([[5.26816122e-04, 9.87935774e-04, 0.00000000e+00, ...,\n",
       "        8.83883146e-04, 8.02273344e-05, 2.67424448e-05],\n",
       "       [0.00000000e+00, 7.83492434e-04, 0.00000000e+00, ...,\n",
       "        0.00000000e+00, 0.00000000e+00, 0.00000000e+00],\n",
       "       [0.00000000e+00, 0.00000000e+00, 0.00000000e+00, ...,\n",
       "        0.00000000e+00, 0.00000000e+00, 0.00000000e+00],\n",
       "       ...,\n",
       "       [0.00000000e+00, 3.43197489e-04, 0.00000000e+00, ...,\n",
       "        0.00000000e+00, 0.00000000e+00, 0.00000000e+00],\n",
       "       [4.97548452e-04, 4.51140614e-04, 0.00000000e+00, ...,\n",
       "        0.00000000e+00, 0.00000000e+00, 0.00000000e+00],\n",
       "       [0.00000000e+00, 7.58414176e-04, 4.07720682e-04, ...,\n",
       "        8.68905767e-04, 0.00000000e+00, 0.00000000e+00]])"
      ]
     },
     "execution_count": 31,
     "metadata": {},
     "output_type": "execute_result"
    }
   ],
   "source": [
    "kmeans.cluster_centers_"
   ]
  },
  {
   "cell_type": "code",
   "execution_count": null,
   "metadata": {},
   "outputs": [],
   "source": []
  },
  {
   "cell_type": "code",
   "execution_count": null,
   "metadata": {},
   "outputs": [],
   "source": []
  },
  {
   "cell_type": "code",
   "execution_count": 52,
   "metadata": {},
   "outputs": [
    {
     "name": "stdout",
     "output_type": "stream",
     "text": [
      "5320.532834172951\n",
      "5293.061493491409\n",
      "5274.06997535524\n",
      "5258.936588272998\n",
      "5230.478867421905\n",
      "5215.450186507204\n",
      "5204.283489398575\n",
      "5190.664781256765\n",
      "5175.840285342683\n"
     ]
    }
   ],
   "source": [
    "for i in range (2,11):    \n",
    "    #setup kmeans clustering\n",
    "    kmeans = KMeans(n_clusters = i, init='random', random_state=2)\n",
    "    #fit the data \n",
    "    kmeans = kmeans.fit(vec_text)\n",
    "    \n",
    "    print(kmeans.inertia_)"
   ]
  },
  {
   "cell_type": "code",
   "execution_count": null,
   "metadata": {},
   "outputs": [],
   "source": []
  }
 ],
 "metadata": {
  "kernelspec": {
   "display_name": "eunhoo",
   "language": "python",
   "name": "eunhoo"
  },
  "language_info": {
   "codemirror_mode": {
    "name": "ipython",
    "version": 3
   },
   "file_extension": ".py",
   "mimetype": "text/x-python",
   "name": "python",
   "nbconvert_exporter": "python",
   "pygments_lexer": "ipython3",
   "version": "3.7.9"
  }
 },
 "nbformat": 4,
 "nbformat_minor": 4
}
