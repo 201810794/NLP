{
 "cells": [
  {
   "cell_type": "code",
   "execution_count": 1,
   "metadata": {},
   "outputs": [],
   "source": [
    "from konlpy.tag import Kkma, Hannanum, Okt\n",
    "han=Hannanum()\n",
    "kkma=Kkma()\n",
    "okt=Okt()"
   ]
  },
  {
   "cell_type": "code",
   "execution_count": 2,
   "metadata": {},
   "outputs": [
    {
     "data": {
      "text/plain": [
       "5768"
      ]
     },
     "execution_count": 2,
     "metadata": {},
     "output_type": "execute_result"
    }
   ],
   "source": [
    "import pandas as pd\n",
    "data=pd.read_csv('../predata_latest.tsv', sep='\\t', encoding = 'utf-8')\n",
    "len(data)"
   ]
  },
  {
   "cell_type": "code",
   "execution_count": 3,
   "metadata": {},
   "outputs": [
    {
     "name": "stderr",
     "output_type": "stream",
     "text": [
      "[nltk_data] Downloading package punkt to\n",
      "[nltk_data]     C:\\Users\\308_1\\AppData\\Roaming\\nltk_data...\n",
      "[nltk_data]   Package punkt is already up-to-date!\n",
      "[nltk_data] Downloading package stopwords to\n",
      "[nltk_data]     C:\\Users\\308_1\\AppData\\Roaming\\nltk_data...\n",
      "[nltk_data]   Package stopwords is already up-to-date!\n"
     ]
    },
    {
     "data": {
      "text/plain": [
       "True"
      ]
     },
     "execution_count": 3,
     "metadata": {},
     "output_type": "execute_result"
    }
   ],
   "source": [
    "import nltk                   #nltk 를 사용해 단어 토큰화, 불용어 제거\n",
    "from nltk import word_tokenize\n",
    "from nltk.corpus import stopwords\n",
    "nltk.download('punkt')\n",
    "nltk.download('stopwords')"
   ]
  },
  {
   "cell_type": "code",
   "execution_count": 4,
   "metadata": {},
   "outputs": [
    {
     "name": "stdout",
     "output_type": "stream",
     "text": [
      "['i', 'me', 'my', 'myself', 'we', 'our', 'ours', 'ourselves', 'you', \"you're\", \"you've\", \"you'll\", \"you'd\", 'your', 'yours', 'yourself', 'yourselves', 'he', 'him', 'his', 'himself', 'she', \"she's\", 'her', 'hers', 'herself', 'it', \"it's\", 'its', 'itself', 'they', 'them', 'their', 'theirs', 'themselves', 'what', 'which', 'who', 'whom', 'this', 'that', \"that'll\", 'these', 'those', 'am', 'is', 'are', 'was', 'were', 'be', 'been', 'being', 'have', 'has', 'had', 'having', 'do', 'does', 'did', 'doing', 'a', 'an', 'the', 'and', 'but', 'if', 'or', 'because', 'as', 'until', 'while', 'of', 'at', 'by', 'for', 'with', 'about', 'against', 'between', 'into', 'through', 'during', 'before', 'after', 'above', 'below', 'to', 'from', 'up', 'down', 'in', 'out', 'on', 'off', 'over', 'under', 'again', 'further', 'then', 'once', 'here', 'there', 'when', 'where', 'why', 'how', 'all', 'any', 'both', 'each', 'few', 'more', 'most', 'other', 'some', 'such', 'no', 'nor', 'not', 'only', 'own', 'same', 'so', 'than', 'too', 'very', 's', 't', 'can', 'will', 'just', 'don', \"don't\", 'should', \"should've\", 'now', 'd', 'll', 'm', 'o', 're', 've', 'y', 'ain', 'aren', \"aren't\", 'couldn', \"couldn't\", 'didn', \"didn't\", 'doesn', \"doesn't\", 'hadn', \"hadn't\", 'hasn', \"hasn't\", 'haven', \"haven't\", 'isn', \"isn't\", 'ma', 'mightn', \"mightn't\", 'mustn', \"mustn't\", 'needn', \"needn't\", 'shan', \"shan't\", 'shouldn', \"shouldn't\", 'wasn', \"wasn't\", 'weren', \"weren't\", 'won', \"won't\", 'wouldn', \"wouldn't\"]\n"
     ]
    }
   ],
   "source": [
    "print(stopwords.words('english'))"
   ]
  },
  {
   "cell_type": "code",
   "execution_count": 5,
   "metadata": {},
   "outputs": [],
   "source": [
    "kor_stopword=pd.read_csv('../한국어불용어.txt', encoding = 'utf-8')"
   ]
  },
  {
   "cell_type": "code",
   "execution_count": 6,
   "metadata": {},
   "outputs": [
    {
     "data": {
      "text/html": [
       "<div>\n",
       "<style scoped>\n",
       "    .dataframe tbody tr th:only-of-type {\n",
       "        vertical-align: middle;\n",
       "    }\n",
       "\n",
       "    .dataframe tbody tr th {\n",
       "        vertical-align: top;\n",
       "    }\n",
       "\n",
       "    .dataframe thead th {\n",
       "        text-align: right;\n",
       "    }\n",
       "</style>\n",
       "<table border=\"1\" class=\"dataframe\">\n",
       "  <thead>\n",
       "    <tr style=\"text-align: right;\">\n",
       "      <th></th>\n",
       "      <th>아</th>\n",
       "    </tr>\n",
       "  </thead>\n",
       "  <tbody>\n",
       "    <tr>\n",
       "      <th>0</th>\n",
       "      <td>워</td>\n",
       "    </tr>\n",
       "    <tr>\n",
       "      <th>1</th>\n",
       "      <td>휴</td>\n",
       "    </tr>\n",
       "    <tr>\n",
       "      <th>2</th>\n",
       "      <td>아이구</td>\n",
       "    </tr>\n",
       "    <tr>\n",
       "      <th>3</th>\n",
       "      <td>아이쿠</td>\n",
       "    </tr>\n",
       "    <tr>\n",
       "      <th>4</th>\n",
       "      <td>아이고</td>\n",
       "    </tr>\n",
       "  </tbody>\n",
       "</table>\n",
       "</div>"
      ],
      "text/plain": [
       "     아\n",
       "0    워\n",
       "1    휴\n",
       "2  아이구\n",
       "3  아이쿠\n",
       "4  아이고"
      ]
     },
     "execution_count": 6,
     "metadata": {},
     "output_type": "execute_result"
    }
   ],
   "source": [
    "kor_stopword.head()"
   ]
  },
  {
   "cell_type": "code",
   "execution_count": 7,
   "metadata": {},
   "outputs": [
    {
     "data": {
      "text/html": [
       "<div>\n",
       "<style scoped>\n",
       "    .dataframe tbody tr th:only-of-type {\n",
       "        vertical-align: middle;\n",
       "    }\n",
       "\n",
       "    .dataframe tbody tr th {\n",
       "        vertical-align: top;\n",
       "    }\n",
       "\n",
       "    .dataframe thead th {\n",
       "        text-align: right;\n",
       "    }\n",
       "</style>\n",
       "<table border=\"1\" class=\"dataframe\">\n",
       "  <thead>\n",
       "    <tr style=\"text-align: right;\">\n",
       "      <th></th>\n",
       "      <th>년도</th>\n",
       "      <th>가수</th>\n",
       "      <th>제목</th>\n",
       "      <th>장르</th>\n",
       "      <th>가사</th>\n",
       "    </tr>\n",
       "  </thead>\n",
       "  <tbody>\n",
       "    <tr>\n",
       "      <th>0</th>\n",
       "      <td>19920000</td>\n",
       "      <td>잼</td>\n",
       "      <td>난 멈추지 않는다</td>\n",
       "      <td>댄스</td>\n",
       "      <td>이제 모든걸 다시 시작해 내겐 아직도 시간이 있어 때론 상처가 좌절로 남아 돌이킬수...</td>\n",
       "    </tr>\n",
       "    <tr>\n",
       "      <th>1</th>\n",
       "      <td>19920000</td>\n",
       "      <td>잼</td>\n",
       "      <td>우리 모두 사랑하자</td>\n",
       "      <td>댄스</td>\n",
       "      <td>워 우리 모두 사랑하자 우리의 젊은날을 위하여 우리 모두 춤을 추자 가벼운 인스텝 ...</td>\n",
       "    </tr>\n",
       "    <tr>\n",
       "      <th>2</th>\n",
       "      <td>19920000</td>\n",
       "      <td>잼</td>\n",
       "      <td>이유</td>\n",
       "      <td>발라드</td>\n",
       "      <td>어둠은 드리워지고 이제는 우리들만의 시간이 지친듯이 내 가슴속에 밀려와 나를 재우고...</td>\n",
       "    </tr>\n",
       "    <tr>\n",
       "      <th>3</th>\n",
       "      <td>19920000</td>\n",
       "      <td>잼</td>\n",
       "      <td>18번가의 비밀</td>\n",
       "      <td>댄스</td>\n",
       "      <td>끝없는 어둠 속을 천천히 걷고 있어 어디서 본 듯한 야릇한 느낌이야 거리는 비에 젖...</td>\n",
       "    </tr>\n",
       "    <tr>\n",
       "      <th>4</th>\n",
       "      <td>19920000</td>\n",
       "      <td>잼</td>\n",
       "      <td>요즘 친구들</td>\n",
       "      <td>댄스</td>\n",
       "      <td>요즘 친구들은 흥 정말 진정한 친구가 뭔지 잘 몰라 말로만 떠들고 자기들이 다만 그...</td>\n",
       "    </tr>\n",
       "  </tbody>\n",
       "</table>\n",
       "</div>"
      ],
      "text/plain": [
       "         년도 가수          제목   장르  \\\n",
       "0  19920000  잼   난 멈추지 않는다   댄스   \n",
       "1  19920000  잼  우리 모두 사랑하자   댄스   \n",
       "2  19920000  잼          이유  발라드   \n",
       "3  19920000  잼    18번가의 비밀   댄스   \n",
       "4  19920000  잼      요즘 친구들   댄스   \n",
       "\n",
       "                                                  가사  \n",
       "0  이제 모든걸 다시 시작해 내겐 아직도 시간이 있어 때론 상처가 좌절로 남아 돌이킬수...  \n",
       "1  워 우리 모두 사랑하자 우리의 젊은날을 위하여 우리 모두 춤을 추자 가벼운 인스텝 ...  \n",
       "2  어둠은 드리워지고 이제는 우리들만의 시간이 지친듯이 내 가슴속에 밀려와 나를 재우고...  \n",
       "3  끝없는 어둠 속을 천천히 걷고 있어 어디서 본 듯한 야릇한 느낌이야 거리는 비에 젖...  \n",
       "4  요즘 친구들은 흥 정말 진정한 친구가 뭔지 잘 몰라 말로만 떠들고 자기들이 다만 그...  "
      ]
     },
     "execution_count": 7,
     "metadata": {},
     "output_type": "execute_result"
    }
   ],
   "source": [
    "data.head()"
   ]
  },
  {
   "cell_type": "code",
   "execution_count": 8,
   "metadata": {},
   "outputs": [],
   "source": [
    "list=data['가사']             #가사 토큰화\n",
    "result=[]\n",
    "for i in range(0,len(list)):\n",
    "  token=nltk.word_tokenize(list[i])\n",
    "  result.append(token)"
   ]
  },
  {
   "cell_type": "code",
   "execution_count": 9,
   "metadata": {},
   "outputs": [
    {
     "data": {
      "text/html": [
       "<div>\n",
       "<style scoped>\n",
       "    .dataframe tbody tr th:only-of-type {\n",
       "        vertical-align: middle;\n",
       "    }\n",
       "\n",
       "    .dataframe tbody tr th {\n",
       "        vertical-align: top;\n",
       "    }\n",
       "\n",
       "    .dataframe thead th {\n",
       "        text-align: right;\n",
       "    }\n",
       "</style>\n",
       "<table border=\"1\" class=\"dataframe\">\n",
       "  <thead>\n",
       "    <tr style=\"text-align: right;\">\n",
       "      <th></th>\n",
       "      <th>년도</th>\n",
       "      <th>가수</th>\n",
       "      <th>제목</th>\n",
       "      <th>장르</th>\n",
       "      <th>가사</th>\n",
       "    </tr>\n",
       "  </thead>\n",
       "  <tbody>\n",
       "    <tr>\n",
       "      <th>0</th>\n",
       "      <td>19920000</td>\n",
       "      <td>잼</td>\n",
       "      <td>난 멈추지 않는다</td>\n",
       "      <td>댄스</td>\n",
       "      <td>[이제, 모든걸, 다시, 시작해, 내겐, 아직도, 시간이, 있어, 때론, 상처가, ...</td>\n",
       "    </tr>\n",
       "    <tr>\n",
       "      <th>1</th>\n",
       "      <td>19920000</td>\n",
       "      <td>잼</td>\n",
       "      <td>우리 모두 사랑하자</td>\n",
       "      <td>댄스</td>\n",
       "      <td>[워, 우리, 모두, 사랑하자, 우리의, 젊은날을, 위하여, 우리, 모두, 춤을, ...</td>\n",
       "    </tr>\n",
       "    <tr>\n",
       "      <th>2</th>\n",
       "      <td>19920000</td>\n",
       "      <td>잼</td>\n",
       "      <td>이유</td>\n",
       "      <td>발라드</td>\n",
       "      <td>[어둠은, 드리워지고, 이제는, 우리들만의, 시간이, 지친듯이, 내, 가슴속에, 밀...</td>\n",
       "    </tr>\n",
       "    <tr>\n",
       "      <th>3</th>\n",
       "      <td>19920000</td>\n",
       "      <td>잼</td>\n",
       "      <td>18번가의 비밀</td>\n",
       "      <td>댄스</td>\n",
       "      <td>[끝없는, 어둠, 속을, 천천히, 걷고, 있어, 어디서, 본, 듯한, 야릇한, 느낌...</td>\n",
       "    </tr>\n",
       "    <tr>\n",
       "      <th>4</th>\n",
       "      <td>19920000</td>\n",
       "      <td>잼</td>\n",
       "      <td>요즘 친구들</td>\n",
       "      <td>댄스</td>\n",
       "      <td>[요즘, 친구들은, 흥, 정말, 진정한, 친구가, 뭔지, 잘, 몰라, 말로만, 떠들...</td>\n",
       "    </tr>\n",
       "  </tbody>\n",
       "</table>\n",
       "</div>"
      ],
      "text/plain": [
       "         년도 가수          제목   장르  \\\n",
       "0  19920000  잼   난 멈추지 않는다   댄스   \n",
       "1  19920000  잼  우리 모두 사랑하자   댄스   \n",
       "2  19920000  잼          이유  발라드   \n",
       "3  19920000  잼    18번가의 비밀   댄스   \n",
       "4  19920000  잼      요즘 친구들   댄스   \n",
       "\n",
       "                                                  가사  \n",
       "0  [이제, 모든걸, 다시, 시작해, 내겐, 아직도, 시간이, 있어, 때론, 상처가, ...  \n",
       "1  [워, 우리, 모두, 사랑하자, 우리의, 젊은날을, 위하여, 우리, 모두, 춤을, ...  \n",
       "2  [어둠은, 드리워지고, 이제는, 우리들만의, 시간이, 지친듯이, 내, 가슴속에, 밀...  \n",
       "3  [끝없는, 어둠, 속을, 천천히, 걷고, 있어, 어디서, 본, 듯한, 야릇한, 느낌...  \n",
       "4  [요즘, 친구들은, 흥, 정말, 진정한, 친구가, 뭔지, 잘, 몰라, 말로만, 떠들...  "
      ]
     },
     "execution_count": 9,
     "metadata": {},
     "output_type": "execute_result"
    }
   ],
   "source": [
    "data['가사']=result\n",
    "data.head()"
   ]
  },
  {
   "cell_type": "code",
   "execution_count": 10,
   "metadata": {},
   "outputs": [],
   "source": [
    "stopwords_eng=set(stopwords.words('english'))\n",
    "stopwords_kor=set(kor_stopword)\n",
    "\n",
    "data['가사']=data['가사'].apply(lambda list: [x for x in list if x not in stopwords_eng]) #영어 불용어 제거\n",
    "data['가사']=data['가사'].apply(lambda list: [x for x in list if x not in stopwords_kor]) #한국어 불용어 제거"
   ]
  },
  {
   "cell_type": "code",
   "execution_count": 11,
   "metadata": {},
   "outputs": [],
   "source": [
    "_stopwords = [u\"나\",u\"너\",u\"우리\",u\"넌\",u\"내\",u\"난\",u\"날\",u\"네\",u\"널\",u\"말\",u\"그\",u\"그녀\",u\"그대\",u\"왜\",u\"와\",u\"워\",u\"이\",u\"수\",u\"것\",u\"걸\",u\"더\",u\"세\",u\"듯\",u\"건\",u\"나빌레라\",u\"난나\",u\"라라라라\",u\"나빌레\",u\"나나\"]"
   ]
  },
  {
   "cell_type": "code",
   "execution_count": 12,
   "metadata": {
    "scrolled": true
   },
   "outputs": [],
   "source": [
    "data['가사']=data['가사'].apply(lambda list: [x for x in list if x not in _stopwords])"
   ]
  },
  {
   "cell_type": "code",
   "execution_count": 13,
   "metadata": {},
   "outputs": [
    {
     "data": {
      "text/html": [
       "<div>\n",
       "<style scoped>\n",
       "    .dataframe tbody tr th:only-of-type {\n",
       "        vertical-align: middle;\n",
       "    }\n",
       "\n",
       "    .dataframe tbody tr th {\n",
       "        vertical-align: top;\n",
       "    }\n",
       "\n",
       "    .dataframe thead th {\n",
       "        text-align: right;\n",
       "    }\n",
       "</style>\n",
       "<table border=\"1\" class=\"dataframe\">\n",
       "  <thead>\n",
       "    <tr style=\"text-align: right;\">\n",
       "      <th></th>\n",
       "      <th>년도</th>\n",
       "      <th>가수</th>\n",
       "      <th>제목</th>\n",
       "      <th>장르</th>\n",
       "      <th>가사</th>\n",
       "    </tr>\n",
       "  </thead>\n",
       "  <tbody>\n",
       "    <tr>\n",
       "      <th>0</th>\n",
       "      <td>19920000</td>\n",
       "      <td>잼</td>\n",
       "      <td>난 멈추지 않는다</td>\n",
       "      <td>댄스</td>\n",
       "      <td>[이제, 모든걸, 다시, 시작해, 내겐, 아직도, 시간이, 있어, 때론, 상처가, ...</td>\n",
       "    </tr>\n",
       "    <tr>\n",
       "      <th>1</th>\n",
       "      <td>19920000</td>\n",
       "      <td>잼</td>\n",
       "      <td>우리 모두 사랑하자</td>\n",
       "      <td>댄스</td>\n",
       "      <td>[모두, 사랑하자, 우리의, 젊은날을, 위하여, 모두, 춤을, 추자, 가벼운, 인스...</td>\n",
       "    </tr>\n",
       "    <tr>\n",
       "      <th>2</th>\n",
       "      <td>19920000</td>\n",
       "      <td>잼</td>\n",
       "      <td>이유</td>\n",
       "      <td>발라드</td>\n",
       "      <td>[어둠은, 드리워지고, 이제는, 우리들만의, 시간이, 지친듯이, 가슴속에, 밀려와,...</td>\n",
       "    </tr>\n",
       "    <tr>\n",
       "      <th>3</th>\n",
       "      <td>19920000</td>\n",
       "      <td>잼</td>\n",
       "      <td>18번가의 비밀</td>\n",
       "      <td>댄스</td>\n",
       "      <td>[끝없는, 어둠, 속을, 천천히, 걷고, 있어, 어디서, 본, 듯한, 야릇한, 느낌...</td>\n",
       "    </tr>\n",
       "    <tr>\n",
       "      <th>4</th>\n",
       "      <td>19920000</td>\n",
       "      <td>잼</td>\n",
       "      <td>요즘 친구들</td>\n",
       "      <td>댄스</td>\n",
       "      <td>[요즘, 친구들은, 흥, 정말, 진정한, 친구가, 뭔지, 잘, 몰라, 말로만, 떠들...</td>\n",
       "    </tr>\n",
       "  </tbody>\n",
       "</table>\n",
       "</div>"
      ],
      "text/plain": [
       "         년도 가수          제목   장르  \\\n",
       "0  19920000  잼   난 멈추지 않는다   댄스   \n",
       "1  19920000  잼  우리 모두 사랑하자   댄스   \n",
       "2  19920000  잼          이유  발라드   \n",
       "3  19920000  잼    18번가의 비밀   댄스   \n",
       "4  19920000  잼      요즘 친구들   댄스   \n",
       "\n",
       "                                                  가사  \n",
       "0  [이제, 모든걸, 다시, 시작해, 내겐, 아직도, 시간이, 있어, 때론, 상처가, ...  \n",
       "1  [모두, 사랑하자, 우리의, 젊은날을, 위하여, 모두, 춤을, 추자, 가벼운, 인스...  \n",
       "2  [어둠은, 드리워지고, 이제는, 우리들만의, 시간이, 지친듯이, 가슴속에, 밀려와,...  \n",
       "3  [끝없는, 어둠, 속을, 천천히, 걷고, 있어, 어디서, 본, 듯한, 야릇한, 느낌...  \n",
       "4  [요즘, 친구들은, 흥, 정말, 진정한, 친구가, 뭔지, 잘, 몰라, 말로만, 떠들...  "
      ]
     },
     "execution_count": 13,
     "metadata": {},
     "output_type": "execute_result"
    }
   ],
   "source": [
    "data.head()"
   ]
  },
  {
   "cell_type": "code",
   "execution_count": 14,
   "metadata": {
    "scrolled": true
   },
   "outputs": [
    {
     "name": "stderr",
     "output_type": "stream",
     "text": [
      "[nltk_data] Downloading package wordnet to\n",
      "[nltk_data]     C:\\Users\\308_1\\AppData\\Roaming\\nltk_data...\n",
      "[nltk_data]   Package wordnet is already up-to-date!\n"
     ]
    }
   ],
   "source": [
    "nltk.download('wordnet')\n",
    "from nltk.stem import WordNetLemmatizer\n",
    "from nltk.stem import PorterStemmer"
   ]
  },
  {
   "cell_type": "code",
   "execution_count": 15,
   "metadata": {},
   "outputs": [],
   "source": [
    "stemming_list = data['가사'].apply(lambda x: [PorterStemmer().stem(word) for word in x])"
   ]
  },
  {
   "cell_type": "code",
   "execution_count": 16,
   "metadata": {},
   "outputs": [
    {
     "name": "stderr",
     "output_type": "stream",
     "text": [
      "[nltk_data] Downloading package averaged_perceptron_tagger to\n",
      "[nltk_data]     C:\\Users\\308_1\\AppData\\Roaming\\nltk_data...\n",
      "[nltk_data]   Package averaged_perceptron_tagger is already up-to-\n",
      "[nltk_data]       date!\n"
     ]
    },
    {
     "data": {
      "text/plain": [
       "True"
      ]
     },
     "execution_count": 16,
     "metadata": {},
     "output_type": "execute_result"
    }
   ],
   "source": [
    "nltk.download('averaged_perceptron_tagger')"
   ]
  },
  {
   "cell_type": "code",
   "execution_count": 17,
   "metadata": {},
   "outputs": [],
   "source": [
    "data['가사'] = data['가사'].apply(lambda x: [WordNetLemmatizer().lemmatize(word, pos='v') for word in x])"
   ]
  },
  {
   "cell_type": "code",
   "execution_count": 18,
   "metadata": {},
   "outputs": [
    {
     "data": {
      "text/html": [
       "<div>\n",
       "<style scoped>\n",
       "    .dataframe tbody tr th:only-of-type {\n",
       "        vertical-align: middle;\n",
       "    }\n",
       "\n",
       "    .dataframe tbody tr th {\n",
       "        vertical-align: top;\n",
       "    }\n",
       "\n",
       "    .dataframe thead th {\n",
       "        text-align: right;\n",
       "    }\n",
       "</style>\n",
       "<table border=\"1\" class=\"dataframe\">\n",
       "  <thead>\n",
       "    <tr style=\"text-align: right;\">\n",
       "      <th></th>\n",
       "      <th>년도</th>\n",
       "      <th>가수</th>\n",
       "      <th>제목</th>\n",
       "      <th>장르</th>\n",
       "      <th>가사</th>\n",
       "    </tr>\n",
       "  </thead>\n",
       "  <tbody>\n",
       "    <tr>\n",
       "      <th>0</th>\n",
       "      <td>19920000</td>\n",
       "      <td>잼</td>\n",
       "      <td>난 멈추지 않는다</td>\n",
       "      <td>댄스</td>\n",
       "      <td>[이제, 모든걸, 다시, 시작해, 내겐, 아직도, 시간이, 있어, 때론, 상처가, ...</td>\n",
       "    </tr>\n",
       "    <tr>\n",
       "      <th>1</th>\n",
       "      <td>19920000</td>\n",
       "      <td>잼</td>\n",
       "      <td>우리 모두 사랑하자</td>\n",
       "      <td>댄스</td>\n",
       "      <td>[모두, 사랑하자, 우리의, 젊은날을, 위하여, 모두, 춤을, 추자, 가벼운, 인스...</td>\n",
       "    </tr>\n",
       "    <tr>\n",
       "      <th>2</th>\n",
       "      <td>19920000</td>\n",
       "      <td>잼</td>\n",
       "      <td>이유</td>\n",
       "      <td>발라드</td>\n",
       "      <td>[어둠은, 드리워지고, 이제는, 우리들만의, 시간이, 지친듯이, 가슴속에, 밀려와,...</td>\n",
       "    </tr>\n",
       "    <tr>\n",
       "      <th>3</th>\n",
       "      <td>19920000</td>\n",
       "      <td>잼</td>\n",
       "      <td>18번가의 비밀</td>\n",
       "      <td>댄스</td>\n",
       "      <td>[끝없는, 어둠, 속을, 천천히, 걷고, 있어, 어디서, 본, 듯한, 야릇한, 느낌...</td>\n",
       "    </tr>\n",
       "    <tr>\n",
       "      <th>4</th>\n",
       "      <td>19920000</td>\n",
       "      <td>잼</td>\n",
       "      <td>요즘 친구들</td>\n",
       "      <td>댄스</td>\n",
       "      <td>[요즘, 친구들은, 흥, 정말, 진정한, 친구가, 뭔지, 잘, 몰라, 말로만, 떠들...</td>\n",
       "    </tr>\n",
       "  </tbody>\n",
       "</table>\n",
       "</div>"
      ],
      "text/plain": [
       "         년도 가수          제목   장르  \\\n",
       "0  19920000  잼   난 멈추지 않는다   댄스   \n",
       "1  19920000  잼  우리 모두 사랑하자   댄스   \n",
       "2  19920000  잼          이유  발라드   \n",
       "3  19920000  잼    18번가의 비밀   댄스   \n",
       "4  19920000  잼      요즘 친구들   댄스   \n",
       "\n",
       "                                                  가사  \n",
       "0  [이제, 모든걸, 다시, 시작해, 내겐, 아직도, 시간이, 있어, 때론, 상처가, ...  \n",
       "1  [모두, 사랑하자, 우리의, 젊은날을, 위하여, 모두, 춤을, 추자, 가벼운, 인스...  \n",
       "2  [어둠은, 드리워지고, 이제는, 우리들만의, 시간이, 지친듯이, 가슴속에, 밀려와,...  \n",
       "3  [끝없는, 어둠, 속을, 천천히, 걷고, 있어, 어디서, 본, 듯한, 야릇한, 느낌...  \n",
       "4  [요즘, 친구들은, 흥, 정말, 진정한, 친구가, 뭔지, 잘, 몰라, 말로만, 떠들...  "
      ]
     },
     "execution_count": 18,
     "metadata": {},
     "output_type": "execute_result"
    }
   ],
   "source": [
    "data.head()"
   ]
  },
  {
   "cell_type": "code",
   "execution_count": 19,
   "metadata": {},
   "outputs": [
    {
     "name": "stderr",
     "output_type": "stream",
     "text": [
      "C:\\Users\\308_1\\anaconda3\\envs\\eunhoo\\lib\\site-packages\\ipykernel_launcher.py:8: SettingWithCopyWarning: \n",
      "A value is trying to be set on a copy of a slice from a DataFrame\n",
      "\n",
      "See the caveats in the documentation: https://pandas.pydata.org/pandas-docs/stable/user_guide/indexing.html#returning-a-view-versus-a-copy\n",
      "  \n"
     ]
    }
   ],
   "source": [
    "lyrics=data['가사']\n",
    "\n",
    "for i,document in enumerate(lyrics):\n",
    "    stem_words_eng=[]\n",
    "    for word in nltk.pos_tag(document):\n",
    "        if word[1] in ['NN','NNP','JJ']:\n",
    "            stem_words_eng.append(word[0])\n",
    "    lyrics[i]=stem_words_eng"
   ]
  },
  {
   "cell_type": "code",
   "execution_count": 20,
   "metadata": {},
   "outputs": [],
   "source": [
    "lyrics_k=[]\n",
    "for i in lyrics:\n",
    "    lyric=' '.join(i)\n",
    "    lyrics_k.append(lyric)"
   ]
  },
  {
   "cell_type": "code",
   "execution_count": 21,
   "metadata": {},
   "outputs": [],
   "source": [
    "for i,document in enumerate(lyrics_k):\n",
    "    stem_words_kor=[]\n",
    "    for word in okt.pos(document,stem=True):\n",
    "        if word[1] in ['Noun','Adjective','Alpha']:\n",
    "            stem_words_kor.append(word[0])\n",
    "    lyrics_k[i]=stem_words_kor"
   ]
  },
  {
   "cell_type": "code",
   "execution_count": 22,
   "metadata": {},
   "outputs": [],
   "source": [
    "train=[]\n",
    "for i,line in enumerate(lyrics_k):\n",
    "    ary=[]\n",
    "    for word in line:\n",
    "        if len(word)>1:\n",
    "            ary.append(word)\n",
    "    train.append(ary)"
   ]
  },
  {
   "cell_type": "code",
   "execution_count": 26,
   "metadata": {},
   "outputs": [],
   "source": [
    "data['가사']=train"
   ]
  },
  {
   "cell_type": "code",
   "execution_count": 27,
   "metadata": {
    "scrolled": true
   },
   "outputs": [
    {
     "data": {
      "text/html": [
       "<div>\n",
       "<style scoped>\n",
       "    .dataframe tbody tr th:only-of-type {\n",
       "        vertical-align: middle;\n",
       "    }\n",
       "\n",
       "    .dataframe tbody tr th {\n",
       "        vertical-align: top;\n",
       "    }\n",
       "\n",
       "    .dataframe thead th {\n",
       "        text-align: right;\n",
       "    }\n",
       "</style>\n",
       "<table border=\"1\" class=\"dataframe\">\n",
       "  <thead>\n",
       "    <tr style=\"text-align: right;\">\n",
       "      <th></th>\n",
       "      <th>년도</th>\n",
       "      <th>가수</th>\n",
       "      <th>제목</th>\n",
       "      <th>장르</th>\n",
       "      <th>가사</th>\n",
       "    </tr>\n",
       "  </thead>\n",
       "  <tbody>\n",
       "    <tr>\n",
       "      <th>0</th>\n",
       "      <td>19920000</td>\n",
       "      <td>잼</td>\n",
       "      <td>난 멈추지 않는다</td>\n",
       "      <td>댄스</td>\n",
       "      <td>[이제, 다시, 시작, 내겐, 시간, 있다, 때론, 상처, 좌절, 남아, 없다, 후...</td>\n",
       "    </tr>\n",
       "    <tr>\n",
       "      <th>1</th>\n",
       "      <td>19920000</td>\n",
       "      <td>잼</td>\n",
       "      <td>우리 모두 사랑하자</td>\n",
       "      <td>댄스</td>\n",
       "      <td>[모두, 사랑, 우리, 젊다, 모두, 가볍다, 스텝, 그대, 아무렇다, 거리, 사람...</td>\n",
       "    </tr>\n",
       "    <tr>\n",
       "      <th>2</th>\n",
       "      <td>19920000</td>\n",
       "      <td>잼</td>\n",
       "      <td>이유</td>\n",
       "      <td>발라드</td>\n",
       "      <td>[어둠, 이제, 우리, 시간, 가슴속, 긴머리, 향기, 잠시, 취해, 어둠, 얼마나...</td>\n",
       "    </tr>\n",
       "    <tr>\n",
       "      <th>3</th>\n",
       "      <td>19920000</td>\n",
       "      <td>잼</td>\n",
       "      <td>18번가의 비밀</td>\n",
       "      <td>댄스</td>\n",
       "      <td>[끝없다, 어둠, 있다, 야릇하다, 느낌, 거리, 싸늘하다, 해지, 바람, 어깨, ...</td>\n",
       "    </tr>\n",
       "    <tr>\n",
       "      <th>4</th>\n",
       "      <td>19920000</td>\n",
       "      <td>잼</td>\n",
       "      <td>요즘 친구들</td>\n",
       "      <td>댄스</td>\n",
       "      <td>[요즘, 친구, 정말, 진정하다, 친구, 말로, 자기, 다만, 그게, 다인, 생각,...</td>\n",
       "    </tr>\n",
       "  </tbody>\n",
       "</table>\n",
       "</div>"
      ],
      "text/plain": [
       "         년도 가수          제목   장르  \\\n",
       "0  19920000  잼   난 멈추지 않는다   댄스   \n",
       "1  19920000  잼  우리 모두 사랑하자   댄스   \n",
       "2  19920000  잼          이유  발라드   \n",
       "3  19920000  잼    18번가의 비밀   댄스   \n",
       "4  19920000  잼      요즘 친구들   댄스   \n",
       "\n",
       "                                                  가사  \n",
       "0  [이제, 다시, 시작, 내겐, 시간, 있다, 때론, 상처, 좌절, 남아, 없다, 후...  \n",
       "1  [모두, 사랑, 우리, 젊다, 모두, 가볍다, 스텝, 그대, 아무렇다, 거리, 사람...  \n",
       "2  [어둠, 이제, 우리, 시간, 가슴속, 긴머리, 향기, 잠시, 취해, 어둠, 얼마나...  \n",
       "3  [끝없다, 어둠, 있다, 야릇하다, 느낌, 거리, 싸늘하다, 해지, 바람, 어깨, ...  \n",
       "4  [요즘, 친구, 정말, 진정하다, 친구, 말로, 자기, 다만, 그게, 다인, 생각,...  "
      ]
     },
     "execution_count": 27,
     "metadata": {},
     "output_type": "execute_result"
    }
   ],
   "source": [
    "data.head()"
   ]
  },
  {
   "cell_type": "code",
   "execution_count": 28,
   "metadata": {},
   "outputs": [],
   "source": [
    "data.to_csv('data_usable.tsv',index=False, sep='\\t')"
   ]
  },
  {
   "cell_type": "code",
   "execution_count": 29,
   "metadata": {},
   "outputs": [],
   "source": [
    "data_=pd.read_csv('data_usable.tsv', sep='\\t', encoding = 'utf-8')"
   ]
  },
  {
   "cell_type": "code",
   "execution_count": 30,
   "metadata": {},
   "outputs": [
    {
     "data": {
      "text/html": [
       "<div>\n",
       "<style scoped>\n",
       "    .dataframe tbody tr th:only-of-type {\n",
       "        vertical-align: middle;\n",
       "    }\n",
       "\n",
       "    .dataframe tbody tr th {\n",
       "        vertical-align: top;\n",
       "    }\n",
       "\n",
       "    .dataframe thead th {\n",
       "        text-align: right;\n",
       "    }\n",
       "</style>\n",
       "<table border=\"1\" class=\"dataframe\">\n",
       "  <thead>\n",
       "    <tr style=\"text-align: right;\">\n",
       "      <th></th>\n",
       "      <th>년도</th>\n",
       "      <th>가수</th>\n",
       "      <th>제목</th>\n",
       "      <th>장르</th>\n",
       "      <th>가사</th>\n",
       "    </tr>\n",
       "  </thead>\n",
       "  <tbody>\n",
       "    <tr>\n",
       "      <th>0</th>\n",
       "      <td>19920000</td>\n",
       "      <td>잼</td>\n",
       "      <td>난 멈추지 않는다</td>\n",
       "      <td>댄스</td>\n",
       "      <td>['이제', '다시', '시작', '내겐', '시간', '있다', '때론', '상처...</td>\n",
       "    </tr>\n",
       "    <tr>\n",
       "      <th>1</th>\n",
       "      <td>19920000</td>\n",
       "      <td>잼</td>\n",
       "      <td>우리 모두 사랑하자</td>\n",
       "      <td>댄스</td>\n",
       "      <td>['모두', '사랑', '우리', '젊다', '모두', '가볍다', '스텝', '그...</td>\n",
       "    </tr>\n",
       "    <tr>\n",
       "      <th>2</th>\n",
       "      <td>19920000</td>\n",
       "      <td>잼</td>\n",
       "      <td>이유</td>\n",
       "      <td>발라드</td>\n",
       "      <td>['어둠', '이제', '우리', '시간', '가슴속', '긴머리', '향기', '...</td>\n",
       "    </tr>\n",
       "    <tr>\n",
       "      <th>3</th>\n",
       "      <td>19920000</td>\n",
       "      <td>잼</td>\n",
       "      <td>18번가의 비밀</td>\n",
       "      <td>댄스</td>\n",
       "      <td>['끝없다', '어둠', '있다', '야릇하다', '느낌', '거리', '싸늘하다'...</td>\n",
       "    </tr>\n",
       "    <tr>\n",
       "      <th>4</th>\n",
       "      <td>19920000</td>\n",
       "      <td>잼</td>\n",
       "      <td>요즘 친구들</td>\n",
       "      <td>댄스</td>\n",
       "      <td>['요즘', '친구', '정말', '진정하다', '친구', '말로', '자기', '...</td>\n",
       "    </tr>\n",
       "  </tbody>\n",
       "</table>\n",
       "</div>"
      ],
      "text/plain": [
       "         년도 가수          제목   장르  \\\n",
       "0  19920000  잼   난 멈추지 않는다   댄스   \n",
       "1  19920000  잼  우리 모두 사랑하자   댄스   \n",
       "2  19920000  잼          이유  발라드   \n",
       "3  19920000  잼    18번가의 비밀   댄스   \n",
       "4  19920000  잼      요즘 친구들   댄스   \n",
       "\n",
       "                                                  가사  \n",
       "0  ['이제', '다시', '시작', '내겐', '시간', '있다', '때론', '상처...  \n",
       "1  ['모두', '사랑', '우리', '젊다', '모두', '가볍다', '스텝', '그...  \n",
       "2  ['어둠', '이제', '우리', '시간', '가슴속', '긴머리', '향기', '...  \n",
       "3  ['끝없다', '어둠', '있다', '야릇하다', '느낌', '거리', '싸늘하다'...  \n",
       "4  ['요즘', '친구', '정말', '진정하다', '친구', '말로', '자기', '...  "
      ]
     },
     "execution_count": 30,
     "metadata": {},
     "output_type": "execute_result"
    }
   ],
   "source": [
    "data_.head()"
   ]
  },
  {
   "cell_type": "code",
   "execution_count": 46,
   "metadata": {},
   "outputs": [
    {
     "name": "stdout",
     "output_type": "stream",
     "text": [
      "Collecting gensim\n",
      "  Downloading gensim-3.8.3-cp37-cp37m-win_amd64.whl (24.2 MB)\n",
      "Collecting smart-open>=1.8.1\n",
      "  Downloading smart_open-3.0.0.tar.gz (113 kB)\n",
      "Requirement already satisfied: scipy>=0.18.1 in c:\\users\\308_1\\appdata\\roaming\\python\\python37\\site-packages (from gensim) (1.4.1)\n",
      "Requirement already satisfied: six>=1.5.0 in c:\\users\\308_1\\anaconda3\\envs\\eunhoo\\lib\\site-packages (from gensim) (1.15.0)\n",
      "Requirement already satisfied: numpy>=1.11.3 in c:\\users\\308_1\\anaconda3\\envs\\eunhoo\\lib\\site-packages (from gensim) (1.18.5)\n",
      "Collecting Cython==0.29.14\n",
      "  Downloading Cython-0.29.14-cp37-cp37m-win_amd64.whl (1.7 MB)\n",
      "Requirement already satisfied: requests in c:\\users\\308_1\\anaconda3\\envs\\eunhoo\\lib\\site-packages (from smart-open>=1.8.1->gensim) (2.24.0)\n",
      "Requirement already satisfied: idna<3,>=2.5 in c:\\users\\308_1\\anaconda3\\envs\\eunhoo\\lib\\site-packages (from requests->smart-open>=1.8.1->gensim) (2.10)\n",
      "Requirement already satisfied: urllib3!=1.25.0,!=1.25.1,<1.26,>=1.21.1 in c:\\users\\308_1\\anaconda3\\envs\\eunhoo\\lib\\site-packages (from requests->smart-open>=1.8.1->gensim) (1.25.11)\n",
      "Requirement already satisfied: chardet<4,>=3.0.2 in c:\\users\\308_1\\appdata\\roaming\\python\\python37\\site-packages (from requests->smart-open>=1.8.1->gensim) (3.0.4)\n",
      "Requirement already satisfied: certifi>=2017.4.17 in c:\\users\\308_1\\anaconda3\\envs\\eunhoo\\lib\\site-packages (from requests->smart-open>=1.8.1->gensim) (2020.6.20)\n",
      "Building wheels for collected packages: smart-open\n",
      "  Building wheel for smart-open (setup.py): started\n",
      "  Building wheel for smart-open (setup.py): finished with status 'done'\n",
      "  Created wheel for smart-open: filename=smart_open-3.0.0-py3-none-any.whl size=107102 sha256=efa3d5b1fbc2bfb34d8792ead14143e68d64f18140416f7ce0a5d2dcf8af1b25\n",
      "  Stored in directory: c:\\users\\308_1\\appdata\\local\\pip\\cache\\wheels\\83\\a6\\12\\bf3c1a667bde4251be5b7a3368b2d604c9af2105b5c1cb1870\n",
      "Successfully built smart-open\n",
      "Installing collected packages: smart-open, Cython, gensim\n",
      "Successfully installed Cython-0.29.14 gensim-3.8.3 smart-open-3.0.0\n"
     ]
    }
   ],
   "source": [
    "!pip install gensim"
   ]
  },
  {
   "cell_type": "code",
   "execution_count": 31,
   "metadata": {},
   "outputs": [],
   "source": [
    "import matplotlib.pyplot as plt\n",
    "from gensim.models import CoherenceModel\n",
    "import gensim"
   ]
  },
  {
   "cell_type": "code",
   "execution_count": 32,
   "metadata": {},
   "outputs": [],
   "source": [
    "lyric_d=[]\n",
    "for i in train:\n",
    "    lyric=' '.join(i)\n",
    "    lyric_d.append(lyric)"
   ]
  },
  {
   "cell_type": "code",
   "execution_count": 33,
   "metadata": {},
   "outputs": [
    {
     "data": {
      "text/plain": [
       "(5768, 18556)"
      ]
     },
     "execution_count": 33,
     "metadata": {},
     "output_type": "execute_result"
    }
   ],
   "source": [
    "from sklearn.feature_extraction.text import TfidfVectorizer\n",
    "vectorizer = TfidfVectorizer()\n",
    "X=vectorizer.fit_transform(lyric_d)\n",
    "X.shape"
   ]
  },
  {
   "cell_type": "code",
   "execution_count": 34,
   "metadata": {},
   "outputs": [],
   "source": [
    "from sklearn.decomposition import LatentDirichletAllocation\n",
    "\n",
    "lda_model=LatentDirichletAllocation(n_components=12)"
   ]
  },
  {
   "cell_type": "code",
   "execution_count": 35,
   "metadata": {},
   "outputs": [
    {
     "name": "stdout",
     "output_type": "stream",
     "text": [
      "(12, 18556)\n"
     ]
    }
   ],
   "source": [
    "lda_top=lda_model.fit_transform(X)\n",
    "\n",
    "print(lda_model.components_.shape)"
   ]
  },
  {
   "cell_type": "code",
   "execution_count": 36,
   "metadata": {},
   "outputs": [],
   "source": [
    "def get_topics(components, feature_names, n=5):\n",
    "    for idx, topic in enumerate(components):\n",
    "        print(\"Topic %d:\" % (idx+1), [(feature_names[i], topic[i].round(2)) for i in topic.argsort()[:-n - 1:-1]])"
   ]
  },
  {
   "cell_type": "code",
   "execution_count": 37,
   "metadata": {},
   "outputs": [],
   "source": [
    "terms = vectorizer.get_feature_names()"
   ]
  },
  {
   "cell_type": "code",
   "execution_count": 38,
   "metadata": {},
   "outputs": [
    {
     "name": "stdout",
     "output_type": "stream",
     "text": [
      "Topic 1: [('프리마돈나', 3.63), ('다만', 3.61), ('back', 3.44), ('rush', 3.1), ('이나', 3.05)]\n",
      "Topic 2: [('who', 4.68), ('어어어어', 4.6), ('superstar', 3.99), ('마마', 3.99), ('lolli', 3.59)]\n",
      "Topic 3: [('la', 40.22), ('에이', 4.41), ('wow', 4.29), ('sugar', 3.71), ('boyfriend', 3.06)]\n",
      "Topic 4: [('tic', 4.23), ('toc', 3.93), ('would', 3.33), ('밉다', 3.29), ('나이', 3.26)]\n",
      "Topic 5: [('du', 2.39), ('stolen', 2.23), ('ordinary', 2.13), ('hate', 1.94), ('일밤', 1.91)]\n",
      "Topic 6: [('사랑', 359.53), ('있다', 287.84), ('없다', 254.83), ('그대', 164.22), ('baby', 145.88)]\n",
      "Topic 7: [('나나', 15.89), ('tu', 4.42), ('closer', 3.91), ('lucky', 3.49), ('rally', 2.97)]\n",
      "Topic 8: [('da', 9.38), ('knock', 6.15), ('hot', 5.82), ('butterfly', 5.38), ('magic', 5.0)]\n",
      "Topic 9: [('movin', 5.69), ('young', 3.37), ('really', 2.99), ('alive', 2.87), ('대한민국', 2.57)]\n",
      "Topic 10: [('number', 5.12), ('more', 4.98), ('kissing', 3.79), ('뚜뚜루', 3.7), ('너뿐이', 3.42)]\n",
      "Topic 11: [('dynamite', 5.77), ('boom', 5.65), ('city', 5.2), ('shining', 5.0), ('im', 4.41)]\n",
      "Topic 12: [('christmas', 8.05), ('lover', 6.15), ('liar', 5.76), ('겨우', 3.3), ('somebody', 3.1)]\n"
     ]
    }
   ],
   "source": [
    "get_topics(lda_model.components_,terms)"
   ]
  },
  {
   "cell_type": "code",
   "execution_count": 39,
   "metadata": {},
   "outputs": [
    {
     "data": {
      "text/html": [
       "\n",
       "<link rel=\"stylesheet\" type=\"text/css\" href=\"https://cdn.rawgit.com/bmabey/pyLDAvis/files/ldavis.v1.0.0.css\">\n",
       "\n",
       "\n",
       "<div id=\"ldavis_el605619621741122007491641920\"></div>\n",
       "<script type=\"text/javascript\">\n",
       "\n",
       "var ldavis_el605619621741122007491641920_data = {\"mdsDat\": {\"x\": [-0.3909375009593975, 0.041452577544237146, 0.03489406527845093, 0.03812604818409418, 0.040048295427932284, 0.03876148576517332, 0.03848114564901094, 0.022579125188198563, 0.0345233260174324, 0.036644656875362294, 0.03435243998538388, 0.031074335044121375], \"y\": [-0.0009737133979998519, -0.05579995652389199, 0.041869234347319685, 0.0022280432845234936, 0.002130109071123655, 0.0018820494769617383, 0.0005040315121896281, 0.00616004036547125, 0.0005107311863262169, 0.0014280950092128005, -0.0006576359796924201, 0.0007189716484555849], \"topics\": [1, 2, 3, 4, 5, 6, 7, 8, 9, 10, 11, 12], \"cluster\": [1, 1, 1, 1, 1, 1, 1, 1, 1, 1, 1, 1], \"Freq\": [68.9921879909783, 3.206853967071921, 3.1621882911302683, 3.031314023761596, 2.9076262445098413, 2.8516393915642277, 2.851605607302534, 2.705262546711638, 2.7023569087700934, 2.6728193914907337, 2.6051428152863605, 2.311002821422485]}, \"tinfo\": {\"Term\": [\"\\uc0ac\\ub791\", \"la\", \"\\uc788\\ub2e4\", \"\\ub098\\ub098\", \"\\uc5c6\\ub2e4\", \"im\", \"hot\", \"\\uadf8\\ub300\", \"so\", \"hello\", \"star\", \"boom\", \"da\", \"baby\", \"light\", \"knock\", \"\\uac19\\ub2e4\", \"tonight\", \"eh\", \"back\", \"bad\", \"oh\", \"ah\", \"night\", \"\\uadf8\\ub807\\ub2e4\", \"run\", \"lie\", \"go\", \"\\ub2e4\\uc2dc\", \"\\ubc09\\ub2e4\", \"\\uc0ac\\ub791\", \"\\uc788\\ub2e4\", \"\\uc5c6\\ub2e4\", \"\\uadf8\\ub300\", \"baby\", \"\\uac19\\ub2e4\", \"\\uadf8\\ub807\\ub2e4\", \"\\ub2e4\\uc2dc\", \"love\", \"\\ub9c8\\uc74c\", \"\\uc0ac\\ub78c\", \"oh\", \"\\uc774\\uc81c\", \"\\uc544\\ud504\\ub2e4\", \"\\ub208\\ubb3c\", \"\\uc544\\ub2c8\\ub2e4\", \"\\uc2dc\\uac04\", \"\\uc88b\\ub2e4\", \"\\uc138\\uc0c1\", \"\\uc9c0\\uae08\", \"\\uc0dd\\uac01\", \"\\uac00\\uc2b4\", \"\\uae30\\uc5b5\", \"\\uc624\\ub298\", \"\\ubaa8\\ub450\", \"girl\", \"\\ubaa8\\uc2b5\", \"\\ubaa8\\ub4e0\", \"\\uc774\\ub807\\ub2e4\", \"\\ud589\\ubcf5\\ud558\\ub2e4\", \"\\ud558\\ub098\", \"christmas\", \"lover\", \"\\ud558\\uc774\", \"very\", \"liar\", \"ehoh\", \"\\uc0b0\\uc18c\", \"irony\", \"nigga\", \"\\uc6b0\\uc544\\ud558\\ub2e4\", \"foolish\", \"room\", \"\\ud654\\ub9cc\", \"\\uc6b8\\ub784\\ub77c\", \"skin\", \"zam\", \"warn\", \"monday\", \"\\ud574\\ub9c8\", \"\\uce5c\\uad6c\\uc5ec\", \"dong\", \"dive\", \"\\ubd04\\ubc14\\ub78c\", \"\\uc601\\uc0dd\", \"tuesday\", \"\\uc6cc\\uc6cc\\uc6cc\", \"rhythm\", \"lazy\", \"does\", \"\\ud145\\ube48\", \"truth\", \"\\uc218\\uace0\", \"\\ubaa8\\uc9c4\", \"\\uba54\\uc544\\ub9ac\", \"\\uaca8\\uc6b0\", \"\\uc2dc\\ub828\", \"ding\", \"guy\", \"merry\", \"\\ubc84\\uc2a4\", \"\\uc77c\\ub9cc\", \"somebody\", \"\\ud06c\\ub9ac\\uc2a4\\ub9c8\\uc2a4\", \"happy\", \"wow\", \"fight\", \"sunday\", \"butterfly\", \"\\ub728\\ub728\\ub8e8\", \"jumpin\", \"issue\", \"\\ub3d9\\uacbd\", \"rookie\", \"uhhuh\", \"funky\", \"kno\", \"\\ud55c\\uac78\\uc74c\\uc529\", \"glad\", \"\\ud788\\ud788\\ud558\\ud5e4\\ud638\", \"lay\", \"lovin\", \"cream\", \"talker\", \"sunset\", \"ohh\", \"video\", \"ohohohoh\", \"ohohohohohoh\", \"wind\", \"dduba\", \"caught\", \"\\ubca0\\uc774\", \"around\", \"\\uae34\\uba38\\ub9ac\", \"\\uac10\\uc9c0\", \"door\", \"bailar\", \"da\", \"\\uce60\\ud558\\ub2e4\", \"\\ub9cc\\ub9cc\\ud558\\ub2e4\", \"radio\", \"\\ub78d\\ub2c8\", \"magic\", \"ice\", \"\\uc544\\uc774\\uc57c\", \"round\", \"knock\", \"wow\", \"hot\", \"\\uc6c3\\uc74c\\uc18c\\ub9ac\", \"merry\", \"dat\", \"hello\", \"wish\", \"\\uac81\\uc7c1\\uc774\", \"bad\", \"tu\", \"closer\", \"rally\", \"ghost\", \"hands\", \"baram\", \"\\ub2ec\\ub9c1\", \"\\ub780\\uac78\", \"york\", \"\\ub9c8\\uc774\", \"\\ubc18\\ub300\\ucabd\", \"ahh\", \"\\ud558\\ub298\\ub9cc\", \"cheer\", \"\\ub69c\\ub8e8\", \"\\ubd04\\ub0a0\", \"congratulations\", \"helicopter\", \"couple\", \"monster\", \"\\uc774\\uae30\\uc2ec\", \"eternally\", \"\\ubbf8\\ub7a0\", \"shut\", \"\\ube48\\uc190\", \"\\ub2e4\\ub978\\uc0ac\\ub78c\", \"\\ud22d\\ud558\\uba74\", \"\\uc62c\\ub808\", \"ra\", \"chocolate\", \"\\ud770\\ub208\", \"whoo\", \"\\ub77c\\uc774\", \"\\ub098\\ub098\", \"\\uac00\\uc9dc\", \"lucky\", \"oops\", \"enough\", \"\\ub098\\uc640\\ub77c\", \"stuck\", \"clap\", \"\\ub77c\\ub77c\\ub77c\\ub77c\", \"remember\", \"eh\", \"go\", \"\\ub8e8\\ub8e8\", \"kissing\", \"umpah\", \"\\ub108\\ubfd0\\uc774\", \"\\ub69c\\ub69c\\ub8e8\", \"more\", \"without\", \"\\ubc14\\ub77c\\ubc14\", \"lalalalala\", \"mercy\", \"\\ub69c\\ub69c\\ub69c\", \"lalalala\", \"\\ub77c\\ub530\", \"\\ube60\\ub77c\\ube60\\ube60\", \"diva\", \"number\", \"euphoria\", \"great\", \"\\uc5f0\\uc8fc\", \"choo\", \"rocket\", \"\\ub09c\\ub098\", \"\\uc5b4\\ub9b0\\uc2dc\\uc808\", \"tt\", \"di\", \"\\ubaa8\\ub978\\uccb4\", \"shaker\", \"\\ubcf8\\uac00\", \"heartbeat\", \"\\ubb34\\uc5b8\", \"aha\", \"bling\", \"girls\", \"work\", \"\\uac70\\uc808\", \"lalala\", \"wrong\", \"ride\", \"dat\", \"lolli\", \"\\uc5b4\\uc5b4\\uc5b4\\uc5b4\", \"some\", \"gravity\", \"likey\", \"\\uc5d0\\uc5d0\", \"superstar\", \"illegal\", \"slip\", \"lollipop\", \"\\ub784\\ub784\", \"psycho\", \"\\ubab0\\ub77c\\ubab0\\ub77c\", \"gee\", \"\\ud3c9\\uc0dd\\ud1a0\\ub85d\", \"blood\", \"\\ud0d1\\ub3c5\", \"oohwa\", \"anpanman\", \"\\uac1c\\ub3c4\", \"ng\", \"shop\", \"el\", \"snowman\", \"jelly\", \"\\uc9d5\\uae00\\uc9d5\\uae00\", \"\\ubc8c\\ub5bc\", \"mariachi\", \"jingle\", \"parade\", \"\\ubd88\\uaf43\\ub180\\uc774\", \"\\ub9c8\\ub9c8\", \"who\", \"wide\", \"club\", \"\\ubc29\\ud0c4\", \"rain\", \"mic\", \"blah\", \"young\", \"diamond\", \"\\ud504\\ub9ac\\ub9c8\\ub3c8\\ub098\", \"\\ub808\\uc624\", \"\\uc720\\ud589\\uac00\", \"hoohoo\", \"freeway\", \"\\ub9cc\\uc138\", \"yolo\", \"\\ud0d5\\uc9c4\", \"\\ub354\\uc6b1\\ub354\", \"bum\", \"\\ub2e4\\ub9cc\", \"simple\", \"\\uc774\\ub098\", \"rush\", \"\\uc6b8\\ubcf4\", \"wherever\", \"tick\", \"transformer\", \"colors\", \"twilight\", \"\\uae38\\ubaa9\", \"tulips\", \"\\ub808\\ubbf8\\uc624\", \"tock\", \"must\", \"\\ub2e4\\ud55c\", \"rollin\", \"\\ube44\\ub108\\uc2a4\", \"senorita\", \"\\ud22c\\ud63c\", \"ba\", \"tomorrow\", \"\\ube44\\uac81\\ud558\\ub2e4\", \"\\ube59\\ube59\", \"\\ub370\\uc774\\ud2b8\", \"enough\", \"back\", \"bounce\", \"wassup\", \"pop\", \"bae\", \"drive\", \"dynnnnnanana\", \"dynamite\", \"shining\", \"city\", \"dupa\", \"\\uc815\\uc6d0\", \"shawty\", \"\\uc784\\uc758\", \"alight\", \"woah\", \"\\uc2e0\\uc18d\\ud558\\ub2e4\", \"replay\", \"\\uc77c\\ub8e8\", \"peep\", \"funk\", \"again\", \"boomerang\", \"\\uc5b4\\uc694\", \"banger\", \"\\uceec\\ub7ec\\ub9c1\", \"bo\", \"\\ub4dc\\ub8e8\", \"crescent\", \"cos\", \"\\uc190\\ubc84\\ub987\", \"vroom\", \"whale\", \"cray\", \"supa\", \"uhuhuhuh\", \"signal\", \"\\uc18c\\ub780\\ud558\\ub2e4\", \"kihyun\", \"pray\", \"boom\", \"imma\", \"run\", \"someone\", \"\\ub8e8\\ub8e8\", \"light\", \"lie\", \"im\", \"bring\", \"watch\", \"star\", \"soul\", \"so\", \"fire\", \"tonight\", \"\\ucf54\\ub178\", \"peek\", \"\\ucf54\\ucf54\", \"\\uc885\\ud604\", \"\\uce74\\ub77c\", \"\\ub370\\ubaa8\", \"\\ubbf8\\ub178\", \"swan\", \"\\uc628\\uc720\", \"\\ub85c\\uafb8\\uac70\", \"\\uc774\\ub178\", \"\\ub808\\ub8e8\", \"fingertip\", \"\\ub808\\ud14c\", \"spread\", \"toc\", \"\\uc774\\ub8e8\", \"\\ubcf4\\ucfe0\", \"\\ucfe0\\ub77c\", \"\\ub098\\ubbf8\", \"\\uc6b0\\ub9ac\\ub098\\ub77c\", \"\\uc0ac\\ubc14\", \"\\ub808\\ub098\", \"\\ucf54\\ud1a0\", \"\\uc2dc\\ucfe0\", \"sweetie\", \"tighter\", \"\\ubbf8\\uac00\", \"\\uce74\\ub098\", \"mas\", \"would\", \"\\ud667\\uae40\", \"\\ubc9a\\uaf43\", \"tic\", \"dumb\", \"dot\", \"\\ud0c0\\uc774\", \"birthday\", \"\\ub098\\uc774\", \"\\ubc09\\ub2e4\", \"hush\", \"key\", \"\\uc774\\ub9c8\", \"happy\", \"loud\", \"la\", \"\\ub9c8\\ub9ac\\uc544\", \"pitapat\", \"nonstop\", \"boyfriend\", \"\\uc5ec\\uc790\\ub77c\\uc11c\", \"py\", \"\\uc0e4\\ub784\", \"hotshot\", \"bow\", \"bom\", \"sugar\", \"girlfriend\", \"\\uc0c1\\uc2e4\", \"twinkle\", \"giselle\", \"\\ud574\\ubc14\\ub77c\\uae30\", \"milkshake\", \"rose\", \"\\ub124\\uc628\", \"\\ud558\\ub4dc\\uce90\\ub9ac\", \"\\ud0c0\\uc774\\ubc0d\", \"shock\", \"\\ubd88\\ud655\\uc2e4\\ud558\\ub2e4\", \"\\uc548\\uc9c0\", \"\\ud55c\\uad6c\\uc11d\", \"mellow\", \"pajama\", \"\\ub124\\ub85c\", \"\\uc5f4\\ub300\\uc57c\", \"\\uc5d0\\uc774\", \"hair\", \"\\ubb34\\uc758\\ubbf8\\ud558\\ub2e4\", \"wow\", \"well\", \"\\ub098\\ub2c8\", \"short\", \"dna\", \"shake\", \"movin\", \"\\ucc54\\ud53c\\uc5b8\", \"faith\", \"rwa\", \"\\uc774\\uc0ac\", \"\\ub300\\ud55c\\ubbfc\\uad6d\", \"ae\", \"tinkerbell\", \"reds\", \"brotherhood\", \"\\ubcd1\\uc801\", \"edge\", \"destroyer\", \"dawn\", \"\\ub178\\uc5d8\", \"hah\", \"campfire\", \"\\ud63c\\ubbf8\", \"\\ucf54\\ub9ac\\uc544\", \"hustle\", \"fancy\", \"\\uc9c4\\uc2e4\\uc778\", \"\\uc2dc\\uc6d4\", \"oop\", \"\\ubc24\\uc77c\", \"\\uae30\\ub150\", \"\\uae30\\ubd80\", \"\\uc6b0\\uc6b4\", \"\\ubcc4\\ub3c4\", \"\\ube44\\ub2f5\", \"lost\", \"really\", \"young\", \"dirty\", \"\\uc2b9\\ub9ac\", \"focus\", \"\\ub4e4\\ud310\", \"alive\", \"breathe\", \"fun\", \"money\", \"respect\", \"wow\", \"la\", \"\\ud06c\\ub9ac\\uc2a4\\ub9c8\\uc2a4\", \"hit\", \"got\", \"name\", \"stolen\", \"ordinary\", \"cowboy\", \"du\", \"amoled\", \"\\ubd90\\ube60\\ube60\", \"\\uc784\\ub3c4\", \"\\ucb48\\ucb48\\ucb48\\ucb48\\ub8e8\\uc8fc\\ucb48\", \"\\uc8fc\\ucb48\\ucb48\\ucb48\\ucb48\\ub8e8\\uc8fc\\ucb48\", \"\\uc9dd\\uc9dd\", \"\\uc11c\\ub78d\", \"rewind\", \"twit\", \"scenario\", \"\\uba5c\\ub85c\\ub4dc\\ub77c\\ub9c8\", \"\\ub9c9\\uac78\\ub9ac\", \"\\uc870\\uac74\", \"allialliallialligator\", \"smoke\", \"whoz\", \"\\ub2c8\\uc0ac\", \"\\uce90\\ub9ac\\ub2e4\", \"whole\", \"mole\", \"trail\", \"diss\", \"dreamcatcher\", \"ramama\", \"\\ub4a4\\ucc99\", \"freedom\", \"\\uc77c\\ubc24\", \"\\uce5c\\ud558\\ub2e4\", \"speak\", \"\\ubd90\\ubd90\", \"calm\", \"hate\", \"winner\", \"\\uc6b0\\uc720\", \"\\ud568\\uc131\", \"work\", \"ma\", \"\\ub611\\ub611\", \"\\uacb0\\ub9d0\"], \"Freq\": [287.0, 20.0, 230.0, 20.0, 204.0, 29.0, 14.0, 131.0, 23.0, 16.0, 15.0, 9.0, 7.0, 116.0, 10.0, 9.0, 114.0, 22.0, 15.0, 9.0, 14.0, 114.0, 32.0, 31.0, 102.0, 7.0, 9.0, 17.0, 99.0, 7.0, 287.36593452931163, 230.06376474002047, 203.6764124668158, 131.25403460029986, 116.60188637411113, 114.04158828314027, 102.12114424719513, 99.14264249704216, 95.6212065737122, 93.82337072961148, 93.59903963895752, 114.27550022626514, 90.20196395550774, 89.7798873774343, 89.31354186701631, 85.48944368249829, 83.0904209739011, 82.57681939972383, 80.55769183489367, 75.63573583325766, 75.12330767199788, 74.56073203858382, 73.60550510570305, 71.21046805641633, 70.88522569453605, 69.45135433040952, 65.35512216381716, 64.83076384133301, 63.05283387733086, 61.83746836023594, 71.71496560721864, 3.3421250450571045, 2.553264050731572, 1.2288382442364347, 0.8681371447362002, 2.390903324298354, 0.7557412732442351, 0.8479342531141886, 0.9603405448717256, 0.8042771232705533, 0.7608231253209511, 0.7093507810450366, 0.8612638917364047, 0.8457136055160062, 0.6899723001468182, 0.9255176615906445, 0.6555154255367139, 0.7167738229720674, 0.9022880455476351, 0.6318542258048497, 1.10964928305603, 0.6451999279147722, 0.597700699339887, 0.9984481534553226, 0.6290578637452457, 0.6571891376459312, 0.699465000142821, 0.6488679484806343, 0.7446762129600593, 0.5381020278609969, 0.7119739323653428, 1.0020529328241867, 0.8563947127699998, 0.9696291623088836, 1.2029234405317932, 1.3714447623164758, 1.26145657287101, 0.7267918632809902, 0.7672257813557908, 0.988339422114443, 0.8724298576208954, 0.7808677571423236, 1.2877555096054267, 1.1317668627978277, 1.21149695147411, 1.0680091231596542, 0.873018545334858, 0.7817863163214929, 2.202298917346866, 0.9776036886149566, 1.154894377065757, 1.1041870315798665, 0.8201105166812214, 0.8351637209702552, 0.8168276825071377, 1.091918350444797, 0.7444305436607097, 0.7825177523518358, 0.7404464920430358, 0.6957788135646847, 0.7684995174021922, 0.8166805208193081, 1.1550136624479466, 0.6208425993466955, 0.6715271310299206, 0.692449992123814, 0.6438013017234999, 1.0826480225847792, 0.567996062578471, 0.6911834404180782, 0.5488054349992375, 0.5431071349840849, 0.5419494773117254, 0.5371309353100218, 0.6232222932076008, 0.5246153831432985, 1.6081309663079193, 0.5987519862984718, 3.8406668360992633, 0.9968912502614004, 0.8241212458350874, 0.7939548746900577, 0.9964796822842655, 2.0472681147075833, 1.020712528965979, 0.8673019961520828, 1.8552211189349892, 2.51739807561031, 1.616082049174436, 2.3806095318802796, 0.8603904553113328, 0.9125289928431919, 0.8725731083272878, 1.483560178995153, 1.0112149103455759, 0.862398429509123, 1.1461089608408486, 1.7791784219987021, 1.5741602999888284, 1.1976966678493686, 1.1972976616627948, 0.9799472452996498, 0.7742623382038215, 0.8119337432246194, 1.0927798027252276, 0.967630781195465, 0.865666997870362, 0.6160058509584257, 0.8165910809452327, 0.8618059489985043, 0.6083000848081955, 0.7215595637490745, 0.7952500773549248, 0.5301850562657937, 0.518868428995485, 0.5115487439129915, 0.9720641990121274, 0.53409316916928, 0.4732526501981, 0.5307860701793371, 0.9785470703396357, 0.44946280510986236, 0.4552871599208468, 0.6228889795083029, 0.4426123568222844, 0.8500909268045956, 1.027101373423605, 0.75953655791112, 0.8922449496423058, 0.737798054223991, 6.40226803186505, 0.7777702636550886, 1.4051611835194362, 1.0622734109323377, 0.9878383538261953, 0.674045084263165, 0.7805412692359017, 1.172005360760321, 1.0122779315037245, 0.703003546106191, 1.0829622675683, 0.9039765400709446, 0.7536633416241489, 1.497839739765762, 1.186309733788341, 1.3539495646641893, 1.4630511487223519, 1.968177517695232, 0.8766664915831219, 0.8809638511554091, 0.9443455629127443, 1.0820148103512492, 1.290017399209187, 1.184582885337523, 0.7289937480442173, 0.7014291910208635, 0.9058920999791296, 2.023247060162293, 0.6749087864108283, 1.1257612095031664, 0.6408582259678527, 0.6403619932156712, 0.7016146429856538, 0.95919036724117, 0.6973347081499355, 0.6212357935147771, 0.7830654260555261, 0.615589648189548, 0.5678347409677188, 0.5804225964320987, 0.7690007660904062, 0.6473833588723708, 0.7890130436643755, 1.3038420072765589, 1.1550929346643664, 1.051684917158335, 0.7201046939436998, 0.7658577668710886, 1.1007754617097247, 0.9610936639719434, 0.690189562306328, 1.4073732653500186, 1.801534803032744, 1.1198936723959314, 1.2715089928744958, 0.776320147985213, 0.7751505809356618, 1.564443457586584, 0.7530262287949506, 0.8808359356220407, 0.7427352881684411, 1.3349009126706177, 0.6976738890106742, 0.6564754366960434, 0.768363660724763, 0.6539182890613133, 0.7795327338301208, 0.6276717545025989, 0.5818000402066805, 0.6791522332518269, 0.5984116776631206, 0.6614157096756983, 0.5861559850342083, 0.5527752440096714, 0.5474785155446548, 0.5431167337542052, 0.5419373912620218, 0.5718726262913286, 0.529872121234456, 1.0265788557782338, 0.5226341725602442, 0.6874423916932815, 1.5634793392467732, 1.834588427773009, 0.7224203994873643, 0.8434130904850293, 0.6417066434329223, 1.0103558302069977, 0.7827641089479336, 0.7529913211401049, 0.7356249623425454, 0.6443140382351199, 1.421566702544721, 1.0074095510682646, 0.9053210299062312, 0.8727112391624349, 0.8709865522682273, 1.113893720156921, 0.9757134887590527, 0.740703139872572, 0.9867764683534023, 0.71349215913267, 1.414065395263572, 0.9018056035584066, 1.195527060659469, 1.2167708683704181, 0.6604027016993022, 0.9552701993842212, 0.6742594188059856, 0.5323001845593709, 0.6784166899083061, 0.8211382016529402, 0.5815080316567572, 0.5202170644921102, 0.5200392142626669, 0.6774550505854938, 0.5124147660812041, 0.9194469535340959, 0.6565117336987295, 0.6827294198435028, 0.6090566155379419, 0.529976374193147, 1.1817646167269678, 0.8408421723152085, 0.7544879308921629, 1.0918865251737984, 0.7854127485226483, 0.8417425816572417, 1.3466189752411768, 1.0568866100097232, 0.781919456913941, 0.9257332258013525, 0.6938487876455217, 0.6792166748162148, 1.6244481034396334, 2.203298302101177, 1.908835056833701, 1.9847504728123577, 0.9171133846696201, 1.029055481718077, 1.125120101350433, 0.8109119115026941, 0.8652859037232105, 1.045048814062927, 0.6929751468913214, 1.4193881063932652, 0.7664498038078604, 0.5848417268825707, 0.9823406254358227, 1.0769110980758472, 0.4988825680494858, 0.5741821474826292, 0.5280972825985119, 0.46496258946138763, 0.5694546526229926, 0.4318285906945555, 0.42384951920784986, 0.8480165589102447, 0.3881890189968928, 0.4106259810289598, 0.3782305465483825, 0.37567136610767543, 0.6856361859889671, 0.37455863423806657, 0.4357878964807142, 0.4593285921862578, 0.47044956610640803, 0.490967441367764, 2.1570325230951397, 0.9499372532622992, 1.422786990153264, 1.1296345047596543, 1.0043381206905662, 1.408922788353006, 1.1306110917001784, 1.683437327172579, 0.8584867290264853, 0.8027977511734021, 1.0958051724262778, 0.8230504048482253, 1.1039196367956667, 0.8617458741635852, 0.8071509517625987, 1.1046807641069747, 1.0848385653408286, 0.8672467496762818, 0.942973019793262, 0.8262273071659249, 0.7926060780898349, 1.0357839022217652, 0.7562707641618381, 0.8162572232868824, 0.7366212913196547, 0.7304255780475778, 0.6764260093008772, 0.6685618673584229, 0.6560324143212587, 0.5699755085903399, 1.5044157023325946, 0.5342741453278763, 0.5246321219899368, 0.515601002997943, 0.5133132439327603, 0.5478427474389683, 0.6115598469506652, 0.4643472192253468, 0.46128810540486914, 0.4553101868147397, 0.48860117470860454, 0.4420053323767048, 0.4416072544190374, 0.5701503479509213, 0.43916423822121664, 1.2761549230367577, 0.5565560223698811, 1.0977675703579615, 1.6172297493854892, 0.7668507209964791, 0.7788849310656697, 0.7133273951094516, 0.8048151354151961, 1.2471077949708003, 1.259219756097932, 0.6951224140953812, 0.5783312623439891, 0.6149481908956006, 0.6371569930041979, 0.5862180927878806, 15.224804788038892, 0.9960782258477593, 0.7204169834303769, 0.6541352785405059, 1.1582257645610103, 0.6849216955509466, 0.6273147343523743, 0.5821484891636152, 0.5432044978610671, 0.8958195400138687, 0.5119849069712799, 1.4043274390091303, 0.5293140169473238, 0.47721665485377895, 0.4808386972105493, 0.4340337245011011, 0.5981002797187552, 0.4220805858733935, 0.4832566665119951, 0.5029375255693005, 0.3931064508021891, 0.5289020495086725, 0.5141264277277936, 0.41945005862390966, 0.3899413859018843, 0.6899312964266444, 0.3482256153238404, 0.3445175261952818, 0.3424402127366216, 0.5954499164193305, 1.668519987563037, 0.5161755498212932, 0.5678726636103367, 1.623470803076342, 0.5900936363756264, 0.5902067747730783, 0.5992338557271215, 0.4856859450116286, 0.8160017295947155, 2.1281942557295737, 0.9065407863099513, 0.8681264018251084, 0.7409600886999649, 0.7789517417438275, 0.9622960383644905, 0.5652320426808443, 0.49217308225258116, 0.486873399530537, 0.4624926446039036, 0.4518022798237107, 0.5350109493417387, 0.3899187533477495, 0.608962069164319, 0.3857080033141214, 0.4263261068126089, 0.3508868085924861, 0.3504376085043882, 0.5046361129863843, 0.46552964507654027, 0.6452669083969368, 0.33883126190953405, 0.33883126190953405, 0.3371469858320427, 0.33601606451055455, 0.3323021976807825, 0.32310736902314735, 0.32310736902314735, 0.49825925324372206, 0.31335142032496005, 0.6203303455443441, 1.1173167705812708, 1.262252567850037, 0.7143425468305777, 0.7954526904444902, 0.5776503882718077, 0.6151071262615202, 1.0744209995402094, 0.5289818383497075, 0.8548500606931463, 0.8662655112777974, 0.4431774117318824, 0.6205374095305676, 0.7165226207005501, 0.5322639230957203, 0.5032344012822779, 0.5156391352799887, 0.4968407609521117, 0.7828820539832846, 0.747791244150239, 0.635499735103383, 0.838049251871501, 0.6174462288909698, 0.5321927914924577, 0.45542914988692096, 0.41461906731929454, 0.41461906731929454, 0.5351493446182025, 0.6218065985312462, 0.6228592735050679, 0.37363321944049593, 0.3672783888074241, 0.3672783888074241, 0.3511893142297136, 0.43462530631760005, 0.3483348214610883, 0.3472715925697805, 0.32920356113525295, 0.3270592250086479, 0.3146761271429773, 0.5371882410364037, 0.3115726986305605, 0.3071085808493754, 0.32576129083181876, 0.300838059884962, 0.28951733857369305, 0.632836507538598, 0.5133073691556339, 0.670299954804484, 0.592575679272154, 0.37284405283270977, 0.3503654113565776, 0.4899126329732163, 0.6798222809310007, 0.35092714524364305, 0.3732534027530761, 0.371331806675759, 0.3880936351325032, 0.4123374396726396, 0.3614412059134093, 0.3536681956717071], \"Total\": [287.0, 20.0, 230.0, 20.0, 204.0, 29.0, 14.0, 131.0, 23.0, 16.0, 15.0, 9.0, 7.0, 116.0, 10.0, 9.0, 114.0, 22.0, 15.0, 9.0, 14.0, 114.0, 32.0, 31.0, 102.0, 7.0, 9.0, 17.0, 99.0, 7.0, 287.72215382348764, 230.4199845621891, 204.03263263984405, 131.61025412742177, 116.96049945831332, 114.39780871658523, 102.47736485173611, 99.49975706472829, 95.97744802424538, 94.17959040586348, 93.95525918294591, 114.71921768468276, 90.55818431267151, 90.13610657320402, 89.66976099659942, 85.84566420020924, 83.4466408816723, 82.93304102227825, 80.91391208014804, 75.99195631322961, 75.47952760888293, 74.9169514716808, 73.96172428705302, 71.56668888782984, 71.24144754571317, 69.8258826905279, 65.71134169384145, 65.18698397110431, 63.409054030597396, 62.19368752636193, 72.1425946454419, 3.8936191846162598, 3.39220205011894, 1.6742382455280056, 1.256374798850034, 3.5837667729368117, 1.1439738677601974, 1.28668811644514, 1.458720458905286, 1.2254523618611879, 1.1713358452901497, 1.0976290957491621, 1.3337766788691114, 1.3170954551423968, 1.078204508899323, 1.4597318432594577, 1.04374898712125, 1.1421867772072054, 1.445032977260016, 1.02010342971952, 1.8056185419272461, 1.0542460441921366, 0.9860262561684757, 1.6748624958630698, 1.0586184415756035, 1.1098204539283896, 1.1866664104654607, 1.1054904475882494, 1.2704903058737682, 0.9263407777552151, 1.2457330659200407, 1.7549921681316054, 1.516021181310872, 1.793906804416186, 2.428964614281162, 2.9695410808207026, 2.6655025041177742, 1.2943230651590587, 1.425185987505658, 2.275818852643787, 1.8252177293829623, 1.5485317746268819, 6.178193601053219, 4.827415254139136, 7.377863395018227, 6.201340966448706, 3.7361534825787324, 2.0506359433724244, 2.7230555532724736, 1.3663187500546883, 1.6727473094078578, 1.6082948511374613, 1.2242390805129415, 1.248082342702791, 1.2276765849074636, 1.659463105136606, 1.133145814323832, 1.1980837670094242, 1.1537342113806808, 1.0844941990899093, 1.1996920960298239, 1.304512886493567, 1.868299693451644, 1.0095579222434752, 1.0921651194578383, 1.1410598562509, 1.061050344881959, 1.7909852339269807, 0.9567122839919091, 1.1767481715099444, 0.9375204998058005, 0.9318234491417107, 0.9308579297658811, 0.9259128685420609, 1.0850417439682856, 0.9136535699665757, 2.819055392979826, 1.0565854223648488, 7.587879271112896, 1.8559655174585483, 1.5144137902536734, 1.454063893081578, 1.91322139394669, 4.6076011462232, 1.9843889388437528, 1.6777002813776647, 4.9875908517478935, 9.621571796129478, 6.201340966448706, 14.069472096305226, 1.8199479369783498, 2.275818852643787, 2.0104749771767607, 16.972790013613654, 3.8467215934253343, 2.409172692338189, 14.813632330631089, 2.2240951402184486, 2.0720393967472233, 1.586946571811145, 1.6088673046040827, 1.4522045098246246, 1.1635120935383898, 1.2331979936146265, 1.7707995313253204, 1.5716886059599444, 1.4241238527106366, 1.0166182995507378, 1.3512394525424216, 1.455330388143599, 1.0276119008376892, 1.2387843803609604, 1.3753910609153093, 0.9194378521960463, 0.9081188457074388, 0.9010403811818913, 1.7269246603890516, 0.9585263138246467, 0.8625051842604319, 0.9738576431147551, 1.8090803831994866, 0.8387245233081159, 0.8548645726690459, 1.1705257495829173, 0.8318632309184828, 1.6025163735811783, 1.9405459863558365, 1.4713577257692578, 1.7848420020280082, 1.457089365161036, 20.195706637414638, 1.5803497124821937, 4.0063746564779255, 2.737819138790266, 2.5398460133533387, 1.3814886978645957, 1.8298819264627888, 4.680766908860667, 5.0650740253185615, 1.649780942500322, 15.784308386769885, 17.95851767259765, 4.314261315286446, 1.8877455733912913, 1.576182400398898, 1.8511985538257585, 2.024026011487519, 2.7624089075083353, 1.266548759695924, 1.2801065176027506, 1.416410408992655, 1.6645693813418239, 1.9862173437643649, 1.8298508162747116, 1.1333380124260402, 1.0913023487080384, 1.4161589760625395, 3.1644432518404777, 1.0647818433392593, 1.8103059649507238, 1.0307319006935645, 1.030235265027844, 1.1311614053202794, 1.5495466049521407, 1.128967252619733, 1.0111091867762927, 1.2787573786057929, 1.0054948490770714, 0.957709323223443, 0.9834812700061485, 1.3102403359177515, 1.103180016178907, 1.345369829359191, 2.3660218080344015, 2.176015351799833, 3.0390501140412214, 1.412565840976546, 1.7021333600094664, 5.14680823742078, 3.8517115552768395, 2.0104749771767607, 1.797541552800767, 2.344007391496378, 1.5401618553175396, 1.7536621873362839, 1.1664885718170137, 1.1653196047869445, 2.3585840687262767, 1.1431948254325124, 1.3686717317762251, 1.1568341852055384, 2.0973863567735065, 1.100212368116138, 1.046644522135412, 1.2305992025065235, 1.0592630251873927, 1.2630696044694636, 1.017840870307084, 0.9719684096242862, 1.136203671845621, 1.002350322540596, 1.1162296690311353, 0.9971785183187801, 0.9429472186913199, 0.937646889536725, 0.9332857872561899, 0.9321067060264469, 0.9869605752071304, 0.9200404997147473, 1.7926530701312955, 0.9404869972452105, 1.2484839529925935, 3.119879507401558, 4.601277860151527, 1.3578819102847386, 2.682937434814774, 1.427108100241553, 5.728876101658463, 3.2312619760935166, 3.934089653943852, 3.864888843349429, 3.086847669614551, 1.8117220768318512, 1.3975646495536795, 1.2954796183416004, 1.262866729995682, 1.2611418760723578, 1.6319682645377358, 1.4473689806738042, 1.130858266379794, 1.521844756463891, 1.1036536689506773, 2.1978903494852617, 1.4115378459810035, 1.9044468876289695, 1.9592100371855905, 1.0793117761720439, 1.6034445880781485, 1.1430238194801137, 0.9224555755432468, 1.178472977781287, 1.4265189311335238, 1.010319446600315, 0.9103730554540765, 0.910194332259985, 1.1954659650205253, 0.909640479014042, 1.6454033944066393, 1.1830451976185574, 1.2541103939749385, 1.120665479184996, 0.9831877032894492, 2.390054796891148, 1.6931360927645547, 1.5192363059361955, 2.618374683044706, 1.880394788508819, 2.5398460133533387, 9.995356562509368, 5.628825029356254, 2.39901204365722, 5.934522322626106, 3.5398387331722736, 1.55552678480684, 2.0154660331464362, 2.849235068972019, 2.5594256845109684, 2.8061225325851695, 1.3081321177267307, 1.4901830354672583, 1.660528913709056, 1.2019908895337892, 1.2847055290791543, 1.5981354845277937, 1.0839936025097956, 2.2497843700472506, 1.2688841531109647, 0.9761659192054872, 1.6434693083677687, 1.8855655518159182, 0.8899011558718082, 1.042863806381244, 0.9603888778901932, 0.8559821863073241, 1.0687968412975324, 0.8230198514711999, 0.8149237888723505, 1.6319189907721803, 0.7792090488641169, 0.8344244691370324, 0.769249500372316, 0.7667008272397738, 1.4000626799020426, 0.7655956597457937, 0.8930824099389801, 0.9459122373674153, 0.987983170825643, 1.0646224996155345, 9.11364637043654, 3.682979930623619, 7.872677842964141, 5.388835925289306, 4.314261315286446, 10.96472956367331, 9.028692525046983, 29.477927865243952, 5.4724284704431065, 4.647734021710195, 15.989157978612853, 5.704205606557542, 23.757412376899726, 8.827399626357149, 22.530567840495436, 1.4956128057527287, 1.4757669299709817, 1.258184147539327, 1.3704769548470677, 1.217157348061236, 1.1835365111523422, 1.5577831580093942, 1.1471994018688791, 1.2432551375963037, 1.1275496283849156, 1.1213932636931665, 1.067358469801826, 1.0594906479372739, 1.0469622244153565, 0.9609360030970592, 2.553353624381957, 0.9253334418658514, 0.9155621027325103, 0.9065349434465646, 0.9042428071478725, 0.9654923110856884, 1.098846335048633, 0.8552781011553938, 0.852218927527591, 0.8462399144888442, 0.917086742347295, 0.8329370139523666, 0.8325384610016976, 1.075914522423971, 0.8300927342691283, 2.4170417352646885, 1.053727470784745, 2.197310594763787, 3.646230876808151, 1.5487690090642936, 1.5825289547632944, 1.5098078735939755, 2.0640450677931987, 7.240033433210884, 7.812613221442279, 2.0958317316314847, 1.3447167714691521, 2.356657423796456, 7.377863395018227, 1.7975000758138573, 20.750632238450766, 1.3873549509844303, 1.1116940325777969, 1.0454121391190347, 1.8523370046060568, 1.1030115512059897, 1.018591128588188, 0.9734262222454686, 0.9344812400533565, 1.564813503160637, 0.903262120288279, 2.525124764496618, 0.9974657966072169, 0.9047601815089192, 0.9142327421340496, 0.8253119102170106, 1.1389704791359923, 0.813357328934847, 0.9496537076524727, 1.0019891290248464, 0.7843831102185501, 1.0613985160325647, 1.033438400362445, 0.846055698746611, 0.8211566791123595, 1.4630849704771147, 0.7395026311170322, 0.7357949571488794, 0.7337169328090128, 1.2781433442962904, 4.384891314489274, 1.1870045660812183, 1.3954316798362865, 6.201340966448706, 1.564511419284987, 1.5954532024510502, 1.6833585680989773, 1.162110189590323, 8.279619045107836, 2.631350188825769, 1.3285012641899858, 1.3248835555040346, 1.1325959416225688, 1.2769358238738824, 1.584064260851767, 1.0135773594617443, 0.883810590689699, 0.8785091235624498, 0.854130756799891, 0.8434396858879155, 0.9991973430121598, 0.7815548605331163, 1.2253444228079435, 0.7773437229365087, 0.8679740434912743, 0.7425236000569572, 0.7420739625435366, 1.0711692181642183, 0.992496939823818, 1.3855946334323423, 0.7304695327397069, 0.7304695327397069, 0.7287856368434313, 0.7280135437719705, 0.7239395401210941, 0.7147438240540517, 0.7147438240540517, 1.1099405444405415, 0.7049872767164487, 1.4830632777586374, 3.2388476294579904, 3.864888843349429, 1.9174724476804041, 2.2417481231926892, 1.4927548267037911, 1.6757155518187863, 3.7488680053434447, 1.4088814420781948, 3.0503325389551588, 3.7743699465754506, 1.1080037650949617, 6.201340966448706, 20.750632238450766, 4.827415254139136, 3.6060048960087507, 10.301464800128262, 6.3721239154221365, 1.1764795871480571, 1.2076925370192566, 1.029096082640331, 1.3572558682447227, 1.0110423277357752, 0.9257892572347439, 0.8490412522047075, 0.808216035047574, 0.808216035047574, 1.0582471670015021, 1.230139516909144, 1.2710019775149197, 0.7672291363866865, 0.7608756531956916, 0.7608756531956916, 0.7447854768834155, 0.9226682462132564, 0.7419310346606378, 0.7408739574601592, 0.7228005507266405, 0.720658226979902, 0.7082726426984272, 1.2115599826851695, 0.705168868850516, 0.7007050231972614, 0.7496876579442637, 0.6944364505243021, 0.6831138370245258, 1.5190609573897471, 1.2420758320614085, 1.6282556145221092, 1.64518751689616, 0.9732687684573551, 0.8777551012437741, 1.6955030293279605, 4.0744098382260585, 0.9177037442177003, 1.151207788051402, 1.6168378348371946, 3.0390501140412214, 6.657802532575573, 1.6030632665824058, 1.3199578939662222], \"Category\": [\"Default\", \"Default\", \"Default\", \"Default\", \"Default\", \"Default\", \"Default\", \"Default\", \"Default\", \"Default\", \"Default\", \"Default\", \"Default\", \"Default\", \"Default\", \"Default\", \"Default\", \"Default\", \"Default\", \"Default\", \"Default\", \"Default\", \"Default\", \"Default\", \"Default\", \"Default\", \"Default\", \"Default\", \"Default\", \"Default\", \"Topic1\", \"Topic1\", \"Topic1\", \"Topic1\", \"Topic1\", \"Topic1\", \"Topic1\", \"Topic1\", \"Topic1\", \"Topic1\", \"Topic1\", \"Topic1\", \"Topic1\", \"Topic1\", \"Topic1\", \"Topic1\", \"Topic1\", \"Topic1\", \"Topic1\", \"Topic1\", \"Topic1\", \"Topic1\", \"Topic1\", \"Topic1\", \"Topic1\", \"Topic1\", \"Topic1\", \"Topic1\", \"Topic1\", \"Topic1\", \"Topic1\", \"Topic2\", \"Topic2\", \"Topic2\", \"Topic2\", \"Topic2\", \"Topic2\", \"Topic2\", \"Topic2\", \"Topic2\", \"Topic2\", \"Topic2\", \"Topic2\", \"Topic2\", \"Topic2\", \"Topic2\", \"Topic2\", \"Topic2\", \"Topic2\", \"Topic2\", \"Topic2\", \"Topic2\", \"Topic2\", \"Topic2\", \"Topic2\", \"Topic2\", \"Topic2\", \"Topic2\", \"Topic2\", \"Topic2\", \"Topic2\", \"Topic2\", \"Topic2\", \"Topic2\", \"Topic2\", \"Topic2\", \"Topic2\", \"Topic2\", \"Topic2\", \"Topic2\", \"Topic2\", \"Topic2\", \"Topic2\", \"Topic2\", \"Topic2\", \"Topic2\", \"Topic2\", \"Topic2\", \"Topic3\", \"Topic3\", \"Topic3\", \"Topic3\", \"Topic3\", \"Topic3\", \"Topic3\", \"Topic3\", \"Topic3\", \"Topic3\", \"Topic3\", \"Topic3\", \"Topic3\", \"Topic3\", \"Topic3\", \"Topic3\", \"Topic3\", \"Topic3\", \"Topic3\", \"Topic3\", \"Topic3\", \"Topic3\", \"Topic3\", \"Topic3\", \"Topic3\", \"Topic3\", \"Topic3\", \"Topic3\", \"Topic3\", \"Topic3\", \"Topic3\", \"Topic3\", \"Topic3\", \"Topic3\", \"Topic3\", \"Topic3\", \"Topic3\", \"Topic3\", \"Topic3\", \"Topic3\", \"Topic3\", \"Topic3\", \"Topic3\", \"Topic3\", \"Topic3\", \"Topic3\", \"Topic3\", \"Topic3\", \"Topic3\", \"Topic4\", \"Topic4\", \"Topic4\", \"Topic4\", \"Topic4\", \"Topic4\", \"Topic4\", \"Topic4\", \"Topic4\", \"Topic4\", \"Topic4\", \"Topic4\", \"Topic4\", \"Topic4\", \"Topic4\", \"Topic4\", \"Topic4\", \"Topic4\", \"Topic4\", \"Topic4\", \"Topic4\", \"Topic4\", \"Topic4\", \"Topic4\", \"Topic4\", \"Topic4\", \"Topic4\", \"Topic4\", \"Topic4\", \"Topic4\", \"Topic4\", \"Topic4\", \"Topic4\", \"Topic4\", \"Topic4\", \"Topic4\", \"Topic4\", \"Topic4\", \"Topic4\", \"Topic4\", \"Topic4\", \"Topic4\", \"Topic4\", \"Topic4\", \"Topic4\", \"Topic4\", \"Topic5\", \"Topic5\", \"Topic5\", \"Topic5\", \"Topic5\", \"Topic5\", \"Topic5\", \"Topic5\", \"Topic5\", \"Topic5\", \"Topic5\", \"Topic5\", \"Topic5\", \"Topic5\", \"Topic5\", \"Topic5\", \"Topic5\", \"Topic5\", \"Topic5\", \"Topic5\", \"Topic5\", \"Topic5\", \"Topic5\", \"Topic5\", \"Topic5\", \"Topic5\", \"Topic5\", \"Topic5\", \"Topic5\", \"Topic5\", \"Topic5\", \"Topic5\", \"Topic5\", \"Topic5\", \"Topic5\", \"Topic5\", \"Topic5\", \"Topic5\", \"Topic6\", \"Topic6\", \"Topic6\", \"Topic6\", \"Topic6\", \"Topic6\", \"Topic6\", \"Topic6\", \"Topic6\", \"Topic6\", \"Topic6\", \"Topic6\", \"Topic6\", \"Topic6\", \"Topic6\", \"Topic6\", \"Topic6\", \"Topic6\", \"Topic6\", \"Topic6\", \"Topic6\", \"Topic6\", \"Topic6\", \"Topic6\", \"Topic6\", \"Topic6\", \"Topic6\", \"Topic6\", \"Topic6\", \"Topic6\", \"Topic6\", \"Topic6\", \"Topic6\", \"Topic6\", \"Topic6\", \"Topic6\", \"Topic6\", \"Topic6\", \"Topic6\", \"Topic6\", \"Topic6\", \"Topic7\", \"Topic7\", \"Topic7\", \"Topic7\", \"Topic7\", \"Topic7\", \"Topic7\", \"Topic7\", \"Topic7\", \"Topic7\", \"Topic7\", \"Topic7\", \"Topic7\", \"Topic7\", \"Topic7\", \"Topic7\", \"Topic7\", \"Topic7\", \"Topic7\", \"Topic7\", \"Topic7\", \"Topic7\", \"Topic7\", \"Topic7\", \"Topic7\", \"Topic7\", \"Topic7\", \"Topic7\", \"Topic7\", \"Topic7\", \"Topic7\", \"Topic7\", \"Topic7\", \"Topic7\", \"Topic7\", \"Topic7\", \"Topic7\", \"Topic7\", \"Topic7\", \"Topic7\", \"Topic7\", \"Topic7\", \"Topic8\", \"Topic8\", \"Topic8\", \"Topic8\", \"Topic8\", \"Topic8\", \"Topic8\", \"Topic8\", \"Topic8\", \"Topic8\", \"Topic8\", \"Topic8\", \"Topic8\", \"Topic8\", \"Topic8\", \"Topic8\", \"Topic8\", \"Topic8\", \"Topic8\", \"Topic8\", \"Topic8\", \"Topic8\", \"Topic8\", \"Topic8\", \"Topic8\", \"Topic8\", \"Topic8\", \"Topic8\", \"Topic8\", \"Topic8\", \"Topic8\", \"Topic8\", \"Topic8\", \"Topic8\", \"Topic8\", \"Topic8\", \"Topic8\", \"Topic8\", \"Topic8\", \"Topic8\", \"Topic8\", \"Topic8\", \"Topic8\", \"Topic8\", \"Topic8\", \"Topic8\", \"Topic8\", \"Topic8\", \"Topic8\", \"Topic9\", \"Topic9\", \"Topic9\", \"Topic9\", \"Topic9\", \"Topic9\", \"Topic9\", \"Topic9\", \"Topic9\", \"Topic9\", \"Topic9\", \"Topic9\", \"Topic9\", \"Topic9\", \"Topic9\", \"Topic9\", \"Topic9\", \"Topic9\", \"Topic9\", \"Topic9\", \"Topic9\", \"Topic9\", \"Topic9\", \"Topic9\", \"Topic9\", \"Topic9\", \"Topic9\", \"Topic9\", \"Topic9\", \"Topic9\", \"Topic9\", \"Topic9\", \"Topic9\", \"Topic9\", \"Topic9\", \"Topic9\", \"Topic9\", \"Topic9\", \"Topic9\", \"Topic9\", \"Topic9\", \"Topic9\", \"Topic9\", \"Topic9\", \"Topic9\", \"Topic10\", \"Topic10\", \"Topic10\", \"Topic10\", \"Topic10\", \"Topic10\", \"Topic10\", \"Topic10\", \"Topic10\", \"Topic10\", \"Topic10\", \"Topic10\", \"Topic10\", \"Topic10\", \"Topic10\", \"Topic10\", \"Topic10\", \"Topic10\", \"Topic10\", \"Topic10\", \"Topic10\", \"Topic10\", \"Topic10\", \"Topic10\", \"Topic10\", \"Topic10\", \"Topic10\", \"Topic10\", \"Topic10\", \"Topic10\", \"Topic10\", \"Topic10\", \"Topic10\", \"Topic10\", \"Topic10\", \"Topic10\", \"Topic10\", \"Topic10\", \"Topic10\", \"Topic11\", \"Topic11\", \"Topic11\", \"Topic11\", \"Topic11\", \"Topic11\", \"Topic11\", \"Topic11\", \"Topic11\", \"Topic11\", \"Topic11\", \"Topic11\", \"Topic11\", \"Topic11\", \"Topic11\", \"Topic11\", \"Topic11\", \"Topic11\", \"Topic11\", \"Topic11\", \"Topic11\", \"Topic11\", \"Topic11\", \"Topic11\", \"Topic11\", \"Topic11\", \"Topic11\", \"Topic11\", \"Topic11\", \"Topic11\", \"Topic11\", \"Topic11\", \"Topic11\", \"Topic11\", \"Topic11\", \"Topic11\", \"Topic11\", \"Topic11\", \"Topic11\", \"Topic11\", \"Topic11\", \"Topic11\", \"Topic11\", \"Topic11\", \"Topic11\", \"Topic11\", \"Topic11\", \"Topic11\", \"Topic12\", \"Topic12\", \"Topic12\", \"Topic12\", \"Topic12\", \"Topic12\", \"Topic12\", \"Topic12\", \"Topic12\", \"Topic12\", \"Topic12\", \"Topic12\", \"Topic12\", \"Topic12\", \"Topic12\", \"Topic12\", \"Topic12\", \"Topic12\", \"Topic12\", \"Topic12\", \"Topic12\", \"Topic12\", \"Topic12\", \"Topic12\", \"Topic12\", \"Topic12\", \"Topic12\", \"Topic12\", \"Topic12\", \"Topic12\", \"Topic12\", \"Topic12\", \"Topic12\", \"Topic12\", \"Topic12\", \"Topic12\", \"Topic12\", \"Topic12\", \"Topic12\", \"Topic12\", \"Topic12\", \"Topic12\", \"Topic12\"], \"logprob\": [30.0, 29.0, 28.0, 27.0, 26.0, 25.0, 24.0, 23.0, 22.0, 21.0, 20.0, 19.0, 18.0, 17.0, 16.0, 15.0, 14.0, 13.0, 12.0, 11.0, 10.0, 9.0, 8.0, 7.0, 6.0, 5.0, 4.0, 3.0, 2.0, 1.0, -4.2128, -4.4352, -4.557, -4.9964, -5.1148, -5.137, -5.2474, -5.277, -5.3132, -5.3321, -5.3345, -5.1349, -5.3715, -5.3762, -5.3814, -5.4252, -5.4536, -5.4598, -5.4846, -5.5476, -5.5544, -5.5619, -5.5748, -5.6079, -5.6125, -5.6329, -5.6937, -5.7018, -5.7296, -5.749, -5.6009, -5.5982, -5.8675, -6.5988, -6.9463, -5.9332, -7.0849, -6.9698, -6.8453, -7.0227, -7.0782, -7.1483, -6.9542, -6.9724, -7.176, -6.8823, -7.2272, -7.1378, -6.9077, -7.2639, -6.7008, -7.243, -7.3195, -6.8064, -7.2684, -7.2246, -7.1623, -7.2374, -7.0997, -7.4246, -7.1446, -6.8028, -6.9599, -6.8357, -6.6201, -6.489, -6.5726, -7.124, -7.0698, -6.8166, -6.9413, -7.0522, -6.5519, -6.6811, -6.613, -6.7391, -6.9406, -7.051, -6.0013, -6.8135, -6.6468, -6.6917, -6.9891, -6.971, -6.9932, -6.7029, -7.086, -7.0361, -7.0913, -7.1535, -7.0541, -6.9933, -6.6467, -7.2675, -7.189, -7.1583, -7.2312, -6.7114, -7.3565, -7.1602, -7.3908, -7.4013, -7.4034, -7.4123, -7.2637, -7.4359, -6.3158, -7.3037, -5.4452, -6.7939, -6.9843, -7.0216, -6.7944, -6.0743, -6.7703, -6.9332, -6.1728, -5.8676, -6.3108, -5.9235, -6.9412, -6.8824, -6.9271, -6.3964, -6.7797, -6.9389, -6.6545, -6.1724, -6.2948, -6.5682, -6.5685, -6.7688, -7.0044, -6.9569, -6.6598, -6.7815, -6.8928, -7.2331, -6.9512, -6.8973, -7.2456, -7.0749, -6.9777, -7.3831, -7.4047, -7.4189, -6.7769, -7.3757, -7.4967, -7.382, -6.7702, -7.5483, -7.5354, -7.2219, -7.5636, -6.911, -6.7218, -7.0236, -6.8626, -7.0526, -4.8919, -6.9999, -6.4084, -6.6881, -6.7608, -7.143, -6.9963, -6.5898, -6.7364, -7.1009, -6.6689, -6.8495, -7.0314, -6.3029, -6.536, -6.4039, -6.3264, -6.0298, -6.8385, -6.8336, -6.7642, -6.6281, -6.4522, -6.5375, -7.023, -7.0615, -6.8057, -6.0022, -7.1001, -6.5884, -7.1518, -7.1526, -7.0613, -6.7486, -7.0674, -7.1829, -6.9514, -7.1921, -7.2728, -7.2509, -6.9696, -7.1417, -6.9439, -6.4416, -6.5627, -6.6565, -7.0353, -6.9737, -6.6109, -6.7466, -7.0777, -6.3457, -6.0988, -6.5742, -6.4472, -6.9406, -6.9422, -6.2399, -6.9711, -6.8143, -6.9849, -6.3986, -7.0475, -7.1083, -6.9509, -7.1122, -6.9365, -7.1532, -7.2291, -7.0744, -7.2009, -7.1008, -7.2216, -7.2803, -7.2899, -7.2979, -7.3001, -7.2463, -7.3226, -6.6612, -7.3363, -7.0622, -6.2405, -6.0806, -7.0126, -6.8578, -7.1311, -6.6772, -6.9324, -6.9712, -6.9945, -7.127, -6.3357, -6.6801, -6.7869, -6.8236, -6.8256, -6.5796, -6.712, -6.9876, -6.7008, -7.025, -6.341, -6.7908, -6.5089, -6.4912, -7.1023, -6.7332, -7.0816, -7.318, -7.0754, -6.8845, -7.2296, -7.341, -7.3413, -7.0769, -7.3561, -6.7714, -7.1083, -7.0691, -7.1833, -7.3224, -6.5204, -6.8608, -6.9692, -6.5995, -6.929, -6.8597, -6.3898, -6.6321, -6.9334, -6.7646, -7.0529, -7.0743, -6.1496, -5.8448, -5.9883, -5.9493, -6.7213, -6.6061, -6.5169, -6.8444, -6.7795, -6.5907, -7.0015, -6.2845, -6.9007, -7.1712, -6.6526, -6.5607, -7.3301, -7.1896, -7.2732, -7.4006, -7.1978, -7.4745, -7.4931, -6.7996, -7.581, -7.5248, -7.607, -7.6138, -7.0122, -7.6168, -7.4654, -7.4127, -7.3888, -7.3461, -5.866, -6.6861, -6.2821, -6.5129, -6.6304, -6.2919, -6.512, -6.1139, -6.7873, -6.8544, -6.5433, -6.8295, -6.5359, -6.7836, -6.849, -6.5341, -6.5523, -6.7761, -6.6924, -6.8246, -6.8661, -6.5985, -6.913, -6.8367, -6.9394, -6.9478, -7.0246, -7.0363, -7.0552, -7.1958, -6.2253, -7.2605, -7.2787, -7.2961, -7.3006, -7.2355, -7.1254, -7.4008, -7.4074, -7.4205, -7.3499, -7.4501, -7.451, -7.1955, -7.4566, -6.3898, -7.2197, -6.5404, -6.153, -6.8991, -6.8836, -6.9715, -6.8508, -6.4129, -6.4032, -6.9974, -7.1813, -7.1199, -7.0844, -7.1677, -3.8998, -6.6266, -6.9506, -7.0471, -6.4758, -7.0011, -7.089, -7.1637, -7.233, -6.7327, -7.2922, -6.2831, -7.2589, -7.3625, -7.3549, -7.4573, -7.1367, -7.4853, -7.3499, -7.31, -7.5564, -7.2596, -7.288, -7.4915, -7.5645, -6.9939, -7.6776, -7.6883, -7.6944, -7.1411, -6.1108, -7.284, -7.1886, -6.1381, -7.1502, -7.15, -7.1348, -7.3449, -6.826, -5.8418, -6.6952, -6.7385, -6.8969, -6.8469, -6.6355, -7.1676, -7.306, -7.3168, -7.3682, -7.3916, -7.2225, -7.5389, -7.093, -7.5497, -7.4496, -7.6443, -7.6456, -7.281, -7.3616, -7.0351, -7.6793, -7.6793, -7.6843, -7.6876, -7.6988, -7.7268, -7.7268, -7.2937, -7.7575, -7.0745, -6.4861, -6.3641, -6.9334, -6.8259, -7.1458, -7.083, -6.5253, -7.2338, -6.7539, -6.7406, -7.4108, -7.0742, -6.9304, -7.2277, -7.2837, -7.2594, -7.2965, -6.722, -6.7679, -6.9306, -6.6539, -6.9594, -7.108, -7.2638, -7.3576, -7.3576, -7.1025, -6.9524, -6.9507, -7.4617, -7.4789, -7.4789, -7.5237, -7.3105, -7.5318, -7.5349, -7.5883, -7.5949, -7.6335, -7.0986, -7.6434, -7.6578, -7.5988, -7.6784, -7.7168, -6.9348, -7.1441, -6.8773, -7.0005, -7.4638, -7.526, -7.1908, -6.8632, -7.5244, -7.4627, -7.4679, -7.4237, -7.3632, -7.4949, -7.5166], \"loglift\": [30.0, 29.0, 28.0, 27.0, 26.0, 25.0, 24.0, 23.0, 22.0, 21.0, 20.0, 19.0, 18.0, 17.0, 16.0, 15.0, 14.0, 13.0, 12.0, 11.0, 10.0, 9.0, 8.0, 7.0, 6.0, 5.0, 4.0, 3.0, 2.0, 1.0, 0.3699, 0.3696, 0.3694, 0.3685, 0.3681, 0.3681, 0.3677, 0.3676, 0.3675, 0.3674, 0.3674, 0.3673, 0.3672, 0.3672, 0.3672, 0.367, 0.3669, 0.3669, 0.3668, 0.3665, 0.3664, 0.3664, 0.3663, 0.3662, 0.3662, 0.3658, 0.3657, 0.3657, 0.3655, 0.3654, 0.3652, 3.2871, 3.1558, 3.1306, 3.0702, 3.0351, 3.0253, 3.0229, 3.0219, 3.0188, 3.0084, 3.0033, 3.0025, 2.9969, 2.9935, 2.9842, 2.9747, 2.9739, 2.9689, 2.9609, 2.953, 2.9489, 2.9393, 2.9226, 2.9194, 2.9159, 2.9113, 2.9071, 2.9057, 2.8967, 2.8804, 2.8795, 2.8688, 2.8246, 2.7372, 2.6673, 2.6918, 2.8628, 2.8206, 2.6058, 2.7017, 2.7552, 1.8718, 1.9893, 1.6333, 1.6809, 1.986, 2.4756, 3.2417, 3.1191, 3.0834, 3.0778, 3.0533, 3.0522, 3.0465, 3.0353, 3.0338, 3.0279, 3.0104, 3.0101, 3.0085, 2.9856, 2.973, 2.9677, 2.9675, 2.9544, 2.9543, 2.9505, 2.9325, 2.9218, 2.9184, 2.9141, 2.913, 2.9094, 2.8994, 2.8991, 2.8926, 2.886, 2.773, 2.8324, 2.8454, 2.8488, 2.8016, 2.6427, 2.7891, 2.7941, 2.465, 2.1131, 2.1091, 1.6773, 2.7047, 2.54, 2.6192, 1.0167, 2.1178, 2.4266, 0.8947, 3.273, 3.2214, 3.2148, 3.2007, 3.1028, 3.0889, 3.0782, 3.0135, 3.0111, 2.9984, 2.9952, 2.9925, 2.9722, 2.9718, 2.9557, 2.9483, 2.9456, 2.9364, 2.9301, 2.9215, 2.9113, 2.896, 2.8893, 2.8817, 2.8723, 2.8662, 2.8653, 2.8652, 2.8622, 2.8599, 2.8349, 2.8028, 2.8156, 2.3474, 2.7872, 2.4484, 2.5494, 2.5518, 2.7786, 2.6442, 2.1114, 1.886, 2.6431, 0.8169, 0.5072, 1.7514, 3.3065, 3.2537, 3.225, 3.2133, 3.1988, 3.1699, 3.1642, 3.1324, 3.1071, 3.1063, 3.103, 3.0966, 3.0958, 3.091, 3.0906, 3.0819, 3.0628, 3.0626, 3.0623, 3.0602, 3.0582, 3.056, 3.0507, 3.0474, 3.0472, 3.0151, 3.0105, 3.005, 3.0048, 3.0042, 2.9419, 2.9045, 2.4767, 2.8641, 2.7392, 1.9955, 2.1496, 2.4687, 3.3126, 3.2941, 3.2386, 3.2358, 3.1501, 3.1496, 3.1467, 3.1398, 3.1166, 3.1142, 3.1054, 3.1018, 3.0908, 3.0863, 3.0749, 3.0747, 3.0739, 3.0441, 3.0427, 3.0415, 3.0339, 3.0259, 3.0232, 3.0192, 3.0159, 3.015, 3.0116, 3.0055, 2.9998, 2.9698, 2.9606, 2.8664, 2.6378, 2.9262, 2.4001, 2.758, 1.8221, 2.1395, 1.9039, 1.8983, 1.9906, 3.3148, 3.2299, 3.1989, 3.1878, 3.1871, 3.1754, 3.163, 3.1342, 3.1241, 3.1211, 3.1163, 3.1093, 3.0917, 3.0809, 3.0661, 3.0394, 3.0295, 3.0075, 3.0051, 3.005, 3.0049, 2.9977, 2.9975, 2.9893, 2.9834, 2.9753, 2.9684, 2.9492, 2.9475, 2.9393, 2.853, 2.8574, 2.8574, 2.6826, 2.6843, 2.4529, 1.5528, 1.8847, 2.4362, 1.6993, 1.9277, 2.7287, 3.3943, 3.3529, 3.3167, 3.2637, 3.2548, 3.2397, 3.2207, 3.2164, 3.2147, 3.1852, 3.1626, 3.1494, 3.1058, 3.0977, 3.0953, 3.0498, 3.0312, 3.0132, 3.0119, 2.9997, 2.9804, 2.965, 2.9563, 2.9554, 2.9132, 2.9009, 2.9001, 2.8966, 2.896, 2.8951, 2.8924, 2.8876, 2.868, 2.836, 2.1689, 2.2549, 1.8992, 2.0475, 2.1524, 1.5581, 1.5323, 0.7472, 1.7577, 1.8539, 0.9295, 1.674, 0.5409, 1.2833, 0.2809, 3.3081, 3.3033, 3.2389, 3.2372, 3.2236, 3.2101, 3.2029, 3.1944, 3.1903, 3.1853, 3.1823, 3.1549, 3.1506, 3.1436, 3.0887, 3.082, 3.0618, 3.0542, 3.0467, 3.0448, 3.0444, 3.025, 3.0003, 2.9972, 2.9912, 2.9814, 2.9774, 2.977, 2.976, 2.9744, 2.9724, 2.9727, 2.9171, 2.7981, 2.9081, 2.9021, 2.8612, 2.6692, 1.8522, 1.7858, 2.5074, 2.7673, 2.2676, 1.1618, 2.4906, 3.3124, 3.2907, 3.1882, 3.1532, 3.1525, 3.1455, 3.1373, 3.1079, 3.0795, 3.0643, 3.0543, 3.0353, 2.9884, 2.9823, 2.9795, 2.9794, 2.9779, 2.9661, 2.9465, 2.9328, 2.9312, 2.9255, 2.9239, 2.9204, 2.8773, 2.8703, 2.8689, 2.8632, 2.86, 2.8582, 2.6558, 2.7893, 2.723, 2.2818, 2.647, 2.6276, 2.5891, 2.7496, 1.3049, 3.4355, 3.2655, 3.2249, 3.2234, 3.1534, 3.1493, 3.0637, 3.0623, 3.0575, 3.0342, 3.0234, 3.023, 2.9523, 2.9485, 2.9469, 2.9367, 2.8981, 2.8974, 2.895, 2.8906, 2.8835, 2.8795, 2.8795, 2.8768, 2.8745, 2.869, 2.8537, 2.8537, 2.8467, 2.8368, 2.7761, 2.5834, 2.5286, 2.6603, 2.6116, 2.6983, 2.6455, 2.398, 2.6681, 2.3756, 2.1759, 2.7313, 1.3457, 0.2818, 1.4428, 1.6784, 0.653, 1.0963, 3.3602, 3.2881, 3.2855, 3.2853, 3.2743, 3.2138, 3.1446, 3.1, 3.1, 3.0857, 3.0852, 3.0542, 3.048, 3.0391, 3.0391, 3.0157, 3.0147, 3.0114, 3.0098, 2.981, 2.9775, 2.9562, 2.9542, 2.9507, 2.9426, 2.934, 2.931, 2.909, 2.8919, 2.8838, 2.8799, 2.7464, 2.808, 2.8491, 2.526, 1.9768, 2.8062, 2.6412, 2.2964, 1.7094, 0.9858, 2.2779, 2.4505]}, \"token.table\": {\"Topic\": [11, 8, 1, 8, 5, 4, 8, 1, 11, 12, 6, 3, 7, 1, 1, 7, 1, 3, 1, 7, 3, 8, 4, 9, 1, 6, 1, 5, 6, 8, 10, 1, 8, 1, 7, 10, 10, 11, 1, 8, 7, 3, 1, 3, 4, 4, 5, 2, 8, 1, 4, 4, 1, 6, 7, 4, 8, 4, 12, 3, 1, 3, 3, 5, 11, 3, 5, 1, 6, 2, 1, 11, 5, 2, 2, 2, 3, 9, 7, 12, 9, 8, 8, 8, 11, 1, 4, 2, 6, 4, 7, 5, 11, 11, 1, 2, 9, 1, 8, 1, 11, 2, 12, 7, 1, 11, 8, 3, 6, 4, 1, 10, 5, 3, 1, 4, 1, 11, 6, 5, 2, 10, 4, 1, 2, 9, 1, 12, 5, 4, 1, 3, 1, 11, 7, 1, 3, 10, 1, 9, 3, 6, 1, 8, 1, 8, 2, 3, 6, 6, 3, 9, 5, 3, 1, 3, 1, 10, 11, 5, 5, 5, 3, 2, 2, 1, 8, 1, 8, 6, 6, 6, 11, 9, 1, 2, 3, 1, 4, 1, 1, 3, 6, 5, 2, 3, 1, 6, 2, 1, 11, 4, 5, 11, 7, 1, 6, 2, 1, 8, 10, 5, 6, 1, 3, 3, 3, 6, 1, 4, 12, 6, 9, 8, 10, 1, 2, 6, 7, 6, 10, 4, 3, 1, 6, 4, 1, 11, 4, 8, 12, 2, 1, 2, 5, 5, 7, 3, 2, 1, 3, 1, 8, 7, 11, 7, 1, 10, 5, 8, 8, 10, 6, 1, 10, 1, 4, 7, 2, 6, 6, 1, 8, 6, 1, 2, 1, 8, 1, 8, 9, 1, 8, 12, 4, 1, 10, 1, 2, 3, 8, 6, 9, 3, 1, 9, 7, 1, 9, 7, 7, 1, 8, 7, 2, 5, 4, 2, 7, 7, 3, 5, 2, 3, 2, 5, 7, 1, 8, 10, 7, 1, 6, 12, 4, 6, 3, 1, 3, 5, 8, 5, 9, 2, 3, 6, 10, 11, 1, 5, 7, 4, 2, 6, 11, 2, 1, 4, 3, 1, 6, 5, 1, 3, 2, 1, 1, 1, 3, 7, 1, 4, 10, 9, 4, 1, 9, 5, 5, 10, 1, 7, 1, 7, 4, 11, 7, 9, 7, 3, 12, 1, 11, 5, 5, 4, 3, 5, 1, 4, 4, 4, 6, 1, 3, 9, 7, 7, 9, 9, 1, 4, 8, 10, 6, 1, 4, 3, 7, 2, 1, 1, 5, 1, 2, 6, 5, 10, 9, 4, 1, 9, 5, 4, 6, 2, 6, 9, 3, 9, 5, 4, 2, 6, 12, 7, 7, 7, 5, 1, 1, 9, 2, 1, 10, 12, 1, 2, 11, 1, 2, 8, 1, 3, 1, 5, 6, 8, 1, 6, 1, 10, 10, 5, 10, 2, 1, 9, 9, 2, 2, 7, 3, 2, 7, 4, 7, 9, 1, 9, 1, 9, 11, 1, 8, 2, 12, 8, 1, 8, 9, 1, 1, 6, 12, 11, 2, 12, 3, 9, 9, 9, 11, 9, 9, 1, 2, 11, 9, 10, 6, 7, 2, 7, 4, 6, 7, 1, 4, 2, 3, 10, 2, 10, 1, 2, 9, 4, 3], \"Freq\": [0.9866045158418352, 0.5303448607432063, 0.9523638959245815, 0.030721415997567145, 0.743290044252224, 0.740061280862139, 0.7783884924327956, 0.5334943767423399, 0.26674718837116995, 0.9890782735471576, 0.8801238939631526, 1.080015230347318, 0.4184004489356249, 1.0003377254874048, 0.8003716475714773, 0.10004645594643466, 0.8775700456071853, 0.06750538812362965, 0.8474962353190338, 0.28249874510634465, 0.9464450093981049, 1.0412448780090264, 0.8594667864249451, 0.48448554520622134, 0.5083768230840995, 0.25418841154204974, 0.42265037313022946, 0.42265037313022946, 0.7917220052334625, 0.9356315076548952, 1.1070983466912647, 0.6583533918392099, 0.21945113061306995, 0.7106278804437209, 0.17765697011093023, 0.6390537901035382, 0.5398585665099713, 0.7097829314331324, 0.7309369179705545, 0.18273422949263862, 0.9060813442959618, 0.7344690407055667, 0.5897954664205854, 1.0731646653892277, 0.9731300301065212, 0.5153188881021605, 0.9706520771961473, 0.7704913751845684, 0.7127272514922858, 0.640920613739816, 0.21364020457993865, 0.965232612439554, 0.3727257993509784, 0.3727257993509784, 0.8485557317425314, 1.087621091095536, 0.612775514994667, 1.1098281729485906, 0.9717265636016418, 0.5352460333344706, 0.39536738696160056, 0.5271565159488008, 0.49739489988791846, 0.49739489988791846, 0.8160970755540271, 1.0666433429531852, 0.7820091729130687, 0.6479101705234895, 0.32395508526174477, 0.7726046355181893, 0.5215198795736102, 0.5215198795736102, 0.7061354105740164, 1.0141717766074747, 1.0795163335282314, 0.948545176440567, 0.7094575030276152, 0.6318999706072198, 0.6428690330293326, 0.7367807525439213, 0.645674076732825, 0.7644487788724261, 0.7019427851986898, 0.9923263240897732, 1.0008033017636142, 0.88695682173408, 0.06335405869529143, 0.8741458421230497, 1.0605047453110488, 0.3937246568266191, 0.3937246568266191, 0.9391595154026132, 0.7547833134811331, 0.7217118021905425, 0.8029648712208066, 0.2676549570736022, 0.9438497658727838, 0.7929855106025973, 0.11328364437179961, 0.6699023725203007, 0.6699023725203007, 0.9110545664949529, 0.8051038223168324, 0.792932198171354, 0.6556662181773358, 0.3278331090886679, 0.608468922971955, 0.6026045393263989, 0.8126122607288939, 0.6215552998922335, 0.9881722556349447, 1.002540641896096, 0.4595555813394776, 0.8667507560543722, 0.9466260139020146, 0.055683883170706744, 0.8736621611217797, 0.09707357345797553, 0.5702352523885714, 0.5523928105861485, 0.7016628066559839, 0.8424567424381559, 0.6886082457633773, 0.677702978802259, 0.1355405957604518, 0.1355405957604518, 0.7363029540754689, 0.24543431802515628, 0.7632187565799178, 1.1011774557117404, 0.8837674883132765, 0.05891783255421843, 0.8319456258421896, 0.2773152086140632, 0.7918491921973582, 0.7818345937008327, 0.14215174430924232, 1.0701124400773445, 0.4771375415819081, 0.4771375415819081, 0.5039334680945519, 0.874741538146539, 0.9159395505487493, 0.06784737411472218, 0.5430385279512916, 0.2715192639756458, 0.6855323059981361, 0.6217765351252311, 1.071483155165093, 0.5578324198149278, 0.5978189260121983, 0.7436510209562297, 0.5297324036117447, 0.8824989576444913, 0.6235987349191379, 0.31179936745956893, 0.19276521091188875, 0.7228695409195828, 0.04819130272797219, 0.5874980324658219, 0.5464926381462303, 0.7060100615267263, 0.8335472104128462, 0.7870977018689325, 0.55807203055266, 0.8860640649581064, 0.1107580081197633, 0.8208136778692147, 0.09120151976324607, 0.8572737223154462, 0.556315373317457, 0.8644281201132786, 0.6742800627572049, 0.5563282101933866, 1.0002349716127994, 0.8843812826228354, 0.7665696601034929, 0.49920443580237583, 0.24960221790118792, 0.9011982513213557, 0.4340653490893799, 0.4340653490893799, 1.0869086744660084, 0.6007559740128653, 0.4394022831994357, 0.4394022831994357, 0.6189532185248349, 0.30947660926241743, 0.6920257293339696, 0.5298897639365303, 0.26494488196826516, 0.5790640570126054, 0.7240057742950082, 0.7600660712105723, 1.099335422148208, 0.9416012744947563, 0.895872980036429, 0.8160251929183309, 0.9692066161507937, 0.03126472955325141, 0.956560539695566, 0.6320227101044635, 0.31601135505223177, 0.9937306259648702, 0.8763782149743043, 0.5583518954019308, 1.045246326123745, 1.0288400220605414, 0.3652542221769479, 0.3652542221769479, 0.8280253204744735, 1.0632789213770202, 0.6776137747033424, 1.0244160140459642, 0.8995280811944266, 0.6740222350751807, 0.16850555876879517, 0.16850555876879517, 0.16850555876879517, 0.9089154321290455, 0.9817481931008412, 0.6240185850739722, 0.6877276884172631, 0.6982172295264044, 0.1745543073816011, 0.63014093717013, 0.6175035780657249, 0.30875178903286243, 0.6061410786358412, 0.44448704209772677, 0.7867808372377307, 0.9045758850124951, 0.5192496819394492, 0.2596248409697246, 0.2596248409697246, 0.8840471353571844, 0.8452762430488513, 0.8012291863968246, 0.7497507010303138, 0.6014928026721869, 0.40099520178145787, 0.762129496428237, 0.1270215827380395, 0.5104097983473493, 0.8829274088404285, 0.892326941958853, 0.8454495263445819, 0.12077850376351171, 1.044158155038332, 0.6022177582962651, 0.7814253065066594, 0.9676435476456868, 1.0028294649647858, 0.5940505005593095, 0.5940505005593095, 0.5527670352775753, 0.5527670352775753, 0.7084471754315669, 0.6850573306444316, 0.7306353866914655, 1.066499565197814, 0.9260267764426849, 0.04209212620194023, 0.6492824092139505, 0.6474384356162141, 0.16185960890405351, 0.7422753365394503, 0.18556883413486258, 0.8765462440996186, 0.1753092488199237, 1.0406520275825228, 0.9381357054614161, 0.06254238036409442, 0.8499934983352605, 0.5464833471157492, 0.39602003594438207, 0.39602003594438207, 0.48765359996344604, 0.48765359996344604, 0.9156124675510695, 0.7142537361755592, 0.84796638225411, 0.8716880416524977, 0.9905325667473984, 0.5485116185925029, 0.5485116185925029, 0.8748724068189885, 0.3916417962835256, 0.7832835925670512, 0.8364939105420962, 0.5906199769016788, 0.9320670543533989, 0.044384145445399946, 1.0840630448909003, 0.5698031126056916, 0.9890128712886963, 0.899242106973698, 0.9010466480954985, 1.098450787848965, 0.7010071707954073, 0.814546772573149, 0.6344443382611819, 0.7959408298505389, 0.9424623485808764, 0.875513549933689, 0.4168382575001711, 0.4168382575001711, 0.8606344470908744, 0.2151586117727186, 0.6391771818814975, 0.6236573483331761, 0.4346618615060419, 0.4346618615060419, 0.8253821637321737, 0.5602736818518168, 0.736441064886347, 0.8497994933927537, 0.7798848778470171, 0.25996162594900574, 0.7895471787758747, 0.6257291760813841, 0.3290501842597901, 0.41372889239353194, 0.1612554454609622, 0.3225108909219244, 0.1612554454609622, 0.3225108909219244, 0.1612554454609622, 0.7771806944189784, 0.1942951736047446, 0.6909088237710213, 0.6362583505459896, 0.2587396534626776, 0.2587396534626776, 0.2587396534626776, 0.9580847620825832, 1.0011085412138079, 0.6327713366868267, 1.0945067505581827, 0.9965225844703828, 0.9976551885226725, 0.7079316028969469, 0.4150802485767278, 0.4150802485767278, 0.33675237108476924, 0.9953631718784546, 0.9953417532503225, 1.0005175070391603, 0.9216235279047741, 0.9897859566743573, 0.6437011704218437, 0.2970928478870048, 0.6267811543853045, 1.1058976550271504, 0.7238568086338505, 0.8287254548407601, 0.13812090914012667, 0.6453500635631969, 0.5401905689334952, 0.9980148197547989, 0.9925308042627121, 0.4549817511297579, 0.9949773036691619, 0.6077536994267702, 0.8108997948244305, 0.6312875207867452, 0.6570972471092041, 0.844925349219989, 0.5318032181917579, 0.8168339141575287, 0.6583014296663467, 0.5967599924191317, 0.5967599924191317, 0.5034695740319923, 0.49406479675874776, 0.80724298421378, 0.7318936375278272, 0.8823492982992648, 0.7897219231161039, 0.19743048077902597, 0.6862997039920616, 0.564716661773436, 0.4767838775962766, 0.5226786628896876, 0.5226786628896876, 0.936892363992453, 1.0986664765501564, 0.7155304052083429, 0.9551442990776663, 0.8868789229547123, 0.4635787806625269, 0.23178939033126345, 0.23178939033126345, 0.7207960726203676, 0.6410503980218557, 0.9980931069556627, 0.7021861182204263, 0.6603215095079754, 0.6127570135582604, 0.41169805196851095, 0.9966108557022477, 0.9971315750520503, 0.9945351792879744, 0.9891747501191546, 0.5574425591888218, 0.9554342270475503, 0.9064703723184795, 0.7166241202989752, 0.6419378684757674, 1.0268441255968705, 0.7679888700406373, 0.1279981450067729, 0.7811849922244715, 0.9836533539106254, 0.700717766110878, 0.547879841348058, 1.01321169773183, 0.45510179688889224, 1.074277790437375, 1.092225199159602, 1.0167961815823379, 0.7270659439465237, 0.5970639395592247, 0.800971448293763, 1.080159433894186, 0.6582254492554219, 0.7973779699173624, 0.38191631109004504, 0.9163363399555323, 1.0004761927905172, 0.9974901000361249, 0.910045352206359, 0.7771891161649945, 0.9936469182561961, 1.0272992211913419, 0.8129159223440005, 1.0010639446003635, 0.6596213907350034, 0.44608044483418763, 0.9946475870454075, 0.375163781859203, 0.9225146695374187, 0.9901490167489766, 0.5960540217462665, 0.9984899883256719, 0.8857652847587311, 0.8532396302399162, 0.9588979825371615, 0.9998400616635592, 0.8581336792860617, 0.45611164714420016, 0.45611164714420016, 0.906608819197441, 0.970184389681851, 0.782384858836449, 0.9446274131703598, 0.9920816668112445, 0.8043401308064485, 1.0357410292325455, 0.8537261145220837, 0.9274678335567734, 0.9265163431707045, 0.5494662675132866, 0.8426968111516342, 0.7719148845275878, 1.043268176968317, 0.5250868409593701, 0.8917478215506903, 0.9935489649411895, 1.0806915158967887, 0.4243298113261836, 0.4243298113261836, 0.7831247125374453, 0.9938361803860348, 0.7880940096448265, 0.645772993738504, 0.614154185056195, 0.8319530611316576, 0.9981773084353466, 0.6710585050288419, 0.7296729773260511, 1.00080738601764, 1.0001058491866854, 1.0728385425559064, 0.9449588254825733, 0.7527279250349229, 0.5538268337301406, 0.6078334473912237, 0.538803113847364, 0.9294418647190112, 0.8215864625825594, 0.6686222504605454, 0.9335593135450728, 0.7947962164010202, 1.1031014383164202, 0.6214505780143383, 0.20715019267144613, 0.20715019267144613, 0.6623359286235413, 0.9421531921279971, 0.9824718471938532, 0.8842841138715736, 0.8027401915846605, 1.017099783341779, 0.8543169600124737, 0.9440525877159655, 0.5519610390511411, 0.9980234333663391, 0.6871291963301799, 0.5972865586311041, 0.8346661790570225, 0.6834873026369057, 0.9802927535249564, 0.8779858813887667, 0.9968857365744742, 0.7592464130793661, 0.9490119862351767, 0.6796443736870164, 0.9220888418206243], \"Term\": [\"ae\", \"again\", \"ah\", \"ah\", \"aha\", \"ahh\", \"alight\", \"alive\", \"alive\", \"amoled\", \"anpanman\", \"around\", \"ba\", \"baby\", \"back\", \"back\", \"bad\", \"bad\", \"bae\", \"bae\", \"bailar\", \"banger\", \"baram\", \"birthday\", \"blah\", \"blah\", \"bling\", \"bling\", \"blood\", \"bo\", \"bom\", \"boom\", \"boom\", \"bounce\", \"bounce\", \"bow\", \"boyfriend\", \"breathe\", \"bring\", \"bring\", \"bum\", \"butterfly\", \"calm\", \"caught\", \"cheer\", \"chocolate\", \"choo\", \"christmas\", \"city\", \"clap\", \"clap\", \"closer\", \"club\", \"club\", \"colors\", \"congratulations\", \"cos\", \"couple\", \"cowboy\", \"cream\", \"da\", \"da\", \"dat\", \"dat\", \"dawn\", \"dduba\", \"di\", \"diamond\", \"diamond\", \"ding\", \"dirty\", \"dirty\", \"diva\", \"dive\", \"does\", \"dong\", \"door\", \"dot\", \"drive\", \"du\", \"dumb\", \"dupa\", \"dynamite\", \"dynnnnnanana\", \"edge\", \"eh\", \"eh\", \"ehoh\", \"el\", \"enough\", \"enough\", \"euphoria\", \"faith\", \"fancy\", \"fight\", \"fight\", \"fingertip\", \"fire\", \"fire\", \"focus\", \"focus\", \"foolish\", \"freedom\", \"freeway\", \"fun\", \"fun\", \"funk\", \"funky\", \"gee\", \"ghost\", \"girl\", \"girlfriend\", \"girls\", \"glad\", \"go\", \"go\", \"got\", \"got\", \"gravity\", \"great\", \"guy\", \"hair\", \"hands\", \"happy\", \"happy\", \"happy\", \"hate\", \"hate\", \"heartbeat\", \"helicopter\", \"hello\", \"hello\", \"hit\", \"hit\", \"hoohoo\", \"hot\", \"hot\", \"hotshot\", \"hush\", \"hush\", \"ice\", \"illegal\", \"im\", \"im\", \"imma\", \"imma\", \"irony\", \"issue\", \"jelly\", \"jingle\", \"jumpin\", \"key\", \"kissing\", \"kno\", \"knock\", \"knock\", \"la\", \"la\", \"la\", \"lalala\", \"lalalala\", \"lalalalala\", \"lay\", \"lazy\", \"liar\", \"lie\", \"lie\", \"light\", \"light\", \"likey\", \"lolli\", \"lollipop\", \"lost\", \"loud\", \"love\", \"lover\", \"lovin\", \"lucky\", \"lucky\", \"ma\", \"magic\", \"magic\", \"mariachi\", \"mercy\", \"merry\", \"merry\", \"mic\", \"mic\", \"monday\", \"money\", \"money\", \"monster\", \"more\", \"movin\", \"must\", \"name\", \"ng\", \"nigga\", \"night\", \"night\", \"nonstop\", \"number\", \"number\", \"oh\", \"ohh\", \"ohohohoh\", \"ohohohohohoh\", \"oohwa\", \"oops\", \"oops\", \"ordinary\", \"parade\", \"peek\", \"peep\", \"pitapat\", \"pop\", \"pop\", \"pop\", \"pop\", \"psycho\", \"py\", \"ra\", \"radio\", \"rain\", \"rain\", \"rally\", \"really\", \"really\", \"remember\", \"replay\", \"rewind\", \"rhythm\", \"ride\", \"ride\", \"ride\", \"rocket\", \"rollin\", \"rookie\", \"room\", \"round\", \"round\", \"run\", \"run\", \"rush\", \"rwa\", \"senorita\", \"shake\", \"shake\", \"shaker\", \"shawty\", \"shining\", \"shock\", \"shop\", \"short\", \"short\", \"shut\", \"shut\", \"simple\", \"skin\", \"slip\", \"snowman\", \"so\", \"so\", \"some\", \"somebody\", \"somebody\", \"someone\", \"someone\", \"soul\", \"soul\", \"spread\", \"star\", \"star\", \"stolen\", \"stuck\", \"sugar\", \"sugar\", \"sunday\", \"sunday\", \"sunset\", \"supa\", \"superstar\", \"swan\", \"talker\", \"tic\", \"tic\", \"tick\", \"toc\", \"toc\", \"tock\", \"tomorrow\", \"tonight\", \"tonight\", \"transformer\", \"truth\", \"tt\", \"tu\", \"tuesday\", \"tulips\", \"twilight\", \"uhhuh\", \"umpah\", \"very\", \"video\", \"warn\", \"wassup\", \"wassup\", \"watch\", \"watch\", \"well\", \"wherever\", \"who\", \"who\", \"whole\", \"whoo\", \"wide\", \"wind\", \"wish\", \"wish\", \"without\", \"woah\", \"work\", \"would\", \"wow\", \"wow\", \"wow\", \"wow\", \"wow\", \"wrong\", \"wrong\", \"yolo\", \"york\", \"young\", \"young\", \"young\", \"zam\", \"\\uac00\\uc2b4\", \"\\uac00\\uc9dc\", \"\\uac10\\uc9c0\", \"\\uac19\\ub2e4\", \"\\uac1c\\ub3c4\", \"\\uac70\\uc808\", \"\\uac81\\uc7c1\\uc774\", \"\\uac81\\uc7c1\\uc774\", \"\\uaca8\\uc6b0\", \"\\uadf8\\ub300\", \"\\uadf8\\ub807\\ub2e4\", \"\\uae30\\uc5b5\", \"\\uae34\\uba38\\ub9ac\", \"\\uae38\\ubaa9\", \"\\ub098\\ub098\", \"\\ub098\\ub098\", \"\\ub098\\ub2c8\", \"\\ub098\\ubbf8\", \"\\ub098\\uc640\\ub77c\", \"\\ub098\\uc774\", \"\\ub098\\uc774\", \"\\ub09c\\ub098\", \"\\ub108\\ubfd0\\uc774\", \"\\ub124\\uc628\", \"\\ub208\\ubb3c\", \"\\ub2e4\\ub9cc\", \"\\ub2e4\\uc2dc\", \"\\ub2e4\\ud55c\", \"\\ub2ec\\ub9c1\", \"\\ub300\\ud55c\\ubbfc\\uad6d\", \"\\ub354\\uc6b1\\ub354\", \"\\ub370\\ubaa8\", \"\\ub370\\uc774\\ud2b8\", \"\\ub3d9\\uacbd\", \"\\ub4a4\\ucc99\", \"\\ub4e4\\ud310\", \"\\ub4e4\\ud310\", \"\\ub69c\\ub69c\\ub69c\", \"\\ub69c\\ub69c\\ub8e8\", \"\\ub69c\\ub8e8\", \"\\ub728\\ub728\\ub8e8\", \"\\ub77c\\ub530\", \"\\ub77c\\ub77c\\ub77c\\ub77c\", \"\\ub77c\\ub77c\\ub77c\\ub77c\", \"\\ub77c\\uc774\", \"\\ub780\\uac78\", \"\\ub784\\ub784\", \"\\ub78d\\ub2c8\", \"\\ub78d\\ub2c8\", \"\\ub808\\ub8e8\", \"\\ub808\\ubbf8\\uc624\", \"\\ub808\\uc624\", \"\\ub808\\ud14c\", \"\\ub85c\\uafb8\\uac70\", \"\\ub8e8\\ub8e8\", \"\\ub8e8\\ub8e8\", \"\\ub8e8\\ub8e8\", \"\\ub9c8\\ub9ac\\uc544\", \"\\ub9c8\\ub9c8\", \"\\ub9c8\\uc74c\", \"\\ub9c8\\uc774\", \"\\ub9cc\\ub9cc\\ud558\\ub2e4\", \"\\ub9cc\\uc138\", \"\\uba54\\uc544\\ub9ac\", \"\\ubaa8\\ub450\", \"\\ubaa8\\ub4e0\", \"\\ubaa8\\ub978\\uccb4\", \"\\ubaa8\\uc2b5\", \"\\ubaa8\\uc9c4\", \"\\ubab0\\ub77c\\ubab0\\ub77c\", \"\\ubb34\\uc5b8\", \"\\ubb34\\uc758\\ubbf8\\ud558\\ub2e4\", \"\\ubbf8\\ub178\", \"\\ubbf8\\ub7a0\", \"\\ubc09\\ub2e4\", \"\\ubc09\\ub2e4\", \"\\ubc14\\ub77c\\ubc14\", \"\\ubc18\\ub300\\ucabd\", \"\\ubc29\\ud0c4\", \"\\ubc84\\uc2a4\", \"\\ubc8c\\ub5bc\", \"\\ubc9a\\uaf43\", \"\\ubca0\\uc774\", \"\\ubcf4\\ucfe0\", \"\\ubcf8\\uac00\", \"\\ubd04\\ub0a0\", \"\\ubd04\\ubc14\\ub78c\", \"\\ubd88\\uaf43\\ub180\\uc774\", \"\\ubd90\\ube60\\ube60\", \"\\ube44\\uac81\\ud558\\ub2e4\", \"\\ube44\\ub108\\uc2a4\", \"\\ube59\\ube59\", \"\\ube60\\ub77c\\ube60\\ube60\", \"\\uc0ac\\ub78c\", \"\\uc0ac\\ub791\", \"\\uc0ac\\ubc14\", \"\\uc0b0\\uc18c\", \"\\uc0dd\\uac01\", \"\\uc0e4\\ub784\", \"\\uc11c\\ub78d\", \"\\uc138\\uc0c1\", \"\\uc218\\uace0\", \"\\uc2b9\\ub9ac\", \"\\uc2dc\\uac04\", \"\\uc2dc\\ub828\", \"\\uc2e0\\uc18d\\ud558\\ub2e4\", \"\\uc544\\ub2c8\\ub2e4\", \"\\uc544\\uc774\\uc57c\", \"\\uc544\\ud504\\ub2e4\", \"\\uc5b4\\ub9b0\\uc2dc\\uc808\", \"\\uc5b4\\uc5b4\\uc5b4\\uc5b4\", \"\\uc5b4\\uc694\", \"\\uc5c6\\ub2e4\", \"\\uc5d0\\uc5d0\", \"\\uc5d0\\uc774\", \"\\uc5d0\\uc774\", \"\\uc5ec\\uc790\\ub77c\\uc11c\", \"\\uc5f0\\uc8fc\", \"\\uc5f4\\ub300\\uc57c\", \"\\uc601\\uc0dd\", \"\\uc624\\ub298\", \"\\uc628\\uc720\", \"\\uc6b0\\ub9ac\\ub098\\ub77c\", \"\\uc6b0\\uc544\\ud558\\ub2e4\", \"\\uc6b8\\ub784\\ub77c\", \"\\uc6b8\\ubcf4\", \"\\uc6c3\\uc74c\\uc18c\\ub9ac\", \"\\uc6cc\\uc6cc\\uc6cc\", \"\\uc720\\ud589\\uac00\", \"\\uc774\\uae30\\uc2ec\", \"\\uc774\\ub098\", \"\\uc774\\ub178\", \"\\uc774\\ub807\\ub2e4\", \"\\uc774\\ub8e8\", \"\\uc774\\ub9c8\", \"\\uc774\\ub9c8\", \"\\uc774\\uc0ac\", \"\\uc774\\uc81c\", \"\\uc77c\\ub8e8\", \"\\uc77c\\ub9cc\", \"\\uc77c\\ubc24\", \"\\uc784\\uc758\", \"\\uc788\\ub2e4\", \"\\uc815\\uc6d0\", \"\\uc885\\ud604\", \"\\uc88b\\ub2e4\", \"\\uc9c0\\uae08\", \"\\uc9d5\\uae00\\uc9d5\\uae00\", \"\\uc9dd\\uc9dd\", \"\\ucc54\\ud53c\\uc5b8\", \"\\uce5c\\uad6c\\uc5ec\", \"\\uce5c\\ud558\\ub2e4\", \"\\uce60\\ud558\\ub2e4\", \"\\uce74\\ub098\", \"\\uce74\\ub77c\", \"\\ucf54\\ub178\", \"\\ucf54\\ub9ac\\uc544\", \"\\ucf54\\ucf54\", \"\\ucfe0\\ub77c\", \"\\ud06c\\ub9ac\\uc2a4\\ub9c8\\uc2a4\", \"\\ud06c\\ub9ac\\uc2a4\\ub9c8\\uc2a4\", \"\\ud06c\\ub9ac\\uc2a4\\ub9c8\\uc2a4\", \"\\ud0c0\\uc774\", \"\\ud0c0\\uc774\\ubc0d\", \"\\ud0d1\\ub3c5\", \"\\ud0d5\\uc9c4\", \"\\ud145\\ube48\", \"\\ud22c\\ud63c\", \"\\ud22d\\ud558\\uba74\", \"\\ud3c9\\uc0dd\\ud1a0\\ub85d\", \"\\ud504\\ub9ac\\ub9c8\\ub3c8\\ub098\", \"\\ud558\\ub098\", \"\\ud558\\ub298\\ub9cc\", \"\\ud558\\uc774\", \"\\ud55c\\uac78\\uc74c\\uc529\", \"\\ud55c\\uad6c\\uc11d\", \"\\ud574\\ub9c8\", \"\\ud574\\ubc14\\ub77c\\uae30\", \"\\ud589\\ubcf5\\ud558\\ub2e4\", \"\\ud654\\ub9cc\", \"\\ud667\\uae40\", \"\\ud770\\ub208\", \"\\ud788\\ud788\\ud558\\ud5e4\\ud638\"]}, \"R\": 30, \"lambda.step\": 0.01, \"plot.opts\": {\"xlab\": \"PC1\", \"ylab\": \"PC2\"}, \"topic.order\": [6, 12, 8, 7, 10, 2, 1, 11, 4, 3, 9, 5]};\n",
       "\n",
       "function LDAvis_load_lib(url, callback){\n",
       "  var s = document.createElement('script');\n",
       "  s.src = url;\n",
       "  s.async = true;\n",
       "  s.onreadystatechange = s.onload = callback;\n",
       "  s.onerror = function(){console.warn(\"failed to load library \" + url);};\n",
       "  document.getElementsByTagName(\"head\")[0].appendChild(s);\n",
       "}\n",
       "\n",
       "if(typeof(LDAvis) !== \"undefined\"){\n",
       "   // already loaded: just create the visualization\n",
       "   !function(LDAvis){\n",
       "       new LDAvis(\"#\" + \"ldavis_el605619621741122007491641920\", ldavis_el605619621741122007491641920_data);\n",
       "   }(LDAvis);\n",
       "}else if(typeof define === \"function\" && define.amd){\n",
       "   // require.js is available: use it to load d3/LDAvis\n",
       "   require.config({paths: {d3: \"https://cdnjs.cloudflare.com/ajax/libs/d3/3.5.5/d3.min\"}});\n",
       "   require([\"d3\"], function(d3){\n",
       "      window.d3 = d3;\n",
       "      LDAvis_load_lib(\"https://cdn.rawgit.com/bmabey/pyLDAvis/files/ldavis.v1.0.0.js\", function(){\n",
       "        new LDAvis(\"#\" + \"ldavis_el605619621741122007491641920\", ldavis_el605619621741122007491641920_data);\n",
       "      });\n",
       "    });\n",
       "}else{\n",
       "    // require.js not available: dynamically load d3 & LDAvis\n",
       "    LDAvis_load_lib(\"https://cdnjs.cloudflare.com/ajax/libs/d3/3.5.5/d3.min.js\", function(){\n",
       "         LDAvis_load_lib(\"https://cdn.rawgit.com/bmabey/pyLDAvis/files/ldavis.v1.0.0.js\", function(){\n",
       "                 new LDAvis(\"#\" + \"ldavis_el605619621741122007491641920\", ldavis_el605619621741122007491641920_data);\n",
       "            })\n",
       "         });\n",
       "}\n",
       "</script>"
      ],
      "text/plain": [
       "<IPython.core.display.HTML object>"
      ]
     },
     "execution_count": 39,
     "metadata": {},
     "output_type": "execute_result"
    }
   ],
   "source": [
    "import pyLDAvis.sklearn\n",
    "pyLDAvis.enable_notebook()\n",
    "vis = pyLDAvis.sklearn.prepare(lda_model,X,vectorizer)\n",
    "pyLDAvis.display(vis)"
   ]
  },
  {
   "cell_type": "code",
   "execution_count": null,
   "metadata": {},
   "outputs": [],
   "source": []
  }
 ],
 "metadata": {
  "kernelspec": {
   "display_name": "eunhoo",
   "language": "python",
   "name": "eunhoo"
  },
  "language_info": {
   "codemirror_mode": {
    "name": "ipython",
    "version": 3
   },
   "file_extension": ".py",
   "mimetype": "text/x-python",
   "name": "python",
   "nbconvert_exporter": "python",
   "pygments_lexer": "ipython3",
   "version": "3.7.9"
  }
 },
 "nbformat": 4,
 "nbformat_minor": 4
}
